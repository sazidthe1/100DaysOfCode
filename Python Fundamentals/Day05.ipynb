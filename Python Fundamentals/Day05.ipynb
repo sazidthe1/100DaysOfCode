{
  "nbformat": 4,
  "nbformat_minor": 0,
  "metadata": {
    "colab": {
      "provenance": [],
      "collapsed_sections": [
        "iGwYFtWD45H-",
        "q9ppj54M_UTH"
      ]
    },
    "kernelspec": {
      "name": "python3",
      "display_name": "Python 3"
    },
    "language_info": {
      "name": "python"
    }
  },
  "cells": [
    {
      "cell_type": "markdown",
      "source": [
        "## Day 5 of 100DaysOfCode 🐍\n",
        "### Python Tuples 🧺 & Sets 🛢️- From [W3 Schools](https://www.w3schools.com/python/python_tuples.asp) 🏫"
      ],
      "metadata": {
        "id": "msOpqcWMl-CI"
      }
    },
    {
      "cell_type": "markdown",
      "source": [
        "\n",
        "## **Python Tuples 🧺**\n",
        "---\n",
        "\n",
        "🧺 Tuples: Tuples is a single variable which used to store multiple items in Python. It created by using Parentheses **( )**. <br>\n",
        "e.g. fruits = (\"Banana\", \"Mango\", \"Orange\")\n",
        "<br><br>\n",
        "Another way to create the Tuple is to use the **tuple()** constructor. <br>\n",
        "e.g. fruits = tuple((\"Banana\", \"Mango\", \"Orange\"))\n",
        "<br><br>\n",
        "🧺 Tuples items are immutable, ordered, and allow duplicate values. <br>\n",
        "🧺 Tuples items can be of any data types. Meaning - Tuples can contain different data types (String, Integer and Boolean, others). <br>\n",
        "🧺 Although Tuples are immutable, it can contain references to mutable objects like Lists."
      ],
      "metadata": {
        "id": "iGwYFtWD45H-"
      }
    },
    {
      "cell_type": "markdown",
      "source": [
        "###**Python Tuples 🧺- Access Items**"
      ],
      "metadata": {
        "id": "-qFS-Noo7wxK"
      }
    },
    {
      "cell_type": "code",
      "execution_count": null,
      "metadata": {
        "colab": {
          "base_uri": "https://localhost:8080/"
        },
        "outputId": "6677759b-9cae-41dd-9d3d-8f3da5be78ca",
        "id": "F1Ikkt75z7TE"
      },
      "outputs": [
        {
          "output_type": "stream",
          "name": "stdout",
          "text": [
            "Banana\n"
          ]
        }
      ],
      "source": [
        "# Positive indexing\n",
        "# Printing the 1st item from the tuple\n",
        "fruits = (\"Banana\", \"Mango\", \"Orange\")\n",
        "print(fruits[0])"
      ]
    },
    {
      "cell_type": "code",
      "execution_count": null,
      "metadata": {
        "colab": {
          "base_uri": "https://localhost:8080/"
        },
        "outputId": "a58620cc-9524-4a16-a4c0-d548abbcd0cf",
        "id": "8xYwJZQg0R4Z"
      },
      "outputs": [
        {
          "output_type": "stream",
          "name": "stdout",
          "text": [
            "Orange\n"
          ]
        }
      ],
      "source": [
        "# Negative indexing\n",
        "# Printing the last item from the tuple\n",
        "fruits = (\"Banana\", \"Mango\", \"Orange\")\n",
        "print(fruits[-1])"
      ]
    },
    {
      "cell_type": "code",
      "source": [
        "# Using range of indexes\n",
        "# Printing the third, fourth, and fifth item from the tuple\n",
        "fruits = (\"apple\", \"banana\", \"cherry\", \"orange\", \"kiwi\", \"melon\", \"mango\")\n",
        "print(fruits[2:5])"
      ],
      "metadata": {
        "colab": {
          "base_uri": "https://localhost:8080/"
        },
        "id": "Ky7lyEviz7Bt",
        "outputId": "ea563e8d-f33a-455f-d5b2-3a660c21bba0"
      },
      "execution_count": null,
      "outputs": [
        {
          "output_type": "stream",
          "name": "stdout",
          "text": [
            "('cherry', 'orange', 'kiwi')\n"
          ]
        }
      ]
    },
    {
      "cell_type": "markdown",
      "source": [
        "###**Python Tuples 🧺- Update Items**"
      ],
      "metadata": {
        "id": "WH7Dm7Ej9CZL"
      }
    },
    {
      "cell_type": "markdown",
      "source": [
        "#### **Add Items**"
      ],
      "metadata": {
        "id": "DvRInESA2iN-"
      }
    },
    {
      "cell_type": "code",
      "source": [
        "# Using append() method add new item in the tuple\n",
        "fruits = (\"apple\", \"banana\", \"cherry\")\n",
        "y = list(fruits)\n",
        "y.append(\"orange\")\n",
        "fruits = tuple(y)\n",
        "print(fruits)"
      ],
      "metadata": {
        "colab": {
          "base_uri": "https://localhost:8080/"
        },
        "id": "sOpYn8HJ2hvE",
        "outputId": "870665aa-d231-483b-e3c6-156c4803cd5d"
      },
      "execution_count": null,
      "outputs": [
        {
          "output_type": "stream",
          "name": "stdout",
          "text": [
            "('apple', 'banana', 'cherry', 'orange')\n"
          ]
        }
      ]
    },
    {
      "cell_type": "code",
      "source": [
        "# Adding a new item in the tuple\n",
        "fruits = (\"apple\", \"banana\", \"cherry\")\n",
        "y = (\"orange\",)\n",
        "fruits += y\n",
        "\n",
        "print(fruits)"
      ],
      "metadata": {
        "colab": {
          "base_uri": "https://localhost:8080/"
        },
        "id": "rdo2N24S14iY",
        "outputId": "d8bb1c0b-f5c6-41a1-f0d3-077cfc9e4698"
      },
      "execution_count": null,
      "outputs": [
        {
          "output_type": "stream",
          "name": "stdout",
          "text": [
            "('apple', 'banana', 'cherry', 'orange')\n"
          ]
        }
      ]
    },
    {
      "cell_type": "markdown",
      "source": [
        "#### **Remove Items**"
      ],
      "metadata": {
        "id": "55R2fcsl4TxT"
      }
    },
    {
      "cell_type": "code",
      "source": [
        "# Removing \"apple\" item from the tuple\n",
        "fruits = (\"apple\", \"banana\", \"cherry\")\n",
        "y = list(fruits)\n",
        "y.remove(\"apple\")\n",
        "fruits = tuple(y)\n",
        "print(fruits)"
      ],
      "metadata": {
        "colab": {
          "base_uri": "https://localhost:8080/"
        },
        "id": "HqTXnwL014iZ",
        "outputId": "1406b8bb-4e19-4cb3-aee5-d0a1b4488313"
      },
      "execution_count": null,
      "outputs": [
        {
          "output_type": "stream",
          "name": "stdout",
          "text": [
            "('banana', 'cherry')\n"
          ]
        }
      ]
    },
    {
      "cell_type": "code",
      "source": [
        "# Deleting the tuple completely\n",
        "fruits = (\"apple\", \"banana\", \"cherry\")\n",
        "del fruits\n",
        "print(fruits)"
      ],
      "metadata": {
        "colab": {
          "base_uri": "https://localhost:8080/",
          "height": 200
        },
        "id": "dCvqUHAL14iZ",
        "outputId": "92079528-8224-4c68-ed78-a96e9b5258ca"
      },
      "execution_count": null,
      "outputs": [
        {
          "output_type": "error",
          "ename": "NameError",
          "evalue": "ignored",
          "traceback": [
            "\u001b[0;31m---------------------------------------------------------------------------\u001b[0m",
            "\u001b[0;31mNameError\u001b[0m                                 Traceback (most recent call last)",
            "\u001b[0;32m<ipython-input-10-40d38d3655ac>\u001b[0m in \u001b[0;36m<cell line: 4>\u001b[0;34m()\u001b[0m\n\u001b[1;32m      2\u001b[0m \u001b[0mfruits\u001b[0m \u001b[0;34m=\u001b[0m \u001b[0;34m(\u001b[0m\u001b[0;34m\"apple\"\u001b[0m\u001b[0;34m,\u001b[0m \u001b[0;34m\"banana\"\u001b[0m\u001b[0;34m,\u001b[0m \u001b[0;34m\"cherry\"\u001b[0m\u001b[0;34m)\u001b[0m\u001b[0;34m\u001b[0m\u001b[0;34m\u001b[0m\u001b[0m\n\u001b[1;32m      3\u001b[0m \u001b[0;32mdel\u001b[0m \u001b[0mfruits\u001b[0m\u001b[0;34m\u001b[0m\u001b[0;34m\u001b[0m\u001b[0m\n\u001b[0;32m----> 4\u001b[0;31m \u001b[0mprint\u001b[0m\u001b[0;34m(\u001b[0m\u001b[0mfruits\u001b[0m\u001b[0;34m)\u001b[0m\u001b[0;34m\u001b[0m\u001b[0;34m\u001b[0m\u001b[0m\n\u001b[0m",
            "\u001b[0;31mNameError\u001b[0m: name 'fruits' is not defined"
          ]
        }
      ]
    },
    {
      "cell_type": "markdown",
      "source": [
        "###**Python Tuples 🧺- Unpack Tuples**"
      ],
      "metadata": {
        "id": "80OshUZs9CyY"
      }
    },
    {
      "cell_type": "code",
      "source": [
        "# Unpacking a tuple\n",
        "fruits = (\"apple\", \"banana\", \"cherry\")\n",
        "\n",
        "(green, yellow, red) = fruits\n",
        "\n",
        "print(green)\n",
        "print(yellow)\n",
        "print(red)"
      ],
      "metadata": {
        "colab": {
          "base_uri": "https://localhost:8080/"
        },
        "id": "sxjPi02q16lN",
        "outputId": "b6ea68b8-67ea-4954-e98a-df142878cc14"
      },
      "execution_count": null,
      "outputs": [
        {
          "output_type": "stream",
          "name": "stdout",
          "text": [
            "apple\n",
            "banana\n",
            "cherry\n"
          ]
        }
      ]
    },
    {
      "cell_type": "code",
      "source": [
        "# Using asterisk* for unpacking a tuple & assigning the rest of the values as a list of \"red\"\n",
        "fruits = (\"apple\", \"banana\", \"cherry\", \"strawberry\", \"raspberry\")\n",
        "\n",
        "(green, yellow, *red) = fruits\n",
        "\n",
        "print(green)\n",
        "print(yellow)\n",
        "print(red)"
      ],
      "metadata": {
        "colab": {
          "base_uri": "https://localhost:8080/"
        },
        "id": "lUP0-ftn16lX",
        "outputId": "591b9032-041f-4b9a-f66e-16c40c78a2c3"
      },
      "execution_count": null,
      "outputs": [
        {
          "output_type": "stream",
          "name": "stdout",
          "text": [
            "apple\n",
            "banana\n",
            "['cherry', 'strawberry', 'raspberry']\n"
          ]
        }
      ]
    },
    {
      "cell_type": "markdown",
      "source": [
        "###**Python Tuples 🧺- Join Tuples**"
      ],
      "metadata": {
        "id": "KqN5hwhe9-sG"
      }
    },
    {
      "cell_type": "code",
      "source": [
        "# Joining two tuples into one\n",
        "tuple1 = (\"a\", \"b\" , \"c\")\n",
        "tuple2 = (1, 2, 3)\n",
        "\n",
        "tuple3 = tuple1 + tuple2\n",
        "print(tuple3)"
      ],
      "metadata": {
        "colab": {
          "base_uri": "https://localhost:8080/"
        },
        "id": "zQzpMmZy1-la",
        "outputId": "0e93d33a-c19e-402d-d36d-f6c1d9ad5146"
      },
      "execution_count": null,
      "outputs": [
        {
          "output_type": "stream",
          "name": "stdout",
          "text": [
            "('a', 'b', 'c', 1, 2, 3)\n"
          ]
        }
      ]
    },
    {
      "cell_type": "code",
      "source": [
        "# Multiplying thetTuples\n",
        "fruits = (\"apple\", \"banana\", \"cherry\")\n",
        "mytuple = fruits * 2\n",
        "\n",
        "print(mytuple)"
      ],
      "metadata": {
        "colab": {
          "base_uri": "https://localhost:8080/"
        },
        "id": "7XeOMq4N1-la",
        "outputId": "1717c20f-0783-44a3-bbad-a4ee1dda7db5"
      },
      "execution_count": null,
      "outputs": [
        {
          "output_type": "stream",
          "name": "stdout",
          "text": [
            "('apple', 'banana', 'cherry', 'apple', 'banana', 'cherry')\n"
          ]
        }
      ]
    },
    {
      "cell_type": "markdown",
      "source": [
        "###**Python Tuples 🧺- Tuple Methods**"
      ],
      "metadata": {
        "id": "11RxP1T7-e8x"
      }
    },
    {
      "cell_type": "markdown",
      "source": [
        "Python has two built-in methods that can used on Tuples.\n",
        "\n",
        "\n",
        "\n",
        "\n",
        "\n",
        "\n"
      ],
      "metadata": {
        "id": "-vp6qA8d9fXa"
      }
    },
    {
      "cell_type": "markdown",
      "source": [
        "| Method    | Description                                                |\n",
        "|-----------|------------------------------------------------------------|\n",
        "| count()  | Returns the number of times a specified value occurs in a tuple |\n",
        "| index()  | Searches the tuple for a specified value and returns the position of where it was found |\n"
      ],
      "metadata": {
        "id": "OWYTTjjZ9fXk"
      }
    },
    {
      "cell_type": "markdown",
      "source": [
        "###**Python Tuples 🧺- Exercises**"
      ],
      "metadata": {
        "id": "PkTVIp5E-4mL"
      }
    },
    {
      "cell_type": "markdown",
      "source": [
        "#### **Exercise 1**"
      ],
      "metadata": {
        "id": "WiCQEPUm_OpT"
      }
    },
    {
      "cell_type": "code",
      "source": [
        "# Printing the 1st item in the fruits tuple\n",
        "fruits = (\"apple\", \"banana\", \"cherry\")\n",
        "print(fruits[0])"
      ],
      "metadata": {
        "colab": {
          "base_uri": "https://localhost:8080/"
        },
        "outputId": "b83bff33-91e3-4428-fa2f-8830a512f5ef",
        "id": "z5idGt6J_Opa"
      },
      "execution_count": null,
      "outputs": [
        {
          "output_type": "stream",
          "name": "stdout",
          "text": [
            "apple\n"
          ]
        }
      ]
    },
    {
      "cell_type": "markdown",
      "source": [
        "#### **Exercise 2**"
      ],
      "metadata": {
        "id": "vDHcKoJl_6HM"
      }
    },
    {
      "cell_type": "code",
      "source": [
        "# Printing the number of items in the tuple\n",
        "fruits = (\"apple\", \"banana\", \"cherry\")\n",
        "print(len(fruits))"
      ],
      "metadata": {
        "colab": {
          "base_uri": "https://localhost:8080/"
        },
        "outputId": "d46ec152-ac63-4d6e-a77a-233395571a84",
        "id": "q8bgPODl_6HU"
      },
      "execution_count": null,
      "outputs": [
        {
          "output_type": "stream",
          "name": "stdout",
          "text": [
            "3\n"
          ]
        }
      ]
    },
    {
      "cell_type": "markdown",
      "source": [
        "#### **Exercise 3**"
      ],
      "metadata": {
        "id": "okp5znX-_6kJ"
      }
    },
    {
      "cell_type": "code",
      "source": [
        "# Using negative indexing to print the last item\n",
        "fruits = (\"apple\", \"banana\", \"cherry\")\n",
        "print(fruits[-1])"
      ],
      "metadata": {
        "colab": {
          "base_uri": "https://localhost:8080/"
        },
        "outputId": "48202a90-05e5-4796-ced3-4b4c8b350050",
        "id": "4yFopTTm_6kK"
      },
      "execution_count": null,
      "outputs": [
        {
          "output_type": "stream",
          "name": "stdout",
          "text": [
            "cherry\n"
          ]
        }
      ]
    },
    {
      "cell_type": "markdown",
      "source": [
        "#### **Exercise 4**"
      ],
      "metadata": {
        "id": "IKzB-D13_72A"
      }
    },
    {
      "cell_type": "code",
      "source": [
        "# Using a range of indexes to print the 3rd, 4th, and 5th item\n",
        "fruits = (\"apple\", \"banana\", \"cherry\", \"orange\", \"kiwi\", \"melon\", \"mango\")\n",
        "print(fruits[2:5])"
      ],
      "metadata": {
        "colab": {
          "base_uri": "https://localhost:8080/"
        },
        "outputId": "95993c5a-7f14-4934-8f48-9c7e9f7876c5",
        "id": "zVdokSGJ_72T"
      },
      "execution_count": null,
      "outputs": [
        {
          "output_type": "stream",
          "name": "stdout",
          "text": [
            "('cherry', 'orange', 'kiwi')\n"
          ]
        }
      ]
    },
    {
      "cell_type": "markdown",
      "source": [
        "\n",
        "## **Python Sets 🛢️**\n",
        "---\n",
        "\n",
        "🛢️ Sets: Sets is a single variable which used to store multiple items in Python. It created by using Curly brackets **{ }**. <br>\n",
        "e.g. fruits = {\"Banana\", \"Mango\", \"Orange\"}\n",
        "<br><br>\n",
        "Another way to create the Set is to use the **set()** constructor. <br>\n",
        "e.g. fruits = set((\"Banana\", \"Mango\", \"Orange\"))\n",
        "<br><br>\n",
        "🛢️ Sets items are mutable, unordered, do not allow duplicate values. However, it can be removed items, added new items. <br>\n",
        "🛢️ Sets items can be of any data types. Meaning - Sets can contain different data types (String, Integer and Boolean, others)."
      ],
      "metadata": {
        "id": "q9ppj54M_UTH"
      }
    },
    {
      "cell_type": "markdown",
      "source": [
        "###**Python Sets 🛢️- Access Items**"
      ],
      "metadata": {
        "id": "qxAxPIO7_UTW"
      }
    },
    {
      "cell_type": "code",
      "source": [
        "# Checking if \"banana\" is present in the set\n",
        "thisset = {\"apple\", \"banana\", \"cherry\"}\n",
        "print(\"banana\" in thisset)"
      ],
      "metadata": {
        "colab": {
          "base_uri": "https://localhost:8080/"
        },
        "id": "uMlxnOYj7y5D",
        "outputId": "871d0d3f-c403-4b94-f3de-51ba978367ce"
      },
      "execution_count": null,
      "outputs": [
        {
          "output_type": "stream",
          "name": "stdout",
          "text": [
            "True\n"
          ]
        }
      ]
    },
    {
      "cell_type": "markdown",
      "source": [
        "###**Python Sets 🛢️- Add Items**"
      ],
      "metadata": {
        "id": "DkKRsDIv_UTW"
      }
    },
    {
      "cell_type": "markdown",
      "source": [
        "####To add one item to a set use the **add()** method."
      ],
      "metadata": {
        "id": "Z5ctdnleGR0N"
      }
    },
    {
      "cell_type": "code",
      "source": [
        "# Adding a new item to a set, using the add() method\n",
        "thisset = {\"apple\", \"banana\", \"cherry\"}\n",
        "thisset.add(\"orange\")\n",
        "print(thisset)"
      ],
      "metadata": {
        "colab": {
          "base_uri": "https://localhost:8080/"
        },
        "id": "XFR-vawS70ip",
        "outputId": "9123b652-a38f-43df-a44c-c0f94446bf57"
      },
      "execution_count": null,
      "outputs": [
        {
          "output_type": "stream",
          "name": "stdout",
          "text": [
            "{'apple', 'cherry', 'banana', 'orange'}\n"
          ]
        }
      ]
    },
    {
      "cell_type": "markdown",
      "source": [
        "####To add items from another set into the current set, use the **update()** method."
      ],
      "metadata": {
        "id": "wudZV41dHQJB"
      }
    },
    {
      "cell_type": "code",
      "source": [
        "# Adding items from another set into the current set by using the update() method\n",
        "thisset = {\"apple\", \"banana\", \"cherry\"}\n",
        "tropical = {\"pineapple\", \"mango\", \"papaya\"}\n",
        "thisset.update(tropical)\n",
        "print(thisset)"
      ],
      "metadata": {
        "colab": {
          "base_uri": "https://localhost:8080/"
        },
        "outputId": "ce300561-bc0b-4985-a271-1306a980b176",
        "id": "OBvpFDrIG-oc"
      },
      "execution_count": null,
      "outputs": [
        {
          "output_type": "stream",
          "name": "stdout",
          "text": [
            "{'pineapple', 'cherry', 'papaya', 'mango', 'apple', 'banana'}\n"
          ]
        }
      ]
    },
    {
      "cell_type": "markdown",
      "source": [
        "#### In the update() method, it can be any iterable object (tuples, lists, dictionaries etc.)."
      ],
      "metadata": {
        "id": "PFQcdCWJHnDH"
      }
    },
    {
      "cell_type": "code",
      "source": [
        "# Adding elements of a list with set\n",
        "thisset = {\"apple\", \"banana\", \"cherry\"}\n",
        "mylist = [\"kiwi\", \"orange\"]\n",
        "thisset.update(mylist)\n",
        "print(thisset)"
      ],
      "metadata": {
        "colab": {
          "base_uri": "https://localhost:8080/"
        },
        "outputId": "c1262c20-6b1c-42eb-9b4f-85511b14a48a",
        "id": "s_pP-GGwHnDO"
      },
      "execution_count": null,
      "outputs": [
        {
          "output_type": "stream",
          "name": "stdout",
          "text": [
            "{'cherry', 'apple', 'kiwi', 'orange', 'banana'}\n"
          ]
        }
      ]
    },
    {
      "cell_type": "markdown",
      "source": [
        "###**Python Sets 🛢️- Remove Items**"
      ],
      "metadata": {
        "id": "1mXlFcza_UTW"
      }
    },
    {
      "cell_type": "markdown",
      "source": [
        "####To removing an item in a set, use the **remove()**, or the **discard()** method."
      ],
      "metadata": {
        "id": "nRagOf6DI44R"
      }
    },
    {
      "cell_type": "code",
      "source": [
        "# Removing \"banana\" by using the remove() method\n",
        "thisset = {\"apple\", \"banana\", \"cherry\"}\n",
        "thisset.remove(\"banana\")\n",
        "print(thisset)"
      ],
      "metadata": {
        "colab": {
          "base_uri": "https://localhost:8080/"
        },
        "id": "1HCfsrcJ71dP",
        "outputId": "0fb45915-ccb9-41ef-9731-d4bf3c1fd148"
      },
      "execution_count": null,
      "outputs": [
        {
          "output_type": "stream",
          "name": "stdout",
          "text": [
            "{'apple', 'cherry'}\n"
          ]
        }
      ]
    },
    {
      "cell_type": "code",
      "source": [
        "# Removing \"cherry\" by using the discard() method\n",
        "thisset = {\"apple\", \"banana\", \"cherry\"}\n",
        "thisset.remove(\"cherry\")\n",
        "print(thisset)"
      ],
      "metadata": {
        "colab": {
          "base_uri": "https://localhost:8080/"
        },
        "outputId": "c6e9dc3d-d66a-4777-de2f-c4780d28348c",
        "id": "RQTUqln1JP8S"
      },
      "execution_count": null,
      "outputs": [
        {
          "output_type": "stream",
          "name": "stdout",
          "text": [
            "{'apple', 'banana'}\n"
          ]
        }
      ]
    },
    {
      "cell_type": "markdown",
      "source": [
        "###**Python Sets 🛢️- Join Sets**"
      ],
      "metadata": {
        "id": "G3eQwK7-_UTW"
      }
    },
    {
      "cell_type": "markdown",
      "source": [
        "####There are several ways to join two or more sets in Python. <br>\n",
        "\n",
        "#####One is using the **union()** method that returns a new set containing all items from both sets. <br>\n",
        "#####Another one is using the **update()** method that inserts all the items from one set into another."
      ],
      "metadata": {
        "id": "Mb6xq6cdJodZ"
      }
    },
    {
      "cell_type": "code",
      "source": [
        "# Using union() method returns all items from both sets\n",
        "set1 = {\"a\", \"b\" , \"c\"}\n",
        "set2 = {1, 2, 3}\n",
        "set3 = set1.union(set2)\n",
        "print(set3)"
      ],
      "metadata": {
        "colab": {
          "base_uri": "https://localhost:8080/"
        },
        "id": "52r_LgaL74ef",
        "outputId": "d703e283-f85a-4d0d-a2dd-58615fdd9497"
      },
      "execution_count": null,
      "outputs": [
        {
          "output_type": "stream",
          "name": "stdout",
          "text": [
            "{1, 2, 3, 'b', 'a', 'c'}\n"
          ]
        }
      ]
    },
    {
      "cell_type": "code",
      "source": [
        "# Using update() method inserts the items in set2 into set1\n",
        "set1 = {\"a\", \"b\" , \"c\"}\n",
        "set2 = {1, 2, 3}\n",
        "set1.update(set2)\n",
        "print(set1)"
      ],
      "metadata": {
        "colab": {
          "base_uri": "https://localhost:8080/"
        },
        "outputId": "fcc06fad-f5a6-4a86-f86a-5a17069c0ba9",
        "id": "VhhrdLzSKltI"
      },
      "execution_count": null,
      "outputs": [
        {
          "output_type": "stream",
          "name": "stdout",
          "text": [
            "{1, 2, 3, 'b', 'a', 'c'}\n"
          ]
        }
      ]
    },
    {
      "cell_type": "markdown",
      "source": [
        "###**Python Sets 🛢️- Set Methods**"
      ],
      "metadata": {
        "id": "ntgKusss_UTY"
      }
    },
    {
      "cell_type": "markdown",
      "source": [
        "Python has a set of built-in methods that can used on Sets.\n",
        "\n",
        "\n",
        "\n",
        "\n",
        "\n",
        "\n"
      ],
      "metadata": {
        "id": "FXzE93QCLgo2"
      }
    },
    {
      "cell_type": "markdown",
      "source": [
        "| Method    | Description                                                |\n",
        "|-----------|------------------------------------------------------------|\n",
        "| add()\t    | Adds an element to the set                                 |\n",
        "| update()  | Update the set with the union of this set and others       |\n",
        "| union()\t  | Return a set containing the union of sets                  |\n",
        "| remove()  | Removes the specified element                              |\n",
        "| discard()\t| Remove the specified item                                  |"
      ],
      "metadata": {
        "id": "m3MX1xNOLgo2"
      }
    },
    {
      "cell_type": "markdown",
      "source": [
        "###**Python Sets 🛢️- Exercises**"
      ],
      "metadata": {
        "id": "spPADgFt_UTY"
      }
    },
    {
      "cell_type": "markdown",
      "source": [
        "#### **Exercise 1**"
      ],
      "metadata": {
        "id": "weyr45sXODqi"
      }
    },
    {
      "cell_type": "code",
      "source": [
        "# Checking \"apple\" is present in the fruits set\n",
        "fruits = {\"apple\", \"banana\", \"cherry\"}\n",
        "print(\"apple\" in fruits)"
      ],
      "metadata": {
        "colab": {
          "base_uri": "https://localhost:8080/"
        },
        "outputId": "6004cdad-daf0-4d8d-a175-db865b06f572",
        "id": "Zn6J7DPkODqq"
      },
      "execution_count": null,
      "outputs": [
        {
          "output_type": "stream",
          "name": "stdout",
          "text": [
            "True\n"
          ]
        }
      ]
    },
    {
      "cell_type": "markdown",
      "source": [
        "#### **Exercise 2**"
      ],
      "metadata": {
        "id": "YsoRO9MZO-TO"
      }
    },
    {
      "cell_type": "code",
      "source": [
        "# Using add() method to add \"orange\" to the set\n",
        "fruits = {\"apple\", \"banana\", \"cherry\"}\n",
        "fruits.add(\"orange\")\n",
        "print(fruits)"
      ],
      "metadata": {
        "colab": {
          "base_uri": "https://localhost:8080/"
        },
        "outputId": "69fdfa6b-a7f1-4373-d05b-711d13a46f7d",
        "id": "IjgP-Ho6O-TW"
      },
      "execution_count": null,
      "outputs": [
        {
          "output_type": "stream",
          "name": "stdout",
          "text": [
            "{'apple', 'cherry', 'banana', 'orange'}\n"
          ]
        }
      ]
    },
    {
      "cell_type": "markdown",
      "source": [
        "#### **Exercise 3**"
      ],
      "metadata": {
        "id": "c7xGEzQnO-rc"
      }
    },
    {
      "cell_type": "code",
      "source": [
        "# Using update() method to add multiple items to the fruits set\n",
        "fruits = {\"apple\", \"banana\", \"cherry\"}\n",
        "more_fruits = [\"orange\", \"mango\", \"grapes\"]\n",
        "fruits.update(more_fruits)\n",
        "print(fruits)"
      ],
      "metadata": {
        "colab": {
          "base_uri": "https://localhost:8080/"
        },
        "outputId": "b04fcbe1-a9ba-4368-add6-e7ee12c14595",
        "id": "dfFwvT83O-rd"
      },
      "execution_count": null,
      "outputs": [
        {
          "output_type": "stream",
          "name": "stdout",
          "text": [
            "{'cherry', 'apple', 'mango', 'grapes', 'orange', 'banana'}\n"
          ]
        }
      ]
    },
    {
      "cell_type": "markdown",
      "source": [
        "#### **Exercise 4**"
      ],
      "metadata": {
        "id": "QssUf9w3O_Bk"
      }
    },
    {
      "cell_type": "code",
      "source": [
        "# Using remove() method to remove \"banana\" from the set\n",
        "fruits = {\"apple\", \"banana\", \"cherry\"}\n",
        "fruits.remove(\"banana\")\n",
        "print(fruits)"
      ],
      "metadata": {
        "colab": {
          "base_uri": "https://localhost:8080/"
        },
        "outputId": "6fbc4d63-099f-43fb-82f8-0084275db92f",
        "id": "dIHk4WeBO_Bk"
      },
      "execution_count": null,
      "outputs": [
        {
          "output_type": "stream",
          "name": "stdout",
          "text": [
            "{'apple', 'cherry'}\n"
          ]
        }
      ]
    },
    {
      "cell_type": "markdown",
      "source": [
        "#### **Exercise 5**"
      ],
      "metadata": {
        "id": "kXIo_3MvO_VT"
      }
    },
    {
      "cell_type": "code",
      "source": [
        "# Using discard() method to remove \"cherry\" from the set\n",
        "fruits = {\"apple\", \"banana\", \"cherry\"}\n",
        "fruits.discard(\"cherry\")\n",
        "print(fruits)"
      ],
      "metadata": {
        "colab": {
          "base_uri": "https://localhost:8080/"
        },
        "outputId": "1b163fab-a516-47d1-f83b-65ebd0e9da44",
        "id": "N2dNArC5O_VT"
      },
      "execution_count": null,
      "outputs": [
        {
          "output_type": "stream",
          "name": "stdout",
          "text": [
            "{'apple', 'banana'}\n"
          ]
        }
      ]
    }
  ]
}