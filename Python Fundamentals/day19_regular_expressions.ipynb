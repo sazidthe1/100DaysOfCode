{
  "nbformat": 4,
  "nbformat_minor": 0,
  "metadata": {
    "colab": {
      "provenance": []
    },
    "kernelspec": {
      "name": "python3",
      "display_name": "Python 3"
    },
    "language_info": {
      "name": "python"
    }
  },
  "cells": [
    {
      "cell_type": "markdown",
      "source": [
        "## Day 19 of 100DaysOfCode 🐍\n",
        "### Regular Expressions"
      ],
      "metadata": {
        "id": "dArul0zwXtHc"
      }
    },
    {
      "cell_type": "markdown",
      "source": [
        "### **Regular Expressions 🔍💡**\n",
        "\n",
        "A Regular Expressions or RegEx, is a sequence of characters that forms a search pattern.<br>RegEx can be used to check if a string contains the specified search pattern."
      ],
      "metadata": {
        "id": "HXIqGv6qJWd_"
      }
    },
    {
      "cell_type": "markdown",
      "source": [
        "#### **RegEx Module**\n",
        "Python has a built-in package called `re`, which can be used to work with Regular Expressions. By importing the `re` module, we can start using regular expressions."
      ],
      "metadata": {
        "id": "mv0oDEW1I5oN"
      }
    },
    {
      "cell_type": "code",
      "source": [
        "# Importing the re module\n",
        "import re\n",
        "\n",
        "txt = \"There is rain in Bangladesh\"\n",
        "# Searching the string to see if it starts with \"The\" and ends with \"Bangladesh\"\n",
        "x = re.search(\"^The.*Bangladesh$\", txt)"
      ],
      "metadata": {
        "id": "moNHKNLuJoFN"
      },
      "execution_count": null,
      "outputs": []
    },
    {
      "cell_type": "code",
      "source": [
        "# Checking if it's matches or not and if matches, printing out the message\n",
        "import re\n",
        "\n",
        "txt = \"There is rain in Bangladesh\"\n",
        "x = re.search(\"^The.*Bangladesh$\", txt)\n",
        "\n",
        "if x:\n",
        "  print(\"YES! We have a match!\")\n",
        "else:\n",
        "  print(\"No match\")"
      ],
      "metadata": {
        "colab": {
          "base_uri": "https://localhost:8080/"
        },
        "id": "CpIhirhkWHLe",
        "outputId": "1624104a-25f2-4373-9640-728d47c37762"
      },
      "execution_count": null,
      "outputs": [
        {
          "output_type": "stream",
          "name": "stdout",
          "text": [
            "YES! We have a match!\n"
          ]
        }
      ]
    },
    {
      "cell_type": "markdown",
      "source": [
        "#### **RegEx Functions**\n",
        "The `re` module offers a set of functions that allows us to search a string for a match.\n",
        "\n",
        "|Function|Description|\n",
        "|--------|-----------|\n",
        "|findall|Returns a list containing all matches|\n",
        "|search|Returns a Match object if there is a match anywhere in the string|\n",
        "|split|Returns a list where the string has been split at each match|\n",
        "|sub|Replaces one or many matches with a string|"
      ],
      "metadata": {
        "id": "6ONWVYneK9FD"
      }
    },
    {
      "cell_type": "markdown",
      "source": [
        "#### **The findall() Function**\n",
        "The `findall()` function returns a list containing all matches."
      ],
      "metadata": {
        "id": "9VlLnIzNXyGs"
      }
    },
    {
      "cell_type": "code",
      "source": [
        "import re\n",
        "\n",
        "#Return a list containing every occurrence of \"rain\"\n",
        "\n",
        "txt = \"There is rain in Bangladesh\"\n",
        "x = re.findall(\"rain\", txt)\n",
        "print(x)"
      ],
      "metadata": {
        "colab": {
          "base_uri": "https://localhost:8080/"
        },
        "id": "DxSK1RKmX3fp",
        "outputId": "3e728415-29a5-4dd4-ac17-9ddf064c9c05"
      },
      "execution_count": null,
      "outputs": [
        {
          "output_type": "stream",
          "name": "stdout",
          "text": [
            "['rain']\n"
          ]
        }
      ]
    },
    {
      "cell_type": "code",
      "source": [
        "# Returning an empty list if no match was found\n",
        "import re\n",
        "\n",
        "txt = \"There is rain in Bangladesh\"\n",
        "x = re.findall(\"India\", txt)\n",
        "print(x)"
      ],
      "metadata": {
        "colab": {
          "base_uri": "https://localhost:8080/"
        },
        "id": "nELq56Y1YVuD",
        "outputId": "54e272c6-8f0d-4ca3-cee3-343e849de00c"
      },
      "execution_count": null,
      "outputs": [
        {
          "output_type": "stream",
          "name": "stdout",
          "text": [
            "[]\n"
          ]
        }
      ]
    },
    {
      "cell_type": "markdown",
      "source": [
        "#### **The search() Function**\n",
        "The `search()` function searches the string for a match, and returns a Match object if there is a match."
      ],
      "metadata": {
        "id": "B3mQWzxAY1PH"
      }
    },
    {
      "cell_type": "code",
      "source": [
        "# Searching for the first white-space character in the string\n",
        "import re\n",
        "\n",
        "txt = \"There is rain in Bangladesh\"\n",
        "x = re.search(\"\\s\", txt)\n",
        "\n",
        "print(\"The first white-space character is located in position:\", x.start())"
      ],
      "metadata": {
        "colab": {
          "base_uri": "https://localhost:8080/"
        },
        "id": "Tw2j3dvgZDke",
        "outputId": "48084cae-f78f-4935-bab8-ce9a56b50419"
      },
      "execution_count": null,
      "outputs": [
        {
          "output_type": "stream",
          "name": "stdout",
          "text": [
            "The first white-space character is located in position: 5\n"
          ]
        }
      ]
    },
    {
      "cell_type": "markdown",
      "source": [
        "#### **The split() Function**\n",
        "The `split()` function returns a list where the string has been split at each match."
      ],
      "metadata": {
        "id": "OlWESdCQZl6i"
      }
    },
    {
      "cell_type": "code",
      "source": [
        "# Spliting the string only at the third occurrence\n",
        "import re\n",
        "\n",
        "txt = \"There is rain in Bangladesh\"\n",
        "x = re.split(\"\\s\", txt, 3)\n",
        "print(x)"
      ],
      "metadata": {
        "colab": {
          "base_uri": "https://localhost:8080/"
        },
        "id": "Il0z3VG3Zsqm",
        "outputId": "57059212-4c85-438e-b50f-356dc52bbe3f"
      },
      "execution_count": null,
      "outputs": [
        {
          "output_type": "stream",
          "name": "stdout",
          "text": [
            "['There', 'is', 'rain', 'in Bangladesh']\n"
          ]
        }
      ]
    },
    {
      "cell_type": "code",
      "source": [
        "# Spliting at each white-space character\n",
        "import re\n",
        "\n",
        "txt = \"There is rain in Bangladesh\"\n",
        "x = re.split(\"\\s\", txt)\n",
        "print(x)"
      ],
      "metadata": {
        "id": "c1oHqOlRa8aX"
      },
      "execution_count": null,
      "outputs": []
    },
    {
      "cell_type": "markdown",
      "source": [
        "#### **The sub() Function**\n",
        "The `sub()` function replaces the matches with the text of your choice."
      ],
      "metadata": {
        "id": "Tt6MLLF2axHh"
      }
    },
    {
      "cell_type": "code",
      "source": [
        "# Replacing every white-space character with the number 5\n",
        "import re\n",
        "\n",
        "txt = \"There is rain in Bangladesh\"\n",
        "x = re.sub(\"\\s\", \"5\", txt)\n",
        "print(x)"
      ],
      "metadata": {
        "colab": {
          "base_uri": "https://localhost:8080/"
        },
        "id": "Ku4s1AAQayBL",
        "outputId": "26c28c3b-3079-4907-9dc0-da192a1de4fd"
      },
      "execution_count": null,
      "outputs": [
        {
          "output_type": "stream",
          "name": "stdout",
          "text": [
            "There5is5rain5in5Bangladesh\n"
          ]
        }
      ]
    },
    {
      "cell_type": "code",
      "source": [
        "# Replacing the first 2 occurrences only\n",
        "import re\n",
        "\n",
        "txt = \"The rain in Spain\"\n",
        "x = re.sub(\"\\s\", \"5\", txt, 2)\n",
        "print(x)"
      ],
      "metadata": {
        "colab": {
          "base_uri": "https://localhost:8080/"
        },
        "id": "bz-vr8DqbzMJ",
        "outputId": "abc2aa99-3db6-4423-8cd0-d07b94d9c17a"
      },
      "execution_count": null,
      "outputs": [
        {
          "output_type": "stream",
          "name": "stdout",
          "text": [
            "The5rain5in Spain\n"
          ]
        }
      ]
    },
    {
      "cell_type": "markdown",
      "source": [
        "#### Match Object\n",
        "A Match Object is an object containing information about the search and the result."
      ],
      "metadata": {
        "id": "v-s8umo9c5j-"
      }
    },
    {
      "cell_type": "code",
      "source": [
        "# Doing a search that will return a Match object\n",
        "import re\n",
        "\n",
        "txt = \"There is rain in Bangladesh\"\n",
        "x = re.search(\"rain\", txt)\n",
        "print(x) #this will print an object"
      ],
      "metadata": {
        "colab": {
          "base_uri": "https://localhost:8080/"
        },
        "id": "z3HssDsHdBx_",
        "outputId": "c551bee0-7e98-4405-9b83-890509edb24a"
      },
      "execution_count": null,
      "outputs": [
        {
          "output_type": "stream",
          "name": "stdout",
          "text": [
            "<re.Match object; span=(9, 13), match='rain'>\n"
          ]
        }
      ]
    },
    {
      "cell_type": "markdown",
      "source": [
        "The **Match object** has properties and methods used to retrieve information about the search, and the result.\n",
        "\n",
        "* `.span()` returns a tuple containing the start-, and end positions of the match.\n",
        "* `.string` returns the string passed into the function\n",
        "* `.group()` returns the part of the string where there was a match"
      ],
      "metadata": {
        "id": "1bHov4ceddAv"
      }
    },
    {
      "cell_type": "code",
      "source": [
        "#Searching for an upper case \"B\" character in the beginning of a word, and printing its position\n",
        "import re\n",
        "\n",
        "txt = \"There is rain in Bangladesh\"\n",
        "x = re.search(r\"\\bB\\w+\", txt)\n",
        "print(x.span())"
      ],
      "metadata": {
        "colab": {
          "base_uri": "https://localhost:8080/"
        },
        "id": "1tfrezleeMc6",
        "outputId": "4d0bb224-6e50-42f0-fc6c-b2d732b4db28"
      },
      "execution_count": null,
      "outputs": [
        {
          "output_type": "stream",
          "name": "stdout",
          "text": [
            "(17, 27)\n"
          ]
        }
      ]
    },
    {
      "cell_type": "code",
      "source": [
        "# Printing the string passed into the function\n",
        "import re\n",
        "\n",
        "txt = \"There is rain in Bangladesh\"\n",
        "x = re.search(r\"\\bB\\w+\", txt)\n",
        "print(x.string)"
      ],
      "metadata": {
        "colab": {
          "base_uri": "https://localhost:8080/"
        },
        "id": "jojbavhKfXRo",
        "outputId": "32ad427a-eaff-4e34-8ea2-578c5de3114c"
      },
      "execution_count": null,
      "outputs": [
        {
          "output_type": "stream",
          "name": "stdout",
          "text": [
            "There is rain in Bangladesh\n"
          ]
        }
      ]
    },
    {
      "cell_type": "code",
      "source": [
        "# Printing the part of the string where there was a match of \"B\"\n",
        "import re\n",
        "\n",
        "txt = \"There is rain in Bangladesh\"\n",
        "x = re.search(r\"\\bB\\w+\", txt)\n",
        "print(x.group())"
      ],
      "metadata": {
        "colab": {
          "base_uri": "https://localhost:8080/"
        },
        "id": "swFQ9VlQfsKN",
        "outputId": "80b9023b-1709-41b2-c27d-7ff351f73d09"
      },
      "execution_count": null,
      "outputs": [
        {
          "output_type": "stream",
          "name": "stdout",
          "text": [
            "Bangladesh\n"
          ]
        }
      ]
    }
  ]
}