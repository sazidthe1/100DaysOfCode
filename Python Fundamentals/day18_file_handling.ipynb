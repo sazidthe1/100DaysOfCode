{
  "nbformat": 4,
  "nbformat_minor": 0,
  "metadata": {
    "colab": {
      "provenance": []
    },
    "kernelspec": {
      "name": "python3",
      "display_name": "Python 3"
    },
    "language_info": {
      "name": "python"
    }
  },
  "cells": [
    {
      "cell_type": "markdown",
      "source": [
        "## Day 18 of 100DaysOfCode 🐍\n",
        "### File Handling"
      ],
      "metadata": {
        "id": "dArul0zwXtHc"
      }
    },
    {
      "cell_type": "markdown",
      "source": [
        "### **File Handling 🗂️💼**\n",
        "\n",
        "File handling is an important part of any web application.<br>It has several functions for creating, reading, updating, and deleting files."
      ],
      "metadata": {
        "id": "HXIqGv6qJWd_"
      }
    },
    {
      "cell_type": "markdown",
      "source": [
        "#### **Open**\n",
        "`open` is a functionality built into Python that allows to open a file and utilize it in the program.<br>\n",
        "This function allows to open a file such that we can read from it or write to it.<br>The `open()` function takes two parameters; filename, and mode."
      ],
      "metadata": {
        "id": "mv0oDEW1I5oN"
      }
    },
    {
      "cell_type": "code",
      "source": [
        "# Opening the demofile on the server\n",
        "f = open(\"demofile.txt\", \"r\")"
      ],
      "metadata": {
        "id": "moNHKNLuJoFN"
      },
      "execution_count": null,
      "outputs": []
    },
    {
      "cell_type": "markdown",
      "source": [
        "#### **Read**\n",
        "The `read()` method is for reading the content of the file."
      ],
      "metadata": {
        "id": "6ONWVYneK9FD"
      }
    },
    {
      "cell_type": "code",
      "source": [
        "# Opening the demofile and reading it using read() method\n",
        "f = open(\"demofile.txt\", \"r\")\n",
        "print(f.read())"
      ],
      "metadata": {
        "id": "HoW73p6xKQ-n"
      },
      "execution_count": null,
      "outputs": []
    },
    {
      "cell_type": "markdown",
      "source": [
        "If the file is located in a different location, we have to specify the file path, like this:"
      ],
      "metadata": {
        "id": "RsEeobmdLzNT"
      }
    },
    {
      "cell_type": "code",
      "source": [
        "# Opening a file on a different location\n",
        "f = open(\"D:\\\\myfiles\\welcome.txt\", \"r\")\n",
        "print(f.read())"
      ],
      "metadata": {
        "id": "3Ehvgx2zL5Kf"
      },
      "execution_count": null,
      "outputs": []
    },
    {
      "cell_type": "markdown",
      "source": [
        "To read only parts of the file, we can use `read()` method to returns how many characters we want to return."
      ],
      "metadata": {
        "id": "N6OqaNpWMHL5"
      }
    },
    {
      "cell_type": "code",
      "source": [
        "# Returning the first 15 characters of the file\n",
        "f = open(\"demofile.txt\", \"r\")\n",
        "print(f.read(15))"
      ],
      "metadata": {
        "id": "a9woUc70L5H5"
      },
      "execution_count": null,
      "outputs": []
    },
    {
      "cell_type": "markdown",
      "source": [
        "We can also return one line by using the `readline()` method."
      ],
      "metadata": {
        "id": "VUgjZv43Mno4"
      }
    },
    {
      "cell_type": "code",
      "source": [
        "# Reading the two first lines\n",
        "f = open(\"demofile.txt\", \"r\")\n",
        "print(f.readline())\n",
        "print(f.readline())"
      ],
      "metadata": {
        "id": "OoLIuUSfL5Ax"
      },
      "execution_count": null,
      "outputs": []
    },
    {
      "cell_type": "markdown",
      "source": [
        "It is a good practice to always close the file when we are done with it."
      ],
      "metadata": {
        "id": "9DPtGySXNGsY"
      }
    },
    {
      "cell_type": "code",
      "source": [
        "# Closing the file after finishing the work\n",
        "f = open(\"demofile.txt\", \"r\")\n",
        "print(f.readline())\n",
        "f.close()"
      ],
      "metadata": {
        "id": "S8jlNC6NL4Y_"
      },
      "execution_count": null,
      "outputs": []
    },
    {
      "cell_type": "markdown",
      "source": [
        "#### **Write**\n",
        "To write on an existing file, we must add a parameter to the `open()` function.\n",
        "\n",
        "**a** - Append - will append to the end of the file\n",
        "\n",
        "**w** - Write - will overwrite any existing content"
      ],
      "metadata": {
        "id": "-yLhXKcCNmZ7"
      }
    },
    {
      "cell_type": "code",
      "source": [
        "# Opening the \"demofile2.txt\" file to append new content\n",
        "f = open(\"demofile2.txt\", \"a\")\n",
        "f.write(\"Now the file has more content!\")\n",
        "f.close()"
      ],
      "metadata": {
        "id": "pbox1zxeNxY7"
      },
      "execution_count": null,
      "outputs": []
    },
    {
      "cell_type": "code",
      "source": [
        "# Opening and reading the file after the appending\n",
        "f = open(\"demofile2.txt\", \"r\")\n",
        "print(f.read())"
      ],
      "metadata": {
        "id": "l6nHppnJRNTW"
      },
      "execution_count": null,
      "outputs": []
    },
    {
      "cell_type": "code",
      "source": [
        "# Opening the file \"demofile3.txt\" and overwriting the content\n",
        "f = open(\"demofile3.txt\", \"w\")\n",
        "f.write(\"Woops! I have deleted the content!\")\n",
        "f.close()\n",
        "\n",
        "# Opening and reading the file after the overwriting\n",
        "f = open(\"demofile3.txt\", \"r\")\n",
        "print(f.read())"
      ],
      "metadata": {
        "id": "_I00mTAWRY2f"
      },
      "execution_count": null,
      "outputs": []
    },
    {
      "cell_type": "markdown",
      "source": [
        "#### **Create**\n",
        "To creating a new file in Python, use the `open()` method, with one of the following parameters:\n",
        "\n",
        "**x** : Create - will create a file, returns an error if the file exist\n",
        "\n",
        "**a** : Append - will create a file if the specified file does not exist\n",
        "\n",
        "**w** : Write - will create a file if the specified file does not exist"
      ],
      "metadata": {
        "id": "jjHDZ4MDRumR"
      }
    },
    {
      "cell_type": "code",
      "source": [
        "# Creating new a file called \"myfile.txt\"\n",
        "f = open(\"myfile.txt\", \"x\")"
      ],
      "metadata": {
        "id": "Iy_Fx_4TRkJS"
      },
      "execution_count": null,
      "outputs": []
    },
    {
      "cell_type": "code",
      "source": [
        "# Creating a new file if it does not exist\n",
        "f = open(\"myfile.txt\", \"w\")"
      ],
      "metadata": {
        "id": "s7TdiPOgSV4O"
      },
      "execution_count": null,
      "outputs": []
    },
    {
      "cell_type": "markdown",
      "source": [
        "#### **Delete**\n",
        "To delete a file, we must import the OS module, and run its `os.remove()` function."
      ],
      "metadata": {
        "id": "Jgp5RmnsSsg-"
      }
    },
    {
      "cell_type": "code",
      "source": [
        "# Removing the file \"demofile.txt\"\n",
        "import os\n",
        "os.remove(\"demofile.txt\")"
      ],
      "metadata": {
        "id": "pZgrTBnUSqLP"
      },
      "execution_count": null,
      "outputs": []
    },
    {
      "cell_type": "markdown",
      "source": [
        "To delete an entire folder, use the `os.rmdir()` method."
      ],
      "metadata": {
        "id": "dnDReXTfTqbR"
      }
    },
    {
      "cell_type": "code",
      "source": [
        "# Removing the folder \"myfolder\"\n",
        "import os\n",
        "os.rmdir(\"myfolder\")"
      ],
      "metadata": {
        "id": "OxJRVBMpTNlA"
      },
      "execution_count": null,
      "outputs": []
    }
  ]
}