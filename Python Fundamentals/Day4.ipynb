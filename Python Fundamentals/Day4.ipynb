{
  "nbformat": 4,
  "nbformat_minor": 0,
  "metadata": {
    "colab": {
      "provenance": []
    },
    "kernelspec": {
      "name": "python3",
      "display_name": "Python 3"
    },
    "language_info": {
      "name": "python"
    }
  },
  "cells": [
    {
      "cell_type": "markdown",
      "source": [
        "## Day 4 of 100DaysOfCode 🐍\n",
        "### Python Lists 🪣 - From [W3 Schools](https://www.w3schools.com/python/python_lists.asp) 🏫"
      ],
      "metadata": {
        "id": "iNzy0TYE6A5U"
      }
    },
    {
      "cell_type": "markdown",
      "source": [
        "\n",
        "## **Python Lists 🪣**\n",
        "---\n",
        "\n",
        "🪣 Lists: Lists is a single variable which used to store multiple items in Python. It created by using Square brackets **[ ]**. <br>\n",
        "e.g. fruits = [\"Banana\", \"Mango\", \"Orange\"]\n",
        "<br><br>\n",
        "Another way to create the List is to use the **list()** constructor. <br>\n",
        "e.g. fruits = list((\"Banana\", \"Mango\", \"Orange\"))\n",
        "<br><br>\n",
        "🪣 List items are mutable, ordered, and allow duplicate values. <br>\n",
        "🪣 List items can be of any data types. Meaning - a List can contain different data types (String, Integer and Boolean)."
      ],
      "metadata": {
        "id": "CPgn7oqLtIKV"
      }
    },
    {
      "cell_type": "markdown",
      "source": [
        "### **Python Lists 🪣- Access Items**\n",
        "A List item can **access** by referring to it's index number using in a few ways. <br> Like **Positive Indexing**, **Negative Indexing**, and also using **Range of Indexes**."
      ],
      "metadata": {
        "id": "W7glHuq28x9Y"
      }
    },
    {
      "cell_type": "code",
      "execution_count": null,
      "metadata": {
        "colab": {
          "base_uri": "https://localhost:8080/"
        },
        "id": "RCW0LWemsVnV",
        "outputId": "3bcc2764-3335-4210-a0eb-3018e490d977"
      },
      "outputs": [
        {
          "output_type": "stream",
          "name": "stdout",
          "text": [
            "Mango\n"
          ]
        }
      ],
      "source": [
        "# Positive indexing\n",
        "# Printing the 2nd item from the list\n",
        "fruits = [\"Banana\", \"Mango\", \"Orange\"]\n",
        "print(fruits[1])"
      ]
    },
    {
      "cell_type": "code",
      "source": [
        "# Negative indexing\n",
        "# Printing the 2nd item from the list\n",
        "fruits = [\"Banana\", \"Mango\", \"Orange\"]\n",
        "print(fruits[-2])"
      ],
      "metadata": {
        "colab": {
          "base_uri": "https://localhost:8080/"
        },
        "id": "3hty8VMQsex9",
        "outputId": "0de7ad2b-ced6-483d-d2fc-1c74fdb2f5de"
      },
      "execution_count": null,
      "outputs": [
        {
          "output_type": "stream",
          "name": "stdout",
          "text": [
            "Mango\n"
          ]
        }
      ]
    },
    {
      "cell_type": "code",
      "source": [
        "# Range of indexes using positive indexing\n",
        "# Printing the 3rd, 4th, 5th item from the list\n",
        "fruits_list = [\"Apple\", \"Banana\", \"Cherry\", \"Mango\", \"Orange\", \"Strawberry\", \"Watermelon\"]\n",
        "print(fruits_list[2:5])"
      ],
      "metadata": {
        "colab": {
          "base_uri": "https://localhost:8080/"
        },
        "id": "QXpBjpFMse04",
        "outputId": "ebab5aac-3be7-41e8-bb50-40ada784d684"
      },
      "execution_count": null,
      "outputs": [
        {
          "output_type": "stream",
          "name": "stdout",
          "text": [
            "['Cherry', 'Mango', 'Orange']\n"
          ]
        }
      ]
    },
    {
      "cell_type": "code",
      "source": [
        "# Range of indexes using negative indexing\n",
        "# Printing the 3rd, 4th, 5th item from the list\n",
        "fruits_list = [\"Apple\", \"Banana\", \"Cherry\", \"Mango\", \"Orange\", \"Strawberry\", \"Watermelon\"]\n",
        "print(fruits_list[-5:-2])"
      ],
      "metadata": {
        "colab": {
          "base_uri": "https://localhost:8080/"
        },
        "id": "QRvDrl0Gse3m",
        "outputId": "e91ff10e-6fde-44c4-dea5-77b9dcedd596"
      },
      "execution_count": null,
      "outputs": [
        {
          "output_type": "stream",
          "name": "stdout",
          "text": [
            "['Cherry', 'Mango', 'Orange']\n"
          ]
        }
      ]
    },
    {
      "cell_type": "markdown",
      "source": [
        "#### **Item can also be checked wtherther it's exit in the list or not**"
      ],
      "metadata": {
        "id": "GGi6e76CC6Ly"
      }
    },
    {
      "cell_type": "code",
      "source": [
        "# Checking if the item (Orange) does exists in the list\n",
        "fruits = [\"Banana\", \"Mango\", \"Orange\"]\n",
        "print(\"Orange\" in fruits)"
      ],
      "metadata": {
        "colab": {
          "base_uri": "https://localhost:8080/"
        },
        "id": "3xO893Buse62",
        "outputId": "80141e12-167a-4674-dc58-4653284dbbd5"
      },
      "execution_count": null,
      "outputs": [
        {
          "output_type": "stream",
          "name": "stdout",
          "text": [
            "True\n"
          ]
        }
      ]
    },
    {
      "cell_type": "markdown",
      "source": [
        "### **Python Lists 🪣- Change List Items**"
      ],
      "metadata": {
        "id": "vxTyjNR8FSyK"
      }
    },
    {
      "cell_type": "markdown",
      "source": [
        "#### **Change Item Value**\n",
        "\n",
        "To change the value of a specific item, refer to the index number."
      ],
      "metadata": {
        "id": "brlUk5KBFz52"
      }
    },
    {
      "cell_type": "code",
      "source": [
        "# Chaging the 2nd item in the list\n",
        "fruits = [\"Banana\", \"Mango\", \"Orange\"]\n",
        "fruits[1] = \"Jackfruit\"\n",
        "print(fruits)"
      ],
      "metadata": {
        "colab": {
          "base_uri": "https://localhost:8080/"
        },
        "id": "WtgFYn_dse9i",
        "outputId": "6619dcd7-12ab-4922-a3c6-774c149ffc32"
      },
      "execution_count": null,
      "outputs": [
        {
          "output_type": "stream",
          "name": "stdout",
          "text": [
            "['Banana', 'Jackfruit', 'Orange']\n"
          ]
        }
      ]
    },
    {
      "cell_type": "markdown",
      "source": [
        "####**Change a Range of Item Values**\n",
        "To change the value of items within a specific range, define a list with the new values, and refer to the range of index numbers where you want to insert the new values."
      ],
      "metadata": {
        "id": "r7dTuNRpGmzA"
      }
    },
    {
      "cell_type": "code",
      "source": [
        "# Chaging the values \"Banana\" and \"Cherry\" with \"Blackcurrant\" and \"Melon\"\n",
        "fruits_list = [\"Apple\", \"Banana\", \"Cherry\", \"Mango\", \"Orange\", \"Strawberry\", \"Watermelon\"]\n",
        "fruits_list[1:3] = [\"Blackcurrant\", \"Melon\"]\n",
        "print(fruits_list)"
      ],
      "metadata": {
        "colab": {
          "base_uri": "https://localhost:8080/"
        },
        "id": "hY70yQ_XsfAg",
        "outputId": "5767e674-6cb5-468d-d6be-1854c986f8ce"
      },
      "execution_count": null,
      "outputs": [
        {
          "output_type": "stream",
          "name": "stdout",
          "text": [
            "['Apple', 'Blackcurrant', 'Melon', 'Mango', 'Orange', 'Strawberry', 'Watermelon']\n"
          ]
        }
      ]
    },
    {
      "cell_type": "markdown",
      "source": [
        "####**Insert Items**\n",
        "To insert a new list item, without replacing any of the existing values, we can use the **insert()** method."
      ],
      "metadata": {
        "id": "KwLyIt0nHlW-"
      }
    },
    {
      "cell_type": "code",
      "source": [
        "# Inserting Papaya as the 2nd item\n",
        "fruits = [\"Banana\", \"Mango\", \"Orange\"]\n",
        "fruits.insert(1, \"Papaya\")\n",
        "print(fruits)"
      ],
      "metadata": {
        "colab": {
          "base_uri": "https://localhost:8080/"
        },
        "id": "GvA3vDhEsfDd",
        "outputId": "d4fc1ae5-e49d-4789-9462-75afb3f45d8b"
      },
      "execution_count": null,
      "outputs": [
        {
          "output_type": "stream",
          "name": "stdout",
          "text": [
            "['Banana', 'Papaya', 'Mango', 'Orange']\n"
          ]
        }
      ]
    },
    {
      "cell_type": "markdown",
      "source": [
        "### **Python Lists 🪣- Add List Items**"
      ],
      "metadata": {
        "id": "moOWV_DiInqq"
      }
    },
    {
      "cell_type": "markdown",
      "source": [
        "#### **Append Items**\n",
        "\n",
        "To add an item to the end of the list, use the **append()** method."
      ],
      "metadata": {
        "id": "07R1IxUBIw-S"
      }
    },
    {
      "cell_type": "code",
      "source": [
        "# Using append() method to add a new item\n",
        "fruits = [\"Banana\", \"Mango\", \"Orange\"]\n",
        "fruits.append(\"Apple\")\n",
        "print(fruits)"
      ],
      "metadata": {
        "colab": {
          "base_uri": "https://localhost:8080/"
        },
        "id": "CTKC1WxnsfGL",
        "outputId": "d884be26-b341-4489-8457-22bf2de70162"
      },
      "execution_count": null,
      "outputs": [
        {
          "output_type": "stream",
          "name": "stdout",
          "text": [
            "['Banana', 'Mango', 'Orange', 'Apple']\n"
          ]
        }
      ]
    },
    {
      "cell_type": "markdown",
      "source": [
        "#### **Insert Items**\n",
        "\n",
        "To insert a list item at a specified index, use the **insert()** method. <br>\n",
        "This method inserts an item at the specific index."
      ],
      "metadata": {
        "id": "mZRbi1uJJhoj"
      }
    },
    {
      "cell_type": "code",
      "source": [
        "# Inserting an item as the 1st position\n",
        "fruits = [\"Banana\", \"Mango\", \"Orange\"]\n",
        "fruits.insert(0, \"Pomegranate\")\n",
        "print(fruits)"
      ],
      "metadata": {
        "colab": {
          "base_uri": "https://localhost:8080/"
        },
        "id": "89AmuGrksfJK",
        "outputId": "92d7b167-a36b-4f9a-f033-23fad9a87201"
      },
      "execution_count": null,
      "outputs": [
        {
          "output_type": "stream",
          "name": "stdout",
          "text": [
            "['Pomegranate', 'Banana', 'Mango', 'Orange']\n"
          ]
        }
      ]
    },
    {
      "cell_type": "markdown",
      "source": [
        "#### **Extend List**\n",
        "\n",
        "To append elements from another list to the current list, use the **extend()** method."
      ],
      "metadata": {
        "id": "kP-oRpxzJiuL"
      }
    },
    {
      "cell_type": "code",
      "source": [
        "# Adding the elements of fruits_list2 to fruits_list1\n",
        "fruits_list1 = [\"Banana\", \"Mango\", \"Orange\"]\n",
        "fruits_list2 = [\"Apple\", \"Cherry\",\"Strawberry\", \"Watermelon\"]\n",
        "fruits_list1.extend(fruits_list2)\n",
        "print(fruits_list1)"
      ],
      "metadata": {
        "colab": {
          "base_uri": "https://localhost:8080/"
        },
        "id": "N6eKdTVkKqaq",
        "outputId": "9ebb0937-fced-4a5e-d915-e5f5d5df6f9a"
      },
      "execution_count": null,
      "outputs": [
        {
          "output_type": "stream",
          "name": "stdout",
          "text": [
            "['Banana', 'Mango', 'Orange', 'Apple', 'Cherry', 'Strawberry', 'Watermelon']\n"
          ]
        }
      ]
    },
    {
      "cell_type": "markdown",
      "source": [
        "#### **Add Any Iterable**\n",
        "\n",
        "The **extend()** method does not have to append lists, you can add any iterable object (*tuples*, *sets*, *dictionaries* etc.)."
      ],
      "metadata": {
        "id": "MACciihVJjPA"
      }
    },
    {
      "cell_type": "code",
      "source": [
        "# Adding elements of a tuple to a list\n",
        "fruits_list = [\"Banana\", \"Mango\", \"Orange\"]\n",
        "fruits_tuple = (\"Kiwi\", \"Lychee\")\n",
        "fruits_list.extend(fruits_tuple)\n",
        "print(fruits_list)"
      ],
      "metadata": {
        "colab": {
          "base_uri": "https://localhost:8080/"
        },
        "id": "FjFibjI9sfMW",
        "outputId": "6c456b74-aec5-4712-ddb4-d06caf5c48ab"
      },
      "execution_count": null,
      "outputs": [
        {
          "output_type": "stream",
          "name": "stdout",
          "text": [
            "['Banana', 'Mango', 'Orange', 'Kiwi', 'Lychee']\n"
          ]
        }
      ]
    },
    {
      "cell_type": "markdown",
      "source": [
        "### **Python Lists 🪣- Remove List Items**"
      ],
      "metadata": {
        "id": "1zGMKKD7N6rj"
      }
    },
    {
      "cell_type": "markdown",
      "source": [
        "#### **Remove Specified Item**\n",
        "\n",
        "The **remove()** method removes the specified item."
      ],
      "metadata": {
        "id": "DQLwe7iOPScW"
      }
    },
    {
      "cell_type": "code",
      "source": [
        "# Removing Banana from the list\n",
        "fruits = [\"Banana\", \"Mango\", \"Orange\"]\n",
        "fruits.remove(\"Banana\")\n",
        "print(fruits)"
      ],
      "metadata": {
        "colab": {
          "base_uri": "https://localhost:8080/"
        },
        "id": "hab5uznxNBY4",
        "outputId": "e596117d-7ac8-4683-c31e-675700455073"
      },
      "execution_count": null,
      "outputs": [
        {
          "output_type": "stream",
          "name": "stdout",
          "text": [
            "['Mango', 'Orange']\n"
          ]
        }
      ]
    },
    {
      "cell_type": "markdown",
      "source": [
        "#### **Remove Specified Index**\n",
        "\n",
        "The **pop()** method removes the specified index."
      ],
      "metadata": {
        "id": "nAzo0GrkQJ-g"
      }
    },
    {
      "cell_type": "code",
      "source": [
        "# Removing the 2nd item from the list\n",
        "fruits = [\"Banana\", \"Mango\", \"Orange\"]\n",
        "fruits.pop(1)\n",
        "print(fruits)"
      ],
      "metadata": {
        "colab": {
          "base_uri": "https://localhost:8080/"
        },
        "id": "seevoXd6NBSD",
        "outputId": "c7b66395-c22d-4c35-dc30-7c59d097a774"
      },
      "execution_count": null,
      "outputs": [
        {
          "output_type": "stream",
          "name": "stdout",
          "text": [
            "['Banana', 'Orange']\n"
          ]
        }
      ]
    },
    {
      "cell_type": "markdown",
      "source": [
        "If there is nothing specified in the index, **pop()** method removes the last item."
      ],
      "metadata": {
        "id": "UYM_WT4uQ5_Y"
      }
    },
    {
      "cell_type": "code",
      "source": [
        "# Removing the last item\n",
        "fruits = [\"Banana\", \"Mango\", \"Orange\"]\n",
        "fruits.pop()\n",
        "print(fruits)"
      ],
      "metadata": {
        "colab": {
          "base_uri": "https://localhost:8080/"
        },
        "id": "Ee8vdprkNBL2",
        "outputId": "58924272-a3bd-49a9-dd13-da82dfab1e63"
      },
      "execution_count": null,
      "outputs": [
        {
          "output_type": "stream",
          "name": "stdout",
          "text": [
            "['Banana', 'Mango']\n"
          ]
        }
      ]
    },
    {
      "cell_type": "markdown",
      "source": [
        "The **del** keyword also removes the *specified index*."
      ],
      "metadata": {
        "id": "fraCAW4jR5YB"
      }
    },
    {
      "cell_type": "code",
      "source": [
        "# Deleting the 1st item\n",
        "fruits = [\"Banana\", \"Mango\", \"Orange\"]\n",
        "del fruits[0]\n",
        "print(fruits)"
      ],
      "metadata": {
        "colab": {
          "base_uri": "https://localhost:8080/"
        },
        "id": "3KZqdOmxNBFp",
        "outputId": "d3ce593e-dd91-4034-f66e-9e0880f501d4"
      },
      "execution_count": null,
      "outputs": [
        {
          "output_type": "stream",
          "name": "stdout",
          "text": [
            "['Mango', 'Orange']\n"
          ]
        }
      ]
    },
    {
      "cell_type": "markdown",
      "source": [
        "The **del** keyword can also delete the *complete list*."
      ],
      "metadata": {
        "id": "qLOYXMOOSv7j"
      }
    },
    {
      "cell_type": "code",
      "source": [
        "# Deleting the entire list\n",
        "fruits = [\"Banana\", \"Mango\", \"Orange\"]\n",
        "del fruits\n",
        "print(fruits)"
      ],
      "metadata": {
        "colab": {
          "base_uri": "https://localhost:8080/",
          "height": 200
        },
        "id": "p1jBzFOgNA_c",
        "outputId": "3cf97e06-5bcb-406a-c3d0-2c25a3a2b72c"
      },
      "execution_count": null,
      "outputs": [
        {
          "output_type": "error",
          "ename": "NameError",
          "evalue": "ignored",
          "traceback": [
            "\u001b[0;31m---------------------------------------------------------------------------\u001b[0m",
            "\u001b[0;31mNameError\u001b[0m                                 Traceback (most recent call last)",
            "\u001b[0;32m<ipython-input-26-a265973b6e17>\u001b[0m in \u001b[0;36m<cell line: 4>\u001b[0;34m()\u001b[0m\n\u001b[1;32m      2\u001b[0m \u001b[0mfruits\u001b[0m \u001b[0;34m=\u001b[0m \u001b[0;34m[\u001b[0m\u001b[0;34m\"Banana\"\u001b[0m\u001b[0;34m,\u001b[0m \u001b[0;34m\"Mango\"\u001b[0m\u001b[0;34m,\u001b[0m \u001b[0;34m\"Orange\"\u001b[0m\u001b[0;34m]\u001b[0m\u001b[0;34m\u001b[0m\u001b[0;34m\u001b[0m\u001b[0m\n\u001b[1;32m      3\u001b[0m \u001b[0;32mdel\u001b[0m \u001b[0mfruits\u001b[0m\u001b[0;34m\u001b[0m\u001b[0;34m\u001b[0m\u001b[0m\n\u001b[0;32m----> 4\u001b[0;31m \u001b[0mprint\u001b[0m\u001b[0;34m(\u001b[0m\u001b[0mfruits\u001b[0m\u001b[0;34m)\u001b[0m\u001b[0;34m\u001b[0m\u001b[0;34m\u001b[0m\u001b[0m\n\u001b[0m",
            "\u001b[0;31mNameError\u001b[0m: name 'fruits' is not defined"
          ]
        }
      ]
    },
    {
      "cell_type": "markdown",
      "source": [
        "#### **Clear the List**\n",
        "\n",
        "The **clear()** method empties the list. The list still remains, but it has no item."
      ],
      "metadata": {
        "id": "EiHCvo95Thoc"
      }
    },
    {
      "cell_type": "code",
      "source": [
        "# Clearing the list items\n",
        "fruits = [\"Banana\", \"Mango\", \"Orange\"]\n",
        "fruits.clear()\n",
        "print(fruits)"
      ],
      "metadata": {
        "colab": {
          "base_uri": "https://localhost:8080/"
        },
        "outputId": "d0ad0000-3c8a-4843-b444-8fe1ea39aaf6",
        "id": "LSFFtt43Thol"
      },
      "execution_count": null,
      "outputs": [
        {
          "output_type": "stream",
          "name": "stdout",
          "text": [
            "[]\n"
          ]
        }
      ]
    },
    {
      "cell_type": "markdown",
      "source": [
        "### **Python Lists 🪣- Sort Lists**"
      ],
      "metadata": {
        "id": "tzurWiycOM4M"
      }
    },
    {
      "cell_type": "markdown",
      "source": [
        "#### **Sort List Alphanumerically**\n",
        "\n",
        "List objects have a **sort()** method that will sort the list alphanumerically, ascending (by default)."
      ],
      "metadata": {
        "id": "lvFhAjJiWHLy"
      }
    },
    {
      "cell_type": "code",
      "source": [
        "# Sorting the list alphabetically\n",
        "fruits = [\"Banana\", \"Mango\", \"Orange\", \"Apple\", \"Cherry\",\"Strawberry\", \"Watermelon\"]\n",
        "fruits.sort()\n",
        "print(fruits)"
      ],
      "metadata": {
        "colab": {
          "base_uri": "https://localhost:8080/"
        },
        "id": "DQdMJ_iNVnfJ",
        "outputId": "6e5f2421-ec8a-421c-8461-fa59a4e0faf9"
      },
      "execution_count": null,
      "outputs": [
        {
          "output_type": "stream",
          "name": "stdout",
          "text": [
            "['Apple', 'Banana', 'Cherry', 'Mango', 'Orange', 'Strawberry', 'Watermelon']\n"
          ]
        }
      ]
    },
    {
      "cell_type": "code",
      "source": [
        "# Sorting the list numerically\n",
        "thislist = [100, 50, 2, 65, 52, 82, 23, 75]\n",
        "thislist.sort()\n",
        "print(thislist)"
      ],
      "metadata": {
        "colab": {
          "base_uri": "https://localhost:8080/"
        },
        "id": "liZmOMdRbwQQ",
        "outputId": "7f21cb83-f059-4f8d-c197-9be69465dc83"
      },
      "execution_count": null,
      "outputs": [
        {
          "output_type": "stream",
          "name": "stdout",
          "text": [
            "[2, 23, 50, 52, 65, 75, 82, 100]\n"
          ]
        }
      ]
    },
    {
      "cell_type": "markdown",
      "source": [
        "#### **Sort List Descending**\n",
        "\n",
        "To sort descending, use the keyword argument reverse = True."
      ],
      "metadata": {
        "id": "opUDa1incaBO"
      }
    },
    {
      "cell_type": "code",
      "source": [
        "# Sorting the list descending\n",
        "fruits = [\"Banana\", \"Mango\", \"Orange\", \"Apple\", \"Cherry\",\"Strawberry\", \"Watermelon\"]\n",
        "fruits.sort(reverse = True)\n",
        "print(fruits)"
      ],
      "metadata": {
        "colab": {
          "base_uri": "https://localhost:8080/"
        },
        "id": "xZW_Lj1kbwsa",
        "outputId": "3003cfdb-3995-48a2-96ed-79434c62df96"
      },
      "execution_count": null,
      "outputs": [
        {
          "output_type": "stream",
          "name": "stdout",
          "text": [
            "['Watermelon', 'Strawberry', 'Orange', 'Mango', 'Cherry', 'Banana', 'Apple']\n"
          ]
        }
      ]
    },
    {
      "cell_type": "markdown",
      "source": [
        "#### **Reverse Order**\n",
        "\n",
        "The **reverse()** method reverses the current sorting order of the elements."
      ],
      "metadata": {
        "id": "tSJb1SlVlJbt"
      }
    },
    {
      "cell_type": "code",
      "source": [
        "# Reverse the order of the list items\n",
        "fruits = [\"Banana\", \"Mango\", \"Orange\", \"Apple\", \"Cherry\",\"Strawberry\", \"Watermelon\"]\n",
        "fruits.reverse()\n",
        "print(fruits)"
      ],
      "metadata": {
        "colab": {
          "base_uri": "https://localhost:8080/"
        },
        "outputId": "4ca7f78e-e9bf-437a-b1ca-8420eec91346",
        "id": "vREIfldnlJbt"
      },
      "execution_count": null,
      "outputs": [
        {
          "output_type": "stream",
          "name": "stdout",
          "text": [
            "['Watermelon', 'Strawberry', 'Cherry', 'Apple', 'Orange', 'Mango', 'Banana']\n"
          ]
        }
      ]
    },
    {
      "cell_type": "markdown",
      "source": [
        "### **Python Lists 🪣- Copy Lists**"
      ],
      "metadata": {
        "id": "pAJml5vAONHJ"
      }
    },
    {
      "cell_type": "markdown",
      "source": [
        "#### **Copy a List**\n",
        "\n",
        "The most common one way is to use **copy()** for copying a list."
      ],
      "metadata": {
        "id": "I21mmPPNl0PL"
      }
    },
    {
      "cell_type": "code",
      "source": [
        "# Making a copy of a list\n",
        "fruits = [\"Banana\", \"Mango\", \"Orange\", \"Apple\", \"Cherry\",\"Strawberry\", \"Watermelon\"]\n",
        "new_fruits= fruits.copy()\n",
        "print(new_fruits)"
      ],
      "metadata": {
        "colab": {
          "base_uri": "https://localhost:8080/"
        },
        "outputId": "69b87af4-90dc-4293-e818-00d4decd7cf7",
        "id": "DZgB_COSl0PL"
      },
      "execution_count": null,
      "outputs": [
        {
          "output_type": "stream",
          "name": "stdout",
          "text": [
            "['Banana', 'Mango', 'Orange', 'Apple', 'Cherry', 'Strawberry', 'Watermelon']\n"
          ]
        }
      ]
    },
    {
      "cell_type": "markdown",
      "source": [
        "Another way to make a copy is to use the built-in method **list()**."
      ],
      "metadata": {
        "id": "FUTbG1vmnAUW"
      }
    },
    {
      "cell_type": "code",
      "source": [
        "# Making a copy of a list with list() method\n",
        "fruits = [\"Banana\", \"Mango\", \"Orange\", \"Apple\", \"Cherry\",\"Strawberry\", \"Watermelon\"]\n",
        "new_fruits= list(fruits)\n",
        "print(new_fruits)"
      ],
      "metadata": {
        "colab": {
          "base_uri": "https://localhost:8080/"
        },
        "id": "yfj8y06Hlzs1",
        "outputId": "158def3b-7a51-42ed-be70-ddce0979292d"
      },
      "execution_count": null,
      "outputs": [
        {
          "output_type": "stream",
          "name": "stdout",
          "text": [
            "['Banana', 'Mango', 'Orange', 'Apple', 'Cherry', 'Strawberry', 'Watermelon']\n"
          ]
        }
      ]
    },
    {
      "cell_type": "markdown",
      "source": [
        "### **Python Lists 🪣- Join Lists**"
      ],
      "metadata": {
        "id": "Wuu-y09wONTD"
      }
    },
    {
      "cell_type": "markdown",
      "source": [
        "#### **Join Two Lists**\n",
        "\n",
        "Joining or concatenating has two or more lists in Python. The easiest way is by using the + operator."
      ],
      "metadata": {
        "id": "DOuLfBXdp9eA"
      }
    },
    {
      "cell_type": "code",
      "source": [
        "# Making a copy of a list\n",
        "fruits_list1 = [\"Banana\", \"Mango\", \"Orange\"]\n",
        "fruits_list2 = [\"Apple\", \"Cherry\",\"Strawberry\", \"Watermelon\"]\n",
        "joined_list = fruits_list1 + fruits_list2\n",
        "print(joined_list)"
      ],
      "metadata": {
        "colab": {
          "base_uri": "https://localhost:8080/"
        },
        "outputId": "2cc5d499-5ad2-4cd8-a89f-e238e2fe4681",
        "id": "01LAeF_Vp9eI"
      },
      "execution_count": null,
      "outputs": [
        {
          "output_type": "stream",
          "name": "stdout",
          "text": [
            "['Banana', 'Mango', 'Orange', 'Apple', 'Cherry', 'Strawberry', 'Watermelon']\n"
          ]
        }
      ]
    },
    {
      "cell_type": "markdown",
      "source": [
        "Another way is to by using **extend()** to add elements from one list to another list."
      ],
      "metadata": {
        "id": "Vmok3Dqrr8Fd"
      }
    },
    {
      "cell_type": "code",
      "source": [
        "# Using extend() method to add fruits_list2 at the end of fruits_list1\n",
        "fruits_list1 = [\"Banana\", \"Mango\", \"Orange\"]\n",
        "fruits_list2 = [\"Apple\", \"Cherry\",\"Strawberry\", \"Watermelon\"]\n",
        "fruits_list1.extend(fruits_list2)\n",
        "print(fruits_list1)"
      ],
      "metadata": {
        "colab": {
          "base_uri": "https://localhost:8080/"
        },
        "id": "UJYrP6GosSZU",
        "outputId": "592f1b9a-9ece-4562-e6ab-9d8584400929"
      },
      "execution_count": null,
      "outputs": [
        {
          "output_type": "stream",
          "name": "stdout",
          "text": [
            "['Banana', 'Mango', 'Orange', 'Apple', 'Cherry', 'Strawberry', 'Watermelon']\n"
          ]
        }
      ]
    },
    {
      "cell_type": "markdown",
      "source": [
        "### **Python Lists 🪣- List Methods**"
      ],
      "metadata": {
        "id": "M25kKB8SOl9O"
      }
    },
    {
      "cell_type": "markdown",
      "source": [
        "Python has a set of built-in methods that can used on Lists.\n",
        "\n",
        "\n",
        "\n",
        "\n",
        "\n",
        "\n"
      ],
      "metadata": {
        "id": "vAyLFCYEs-zS"
      }
    },
    {
      "cell_type": "markdown",
      "source": [
        "| Method    | Description                                                |\n",
        "|-----------|------------------------------------------------------------|\n",
        "| append()  | Adds an element at the end of the list                     |\n",
        "| clear()   | Removes all the elements from the list                     |\n",
        "| copy()\t  | Returns a copy of the list                                 |\n",
        "| count()\t  | Returns the number of elements with the specified value    |\n",
        "| extend()\t| Add the elements of a list (or any iterable), to the end of the current list                                                             |\n",
        "| index()\t  | Returns the index of the first element with the specified value |\n",
        "| insert()  | Adds an element at the specified position                  |\n",
        "| pop()\t    | Removes the element at the specified position              |\n",
        "| remove()\t| Removes the item with the specified value                  |\n",
        "| reverse()\t| Reverses the order of the list                             |\n",
        "| sort()    | Sorts the list                                             |"
      ],
      "metadata": {
        "id": "ri606Zwzwwo9"
      }
    },
    {
      "cell_type": "markdown",
      "source": [
        "### **Python Lists 🪣- Exercises**"
      ],
      "metadata": {
        "id": "ewcKPk08OmKx"
      }
    },
    {
      "cell_type": "markdown",
      "source": [
        "#### **Exercise 1**"
      ],
      "metadata": {
        "id": "Ygl4eFdz0HG1"
      }
    },
    {
      "cell_type": "code",
      "source": [
        "# Printing the 2nd item in the fruits list\n",
        "fruits = [\"Apple\", \"Banana\", \"Cherry\"]\n",
        "print(fruits[1])"
      ],
      "metadata": {
        "colab": {
          "base_uri": "https://localhost:8080/"
        },
        "id": "MTe_qMjGwlTH",
        "outputId": "4bbe52bf-5ac8-4158-edb7-3336f6a96580"
      },
      "execution_count": null,
      "outputs": [
        {
          "output_type": "stream",
          "name": "stdout",
          "text": [
            "Banana\n"
          ]
        }
      ]
    },
    {
      "cell_type": "markdown",
      "source": [
        "#### **Exercise 2**"
      ],
      "metadata": {
        "id": "lKxUf6EO0z1-"
      }
    },
    {
      "cell_type": "code",
      "source": [
        "# Changing the value from \"Apple\" to \"Kiwi\"\n",
        "fruits = [\"Apple\", \"Banana\", \"Cherry\"]\n",
        "fruits[0] = \"Kiwi\"\n",
        "print(fruits)"
      ],
      "metadata": {
        "colab": {
          "base_uri": "https://localhost:8080/"
        },
        "outputId": "e1c4f2ba-4712-48c9-99db-a85eb82401a6",
        "id": "1jOpO9q90z2F"
      },
      "execution_count": null,
      "outputs": [
        {
          "output_type": "stream",
          "name": "stdout",
          "text": [
            "['Kiwi', 'Banana', 'Cherry']\n"
          ]
        }
      ]
    },
    {
      "cell_type": "markdown",
      "source": [
        "#### **Exercise 3**"
      ],
      "metadata": {
        "id": "g1mp1ITz00h7"
      }
    },
    {
      "cell_type": "code",
      "source": [
        "# Using append() to add \"orange\" in the list\n",
        "fruits = [\"Apple\", \"Banana\", \"Cherry\"]\n",
        "fruits.append(\"Orange\")\n",
        "print(fruits)"
      ],
      "metadata": {
        "colab": {
          "base_uri": "https://localhost:8080/"
        },
        "outputId": "5e144e35-1ad2-4a66-b6d6-169e510dfe9c",
        "id": "r9wgFG3F00h8"
      },
      "execution_count": null,
      "outputs": [
        {
          "output_type": "stream",
          "name": "stdout",
          "text": [
            "['Apple', 'Banana', 'Cherry', 'Orange']\n"
          ]
        }
      ]
    },
    {
      "cell_type": "markdown",
      "source": [
        "#### **Exercise 4**"
      ],
      "metadata": {
        "id": "Soa7lHBg01BO"
      }
    },
    {
      "cell_type": "code",
      "source": [
        "# Using insert() to add \"lemon\" as the 2nd item\n",
        "fruits = [\"Apple\", \"Banana\", \"Cherry\"]\n",
        "fruits.insert(1, \"Lemon\")\n",
        "print(fruits)"
      ],
      "metadata": {
        "colab": {
          "base_uri": "https://localhost:8080/"
        },
        "outputId": "97aaa660-c468-4e18-9116-1c1622fc2f49",
        "id": "hE7Uo6X501BO"
      },
      "execution_count": null,
      "outputs": [
        {
          "output_type": "stream",
          "name": "stdout",
          "text": [
            "['Apple', 'Lemon', 'Banana', 'Cherry']\n"
          ]
        }
      ]
    },
    {
      "cell_type": "markdown",
      "source": [
        "#### **Exercise 5**"
      ],
      "metadata": {
        "id": "F2KEnzC101nq"
      }
    },
    {
      "cell_type": "code",
      "source": [
        "# Using remove() to discard \"banana\" from the list\n",
        "fruits = [\"Apple\", \"Banana\", \"Cherry\"]\n",
        "fruits.remove(\"Banana\")\n",
        "print(fruits)"
      ],
      "metadata": {
        "colab": {
          "base_uri": "https://localhost:8080/"
        },
        "outputId": "28a695d1-3f42-4581-d519-6e2ea13ba375",
        "id": "ZokSWR2t01nq"
      },
      "execution_count": null,
      "outputs": [
        {
          "output_type": "stream",
          "name": "stdout",
          "text": [
            "['Apple', 'Cherry']\n"
          ]
        }
      ]
    },
    {
      "cell_type": "markdown",
      "source": [
        "#### **Exercise 6**"
      ],
      "metadata": {
        "id": "iGxcOyLU02AE"
      }
    },
    {
      "cell_type": "code",
      "source": [
        "# Using negative indexing to print the last item\n",
        "fruits = [\"Apple\", \"Banana\", \"Cherry\"]\n",
        "print(fruits[-1])"
      ],
      "metadata": {
        "colab": {
          "base_uri": "https://localhost:8080/"
        },
        "outputId": "b22b66c9-ce9c-40b6-93ef-15f9644abcbe",
        "id": "MeVX-Wil02AE"
      },
      "execution_count": null,
      "outputs": [
        {
          "output_type": "stream",
          "name": "stdout",
          "text": [
            "Cherry\n"
          ]
        }
      ]
    },
    {
      "cell_type": "markdown",
      "source": [
        "#### **Exercise 7**\n",
        "\n"
      ],
      "metadata": {
        "id": "_7Lc15hp020j"
      }
    },
    {
      "cell_type": "code",
      "source": [
        "# Using a range of indexes to print the 3rd, 4th, and 5th item in the list\n",
        "fruits = [\"Apple\", \"Banana\", \"Cherry\", \"Orange\", \"Kiwi\", \"Melon\", \"Mango\"]\n",
        "print(fruits[2:5])"
      ],
      "metadata": {
        "colab": {
          "base_uri": "https://localhost:8080/"
        },
        "outputId": "31bd469b-6116-41dc-ae4c-8592f664e0dc",
        "id": "XaAw7WUm020j"
      },
      "execution_count": null,
      "outputs": [
        {
          "output_type": "stream",
          "name": "stdout",
          "text": [
            "['Cherry', 'Orange', 'Kiwi']\n"
          ]
        }
      ]
    },
    {
      "cell_type": "markdown",
      "source": [
        "#### **Exercise 8**"
      ],
      "metadata": {
        "id": "FH7STN6b03aO"
      }
    },
    {
      "cell_type": "code",
      "source": [
        "# Using the correct syntax to print the number of items in the list\n",
        "fruits = [\"Apple\", \"Banana\", \"Cherry\", \"Orange\", \"Kiwi\", \"Melon\", \"Mango\"]\n",
        "print(len(fruits))"
      ],
      "metadata": {
        "colab": {
          "base_uri": "https://localhost:8080/"
        },
        "outputId": "753f467d-3b7a-4ae7-c581-df553425d3c2",
        "id": "nwLCFZJT03aO"
      },
      "execution_count": null,
      "outputs": [
        {
          "output_type": "stream",
          "name": "stdout",
          "text": [
            "7\n"
          ]
        }
      ]
    }
  ]
}