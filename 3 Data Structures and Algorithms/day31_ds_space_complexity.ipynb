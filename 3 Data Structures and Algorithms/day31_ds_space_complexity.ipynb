{
  "nbformat": 4,
  "nbformat_minor": 0,
  "metadata": {
    "colab": {
      "provenance": [],
      "collapsed_sections": [
        "CUA_BDbIPB6W"
      ]
    },
    "kernelspec": {
      "name": "python3",
      "display_name": "Python 3"
    },
    "language_info": {
      "name": "python"
    }
  },
  "cells": [
    {
      "cell_type": "markdown",
      "source": [
        "## Day 31 of 100DaysOfCode 🐍\n",
        "### Space Complexity, Big O Analysis"
      ],
      "metadata": {
        "id": "2Tu150GDft69"
      }
    },
    {
      "cell_type": "markdown",
      "source": [
        "### **Space Complexity 📁📈**\n",
        "\n",
        "Space complexity is the amount of memory an algorithm needs to solve a problem. It tells us how much extra memory the algorithm requires as the data gets bigger."
      ],
      "metadata": {
        "id": "g1x8hp0fiYxu"
      }
    },
    {
      "cell_type": "markdown",
      "source": [
        "#### In this example, the time complexity is **O(n)** - \"linear time.\" As the array size (n) increases, the function's time taken grows linearly with it. So, the algorithm's performance scales directly with the input size."
      ],
      "metadata": {
        "id": "SW9xK1td5wx6"
      }
    },
    {
      "cell_type": "code",
      "source": [
        "n = int(input(\"Whats's n? \"))\n",
        "result = 0\n",
        "\n",
        "for i in range(1, n+1):\n",
        "  result += 1\n",
        "\n",
        "print(result)"
      ],
      "metadata": {
        "id": "Lrat9a-8esNl",
        "colab": {
          "base_uri": "https://localhost:8080/"
        },
        "outputId": "23e2afaa-f20a-4065-b30b-04e4ba3f0dee"
      },
      "execution_count": null,
      "outputs": [
        {
          "output_type": "stream",
          "name": "stdout",
          "text": [
            "Whats's n? 10\n",
            "10\n"
          ]
        }
      ]
    },
    {
      "cell_type": "markdown",
      "source": [
        "#### **Big O Analysis ⏳🔍**"
      ],
      "metadata": {
        "id": "lXhxuwVpPkiS"
      }
    },
    {
      "cell_type": "markdown",
      "source": [
        "#### Here, the *space complexity* (Big O notation) of this code is **O(1)**.\n",
        "\n",
        "> Explanation: It uses a constant amount of memory (space) to perform the check and print the result, regardless of the input size 'n'. It doesn't allocate additional memory based on the size of 'n', making its space complexity constant.\n"
      ],
      "metadata": {
        "id": "CUA_BDbIPB6W"
      }
    },
    {
      "cell_type": "code",
      "source": [
        "n = int(input(\"Whats's n? \"))\n",
        "\n",
        "if n % 2 == 0:\n",
        "  print(f\"{n} is an even number.\")\n",
        "else:\n",
        "  print(f\"{n} is an odd number.\")"
      ],
      "metadata": {
        "colab": {
          "base_uri": "https://localhost:8080/"
        },
        "id": "BGJkZEsILYrx",
        "outputId": "95f77a13-9bdb-41da-a728-4a5dc84626d7"
      },
      "execution_count": null,
      "outputs": [
        {
          "output_type": "stream",
          "name": "stdout",
          "text": [
            "Whats's n? 11\n",
            "11 is an odd number.\n"
          ]
        }
      ]
    },
    {
      "cell_type": "markdown",
      "source": [
        "#### Here, the *complexity* (Big O notation) of this code is **O(n)**\n",
        "\n",
        "> Because it uses 1 (one) nested loop, and run on time only."
      ],
      "metadata": {
        "id": "Yx1bcs5oUrJf"
      }
    },
    {
      "cell_type": "code",
      "source": [
        "n = int(input(\"Whats's n? \"))\n",
        "count = 0\n",
        "\n",
        "for i in range(n):\n",
        "  count += 1\n",
        "\n",
        "print(f\"n = {n}; count = {count}\")"
      ],
      "metadata": {
        "colab": {
          "base_uri": "https://localhost:8080/"
        },
        "id": "8jHVwDhykq1R",
        "outputId": "655b4a36-80ee-498f-e9d4-bec7079f841b"
      },
      "execution_count": null,
      "outputs": [
        {
          "output_type": "stream",
          "name": "stdout",
          "text": [
            "Whats's n? 5\n",
            "n = 5; count = 5\n"
          ]
        }
      ]
    },
    {
      "cell_type": "markdown",
      "source": [
        "#### Here, the *complexity* (Big O notation) of this code is **O(n^2)**.\n",
        "\n",
        "> Explanation: The outer loop runs n times, and for each iteration of the outer loop, the inner loop also runs n times. Since both loops are directly dependent on the value of n, the total number of iterations will be  `n * n`, which is equivalent to `n^2`."
      ],
      "metadata": {
        "id": "5PbZTB7VnGuG"
      }
    },
    {
      "cell_type": "code",
      "source": [
        "n = int(input(\"Whats's n? \"))\n",
        "count = 0\n",
        "\n",
        "for i in range(n):\n",
        "  for j in range(n):\n",
        "    count += 1\n",
        "\n",
        "print(f\"n = {n}; count = {count}\")"
      ],
      "metadata": {
        "colab": {
          "base_uri": "https://localhost:8080/"
        },
        "outputId": "1d44fddd-4152-4780-cf63-f9c194bb15c8",
        "id": "4U0Nx3Kylsbv"
      },
      "execution_count": null,
      "outputs": [
        {
          "output_type": "stream",
          "name": "stdout",
          "text": [
            "Whats's n? 5\n",
            "n = 5; count = 25\n"
          ]
        }
      ]
    },
    {
      "cell_type": "markdown",
      "source": [
        "#### Here, the *complexity* (Big O notation) of this code is **O(n^3)**.\n",
        "\n",
        "> Because it uses 3 (three) nested loops, and the number of iterations is proportional to the cube of the input value `n`. As `n` increases, the execution time grows cubically."
      ],
      "metadata": {
        "id": "oRcz01VPnSvT"
      }
    },
    {
      "cell_type": "code",
      "source": [
        "n = int(input(\"Whats's n? \"))\n",
        "count = 0\n",
        "\n",
        "for i in range(n):\n",
        "  for j in range(n):\n",
        "    for k in range(n):\n",
        "      count += 1\n",
        "\n",
        "print(f\"n = {n}; count = {count}\")"
      ],
      "metadata": {
        "colab": {
          "base_uri": "https://localhost:8080/"
        },
        "id": "42eFDvT8nTXl",
        "outputId": "90f11c3a-943f-4a2c-fd6a-dcf25a03bf65"
      },
      "execution_count": null,
      "outputs": [
        {
          "output_type": "stream",
          "name": "stdout",
          "text": [
            "Whats's n? 5\n",
            "n = 5; count = 125\n"
          ]
        }
      ]
    },
    {
      "cell_type": "markdown",
      "source": [
        "#### **Space Complexity - Exercise**"
      ],
      "metadata": {
        "id": "Ahw7DCz0nwXu"
      }
    },
    {
      "cell_type": "markdown",
      "source": [
        "#### Here, the *space complexity* (Big O notation) of this code is **O(n^3)**.\n",
        "\n",
        "> Because it arises from 3 (three) nested loops, and the space complexity is due to the variable 'count' that grows with the cube of 'n' since it's incremented in the outer and two inner loops."
      ],
      "metadata": {
        "id": "YJvxp5Fjn7EO"
      }
    },
    {
      "cell_type": "code",
      "source": [
        "n = int(input(\"Whats's n? \"))\n",
        "count = 0\n",
        "\n",
        "for i in range(n):\n",
        "  count += 1\n",
        "\n",
        "  for i in range(n):\n",
        "    for j in range(n):\n",
        "      count += 1\n",
        "\n",
        "print(f\"n = {n}; count = {count}\")"
      ],
      "metadata": {
        "colab": {
          "base_uri": "https://localhost:8080/"
        },
        "id": "PfFuQZUyn7xp",
        "outputId": "8a73f5ab-3c97-4b4e-839d-a0a47adfb572"
      },
      "execution_count": null,
      "outputs": [
        {
          "output_type": "stream",
          "name": "stdout",
          "text": [
            "Whats's n? 5\n",
            "n = 5; count = 130\n"
          ]
        }
      ]
    },
    {
      "cell_type": "markdown",
      "source": [
        "![big o notation.png](data:image/png;base64,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)"
      ],
      "metadata": {
        "id": "3MTYL7GfWJuC"
      }
    }
  ]
}