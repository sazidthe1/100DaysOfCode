{
  "nbformat": 4,
  "nbformat_minor": 0,
  "metadata": {
    "colab": {
      "provenance": [],
      "collapsed_sections": [
        "IlZv2foIXQQI",
        "_udglxk7eu0C",
        "3vQwXJGogY_F",
        "r5FvTjaxjRCP",
        "aiLMbKBijbfI"
      ]
    },
    "kernelspec": {
      "name": "python3",
      "display_name": "Python 3"
    },
    "language_info": {
      "name": "python"
    }
  },
  "cells": [
    {
      "cell_type": "markdown",
      "source": [
        "## Day 10 of 100DaysOfCode 🐍\n",
        "### **Problem Set 0** ❗"
      ],
      "metadata": {
        "id": "dArul0zwXtHc"
      }
    },
    {
      "cell_type": "markdown",
      "source": [
        "#### Indoor Voice"
      ],
      "metadata": {
        "id": "IlZv2foIXQQI"
      }
    },
    {
      "cell_type": "code",
      "execution_count": null,
      "metadata": {
        "colab": {
          "base_uri": "https://localhost:8080/"
        },
        "id": "wICIK_9gW9tw",
        "outputId": "e130ae05-1d89-4abd-a3d8-06bf4f44f05c"
      },
      "outputs": [
        {
          "output_type": "stream",
          "name": "stdout",
          "text": [
            "Enter your text: WRITING IN ALL CAPS IS LIKE YELLING.\n",
            "writing in all caps is like yelling.\n"
          ]
        }
      ],
      "source": [
        "# Taking the user input\n",
        "user_input = input(\"Enter your text: \")\n",
        "\n",
        "# Coverting the input in lowercase\n",
        "lowercase_input = user_input.lower()\n",
        "\n",
        "# Printing out the result\n",
        "print(lowercase_input)"
      ]
    },
    {
      "cell_type": "markdown",
      "source": [
        "#### Playback Speed"
      ],
      "metadata": {
        "id": "_udglxk7eu0C"
      }
    },
    {
      "cell_type": "code",
      "source": [
        "# Taking the user input\n",
        "user_input = input(\"Enter your text: \")\n",
        "\n",
        "# Replacing each space with ... from the input\n",
        "playbackspeed_input = user_input.replace(\" \", \"...\")\n",
        "\n",
        "# Printing out the result\n",
        "print(playbackspeed_input)"
      ],
      "metadata": {
        "colab": {
          "base_uri": "https://localhost:8080/"
        },
        "id": "Vx1JzOU1Yv6a",
        "outputId": "8624f9bd-d751-4b63-bcb0-3d841658fa3f"
      },
      "execution_count": null,
      "outputs": [
        {
          "output_type": "stream",
          "name": "stdout",
          "text": [
            "Enter your text: I love my country!\n",
            "I...love...my...country!\n"
          ]
        }
      ]
    },
    {
      "cell_type": "markdown",
      "source": [
        "#### Making Faces"
      ],
      "metadata": {
        "id": "3vQwXJGogY_F"
      }
    },
    {
      "cell_type": "code",
      "source": [
        "# Implementing a function called convert\n",
        "def convert(text):\n",
        "    text = text.replace(\":)\", \"🙂\")     # Replacing :) with 🙂 and :( with 🙁\n",
        "    text = text.replace(\":(\", \"🙁\")\n",
        "    text = text.replace(\":p\", \"😉\")\n",
        "    return text\n",
        "\n",
        "# Implementing a function called main\n",
        "def main():\n",
        "    user_input = input(\"Enter your text: \")     # Taking the user input\n",
        "\n",
        "    # Calling the convert function\n",
        "    converted_text = convert(user_input)\n",
        "\n",
        "    # Printing the converted result\n",
        "    print(\"Converted text:\", converted_text)\n",
        "\n",
        "# Calling the main function\n",
        "main()"
      ],
      "metadata": {
        "id": "Syl6T2dIZLwI",
        "colab": {
          "base_uri": "https://localhost:8080/"
        },
        "outputId": "5acb7fd5-3f54-4e0e-ec2e-91d5e1ef9b42"
      },
      "execution_count": null,
      "outputs": [
        {
          "output_type": "stream",
          "name": "stdout",
          "text": [
            "Enter your text: Hello :)\n",
            "Converted text: Hello 🙂\n"
          ]
        }
      ]
    },
    {
      "cell_type": "markdown",
      "source": [
        "#### Einstein"
      ],
      "metadata": {
        "id": "r5FvTjaxjRCP"
      }
    },
    {
      "cell_type": "code",
      "source": [
        "# Taking the user input\n",
        "mass = int(input(\"Enter the mass in kilograms: \"))\n",
        "speed_of_light = 300000000      # Constants\n",
        "\n",
        "# Calacuting the energy (E = mc2)\n",
        "energy = mass * speed_of_light ** 2\n",
        "\n",
        "# Printing the equivalent number of Joules\n",
        "print(energy)"
      ],
      "metadata": {
        "colab": {
          "base_uri": "https://localhost:8080/"
        },
        "id": "xWeHsbWyja8I",
        "outputId": "d0a02ce2-33d5-423d-c05a-286162423f18"
      },
      "execution_count": null,
      "outputs": [
        {
          "output_type": "stream",
          "name": "stdout",
          "text": [
            "Enter the mass in kilograms: 50\n",
            "4500000000000000000\n"
          ]
        }
      ]
    },
    {
      "cell_type": "markdown",
      "source": [
        "#### Tip Calculator"
      ],
      "metadata": {
        "id": "aiLMbKBijbfI"
      }
    },
    {
      "cell_type": "code",
      "source": [
        "def main():\n",
        "    dollars = dollars_to_float(input(\"How much was the meal? \"))\n",
        "    percent = percent_to_float(input(\"What percentage would you like to tip? \"))\n",
        "    tip = dollars * percent\n",
        "    print(f\"Leave ${tip:.2f}\")\n",
        "\n",
        "# Removing the leading $\n",
        "def dollars_to_float(d):\n",
        "    amount = d[1:]\n",
        "    return float(amount)\n",
        "\n",
        "# Removing the trailing %\n",
        "def percent_to_float(p):\n",
        "    percentage = p[:-1]\n",
        "    return float(percentage) / 100\n",
        "\n",
        "\n",
        "# Calling the main function\n",
        "main()"
      ],
      "metadata": {
        "colab": {
          "base_uri": "https://localhost:8080/"
        },
        "id": "4KBhEJBVjajJ",
        "outputId": "c2874877-93df-4b16-dc6f-6b1a0e919aac"
      },
      "execution_count": null,
      "outputs": [
        {
          "output_type": "stream",
          "name": "stdout",
          "text": [
            "How much was the meal? $50.00\n",
            "What percentage would you like to tip? 15%\n",
            "Leave $7.50\n"
          ]
        }
      ]
    }
  ]
}