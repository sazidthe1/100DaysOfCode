{
  "nbformat": 4,
  "nbformat_minor": 0,
  "metadata": {
    "colab": {
      "provenance": []
    },
    "kernelspec": {
      "name": "python3",
      "display_name": "Python 3"
    },
    "language_info": {
      "name": "python"
    }
  },
  "cells": [
    {
      "cell_type": "markdown",
      "source": [
        "## Day 13 of 100DaysOfCode 🐍\n",
        "### **Problem Set 2** ❗"
      ],
      "metadata": {
        "id": "dArul0zwXtHc"
      }
    },
    {
      "cell_type": "markdown",
      "source": [
        "#### Coke Machine"
      ],
      "metadata": {
        "id": "u7w7DGaZ5DBA"
      }
    },
    {
      "cell_type": "code",
      "source": [
        "# Variable to keep track\n",
        "amount_due = 50\n",
        "\n",
        "# Loop until amount_due is greater than 0\n",
        "while amount_due > 0:\n",
        "    # Print the amount due\n",
        "    print(\"Amount Due:\", amount_due)\n",
        "\n",
        "    # Ask user to insert coin\n",
        "    coin = int(input(\"Insert Coin: \"))\n",
        "\n",
        "    # Check if coin is 25, 10, or 5 cents\n",
        "    if coin in [25, 10, 5]:\n",
        "        # Subtract value from amount_due\n",
        "        amount_due -= coin\n",
        "    else:\n",
        "        print(f\"Machine doesn’t accept {coin}-cent coins. Please try again!\")\n",
        "\n",
        "# Calculate change_owed\n",
        "change_owed = abs(amount_due)\n",
        "\n",
        "# Print the result\n",
        "print(\"Change Owed:\", change_owed)"
      ],
      "metadata": {
        "colab": {
          "base_uri": "https://localhost:8080/"
        },
        "id": "6DukQf-ZK8Jw",
        "outputId": "ae146e18-635f-48e9-8046-a6ea129afedc"
      },
      "execution_count": null,
      "outputs": [
        {
          "output_type": "stream",
          "name": "stdout",
          "text": [
            "Amount Due: 50\n",
            "Insert Coin: 25\n",
            "Amount Due: 25\n",
            "Insert Coin: 10\n",
            "Amount Due: 15\n",
            "Insert Coin: 5\n",
            "Amount Due: 10\n",
            "Insert Coin: 30\n",
            "Machine doesn’t accept 30-cent coins. Please try again!\n",
            "Amount Due: 10\n",
            "Insert Coin: 25\n",
            "Change Owed: 15\n"
          ]
        }
      ]
    },
    {
      "cell_type": "markdown",
      "source": [
        "#### Just setting up my twttr"
      ],
      "metadata": {
        "id": "7kDwTnlH5DUW"
      }
    },
    {
      "cell_type": "code",
      "execution_count": null,
      "metadata": {
        "id": "1ZRnStIH5DUX",
        "colab": {
          "base_uri": "https://localhost:8080/"
        },
        "outputId": "c68129e7-671e-4ec8-c0d7-707146f8d846"
      },
      "outputs": [
        {
          "output_type": "stream",
          "name": "stdout",
          "text": [
            "Input: What's your name?\n",
            "Output:  Wht's yr nm?\n"
          ]
        }
      ],
      "source": [
        "# Taking the user's input\n",
        "user_input = input(\"Input: \")\n",
        "\n",
        "# Defining the vowels & without_vowels variables\n",
        "vowels = \"aeiouAEIOU\"\n",
        "without_vowels = \"\"\n",
        "\n",
        "# Omitting the vowels from the input\n",
        "for char in user_input:\n",
        "  if char not in vowels:\n",
        "    without_vowels += char\n",
        "\n",
        "# Printing the result\n",
        "print(\"Output: \", without_vowels)"
      ]
    }
  ]
}