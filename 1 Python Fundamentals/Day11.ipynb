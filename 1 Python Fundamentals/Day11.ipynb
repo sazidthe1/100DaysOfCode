{
  "nbformat": 4,
  "nbformat_minor": 0,
  "metadata": {
    "colab": {
      "provenance": []
    },
    "kernelspec": {
      "name": "python3",
      "display_name": "Python 3"
    },
    "language_info": {
      "name": "python"
    }
  },
  "cells": [
    {
      "cell_type": "markdown",
      "source": [
        "## Day 11 of 100DaysOfCode 🐍\n",
        "### **Problem Set 1** ❗"
      ],
      "metadata": {
        "id": "dArul0zwXtHc"
      }
    },
    {
      "cell_type": "markdown",
      "source": [
        "#### Deep Thought"
      ],
      "metadata": {
        "id": "IlZv2foIXQQI"
      }
    },
    {
      "cell_type": "code",
      "execution_count": null,
      "metadata": {
        "colab": {
          "base_uri": "https://localhost:8080/"
        },
        "id": "wICIK_9gW9tw",
        "outputId": "96992287-282d-42ac-8d61-d43d8564080a"
      },
      "outputs": [
        {
          "output_type": "stream",
          "name": "stdout",
          "text": [
            "What is the Answer to the Great Question of Life, the Universe, and Everything? 50\n",
            "No\n"
          ]
        }
      ],
      "source": [
        "# Defining the function and taking the user input\n",
        "def deep_thought():\n",
        "  user_input = input(\"What is the Answer to the Great Question of Life, the Universe, and Everything? \")\n",
        "\n",
        "  # Checking the conditional statements\n",
        "  if user_input.lower() == \"42\" or user_input.lower()  == \"forty-two\" or user_input.lower() == \"forty two\":\n",
        "    print(\"Yes\")\n",
        "  else:\n",
        "    print(\"No\")\n",
        "\n",
        "# Calling the function\n",
        "deep_thought()"
      ]
    },
    {
      "cell_type": "markdown",
      "source": [
        "#### Home Federal Savings Bank"
      ],
      "metadata": {
        "id": "cy6hmq2k_kjV"
      }
    },
    {
      "cell_type": "code",
      "source": [
        "# Defining the function and taking the user input\n",
        "def bank():\n",
        "  user_input = input(\"Greetings: \")\n",
        "  user_input = user_input.lstrip()\n",
        "\n",
        "  # Checking the conditional statements\n",
        "  if user_input.lower().startswith(\"hello\"):\n",
        "    print(\"$0\")\n",
        "  elif user_input.lower().startswith(\"h\"):\n",
        "    print(\"$20\")\n",
        "  else:\n",
        "    print(\"$100\")\n",
        "\n",
        "# Calling the function\n",
        "bank()"
      ],
      "metadata": {
        "id": "fBpI0zZN_u6S",
        "colab": {
          "base_uri": "https://localhost:8080/"
        },
        "outputId": "5c208838-4d3c-4c9c-87d7-3cc211a72426"
      },
      "execution_count": null,
      "outputs": [
        {
          "output_type": "stream",
          "name": "stdout",
          "text": [
            "Greetings: How's it going?\n",
            "$20\n"
          ]
        }
      ]
    },
    {
      "cell_type": "markdown",
      "source": [
        "#### File Extensions"
      ],
      "metadata": {
        "id": "7KR2O-KU_oVf"
      }
    },
    {
      "cell_type": "code",
      "source": [
        "# Defining the function and taking the user input\n",
        "def extensions():\n",
        "    file_name = input(\"Enter the name of the file: \")\n",
        "    media_type = get_media_type(file_name)\n",
        "    print(media_type)\n",
        "\n",
        "# Defining the function for media type\n",
        "def get_media_type(file_name):\n",
        "    suffixes = ['.gif', '.jpg', '.jpeg', '.png', '.pdf', '.txt', '.zip']\n",
        "    lower_file_name = file_name.lower().strip()  # Strip spaces before and after\n",
        "\n",
        "    for suffix in suffixes:\n",
        "        if lower_file_name.endswith(suffix):\n",
        "            if suffix == '.gif':\n",
        "                return \"image/gif\"\n",
        "            elif suffix == '.jpg' or suffix == '.jpeg':\n",
        "                return \"image/jpeg\"\n",
        "            elif suffix == '.png':\n",
        "                return \"image/png\"\n",
        "            elif suffix == '.pdf':\n",
        "                return \"application/pdf\"\n",
        "            elif suffix == '.txt':\n",
        "                return \"text/plain\"\n",
        "            elif suffix == '.zip':\n",
        "                return \"application/zip\"\n",
        "\n",
        "    return \"application/octet-stream\"\n",
        "\n",
        "# Calling the function\n",
        "extensions()"
      ],
      "metadata": {
        "id": "2wMr1v4r_5SR",
        "colab": {
          "base_uri": "https://localhost:8080/"
        },
        "outputId": "7d80ff44-40da-4beb-f0fc-ce35bb6fc6c5"
      },
      "execution_count": null,
      "outputs": [
        {
          "output_type": "stream",
          "name": "stdout",
          "text": [
            "Enter the name of the file: document.pdf\n",
            "application/pdf\n"
          ]
        }
      ]
    },
    {
      "cell_type": "markdown",
      "source": [
        "#### Math Interpreter"
      ],
      "metadata": {
        "id": "dTmlKyim_zei"
      }
    },
    {
      "cell_type": "code",
      "execution_count": null,
      "metadata": {
        "id": "PeVtYlxW7n3o",
        "colab": {
          "base_uri": "https://localhost:8080/"
        },
        "outputId": "97a04fdd-d488-4985-9d23-a3ec214f9297"
      },
      "outputs": [
        {
          "output_type": "stream",
          "name": "stdout",
          "text": [
            "Expression: 50 / 5\n",
            "10.0\n"
          ]
        }
      ],
      "source": [
        "# Defining the function and taking the user input\n",
        "def interpreter():\n",
        "    user_input = input(\"Expression: \")\n",
        "    x, operator, z = user_input.split()\n",
        "\n",
        "    x = float(x)\n",
        "    z = float(z)\n",
        "    result = 0.0\n",
        "\n",
        "    if operator == \"+\":\n",
        "        result = x + z\n",
        "    elif operator == \"-\":\n",
        "        result = x - z\n",
        "    elif operator == \"*\":\n",
        "        result = x * z\n",
        "    elif operator == \"/\":\n",
        "        result = x / z\n",
        "\n",
        "    print(f\"{result:.1f}\")\n",
        "\n",
        "# Calling the function\n",
        "interpreter()"
      ]
    },
    {
      "cell_type": "markdown",
      "source": [
        "#### Meal Time"
      ],
      "metadata": {
        "id": "J2jRKvo7_8eG"
      }
    },
    {
      "cell_type": "code",
      "source": [
        "# Defining the function and taking the user input\n",
        "def main():\n",
        "    time = input(\"What time is it? \")\n",
        "    hours = convert(time)\n",
        "\n",
        "    if 7.0 <= hours <= 8.0:\n",
        "        print(\"breakfast time\")\n",
        "    elif 12.0 <= hours <= 13.0:\n",
        "        print(\"lunch time\")\n",
        "    elif 18.0 <= hours <= 19.0:\n",
        "        print(\"dinner time\")\n",
        "\n",
        "# Defining the function for time conversion\n",
        "def convert(time):\n",
        "    hours, minutes = time.split(\":\")\n",
        "    hours = float(hours)\n",
        "    minutes = float(minutes) / 60.0\n",
        "    return hours + minutes\n",
        "\n",
        "# Calling the function\n",
        "if __name__ == \"__main__\":\n",
        "    main()"
      ],
      "metadata": {
        "id": "7siZfhzGAByn",
        "colab": {
          "base_uri": "https://localhost:8080/"
        },
        "outputId": "cc550b58-9184-4086-a121-a4732fd51c1e"
      },
      "execution_count": null,
      "outputs": [
        {
          "output_type": "stream",
          "name": "stdout",
          "text": [
            "What time is it? 13:00\n",
            "lunch time\n"
          ]
        }
      ]
    }
  ]
}