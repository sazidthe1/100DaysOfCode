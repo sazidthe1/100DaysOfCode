{
  "nbformat": 4,
  "nbformat_minor": 0,
  "metadata": {
    "colab": {
      "provenance": []
    },
    "kernelspec": {
      "name": "python3",
      "display_name": "Python 3"
    },
    "language_info": {
      "name": "python"
    }
  },
  "cells": [
    {
      "cell_type": "markdown",
      "source": [
        "## Day 15 of 100DaysOfCode 🐍\n",
        "### Error Handling and Exceptions"
      ],
      "metadata": {
        "id": "dArul0zwXtHc"
      }
    },
    {
      "cell_type": "markdown",
      "source": [
        "### **Exceptions ⚠️**\n",
        "Exceptions are things when something goes wrong in our coding.<br>\n",
        "When this happends, it can be handled using some statements e.g, `try`, `except`, `else`, `pass`, `finally` which makes our working."
      ],
      "metadata": {
        "id": "HXIqGv6qJWd_"
      }
    },
    {
      "cell_type": "markdown",
      "source": [
        "#### **Try-Except**\n",
        "The `try` block lets you test a block of code for errors and the `except` block lets you handle the error."
      ],
      "metadata": {
        "id": "cyNwjQIylY-Z"
      }
    },
    {
      "cell_type": "code",
      "source": [
        "# try and except are ways of testing out user input before something goes wrong\n",
        "try:\n",
        "    x = int(input(\"What's x? \"))\n",
        "    print(f\"x is {x}\")\n",
        "except ValueError:\n",
        "    print(\"x is not an integer\")"
      ],
      "metadata": {
        "id": "3cX_3GeNI-QG",
        "colab": {
          "base_uri": "https://localhost:8080/"
        },
        "outputId": "3c5e62ca-678e-4a5d-fa03-28f49c5fcfd0"
      },
      "execution_count": null,
      "outputs": [
        {
          "output_type": "stream",
          "name": "stdout",
          "text": [
            "What's x? cat\n",
            "x is not an integer\n"
          ]
        }
      ]
    },
    {
      "cell_type": "markdown",
      "source": [
        "#### **Else**\n",
        "The `else` block lets you execute code when there is no error."
      ],
      "metadata": {
        "id": "Wi8MU68FmWRe"
      }
    },
    {
      "cell_type": "code",
      "source": [
        "# Adding else with try and except for checking if there is no error\n",
        "try:\n",
        "    x = int(input(\"What's x? \"))\n",
        "except ValueError:\n",
        "    print(\"x is not an integer\")\n",
        "else:\n",
        "    print(\"No error!\")"
      ],
      "metadata": {
        "colab": {
          "base_uri": "https://localhost:8080/"
        },
        "outputId": "2dd4932a-40fd-4fcf-905e-fdf9b78add22",
        "id": "2JbJMp9PmWRe"
      },
      "execution_count": null,
      "outputs": [
        {
          "output_type": "stream",
          "name": "stdout",
          "text": [
            "What's x? 53\n",
            "No error!\n"
          ]
        }
      ]
    },
    {
      "cell_type": "markdown",
      "source": [
        "#### **Pass**\n",
        "The `pass` statement does nothing. It can be used when a statement is required syntactically but the program requires no action."
      ],
      "metadata": {
        "id": "EaQwGTrhmdoQ"
      }
    },
    {
      "cell_type": "code",
      "source": [
        "# Using pass statement for keeping it later use\n",
        "try:\n",
        "    x = int(input(\"What's x? \"))\n",
        "    print(f\"x is {x}\")\n",
        "except ValueError:\n",
        "    print(\"x is not an integer\")\n",
        "pass"
      ],
      "metadata": {
        "colab": {
          "base_uri": "https://localhost:8080/"
        },
        "outputId": "bb7b0c59-04bf-4cc1-e2cd-576f4296ebad",
        "id": "FWIH9guemdoR"
      },
      "execution_count": null,
      "outputs": [
        {
          "output_type": "stream",
          "name": "stdout",
          "text": [
            "What's x? Bangladesh\n",
            "x is not an integer\n"
          ]
        }
      ]
    },
    {
      "cell_type": "markdown",
      "source": [
        "#### **Finally**\n",
        "The `finally` block lets you execute code, regardless of the result of the try- and except blocks."
      ],
      "metadata": {
        "id": "ThGuJ1rYmkx4"
      }
    },
    {
      "cell_type": "code",
      "source": [
        "# The finally block, if specified, will be executed regardless if the try block raises an error or not\n",
        "try:\n",
        "    x = int(input(\"What's x? \"))\n",
        "    print(f\"x is {x}\")\n",
        "except ValueError:\n",
        "    print(\"x is not an integer\")\n",
        "finally:\n",
        "  print(\"The 'try-except' is finished!\")"
      ],
      "metadata": {
        "colab": {
          "base_uri": "https://localhost:8080/"
        },
        "outputId": "ab9477c8-adae-4934-b204-430245ac73cf",
        "id": "JLCjsuF5mkx5"
      },
      "execution_count": null,
      "outputs": [
        {
          "output_type": "stream",
          "name": "stdout",
          "text": [
            "What's x? 44\n",
            "x is 44\n",
            "The 'try-except' is finished!\n"
          ]
        }
      ]
    }
  ]
}