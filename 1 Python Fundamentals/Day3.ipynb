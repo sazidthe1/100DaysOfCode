{
  "nbformat": 4,
  "nbformat_minor": 0,
  "metadata": {
    "colab": {
      "provenance": [],
      "collapsed_sections": [
        "07Wg3vgHFSJl",
        "xByYyQeSLhj7",
        "kzunFXdgM6Hn"
      ]
    },
    "kernelspec": {
      "name": "python3",
      "display_name": "Python 3"
    },
    "language_info": {
      "name": "python"
    }
  },
  "cells": [
    {
      "cell_type": "markdown",
      "source": [
        "## Day 3 of 100DaysOfCode 🐍\n",
        "### Python Operators"
      ],
      "metadata": {
        "id": "A1gbXadAhKr-"
      }
    },
    {
      "cell_type": "markdown",
      "source": [
        "### Python Arithmetic Operators ➕➖✖️➗"
      ],
      "metadata": {
        "id": "07Wg3vgHFSJl"
      }
    },
    {
      "cell_type": "markdown",
      "source": [
        "#### Addition ➕"
      ],
      "metadata": {
        "id": "075a4UnsF_Dn"
      }
    },
    {
      "cell_type": "code",
      "execution_count": null,
      "metadata": {
        "colab": {
          "base_uri": "https://localhost:8080/"
        },
        "id": "miYguSG97lnw",
        "outputId": "307074e0-4398-40c9-be5c-11d3cd6105a8"
      },
      "outputs": [
        {
          "output_type": "stream",
          "name": "stdout",
          "text": [
            "15\n"
          ]
        }
      ],
      "source": [
        "# Suming two values of x, and y\n",
        "\n",
        "x = 9\n",
        "y = 6\n",
        "\n",
        "print(x + y)"
      ]
    },
    {
      "cell_type": "markdown",
      "source": [
        "#### Subtraction ➖"
      ],
      "metadata": {
        "id": "4r38bEBDGdAB"
      }
    },
    {
      "cell_type": "code",
      "source": [
        "# Difference the value of x from y\n",
        "\n",
        "x = 64\n",
        "y = 26\n",
        "\n",
        "print(x - y)"
      ],
      "metadata": {
        "colab": {
          "base_uri": "https://localhost:8080/"
        },
        "id": "YwmFJPiyGgiu",
        "outputId": "bfcfb8b3-3eff-494a-fa44-44961c1a92b6"
      },
      "execution_count": null,
      "outputs": [
        {
          "output_type": "stream",
          "name": "stdout",
          "text": [
            "38\n"
          ]
        }
      ]
    },
    {
      "cell_type": "markdown",
      "source": [
        "#### Multiplication ✖️"
      ],
      "metadata": {
        "id": "PJ7RRvHGHETl"
      }
    },
    {
      "cell_type": "code",
      "source": [
        "# Product of the value of x & y\n",
        "\n",
        "x = 8\n",
        "y = 9\n",
        "\n",
        "print(x * y)"
      ],
      "metadata": {
        "colab": {
          "base_uri": "https://localhost:8080/"
        },
        "id": "VNN44minGbh_",
        "outputId": "be7d7559-cd72-4c88-fd55-2765608ad056"
      },
      "execution_count": null,
      "outputs": [
        {
          "output_type": "stream",
          "name": "stdout",
          "text": [
            "72\n"
          ]
        }
      ]
    },
    {
      "cell_type": "markdown",
      "source": [
        "#### Division ➗"
      ],
      "metadata": {
        "id": "O3Hhrz_THe9d"
      }
    },
    {
      "cell_type": "code",
      "source": [
        "# Dividing the value of x by y\n",
        "\n",
        "x = 96\n",
        "y = 12\n",
        "\n",
        "print(x / y)"
      ],
      "metadata": {
        "colab": {
          "base_uri": "https://localhost:8080/"
        },
        "id": "TXAklt7UHkyq",
        "outputId": "39c8b483-534e-420e-d8c5-ca51f32ad4cc"
      },
      "execution_count": null,
      "outputs": [
        {
          "output_type": "stream",
          "name": "stdout",
          "text": [
            "8.0\n"
          ]
        }
      ]
    },
    {
      "cell_type": "markdown",
      "source": [
        "#### Modulus"
      ],
      "metadata": {
        "id": "y0E4741lH_Dr"
      }
    },
    {
      "cell_type": "code",
      "source": [
        "# Returns the remainder of dividing the value of x by y\n",
        "\n",
        "x = 77\n",
        "y = 12\n",
        "\n",
        "print(x % y)"
      ],
      "metadata": {
        "colab": {
          "base_uri": "https://localhost:8080/"
        },
        "outputId": "d4ccb2ae-4d80-47ee-910e-c306d5c2a1cc",
        "id": "YBcEu5qCH_D0"
      },
      "execution_count": null,
      "outputs": [
        {
          "output_type": "stream",
          "name": "stdout",
          "text": [
            "5\n"
          ]
        }
      ]
    },
    {
      "cell_type": "markdown",
      "source": [
        "#### Exponentiation"
      ],
      "metadata": {
        "id": "iiOFqgHIIcYz"
      }
    },
    {
      "cell_type": "code",
      "source": [
        "# Returns the raises value of x to the power of y\n",
        "\n",
        "x = 4\n",
        "y = 3\n",
        "\n",
        "print(x ** y)"
      ],
      "metadata": {
        "colab": {
          "base_uri": "https://localhost:8080/"
        },
        "outputId": "21e16621-2f3e-4e4d-8b9a-3cc571b2339e",
        "id": "d_9xkFPyIcY0"
      },
      "execution_count": null,
      "outputs": [
        {
          "output_type": "stream",
          "name": "stdout",
          "text": [
            "64\n"
          ]
        }
      ]
    },
    {
      "cell_type": "markdown",
      "source": [
        "#### Floor division"
      ],
      "metadata": {
        "id": "QB_Oa49VId9g"
      }
    },
    {
      "cell_type": "code",
      "source": [
        "# Returns the quotient of the division of x divide by y (discarding any fractional part)\n",
        "x = 77\n",
        "y = 6\n",
        "\n",
        "print(x // y)"
      ],
      "metadata": {
        "colab": {
          "base_uri": "https://localhost:8080/"
        },
        "outputId": "23cdd245-02cd-470c-fb6e-5f03ab0e8f7f",
        "id": "nqprq3NGId9g"
      },
      "execution_count": null,
      "outputs": [
        {
          "output_type": "stream",
          "name": "stdout",
          "text": [
            "12\n"
          ]
        }
      ]
    },
    {
      "cell_type": "markdown",
      "source": [
        "### Python Comparison Operators 🔁🚫👆👇⬆️⬇️"
      ],
      "metadata": {
        "id": "xByYyQeSLhj7"
      }
    },
    {
      "cell_type": "markdown",
      "source": [
        "#### Equal 🚫"
      ],
      "metadata": {
        "id": "noXq7R_ELhkE"
      }
    },
    {
      "cell_type": "code",
      "execution_count": null,
      "metadata": {
        "colab": {
          "base_uri": "https://localhost:8080/"
        },
        "outputId": "98822268-1b82-45da-92f8-e1ea37085e52",
        "id": "9dIZMOYiLhkF"
      },
      "outputs": [
        {
          "output_type": "stream",
          "name": "stdout",
          "text": [
            "False\n"
          ]
        }
      ],
      "source": [
        "# Checking values of x, y equal or not\n",
        "\n",
        "x = 15\n",
        "y = 31\n",
        "\n",
        "print(x == y) # returns False because 15 is not equal to 31"
      ]
    },
    {
      "cell_type": "markdown",
      "source": [
        "#### Not equal 🚫"
      ],
      "metadata": {
        "id": "1Sa3kzehLhkF"
      }
    },
    {
      "cell_type": "code",
      "source": [
        "# Checking values of x, y not equal\n",
        "\n",
        "x = 15\n",
        "y = 31\n",
        "\n",
        "print(x != y) # returns True because 15 is not equal to 31"
      ],
      "metadata": {
        "colab": {
          "base_uri": "https://localhost:8080/"
        },
        "outputId": "f0853a43-b33c-415f-907c-79c6e49f7903",
        "id": "84Lty341LhkF"
      },
      "execution_count": null,
      "outputs": [
        {
          "output_type": "stream",
          "name": "stdout",
          "text": [
            "True\n"
          ]
        }
      ]
    },
    {
      "cell_type": "markdown",
      "source": [
        "#### Greater than 👆"
      ],
      "metadata": {
        "id": "gFWRgBj8LhkG"
      }
    },
    {
      "cell_type": "code",
      "source": [
        "# Checking value of x is greater than the value of y\n",
        "\n",
        "x = 18\n",
        "y = 9\n",
        "\n",
        "print(x > y) # returns True because 18 is greater than 9"
      ],
      "metadata": {
        "colab": {
          "base_uri": "https://localhost:8080/"
        },
        "outputId": "c47693d4-ceb0-4cc2-81c5-98fcfcb7bb9d",
        "id": "L5E8BX0JLhkG"
      },
      "execution_count": null,
      "outputs": [
        {
          "output_type": "stream",
          "name": "stdout",
          "text": [
            "True\n"
          ]
        }
      ]
    },
    {
      "cell_type": "markdown",
      "source": [
        "#### Less than 👇"
      ],
      "metadata": {
        "id": "19mjnnnELhkG"
      }
    },
    {
      "cell_type": "code",
      "source": [
        "# Checking value of x is less than the value of y\n",
        "\n",
        "x = 18\n",
        "y = 9\n",
        "\n",
        "print(x < y) # returns False because 18 is not less than 9"
      ],
      "metadata": {
        "colab": {
          "base_uri": "https://localhost:8080/"
        },
        "outputId": "d7795794-7d62-4a13-b983-a1cca1eb089c",
        "id": "5JS7v1XCLhkG"
      },
      "execution_count": null,
      "outputs": [
        {
          "output_type": "stream",
          "name": "stdout",
          "text": [
            "False\n"
          ]
        }
      ]
    },
    {
      "cell_type": "markdown",
      "source": [
        "#### Greater than or equal to ⬆️"
      ],
      "metadata": {
        "id": "waznKlK1LhkH"
      }
    },
    {
      "cell_type": "code",
      "source": [
        "# Checking value of x is greater than or equal to the value of y\n",
        "\n",
        "x = 77\n",
        "y = 77\n",
        "\n",
        "print(x >= y) # returns True because 77 is greater, or equal, to 77"
      ],
      "metadata": {
        "colab": {
          "base_uri": "https://localhost:8080/"
        },
        "outputId": "17fd5d53-89b6-473e-8c1d-cc6526be961e",
        "id": "_gwCjvAkLhkH"
      },
      "execution_count": null,
      "outputs": [
        {
          "output_type": "stream",
          "name": "stdout",
          "text": [
            "True\n"
          ]
        }
      ]
    },
    {
      "cell_type": "markdown",
      "source": [
        "#### Less than or equal to ⬇️"
      ],
      "metadata": {
        "id": "ekRz_4A1LhkH"
      }
    },
    {
      "cell_type": "code",
      "source": [
        "# Checking value of x is less than or equal to the value of y\n",
        "\n",
        "x = 54\n",
        "y = 39\n",
        "\n",
        "print(x <= y) # returns False because 54 is neither less than or equal to 39"
      ],
      "metadata": {
        "colab": {
          "base_uri": "https://localhost:8080/"
        },
        "outputId": "3d0f9e5d-a956-486c-d893-9e5730193c11",
        "id": "vOxlu6-dLhkH"
      },
      "execution_count": null,
      "outputs": [
        {
          "output_type": "stream",
          "name": "stdout",
          "text": [
            "False\n"
          ]
        }
      ]
    },
    {
      "cell_type": "markdown",
      "source": [
        "### Python Logical Operators 🔗⛓️🚫"
      ],
      "metadata": {
        "id": "kzunFXdgM6Hn"
      }
    },
    {
      "cell_type": "markdown",
      "source": [
        "#### and 🔗 : Returns True if both statements are true"
      ],
      "metadata": {
        "id": "i0R8T3DRQoiu"
      }
    },
    {
      "cell_type": "code",
      "source": [
        "# Checking the value of x meet the statement or not\n",
        "x = 15\n",
        "\n",
        "print(x > 7 and x < 20)\n",
        "\n",
        "# returns True because 15 is greater than 7 AND 15 is less than 20"
      ],
      "metadata": {
        "colab": {
          "base_uri": "https://localhost:8080/"
        },
        "id": "EqLGWcCCQkHK",
        "outputId": "91bb5dc2-1adc-4203-f041-cc110ecfd1fa"
      },
      "execution_count": null,
      "outputs": [
        {
          "output_type": "stream",
          "name": "stdout",
          "text": [
            "True\n"
          ]
        }
      ]
    },
    {
      "cell_type": "markdown",
      "source": [
        "#### or ⛓️: Returns True if one of the statements is true"
      ],
      "metadata": {
        "id": "RzT63-gUQyjL"
      }
    },
    {
      "cell_type": "code",
      "source": [
        "x = 15\n",
        "\n",
        "print(x > 13 or x < 14)\n",
        "\n",
        "# returns True because one of the conditions are true (15 is greater than 13, but 15 is not less than 14)"
      ],
      "metadata": {
        "colab": {
          "base_uri": "https://localhost:8080/"
        },
        "id": "RgfXxrdnQkEA",
        "outputId": "9fae9eb8-8a88-4dc5-9027-0ee8d16b9aa7"
      },
      "execution_count": null,
      "outputs": [
        {
          "output_type": "stream",
          "name": "stdout",
          "text": [
            "True\n"
          ]
        }
      ]
    },
    {
      "cell_type": "markdown",
      "source": [
        "#### not 🚫: Reverse the result, returns False if the result is true"
      ],
      "metadata": {
        "id": "zcxwrDfuQyy_"
      }
    },
    {
      "cell_type": "code",
      "source": [
        "x = 15\n",
        "\n",
        "print(not(x > 13 and x < 20))\n",
        "\n",
        "# returns False because not is used to reverse the result"
      ],
      "metadata": {
        "colab": {
          "base_uri": "https://localhost:8080/"
        },
        "id": "QnYEc5YdQjKl",
        "outputId": "6e5b2d6d-361e-46a1-cfa0-5f61dc57299d"
      },
      "execution_count": null,
      "outputs": [
        {
          "output_type": "stream",
          "name": "stdout",
          "text": [
            "False\n"
          ]
        }
      ]
    }
  ]
}