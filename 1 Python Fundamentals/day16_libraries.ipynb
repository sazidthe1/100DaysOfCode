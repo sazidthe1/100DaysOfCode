{
  "nbformat": 4,
  "nbformat_minor": 0,
  "metadata": {
    "colab": {
      "provenance": []
    },
    "kernelspec": {
      "name": "python3",
      "display_name": "Python 3"
    },
    "language_info": {
      "name": "python"
    }
  },
  "cells": [
    {
      "cell_type": "markdown",
      "source": [
        "## Day 16 of 100DaysOfCode 🐍\n",
        "### Libraries (Working with Modules and Packages)"
      ],
      "metadata": {
        "id": "dArul0zwXtHc"
      }
    },
    {
      "cell_type": "markdown",
      "source": [
        "### **Libraries 🏛️**\n",
        "Libraries are bits of code written by you or others can you can use in your program. <br> Python libraries are ready-made code collections that enhance Python's capabilities.<br> e.g., NumPy (data manipulation),  Django (web development), TensorFlow (machine learning)"
      ],
      "metadata": {
        "id": "HXIqGv6qJWd_"
      }
    },
    {
      "cell_type": "markdown",
      "source": [
        "#### **Library - Random 🎲**"
      ],
      "metadata": {
        "id": "cyNwjQIylY-Z"
      }
    },
    {
      "cell_type": "code",
      "source": [
        "# Importing a random library\n",
        "import random\n",
        "\n",
        "# Using the choice() function from the random library\n",
        "coin = random.choice([\"heads\", \"tails\"])\n",
        "print(coin)"
      ],
      "metadata": {
        "id": "3cX_3GeNI-QG",
        "colab": {
          "base_uri": "https://localhost:8080/"
        },
        "outputId": "171adb7d-6506-495d-d00e-faf827617420"
      },
      "execution_count": null,
      "outputs": [
        {
          "output_type": "stream",
          "name": "stdout",
          "text": [
            "heads\n"
          ]
        }
      ]
    },
    {
      "cell_type": "code",
      "source": [
        "# Importing the random library\n",
        "import random\n",
        "\n",
        "# Printing a random number between 1 to 10 using randint() function\n",
        "number = random.randint(1, 10)\n",
        "print(number)"
      ],
      "metadata": {
        "colab": {
          "base_uri": "https://localhost:8080/"
        },
        "outputId": "b40ac3d7-d5de-442d-b51a-3c2a28baecbf",
        "id": "2JbJMp9PmWRe"
      },
      "execution_count": null,
      "outputs": [
        {
          "output_type": "stream",
          "name": "stdout",
          "text": [
            "5\n"
          ]
        }
      ]
    },
    {
      "cell_type": "code",
      "source": [
        "# Importing the random library\n",
        "import random\n",
        "\n",
        "# Using shuffle() function to changing the position of the card\n",
        "cards = [\"jack\", \"queen\", \"king\"]\n",
        "random.shuffle(cards)\n",
        "for card in cards:\n",
        "  print(card)"
      ],
      "metadata": {
        "colab": {
          "base_uri": "https://localhost:8080/"
        },
        "outputId": "30d52483-ad2d-47bd-fe5f-8c5f27a1a2aa",
        "id": "FWIH9guemdoR"
      },
      "execution_count": null,
      "outputs": [
        {
          "output_type": "stream",
          "name": "stdout",
          "text": [
            "jack\n",
            "king\n",
            "queen\n"
          ]
        }
      ]
    },
    {
      "cell_type": "markdown",
      "source": [
        "#### **Library - Statistics 📊**\n",
        "This Statistics is a built-in library that comes with Python."
      ],
      "metadata": {
        "id": "_JRj3_2hSzOI"
      }
    },
    {
      "cell_type": "code",
      "source": [
        "# Using statistics library to doing the average from the inputs\n",
        "import statistics\n",
        "x = int(input(\"What's x? \"))\n",
        "y = int(input(\"What's y? \"))\n",
        "\n",
        "numbers = [x, y]\n",
        "average = (statistics.mean(numbers))\n",
        "print(average)"
      ],
      "metadata": {
        "colab": {
          "base_uri": "https://localhost:8080/"
        },
        "outputId": "15c603cb-2f48-4144-e062-fc89bb98119f",
        "id": "JLCjsuF5mkx5"
      },
      "execution_count": null,
      "outputs": [
        {
          "output_type": "stream",
          "name": "stdout",
          "text": [
            "What's x? 90\n",
            "What's y? 60\n",
            "75\n"
          ]
        }
      ]
    },
    {
      "cell_type": "markdown",
      "source": [
        "Modules in Python are individual files that contain reusable code, including functions, classes, and variables."
      ],
      "metadata": {
        "id": "VvZGx2fYUSU9"
      }
    },
    {
      "cell_type": "markdown",
      "source": [
        "#### **Library Packages 📦**\n",
        "Packages in Python are a way to organize modules and files. It groups related code together, making it easier to manage and reuse."
      ],
      "metadata": {
        "id": "dlSQcKnWTKEG"
      }
    },
    {
      "cell_type": "code",
      "source": [
        "# Importing datetime package\n",
        "from datetime import datetime\n",
        "\n",
        "# Getting the current date and time\n",
        "current_datetime = datetime.now()\n",
        "\n",
        "# Printing the current date and time\n",
        "print(\"Current Date and Time:\", current_datetime)"
      ],
      "metadata": {
        "colab": {
          "base_uri": "https://localhost:8080/"
        },
        "id": "rEW4B_74ZL1_",
        "outputId": "c2ec5cc5-bbd9-4350-f0d0-f9003fe62e44"
      },
      "execution_count": null,
      "outputs": [
        {
          "output_type": "stream",
          "name": "stdout",
          "text": [
            "Current Date and Time: 2023-07-06 09:17:41.166293\n"
          ]
        }
      ]
    },
    {
      "cell_type": "code",
      "source": [
        "# Formating the above code\n",
        "from datetime import datetime\n",
        "current_datetime = datetime.now()\n",
        "print(\"Current Date and Time:\", current_datetime)\n",
        "\n",
        "# Formating the date and time\n",
        "formatted_datetime = current_datetime.strftime(\"%d %B %Y, %I:%M %p\")\n",
        "\n",
        "# Printing the formatted date and time\n",
        "print(\"Formatted Date and Time:\", formatted_datetime)"
      ],
      "metadata": {
        "colab": {
          "base_uri": "https://localhost:8080/"
        },
        "id": "reFMtOjSdDGl",
        "outputId": "6fc983d1-08ab-4ce3-f130-1e78d9e6323a"
      },
      "execution_count": null,
      "outputs": [
        {
          "output_type": "stream",
          "name": "stdout",
          "text": [
            "Current Date and Time: 2023-07-06 09:17:44.516484\n",
            "Formatted Date and Time: 06 July 2023, 09:17 AM\n"
          ]
        }
      ]
    },
    {
      "cell_type": "markdown",
      "source": [
        "#### **Creating My Own Libraries 🛠️**"
      ],
      "metadata": {
        "id": "OkUcf4gQhUj5"
      }
    },
    {
      "cell_type": "markdown",
      "source": [
        "To create the library, defining two functions (hello, goodbye) and keeping it in `greetings.py` file same directory as the notebook located."
      ],
      "metadata": {
        "id": "GjSyDbRNiEDV"
      }
    },
    {
      "cell_type": "code",
      "source": [
        "# Defining two functions (hello, goodbye)\n",
        "\n",
        "def hello(name):\n",
        "    print(f\"Hello, {name}! How are you doing?\")\n",
        "\n",
        "def goodbye(name):\n",
        "    print(f\"Goodbye, {name}! Have a nice day!\")"
      ],
      "metadata": {
        "id": "ByZooJ3Yfyp9"
      },
      "execution_count": null,
      "outputs": []
    },
    {
      "cell_type": "markdown",
      "source": [
        "Then, importing those functions `hello()`, `goodbye()`  from greetings.py like this."
      ],
      "metadata": {
        "id": "2L2ZbnmAioJ8"
      }
    },
    {
      "cell_type": "code",
      "source": [
        "# Improrting the functions from the greetings library\n",
        "from greetings import hello, goodbye\n",
        "\n",
        "# Passing the hello function\n",
        "hello(\"Sazid\")\n",
        "\n",
        "# Passing the goodbye function\n",
        "goodbye(\"Sazid\")"
      ],
      "metadata": {
        "id": "uApIetB3kvQK"
      },
      "execution_count": null,
      "outputs": []
    }
  ]
}