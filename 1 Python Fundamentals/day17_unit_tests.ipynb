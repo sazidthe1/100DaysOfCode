{
  "nbformat": 4,
  "nbformat_minor": 0,
  "metadata": {
    "colab": {
      "provenance": []
    },
    "kernelspec": {
      "name": "python3",
      "display_name": "Python 3"
    },
    "language_info": {
      "name": "python"
    }
  },
  "cells": [
    {
      "cell_type": "markdown",
      "source": [
        "## Day 17 of 100DaysOfCode 🐍\n",
        "### Unit Tests"
      ],
      "metadata": {
        "id": "dArul0zwXtHc"
      }
    },
    {
      "cell_type": "markdown",
      "source": [
        "### **Unit Tests 🧪**\n",
        "\n",
        "Unit tests in Python are automated tests written to verify the correctness of individual units (functions, methods, classes) of code.<br>It’s most common in industry to write code to testing my own programs."
      ],
      "metadata": {
        "id": "HXIqGv6qJWd_"
      }
    },
    {
      "cell_type": "code",
      "source": [
        "# Running my own calculator program\n",
        "def main():\n",
        "    x = int(input(\"What's x? \"))\n",
        "    print(\"x squared is\", square(x))\n",
        "\n",
        "def square(n):\n",
        "    return n * n\n",
        "\n",
        "if __name__ == \"__main__\":\n",
        "    main()"
      ],
      "metadata": {
        "id": "3cX_3GeNI-QG",
        "colab": {
          "base_uri": "https://localhost:8080/"
        },
        "outputId": "473442cc-6c45-47e0-9fbd-1947ceff1595"
      },
      "execution_count": null,
      "outputs": [
        {
          "output_type": "stream",
          "name": "stdout",
          "text": [
            "What's x? 9\n",
            "x squared is 81\n"
          ]
        }
      ]
    },
    {
      "cell_type": "code",
      "source": [
        "# Importing square from the random library\n",
        "from calculator import square\n",
        "\n",
        "def main():\n",
        "    test_square()\n",
        "\n",
        "def test_square():\n",
        "    if square(2) != 4:\n",
        "        print(\"2 squared was not 4\")\n",
        "    if square(3) != 9:\n",
        "        print(\"3 squared was not 9\")\n",
        "\n",
        "if __name__ == \"__main__\":\n",
        "    main()"
      ],
      "metadata": {
        "id": "r4m931q5KUID"
      },
      "execution_count": null,
      "outputs": []
    },
    {
      "cell_type": "markdown",
      "source": [
        "#### **Assert**\n",
        "Python’s `assert` command allows us to tell the compiler that something, some assertion, is true."
      ],
      "metadata": {
        "id": "NW8IaVtfKaMx"
      }
    },
    {
      "cell_type": "code",
      "source": [
        "# Importing square from the random library\n",
        "from calculator import square\n",
        "\n",
        "def main():\n",
        "    test_square()\n",
        "\n",
        "def test_square():\n",
        "    assert square(2) == 4\n",
        "    assert square(3) == 9\n",
        "\n",
        "if __name__ == \"__main__\":\n",
        "    main()"
      ],
      "metadata": {
        "id": "8PHVQ6_BK8XA"
      },
      "execution_count": null,
      "outputs": []
    },
    {
      "cell_type": "markdown",
      "source": [
        "#### **Pytest**\n",
        "`pytest` is a third-party library that allows you to unit test the program. Using this, we can test our functions within the program. <br> To utilize `pytest`, let's run **`pip install pytest`** into our terminal."
      ],
      "metadata": {
        "id": "VQfMeu8MLtP0"
      }
    },
    {
      "cell_type": "code",
      "source": [
        "# Checking the calculator program using pytest library\n",
        "def main():\n",
        "    x = int(input(\"What's x? \"))\n",
        "    print(\"x squared is\", square(x))\n",
        "\n",
        "def square(n):\n",
        "    return n * n\n",
        "\n",
        "if __name__ == \"__main__\":\n",
        "    main()\n",
        "\n",
        "pytest test_calculator.py # for checking the calculator program"
      ],
      "metadata": {
        "id": "48Jd3ggyM1pE"
      },
      "execution_count": null,
      "outputs": []
    },
    {
      "cell_type": "markdown",
      "source": [
        "Run `pytest test_calculator.py`, and no errors are produced."
      ],
      "metadata": {
        "id": "NbSvRbJqODo2"
      }
    },
    {
      "cell_type": "code",
      "source": [
        "def main():\n",
        "    x = int(input(\"What's x? \"))\n",
        "    print(\"x squared is\", square(x))\n",
        "\n",
        "def square(n):\n",
        "    return n + n\n",
        "\n",
        "if __name__ == \"__main__\":\n",
        "    main()\n",
        "\n",
        "pytest test_calculator.py # for checking the calculator program"
      ],
      "metadata": {
        "id": "Lo1R1p-FM78J"
      },
      "execution_count": null,
      "outputs": []
    },
    {
      "cell_type": "markdown",
      "source": [
        "Let's re-run `pytest test_calculator.py`, and it throw errors. Now it's time to fix +, again back to *."
      ],
      "metadata": {
        "id": "KZrOXiRPOZL6"
      }
    },
    {
      "cell_type": "code",
      "source": [
        "# Improving the test code\n",
        "def main():\n",
        "    x = int(input(\"What's x? \"))\n",
        "    print(\"x squared is\", square(x))\n",
        "\n",
        "def square(n):\n",
        "    return n * n\n",
        "\n",
        "if __name__ == \"__main__\":\n",
        "    main()\n",
        "\n",
        "pytest test_calculator.py # for checking the calculator program"
      ],
      "metadata": {
        "id": "hMpufw4mOYve"
      },
      "execution_count": null,
      "outputs": []
    },
    {
      "cell_type": "markdown",
      "source": [
        "Re-run `pytest test_calculator.py`, notice how no errors are produced. Congratulations!"
      ],
      "metadata": {
        "id": "XbNkTk-YPfRC"
      }
    },
    {
      "cell_type": "markdown",
      "source": [
        "#### **Testing Strings**\n",
        "Going back in time, considering `hello.py` to test as well."
      ],
      "metadata": {
        "id": "fp98r1CPQCvY"
      }
    },
    {
      "cell_type": "code",
      "source": [
        "# Testing the hello.py using pytest\n",
        "def main():\n",
        "    name = input(\"What's your name? \")\n",
        "    print(hello(name))\n",
        "\n",
        "def hello(to=\"world\"):\n",
        "    return f\"hello, {to}\"\n",
        "\n",
        "if __name__ == \"__main__\":\n",
        "    main()\n",
        "\n",
        "pytest test_hello.py # for checking the hello program"
      ],
      "metadata": {
        "id": "RmKaBcbtQGsk"
      },
      "execution_count": null,
      "outputs": []
    },
    {
      "cell_type": "markdown",
      "source": [
        "Run `pytest test_hello.py`, and our code has passed all tests!"
      ],
      "metadata": {
        "id": "SrQD-1L0Q8iv"
      }
    }
  ]
}