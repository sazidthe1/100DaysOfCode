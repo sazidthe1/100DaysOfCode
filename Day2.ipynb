{
  "nbformat": 4,
  "nbformat_minor": 0,
  "metadata": {
    "colab": {
      "provenance": [],
      "collapsed_sections": [
        "F17WTsTY3MIE",
        "3i9Oeol73rxr",
        "MK6V0DVFBJ58"
      ]
    },
    "kernelspec": {
      "name": "python3",
      "display_name": "Python 3"
    },
    "language_info": {
      "name": "python"
    }
  },
  "cells": [
    {
      "cell_type": "markdown",
      "source": [
        "## Day 2 of 100DaysOfCode 🐍\n",
        "### Python Data Types - Strings 🔡, Numbers 🔢, Booleans ✅❌"
      ],
      "metadata": {
        "id": "A1gbXadAhKr-"
      }
    },
    {
      "cell_type": "markdown",
      "source": [
        "### Python Data Types - Strings 🔡"
      ],
      "metadata": {
        "id": "F17WTsTY3MIE"
      }
    },
    {
      "cell_type": "code",
      "source": [
        "# Asking the user for their name by using input() method\n",
        "name = input(\"What's your name? \")\n",
        "print(\"Hello,\")\n",
        "print(name)"
      ],
      "metadata": {
        "colab": {
          "base_uri": "https://localhost:8080/"
        },
        "id": "6OmPbSCN93dJ",
        "outputId": "5af25b6b-ad97-4512-c0db-bdd5fd1794ab"
      },
      "execution_count": 18,
      "outputs": [
        {
          "output_type": "stream",
          "name": "stdout",
          "text": [
            "What's your name? Sazid\n",
            "Hello,\n",
            "Sazid\n"
          ]
        }
      ]
    },
    {
      "cell_type": "code",
      "source": [
        "# Ask the user for their name - formatting the Strings\n",
        "name = input(\"What's your name? \")\n",
        "print(f\"Hello, {name}!\")"
      ],
      "metadata": {
        "colab": {
          "base_uri": "https://localhost:8080/"
        },
        "id": "HfLHHzkb93G3",
        "outputId": "f02cdcb7-2c4b-4ffd-d91c-ca7ca84c2e73"
      },
      "execution_count": 19,
      "outputs": [
        {
          "output_type": "stream",
          "name": "stdout",
          "text": [
            "What's your name? Sazid\n",
            "Hello, Sazid!\n"
          ]
        }
      ]
    },
    {
      "cell_type": "markdown",
      "source": [
        "#### More on Strings 🔡"
      ],
      "metadata": {
        "id": "cPxmk-cMelQh"
      }
    },
    {
      "cell_type": "code",
      "source": [
        "# Asking the user for their name - using strip() method to remove whitespace\n",
        "name = input(\"What's your name? \")\n",
        "\n",
        "name = name.strip()\n",
        "\n",
        "print(f\"Hello, {name}!\")"
      ],
      "metadata": {
        "colab": {
          "base_uri": "https://localhost:8080/"
        },
        "id": "Z8fWZvB7eksM",
        "outputId": "e374f1fb-a14e-456a-d5b9-454f590f8821"
      },
      "execution_count": 1,
      "outputs": [
        {
          "output_type": "stream",
          "name": "stdout",
          "text": [
            "What's your name? Sazid\n",
            "Hello, Sazid!\n"
          ]
        }
      ]
    },
    {
      "cell_type": "markdown",
      "source": [
        "### Python Data Types - Numbers 🔢"
      ],
      "metadata": {
        "id": "3i9Oeol73rxr"
      }
    },
    {
      "cell_type": "markdown",
      "source": [
        "#### Integers or int"
      ],
      "metadata": {
        "id": "hAOxLMyehc6s"
      }
    },
    {
      "cell_type": "code",
      "execution_count": 2,
      "metadata": {
        "colab": {
          "base_uri": "https://localhost:8080/"
        },
        "id": "l_ApzBotdDHj",
        "outputId": "f86c3232-a462-4f93-bd24-3170e2dc37bd"
      },
      "outputs": [
        {
          "output_type": "stream",
          "name": "stdout",
          "text": [
            "3\n"
          ]
        }
      ],
      "source": [
        "# Declaring two variable and adding it on third variable\n",
        "x = 1\n",
        "y = 2\n",
        "\n",
        "z = x + y\n",
        "\n",
        "print(z)"
      ]
    },
    {
      "cell_type": "code",
      "source": [
        "# Taking two input and adding them together\n",
        "x = input(\"What's x? \")\n",
        "y = input(\"What's y? \")\n",
        "\n",
        "z = x + y\n",
        "\n",
        "print(z)"
      ],
      "metadata": {
        "colab": {
          "base_uri": "https://localhost:8080/"
        },
        "id": "BnwOWtlQs8qN",
        "outputId": "435238ac-cd81-4063-fa8b-88081d3224c0"
      },
      "execution_count": 3,
      "outputs": [
        {
          "output_type": "stream",
          "name": "stdout",
          "text": [
            "What's x? 3\n",
            "What's y? 6\n",
            "36\n"
          ]
        }
      ]
    },
    {
      "cell_type": "code",
      "source": [
        "# Correcting the above by using \"int()\" type conversion\n",
        "\n",
        "x = input(\"What's x? \")\n",
        "y = input(\"What's y? \")\n",
        "\n",
        "z = int(x) + int(y)\n",
        "\n",
        "print(z)"
      ],
      "metadata": {
        "colab": {
          "base_uri": "https://localhost:8080/"
        },
        "id": "A9JKUYpHs8mo",
        "outputId": "6e2cbb8f-23f3-4700-ded8-ab33bf6fea8f"
      },
      "execution_count": 4,
      "outputs": [
        {
          "output_type": "stream",
          "name": "stdout",
          "text": [
            "What's x? 3\n",
            "What's y? 6\n",
            "9\n"
          ]
        }
      ]
    },
    {
      "cell_type": "code",
      "source": [
        "# Improving the code further - using type conversation while taking the input\n",
        "x = int(input(\"What's x? \"))\n",
        "y = int(input(\"What's y? \"))\n",
        "\n",
        "z = x + y\n",
        "\n",
        "print(z)"
      ],
      "metadata": {
        "colab": {
          "base_uri": "https://localhost:8080/"
        },
        "id": "NKZtkllms8jt",
        "outputId": "f5ab08a6-e5d6-4b78-ea41-da00fe00034d"
      },
      "execution_count": 5,
      "outputs": [
        {
          "output_type": "stream",
          "name": "stdout",
          "text": [
            "What's x? 6\n",
            "What's y? 3\n",
            "9\n"
          ]
        }
      ]
    },
    {
      "cell_type": "code",
      "source": [
        "# Improving the code further - adding input in print() function\n",
        "x = int(input(\"What's x? \"))\n",
        "y = int(input(\"What's y? \"))\n",
        "\n",
        "print(x + y)"
      ],
      "metadata": {
        "colab": {
          "base_uri": "https://localhost:8080/"
        },
        "id": "uK3AGQz0s8g1",
        "outputId": "8f589b07-aa1f-4f97-9ef5-c50e35cffa01"
      },
      "execution_count": 6,
      "outputs": [
        {
          "output_type": "stream",
          "name": "stdout",
          "text": [
            "What's x? 13\n",
            "What's y? 31\n",
            "44\n"
          ]
        }
      ]
    },
    {
      "cell_type": "markdown",
      "source": [
        "#### Float 💦"
      ],
      "metadata": {
        "id": "iStqAtbJ5t9E"
      }
    },
    {
      "cell_type": "code",
      "source": [
        "# Getting the user's input in float & printing the result\n",
        "x = float(input(\"What's x? \"))\n",
        "y = float(input(\"What's y? \"))\n",
        "\n",
        "print(x + y)"
      ],
      "metadata": {
        "colab": {
          "base_uri": "https://localhost:8080/"
        },
        "id": "GiNlqTRssCBM",
        "outputId": "3365b753-8b70-428c-817c-528e9c965418"
      },
      "execution_count": 7,
      "outputs": [
        {
          "output_type": "stream",
          "name": "stdout",
          "text": [
            "What's x? 4\n",
            "What's y? 8\n",
            "12.0\n"
          ]
        }
      ]
    },
    {
      "cell_type": "code",
      "source": [
        "# Rounding the float input using round() method & printing the result\n",
        "x = float(input(\"What's x? \"))\n",
        "y = float(input(\"What's y? \"))\n",
        "\n",
        "z = round(x + y)\n",
        "\n",
        "print(z)"
      ],
      "metadata": {
        "colab": {
          "base_uri": "https://localhost:8080/"
        },
        "id": "d3JrdFa0s8dP",
        "outputId": "5200cb9d-31a4-4ddd-eef9-bed3c1f70b6a"
      },
      "execution_count": 8,
      "outputs": [
        {
          "output_type": "stream",
          "name": "stdout",
          "text": [
            "What's x? 12\n",
            "What's y? 24\n",
            "36\n"
          ]
        }
      ]
    },
    {
      "cell_type": "code",
      "source": [
        "# Getting the user's input & formating the printing output\n",
        "x = float(input(\"What's x? \"))\n",
        "y = float(input(\"What's y? \"))\n",
        "\n",
        "z = round(x + y)\n",
        "\n",
        "print(f\"{z:,}\")"
      ],
      "metadata": {
        "colab": {
          "base_uri": "https://localhost:8080/"
        },
        "id": "7n992Ckks8Z4",
        "outputId": "523ca7ef-87ee-4490-8016-6735a68441bf"
      },
      "execution_count": 10,
      "outputs": [
        {
          "output_type": "stream",
          "name": "stdout",
          "text": [
            "What's x? 333\n",
            "What's y? 667\n",
            "1,000\n"
          ]
        }
      ]
    },
    {
      "cell_type": "markdown",
      "source": [
        "#### More on Float 💦"
      ],
      "metadata": {
        "id": "BP5b0osW99mc"
      }
    },
    {
      "cell_type": "code",
      "source": [
        "# Getting the user's input and printing the result\n",
        "x = float(input(\"What's x? \"))\n",
        "y = float(input(\"What's y? \"))\n",
        "\n",
        "z = x / y\n",
        "\n",
        "print(z)"
      ],
      "metadata": {
        "colab": {
          "base_uri": "https://localhost:8080/"
        },
        "id": "Mz4PJPDfs8Wa",
        "outputId": "81a7f2d4-bdcb-4e94-97b9-95f78e1515f4"
      },
      "execution_count": 11,
      "outputs": [
        {
          "output_type": "stream",
          "name": "stdout",
          "text": [
            "What's x? 15\n",
            "What's y? 2\n",
            "7.5\n"
          ]
        }
      ]
    },
    {
      "cell_type": "code",
      "source": [
        "# Formating the above code and priting the float upto 2 decimal points\n",
        "x = float(input(\"What's x? \"))\n",
        "y = float(input(\"What's y? \"))\n",
        "\n",
        "z = x / y\n",
        "\n",
        "print(f\"{z:.2f}\")"
      ],
      "metadata": {
        "colab": {
          "base_uri": "https://localhost:8080/"
        },
        "id": "LzKPrbUPs6yt",
        "outputId": "17aadfb8-75f2-4cc1-c0f8-a52cd9a8282f"
      },
      "execution_count": 14,
      "outputs": [
        {
          "output_type": "stream",
          "name": "stdout",
          "text": [
            "What's x? 49\n",
            "What's y? 4\n",
            "12.25\n"
          ]
        }
      ]
    },
    {
      "cell_type": "markdown",
      "source": [
        "### Python Data Types - Booleans ✅❌"
      ],
      "metadata": {
        "id": "MK6V0DVFBJ58"
      }
    },
    {
      "cell_type": "code",
      "source": [
        "# Comparing the value\n",
        "print(10 == 9)"
      ],
      "metadata": {
        "colab": {
          "base_uri": "https://localhost:8080/"
        },
        "id": "bZv-OdTnBdv9",
        "outputId": "ad8ee33d-f3d3-4950-9e8f-14a09dc75d97"
      },
      "execution_count": 15,
      "outputs": [
        {
          "output_type": "stream",
          "name": "stdout",
          "text": [
            "False\n"
          ]
        }
      ]
    },
    {
      "cell_type": "code",
      "source": [
        "# Comparing the value of two variable\n",
        "x = 17\n",
        "y = 13\n",
        "\n",
        "print(x > y)"
      ],
      "metadata": {
        "colab": {
          "base_uri": "https://localhost:8080/"
        },
        "id": "qESSrnbgG2kM",
        "outputId": "bf003f55-962f-4877-b99e-1620106bcdea"
      },
      "execution_count": 16,
      "outputs": [
        {
          "output_type": "stream",
          "name": "stdout",
          "text": [
            "True\n"
          ]
        }
      ]
    },
    {
      "cell_type": "code",
      "source": [
        "# Comparing the input value and printing the result\n",
        "x = input(\"What's x? \")\n",
        "y = input(\"What's y? \")\n",
        "\n",
        "print(x == y)"
      ],
      "metadata": {
        "colab": {
          "base_uri": "https://localhost:8080/"
        },
        "id": "1ZlkO954HnL-",
        "outputId": "e54b4444-aaf6-4f5b-994a-62acf0b5f8b0"
      },
      "execution_count": 17,
      "outputs": [
        {
          "output_type": "stream",
          "name": "stdout",
          "text": [
            "What's x? 36\n",
            "What's y? 63\n",
            "False\n"
          ]
        }
      ]
    }
  ]
}
