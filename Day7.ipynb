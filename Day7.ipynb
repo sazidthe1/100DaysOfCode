{
  "nbformat": 4,
  "nbformat_minor": 0,
  "metadata": {
    "colab": {
      "provenance": []
    },
    "kernelspec": {
      "name": "python3",
      "display_name": "Python 3"
    },
    "language_info": {
      "name": "python"
    }
  },
  "cells": [
    {
      "cell_type": "markdown",
      "source": [
        "## Day 7 of 100DaysOfCode 🐍\n",
        "### Conditionals, if-elif-else Statements"
      ],
      "metadata": {
        "id": "2Y-u2ThVmn8_"
      }
    },
    {
      "cell_type": "markdown",
      "source": [
        "### **Conditionals❓**\n",
        "---\n",
        "Python supports the usual logical conditions from mathematics. It allows the programmer, to allow the program to make it's decisions.\n",
        "\n",
        "**Equals: ==**<br>\n",
        "**Not Equals: !=**<br>\n",
        "**Less than: <**<br>\n",
        "**Less than or equal to: <=**<br>\n",
        "**Greater than: >**<br>\n",
        "**Greater than or equal to: >=**"
      ],
      "metadata": {
        "id": "BLDViXeTn2j3"
      }
    },
    {
      "cell_type": "markdown",
      "source": [
        "### **If Statement 🔄**"
      ],
      "metadata": {
        "id": "EljJW7Ki0jOm"
      }
    },
    {
      "cell_type": "code",
      "source": [
        "# Comaparing the value of variable a with varibale b using if statement\n",
        "a = 33\n",
        "b = 200\n",
        "if b > a:\n",
        "  print(\"b is greater than a\")"
      ],
      "metadata": {
        "id": "13K9VOmJ1JkH",
        "colab": {
          "base_uri": "https://localhost:8080/"
        },
        "outputId": "3dab4a69-9b16-4939-fd46-0009d93f5c0c"
      },
      "execution_count": null,
      "outputs": [
        {
          "output_type": "stream",
          "name": "stdout",
          "text": [
            "b is greater than a\n"
          ]
        }
      ]
    },
    {
      "cell_type": "markdown",
      "source": [
        "### **Elif ✅**"
      ],
      "metadata": {
        "id": "uU-vbnFF1LSU"
      }
    },
    {
      "cell_type": "markdown",
      "source": [
        "The **elif** keyword is Python's way of saying \"if the previous conditions were not true, then try this condition\"."
      ],
      "metadata": {
        "id": "XGRvPuveZ3fv"
      }
    },
    {
      "cell_type": "code",
      "source": [
        "# Comparing the variables a, b and printing a message based on their values.\n",
        "a = 63\n",
        "b = 63\n",
        "if b > a:\n",
        "  print(\"b is greater than a\")\n",
        "elif a == b:\n",
        "  print(\"a and b are equal\")"
      ],
      "metadata": {
        "id": "v2NQYWW-16zY",
        "colab": {
          "base_uri": "https://localhost:8080/"
        },
        "outputId": "659cdc0c-f186-4d4c-cdbd-7d2d9e0c40e7"
      },
      "execution_count": null,
      "outputs": [
        {
          "output_type": "stream",
          "name": "stdout",
          "text": [
            "a and b are equal\n"
          ]
        }
      ]
    },
    {
      "cell_type": "markdown",
      "source": [
        "### **Else ❌**"
      ],
      "metadata": {
        "id": "LbfA2eANZdx4"
      }
    },
    {
      "cell_type": "markdown",
      "source": [
        "The **else** keyword catches anything which isn't caught by the preceding conditions."
      ],
      "metadata": {
        "id": "2OVb1HaIba9v"
      }
    },
    {
      "cell_type": "code",
      "source": [
        "# Comparing the variables a, b and printing a message based on their values\n",
        "a = 200\n",
        "b = 81\n",
        "if b > a:\n",
        "  print(\"b is greater than a\")\n",
        "elif a == b:\n",
        "  print(\"a and b are equal\")\n",
        "else:\n",
        "  print(\"a is greater than b\")"
      ],
      "metadata": {
        "id": "cg3vzTDp18SV",
        "colab": {
          "base_uri": "https://localhost:8080/"
        },
        "outputId": "1ffbf970-9c4d-4afb-f60b-96b24d49ac6d"
      },
      "execution_count": null,
      "outputs": [
        {
          "output_type": "stream",
          "name": "stdout",
          "text": [
            "a is greater than b\n"
          ]
        }
      ]
    },
    {
      "cell_type": "markdown",
      "source": [
        "### If-Elif-Else Statements 🔄✅❌"
      ],
      "metadata": {
        "id": "63gfMecVgAXT"
      }
    },
    {
      "cell_type": "code",
      "source": [
        "# Taking two input variables x, y and comparing it by using if statement to make the decision\n",
        "\n",
        "x = int(input(\"What's x? \"))\n",
        "y = int(input(\"What's y? \"))\n",
        "\n",
        "if x < y:\n",
        "    print(\"x is less than y\")"
      ],
      "metadata": {
        "id": "8UbCYYUB1KVz",
        "colab": {
          "base_uri": "https://localhost:8080/"
        },
        "outputId": "25a8dc4d-a329-428b-abce-7dfbd8f3222e"
      },
      "execution_count": null,
      "outputs": [
        {
          "output_type": "stream",
          "name": "stdout",
          "text": [
            "What's x? 23\n",
            "What's y? 32\n",
            "x is less than y\n"
          ]
        }
      ]
    },
    {
      "cell_type": "code",
      "source": [
        "# Improving the above code with elif and else statement\n",
        "\n",
        "x = int(input(\"What's x? \"))\n",
        "y = int(input(\"What's y? \"))\n",
        "\n",
        "if x < y:\n",
        "    print(\"x is less than y\")\n",
        "elif  x > y:\n",
        "  print(\"x is greater than y\")\n",
        "else:\n",
        "  print(\"x is equal to y\")"
      ],
      "metadata": {
        "colab": {
          "base_uri": "https://localhost:8080/"
        },
        "id": "bQDe6eJwe6xl",
        "outputId": "a4b50005-d8b5-4de7-d9df-9e8550c04911"
      },
      "execution_count": null,
      "outputs": [
        {
          "output_type": "stream",
          "name": "stdout",
          "text": [
            "What's x? 37\n",
            "What's y? 73\n",
            "x is less than y\n"
          ]
        }
      ]
    },
    {
      "cell_type": "markdown",
      "source": [
        "### **And 🔗**"
      ],
      "metadata": {
        "id": "8CKVmAAdYDAF"
      }
    },
    {
      "cell_type": "markdown",
      "source": [
        "The **and** keyword is a logical operator, and is used to combine conditional statements."
      ],
      "metadata": {
        "id": "OIBxPtHFYp1K"
      }
    },
    {
      "cell_type": "code",
      "source": [
        "# Checking if a is greater than b, AND if c is greater than a\n",
        "a = 200\n",
        "b = 33\n",
        "c = 500\n",
        "if a > b and c > a:\n",
        "  print(\"Both conditions are True\")"
      ],
      "metadata": {
        "colab": {
          "base_uri": "https://localhost:8080/"
        },
        "id": "JxUu-2LbYd0_",
        "outputId": "8dbe050d-7e6d-441c-c110-d9392e81f8e9"
      },
      "execution_count": null,
      "outputs": [
        {
          "output_type": "stream",
          "name": "stdout",
          "text": [
            "Both conditions are True\n"
          ]
        }
      ]
    },
    {
      "cell_type": "markdown",
      "source": [
        "### **Or ⛓️**"
      ],
      "metadata": {
        "id": "v3D29YmAZLp8"
      }
    },
    {
      "cell_type": "markdown",
      "source": [
        "The **or** keyword is a logical operator, and is used to combine conditional statements."
      ],
      "metadata": {
        "id": "osy_cYjqZaTo"
      }
    },
    {
      "cell_type": "code",
      "source": [
        "# Checking if a is greater than b, OR if a is greater than c\n",
        "a = 200\n",
        "b = 33\n",
        "c = 500\n",
        "if a > b or a > c:\n",
        "  print(\"At least one of the conditions is True\")"
      ],
      "metadata": {
        "id": "Lz6g9WhIZYsf",
        "colab": {
          "base_uri": "https://localhost:8080/"
        },
        "outputId": "c1574de2-18ad-4c6f-e400-49d249bb9e27"
      },
      "execution_count": 2,
      "outputs": [
        {
          "output_type": "stream",
          "name": "stdout",
          "text": [
            "At least one of the conditions is True\n"
          ]
        }
      ]
    },
    {
      "cell_type": "markdown",
      "source": [
        "### **Not 🚫**"
      ],
      "metadata": {
        "id": "S0-paGT1aydB"
      }
    },
    {
      "cell_type": "markdown",
      "source": [
        "The **not** keyword is a logical operator, and is used to reverse the result of the conditional statement."
      ],
      "metadata": {
        "id": "F8eXoF7GaydC"
      }
    },
    {
      "cell_type": "code",
      "source": [
        "# Checking if a is NOT greater than b\n",
        "a = 33\n",
        "b = 200\n",
        "if not a > b:\n",
        "  print(\"a is NOT greater than b\")"
      ],
      "metadata": {
        "colab": {
          "base_uri": "https://localhost:8080/"
        },
        "outputId": "03166063-196e-43d1-ac89-76642dd3bade",
        "id": "DHMF4vyJaydC"
      },
      "execution_count": null,
      "outputs": [
        {
          "output_type": "stream",
          "name": "stdout",
          "text": [
            "a is NOT greater than b\n"
          ]
        }
      ]
    },
    {
      "cell_type": "markdown",
      "source": [
        "### **Nested If 🎁**"
      ],
      "metadata": {
        "id": "qth-wymrZ1o6"
      }
    },
    {
      "cell_type": "markdown",
      "source": [
        "A **nested if** is a if conditional statement within another if conditional statement."
      ],
      "metadata": {
        "id": "QCmZWHQUZ1pD"
      }
    },
    {
      "cell_type": "code",
      "source": [
        "# Checking the value of x meet which conditional statements\n",
        "x = 41\n",
        "\n",
        "if x > 10:\n",
        "  print(\"Above ten,\")\n",
        "  if x > 20:\n",
        "    print(\"and also above 20!\")\n",
        "  else:\n",
        "    print(\"but not above 20.\")"
      ],
      "metadata": {
        "id": "F86eCXePZ1pD",
        "colab": {
          "base_uri": "https://localhost:8080/"
        },
        "outputId": "53de1390-aafc-4a91-d55a-8cb0ddc7f353"
      },
      "execution_count": 4,
      "outputs": [
        {
          "output_type": "stream",
          "name": "stdout",
          "text": [
            "Above ten,\n",
            "and also above 20!\n"
          ]
        }
      ]
    },
    {
      "cell_type": "markdown",
      "source": [
        "### **The pass Statement 🚶**"
      ],
      "metadata": {
        "id": "Gh9n6EnIcgD4"
      }
    },
    {
      "cell_type": "markdown",
      "source": [
        "By using the **pass** statement, an error can be avoided when there is nothing inside the if statement."
      ],
      "metadata": {
        "id": "s98QzzTRcgD4"
      }
    },
    {
      "cell_type": "code",
      "source": [
        "# Using the pass statement to avoid the error\n",
        "a = 33\n",
        "b = 200\n",
        "\n",
        "if b > a:\n",
        "  pass"
      ],
      "metadata": {
        "id": "nVGz_dsicgD4"
      },
      "execution_count": 6,
      "outputs": []
    }
  ]
}