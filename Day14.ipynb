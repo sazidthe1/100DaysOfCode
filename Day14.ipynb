{
  "nbformat": 4,
  "nbformat_minor": 0,
  "metadata": {
    "colab": {
      "provenance": []
    },
    "kernelspec": {
      "name": "python3",
      "display_name": "Python 3"
    },
    "language_info": {
      "name": "python"
    }
  },
  "cells": [
    {
      "cell_type": "markdown",
      "source": [
        "## Day 14 of 100DaysOfCode 🐍\n",
        "### **Problem Set 2** ❗"
      ],
      "metadata": {
        "id": "dArul0zwXtHc"
      }
    },
    {
      "cell_type": "markdown",
      "source": [
        "#### Vanity Plates"
      ],
      "metadata": {
        "id": "iUg0_Knu5EAS"
      }
    },
    {
      "cell_type": "code",
      "execution_count": 26,
      "metadata": {
        "id": "HBjaelA45EAT",
        "colab": {
          "base_uri": "https://localhost:8080/"
        },
        "outputId": "5421db03-c9c6-4b78-f3c6-48c6ac8ba043"
      },
      "outputs": [
        {
          "output_type": "stream",
          "name": "stdout",
          "text": [
            "Plate: CS50\n",
            "Valid\n"
          ]
        }
      ],
      "source": [
        "# Defining main function\n",
        "def main():\n",
        "    plate = input(\"Plate: \")\n",
        "    if is_valid(plate):\n",
        "        print(\"Valid\")\n",
        "    else:\n",
        "        print(\"Invalid\")\n",
        "\n",
        "# Defining is_valid function\n",
        "def is_valid(s):\n",
        "    # Vanity plates contain a maximum of 6 characters (letters or numbers)\n",
        "    # A minimum of 2 characters\n",
        "    if len(s) < 2 or len(s) > 6:\n",
        "      return False\n",
        "\n",
        "    # All vanity plates must start with at least two letters\n",
        "    if s[0].isalpha == False or s[1].isalpha == False:\n",
        "      return False\n",
        "\n",
        "    # Numbers cannot be used in the middle of a plate\n",
        "    # For example, AAA222 would be an acceptable … vanity plate; AAA22A would not be acceptable\n",
        "    for i in range(len(s)):\n",
        "      if s[i].isdigit():\n",
        "        if not s[i:].isdigit():\n",
        "            return False\n",
        "\n",
        "    # The first number used cannot be a ‘0’\n",
        "    i = 0\n",
        "    while i < len(s):\n",
        "      if s[i].isalpha() == False:\n",
        "        if s[i] == '0':\n",
        "          return False\n",
        "        else:\n",
        "          break\n",
        "      i += 1\n",
        "\n",
        "    # No periods, spaces, or punctuation marks are allowed\n",
        "    for a in s:\n",
        "      if a in ['.', '', '!', '?']:\n",
        "        return False\n",
        "\n",
        "    # If we pass all the test, return True\n",
        "    return True\n",
        "\n",
        "# Calling the main function\n",
        "main()"
      ]
    },
    {
      "cell_type": "markdown",
      "source": [
        "#### Nutrition Facts"
      ],
      "metadata": {
        "id": "s--HzSGx5EII"
      }
    },
    {
      "cell_type": "code",
      "execution_count": 40,
      "metadata": {
        "id": "G1hovfi95EII",
        "colab": {
          "base_uri": "https://localhost:8080/"
        },
        "outputId": "ea6e61c5-5b63-4334-80e9-19f5dea4ea7c"
      },
      "outputs": [
        {
          "output_type": "stream",
          "name": "stdout",
          "text": [
            "Item: Avocado\n",
            "Calories: 50\n"
          ]
        }
      ],
      "source": [
        "# Create dictionary with all fruits and it's calories\n",
        "fruits = {\n",
        "    \"apple\" : \"130\",\n",
        "    \"avocado\" : \"50\",\n",
        "    \"banana\" : \"110\",\n",
        "    \"cantaloupe\" : \"50\",\n",
        "    \"grapefruit\" : \"60\",\n",
        "    \"grapes\" : \"90\",\n",
        "    \"honeydew melon\" : \"50\",\n",
        "    \"kiwifruit\" : \"90\",\n",
        "    \"lemon\" : \"15\",\n",
        "    \"lime\" : \"20\",\n",
        "    \"nectarine\" : \"50\",\n",
        "    \"orange\" : \"80\",\n",
        "    \"peach\" : \"60\",\n",
        "    \"pear\" : \"100\",\n",
        "    \"pineapple\" : \"50\",\n",
        "    \"plums\" : \"70\",\n",
        "    \"strawberries\" : \"50\",\n",
        "    \"sweet cherries\" : \"100\",\n",
        "    \"tangarine\" : \"50\",\n",
        "    \"water melon\" : \"80\"\n",
        "}\n",
        "\n",
        "# Get user's input (coverting it in lowercase)\n",
        "fruit_asked = input(\"Item: \").lower()\n",
        "\n",
        "# Loop thorugh fruits dictionary\n",
        "for key in fruits:\n",
        "\n",
        "    # Find the fruits asked\n",
        "    if key == fruit_asked:\n",
        "\n",
        "      # Print fruit's calories\n",
        "      print(\"Calories:\", fruits[key])"
      ]
    }
  ]
}