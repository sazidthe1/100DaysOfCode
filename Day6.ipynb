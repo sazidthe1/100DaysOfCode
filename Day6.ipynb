{
  "nbformat": 4,
  "nbformat_minor": 0,
  "metadata": {
    "colab": {
      "provenance": []
    },
    "kernelspec": {
      "name": "python3",
      "display_name": "Python 3"
    },
    "language_info": {
      "name": "python"
    }
  },
  "cells": [
    {
      "cell_type": "markdown",
      "source": [
        "## Day 6 of 100DaysOfCode 🐍\n",
        "### Python Dictionaries 🗄️- From [W3 Schools](https://www.w3schools.com/python/python_dictionaries.asp) 🏫"
      ],
      "metadata": {
        "id": "msOpqcWMl-CI"
      }
    },
    {
      "cell_type": "markdown",
      "source": [
        "\n",
        "## **Python Dictionaries 🗄️**\n",
        "---\n",
        "\n",
        "🗄️ Dictionaries: In Python, Dictionaries are used to store data values in key: value pairs. It created by using Curly brackets **{ }**. <br>\n",
        "e.g. mobile =\t{\"brand\": \"Apple\", \"model\": \"iPhone 14 Pro\", \"year\": \"2023\"}\n",
        "<br><br>\n",
        "Another way to create the Dictionary is to use the **dict()** constructor. <br>\n",
        "e.g. mobile = dict((\"brand\": \"Apple\", \"model\": \"iPhone 14 Pro\", \"year\": \"2023\"))\n",
        "<br><br>\n",
        "🗄️ Dictionary items are ordered, changeable and do not allow duplicates. <br>\n",
        "🗄️ Dictionary items can be of any data types. Meaning - a Dictionary can contain different data types (String, Integer and Boolean, and others)."
      ],
      "metadata": {
        "id": "CPgn7oqLtIKV"
      }
    },
    {
      "cell_type": "markdown",
      "source": [
        "### **Python Dictionaries 🗄️ - Access Items**\n"
      ],
      "metadata": {
        "id": "tlXkbGrvDtwr"
      }
    },
    {
      "cell_type": "markdown",
      "source": [
        "####Accessing Items"
      ],
      "metadata": {
        "id": "VfQVCnoMQE4y"
      }
    },
    {
      "cell_type": "markdown",
      "source": [
        "To access the items of a dictionary by referring to its key name, inside square brackets **[ ]**."
      ],
      "metadata": {
        "id": "8SO2TSeEOUTi"
      }
    },
    {
      "cell_type": "code",
      "source": [
        "# Accessing the value of \"brand\" key from the dictionary\n",
        "laptop =\t{\n",
        "  \"brand\": \"Lenovo\",\n",
        "  \"model\": \"Legion 7\",\n",
        "  \"year\": 2020\n",
        "}\n",
        "x = laptop[\"brand\"]\n",
        "print(x)"
      ],
      "metadata": {
        "id": "RDYSzhzxLnhr",
        "colab": {
          "base_uri": "https://localhost:8080/"
        },
        "outputId": "229ea043-04a5-463b-c70a-608f92ef4d64"
      },
      "execution_count": null,
      "outputs": [
        {
          "output_type": "stream",
          "name": "stdout",
          "text": [
            "Lenovo\n"
          ]
        }
      ]
    },
    {
      "cell_type": "markdown",
      "source": [
        "Another method which is called **get()** will give the same result as previous."
      ],
      "metadata": {
        "id": "M2DF5blCPaOo"
      }
    },
    {
      "cell_type": "code",
      "source": [
        "# Accessing the value of \"brand\" key using get() method\n",
        "laptop =\t{\n",
        "  \"brand\": \"Lenovo\",\n",
        "  \"model\": \"Legion 7\",\n",
        "  \"year\": 2020\n",
        "}\n",
        "x = laptop.get(\"brand\")\n",
        "print(x)"
      ],
      "metadata": {
        "colab": {
          "base_uri": "https://localhost:8080/"
        },
        "outputId": "4699d572-acbd-41cc-aa6e-23477091f231",
        "id": "PuJB0GoZPaOv"
      },
      "execution_count": null,
      "outputs": [
        {
          "output_type": "stream",
          "name": "stdout",
          "text": [
            "Lenovo\n"
          ]
        }
      ]
    },
    {
      "cell_type": "markdown",
      "source": [
        "####Get Keys"
      ],
      "metadata": {
        "id": "UWpC8lnxQNYW"
      }
    },
    {
      "cell_type": "markdown",
      "source": [
        "The **keys()** method will return a list of all the keys in the dictionary."
      ],
      "metadata": {
        "id": "S9lZJyZwQyk8"
      }
    },
    {
      "cell_type": "code",
      "source": [
        "# Accessing the list of the keys\n",
        "laptop =\t{\n",
        "  \"brand\": \"Lenovo\",\n",
        "  \"model\": \"Legion 7\",\n",
        "  \"year\": 2020\n",
        "}\n",
        "x = laptop.keys()\n",
        "print(x)"
      ],
      "metadata": {
        "colab": {
          "base_uri": "https://localhost:8080/"
        },
        "id": "FjKIwXoRQLWR",
        "outputId": "48c3a9ce-7263-4fd5-afd4-16190ac3a4a3"
      },
      "execution_count": null,
      "outputs": [
        {
          "output_type": "stream",
          "name": "stdout",
          "text": [
            "dict_keys(['brand', 'model', 'year'])\n"
          ]
        }
      ]
    },
    {
      "cell_type": "markdown",
      "source": [
        "####Get Values"
      ],
      "metadata": {
        "id": "AZEOPfVTQiHx"
      }
    },
    {
      "cell_type": "markdown",
      "source": [
        "The **values()** method will return a list of all the values in the dictionary."
      ],
      "metadata": {
        "id": "uDTzy9pjReHi"
      }
    },
    {
      "cell_type": "code",
      "source": [
        "# Accessing the list of the values\n",
        "laptop =\t{\n",
        "  \"brand\": \"Lenovo\",\n",
        "  \"model\": \"Legion 7\",\n",
        "  \"year\": 2020\n",
        "}\n",
        "x = laptop.values()\n",
        "print(x)"
      ],
      "metadata": {
        "colab": {
          "base_uri": "https://localhost:8080/"
        },
        "id": "bP1W4u82QLBe",
        "outputId": "94f70973-9cfe-4a7a-fbf4-b1eb7a82f305"
      },
      "execution_count": null,
      "outputs": [
        {
          "output_type": "stream",
          "name": "stdout",
          "text": [
            "dict_values(['Lenovo', 'Legion 7', 2020])\n"
          ]
        }
      ]
    },
    {
      "cell_type": "code",
      "source": [
        "# Adding a new item to the original dictionary, and see that the values list gets updated as well\n",
        "laptop =\t{\n",
        "  \"brand\": \"Lenovo\",\n",
        "  \"model\": \"Legion 7\",\n",
        "  \"year\": 2020\n",
        "}\n",
        "x = laptop.values()\n",
        "print(x) #before the change\n",
        "laptop[\"color\"] = \"Storm Grey\"\n",
        "print(x) #after the change"
      ],
      "metadata": {
        "colab": {
          "base_uri": "https://localhost:8080/"
        },
        "id": "k1oB9T7EQK7l",
        "outputId": "a4c43cf9-0692-4216-bbe2-9a2a7f679fd3"
      },
      "execution_count": null,
      "outputs": [
        {
          "output_type": "stream",
          "name": "stdout",
          "text": [
            "dict_values(['Lenovo', 'Legion 7', 2020])\n",
            "dict_values(['Lenovo', 'Legion 7', 2020, 'Storm Grey'])\n"
          ]
        }
      ]
    },
    {
      "cell_type": "markdown",
      "source": [
        "### **Python Dictionaries 🗄️ - Change Items**"
      ],
      "metadata": {
        "id": "MZxGp4hXDuML"
      }
    },
    {
      "cell_type": "markdown",
      "source": [
        "####Change Values"
      ],
      "metadata": {
        "id": "JXswx_lOUW1t"
      }
    },
    {
      "cell_type": "markdown",
      "source": [
        "To changing the value of a specific item can be done by referring to its **key name**."
      ],
      "metadata": {
        "id": "ivMeerF9ULfR"
      }
    },
    {
      "cell_type": "code",
      "source": [
        "# Changing the \"year\" from 1964 to 2020\n",
        "laptop =\t{\n",
        "  \"brand\": \"Lenovo\",\n",
        "  \"model\": \"Legion 7\",\n",
        "  \"year\": 2020\n",
        "}\n",
        "laptop[\"year\"] = 2023\n",
        "print(laptop)"
      ],
      "metadata": {
        "id": "gz9uab8LLol0",
        "colab": {
          "base_uri": "https://localhost:8080/"
        },
        "outputId": "88dd9a9e-6cef-4af0-a342-176b5e758a7f"
      },
      "execution_count": null,
      "outputs": [
        {
          "output_type": "stream",
          "name": "stdout",
          "text": [
            "{'brand': 'Lenovo', 'model': 'Legion 7', 'year': 2023}\n"
          ]
        }
      ]
    },
    {
      "cell_type": "markdown",
      "source": [
        "### **Python Dictionaries 🗄️ - Add Items**"
      ],
      "metadata": {
        "id": "kdkoxuk2Duab"
      }
    },
    {
      "cell_type": "markdown",
      "source": [
        "####Adding Items"
      ],
      "metadata": {
        "id": "1Qp7iHRoWlXJ"
      }
    },
    {
      "cell_type": "markdown",
      "source": [
        "To add an item to the dictionary is done by using new **index key** and **assigning a value** to it."
      ],
      "metadata": {
        "id": "0u_wjRptWlXK"
      }
    },
    {
      "cell_type": "code",
      "source": [
        "# Using update() method to update the \"year\" of the laptop\n",
        "laptop =\t{\n",
        "  \"brand\": \"Lenovo\",\n",
        "  \"model\": \"Legion 7\",\n",
        "  \"year\": 2020\n",
        "}\n",
        "laptop.update({\"year\": 2023})\n",
        "print(laptop)"
      ],
      "metadata": {
        "colab": {
          "base_uri": "https://localhost:8080/"
        },
        "outputId": "a5810274-9683-43e2-bec1-cfc8170d7cb1",
        "id": "4Vt-Jsd9WlXK"
      },
      "execution_count": null,
      "outputs": [
        {
          "output_type": "stream",
          "name": "stdout",
          "text": [
            "{'brand': 'Lenovo', 'model': 'Legion 7', 'year': 2023}\n"
          ]
        }
      ]
    },
    {
      "cell_type": "markdown",
      "source": [
        "####Update Values"
      ],
      "metadata": {
        "id": "mB4x5g3oVVQ7"
      }
    },
    {
      "cell_type": "markdown",
      "source": [
        "To update any item, using **update()** method will update the items in dictionary."
      ],
      "metadata": {
        "id": "8aY99OoGVVQ8"
      }
    },
    {
      "cell_type": "code",
      "source": [
        "# Using update() method to update the \"year\" of the laptop\n",
        "laptop =\t{\n",
        "  \"brand\": \"Lenovo\",\n",
        "  \"model\": \"Legion 7\",\n",
        "  \"year\": 2020\n",
        "}\n",
        "laptop.update({\"year\": 2023})\n",
        "print(laptop)"
      ],
      "metadata": {
        "colab": {
          "base_uri": "https://localhost:8080/"
        },
        "outputId": "7dbf7fab-78f6-49b7-e641-eae21521fe9c",
        "id": "st5mDHhJVVQ8"
      },
      "execution_count": null,
      "outputs": [
        {
          "output_type": "stream",
          "name": "stdout",
          "text": [
            "{'brand': 'Lenovo', 'model': 'Legion 7', 'year': 2023}\n"
          ]
        }
      ]
    },
    {
      "cell_type": "markdown",
      "source": [
        "### **Python Dictionaries 🗄️ - Remove Items**"
      ],
      "metadata": {
        "id": "nR9UTBeYDuni"
      }
    },
    {
      "cell_type": "markdown",
      "source": [
        "####Removing Items"
      ],
      "metadata": {
        "id": "Spb_mwYlbbZD"
      }
    },
    {
      "cell_type": "markdown",
      "source": [
        "To remove any key, using **pop()** method will remove key name and it's associated values from the dictionary."
      ],
      "metadata": {
        "id": "0-TlOSDOaPtD"
      }
    },
    {
      "cell_type": "code",
      "source": [
        "# Using pop() method to remove the item with the specified key name\n",
        "laptop =\t{\n",
        "  \"brand\": \"Lenovo\",\n",
        "  \"model\": \"Legion 7\",\n",
        "  \"year\": 2023\n",
        "}\n",
        "laptop.pop(\"model\")\n",
        "print(laptop)"
      ],
      "metadata": {
        "id": "W4OL8tjbEQBN",
        "colab": {
          "base_uri": "https://localhost:8080/"
        },
        "outputId": "4f77d77b-5aec-405c-e93e-cdfde1ec086c"
      },
      "execution_count": null,
      "outputs": [
        {
          "output_type": "stream",
          "name": "stdout",
          "text": [
            "{'brand': 'Lenovo', 'year': 2023}\n"
          ]
        }
      ]
    },
    {
      "cell_type": "markdown",
      "source": [
        "To remove any item, using **popitem()** method will remove the value from the dictionary."
      ],
      "metadata": {
        "id": "zAqrUkGulwWe"
      }
    },
    {
      "cell_type": "code",
      "source": [
        "# Using popitem() method removes the last inserted item\n",
        "laptop =\t{\n",
        "  \"brand\": \"Lenovo\",\n",
        "  \"model\": \"Legion 7\",\n",
        "  \"year\": 2023\n",
        "}\n",
        "laptop.popitem()\n",
        "print(laptop)"
      ],
      "metadata": {
        "id": "9MfbaYQtLtY0",
        "colab": {
          "base_uri": "https://localhost:8080/"
        },
        "outputId": "14a431ea-875e-4159-d872-fc44bfeb4a3d"
      },
      "execution_count": null,
      "outputs": [
        {
          "output_type": "stream",
          "name": "stdout",
          "text": [
            "{'brand': 'Lenovo', 'model': 'Legion 7'}\n"
          ]
        }
      ]
    },
    {
      "cell_type": "markdown",
      "source": [
        "####Deleting Items"
      ],
      "metadata": {
        "id": "JSnaICndblf8"
      }
    },
    {
      "cell_type": "markdown",
      "source": [
        "Using **del** keyword removes the item with the specified key name."
      ],
      "metadata": {
        "id": "F1hxAIjSbraw"
      }
    },
    {
      "cell_type": "code",
      "source": [
        "# Removing specified key using \"del\" keyword\n",
        "laptop =\t{\n",
        "  \"brand\": \"Lenovo\",\n",
        "  \"model\": \"Legion 7\",\n",
        "  \"year\": 2023\n",
        "}\n",
        "del laptop[\"model\"]\n",
        "print(laptop)"
      ],
      "metadata": {
        "colab": {
          "base_uri": "https://localhost:8080/"
        },
        "id": "9kBZ2IeDb0XJ",
        "outputId": "42a8a086-9cfb-43e3-ab2d-ec7c33e08d4c"
      },
      "execution_count": null,
      "outputs": [
        {
          "output_type": "stream",
          "name": "stdout",
          "text": [
            "{'brand': 'Lenovo', 'year': 2023}\n"
          ]
        }
      ]
    },
    {
      "cell_type": "markdown",
      "source": [
        "Using **del** keyword also delete the dictionary completely."
      ],
      "metadata": {
        "id": "W3Rs0Bg9dDqN"
      }
    },
    {
      "cell_type": "code",
      "source": [
        "# Using \"del\" keyword will delete the dictionary completely\n",
        "laptop =\t{\n",
        "  \"brand\": \"Lenovo\",\n",
        "  \"model\": \"Legion 7\",\n",
        "  \"year\": 2023\n",
        "}\n",
        "del laptop\n",
        "print(laptop) #this will cause an error because \"laptop\" no longer exists"
      ],
      "metadata": {
        "id": "aj83O_mKdDqO"
      },
      "execution_count": null,
      "outputs": []
    },
    {
      "cell_type": "markdown",
      "source": [
        "Using **clear()** method will make the dictionary empty."
      ],
      "metadata": {
        "id": "fzSm50rUeYuu"
      }
    },
    {
      "cell_type": "code",
      "source": [
        "# Using clear() method will empty the dictionary\n",
        "laptop =\t{\n",
        "  \"brand\": \"Lenovo\",\n",
        "  \"model\": \"Legion 7\",\n",
        "  \"year\": 2023\n",
        "}\n",
        "laptop.clear()\n",
        "print(laptop)"
      ],
      "metadata": {
        "colab": {
          "base_uri": "https://localhost:8080/"
        },
        "id": "48Qs0Uw5eYuv",
        "outputId": "41e166ec-487c-4869-b928-3e2618781697"
      },
      "execution_count": null,
      "outputs": [
        {
          "output_type": "stream",
          "name": "stdout",
          "text": [
            "{}\n"
          ]
        }
      ]
    },
    {
      "cell_type": "markdown",
      "source": [
        "### **Python Dictionaries 🗄️ - Copy Items**"
      ],
      "metadata": {
        "id": "xKhIZ38sD-BP"
      }
    },
    {
      "cell_type": "markdown",
      "source": [
        "####Copy a Dictionary"
      ],
      "metadata": {
        "id": "DRDUrHiGfGEM"
      }
    },
    {
      "cell_type": "markdown",
      "source": [
        "There are ways to make a copy, one way is to using the **copy()** method."
      ],
      "metadata": {
        "id": "q8eL__1WfK53"
      }
    },
    {
      "cell_type": "code",
      "source": [
        "# Using copy() method to making a copy of a dictionary\n",
        "laptop =\t{\n",
        "  \"brand\": \"Lenovo\",\n",
        "  \"model\": \"Legion 7\",\n",
        "  \"year\": 2023\n",
        "}\n",
        "mylaptop = laptop.copy()\n",
        "print(mylaptop)"
      ],
      "metadata": {
        "id": "tK5qoFMBLt8m",
        "colab": {
          "base_uri": "https://localhost:8080/"
        },
        "outputId": "4d95a4be-6d45-46a2-ede6-582657cf214e"
      },
      "execution_count": null,
      "outputs": [
        {
          "output_type": "stream",
          "name": "stdout",
          "text": [
            "{'brand': 'Lenovo', 'model': 'Legion 7', 'year': 2023}\n"
          ]
        }
      ]
    },
    {
      "cell_type": "markdown",
      "source": [
        "Another way to make a copy is to using **dict()** method."
      ],
      "metadata": {
        "id": "WTKhSOp9fye2"
      }
    },
    {
      "cell_type": "code",
      "source": [
        "# Using dict() method to making a copy of a dictionary\n",
        "laptop =\t{\n",
        "  \"brand\": \"Lenovo\",\n",
        "  \"model\": \"Legion 7\",\n",
        "  \"year\": 2023\n",
        "}\n",
        "mylaptop = dict(laptop)\n",
        "print(mylaptop)"
      ],
      "metadata": {
        "colab": {
          "base_uri": "https://localhost:8080/"
        },
        "outputId": "6652a832-4a64-47b6-f807-129c7434ea18",
        "id": "tIM24yacfye3"
      },
      "execution_count": null,
      "outputs": [
        {
          "output_type": "stream",
          "name": "stdout",
          "text": [
            "{'brand': 'Lenovo', 'model': 'Legion 7', 'year': 2023}\n"
          ]
        }
      ]
    },
    {
      "cell_type": "markdown",
      "source": [
        "### **Python Dictionaries 🗄️ - Nested Dictionaries**\n"
      ],
      "metadata": {
        "id": "Kh97H2YrEGdH"
      }
    },
    {
      "cell_type": "markdown",
      "source": [
        "Nested dictionaries is where a dictionary contain another dictionary/dictionaries."
      ],
      "metadata": {
        "id": "NBbsJN0GgNuw"
      }
    },
    {
      "cell_type": "code",
      "source": [
        "# Creating a dictionary that contain three dictionaries\n",
        "office = {\n",
        " \"employee1\" : {\n",
        "    \"name\" : \"Jack\",\n",
        "    \"gender\" : \"Male\",\n",
        "    \"joining date\" : \"2018\"\n",
        " },\n",
        "  \"employee2\" : {\n",
        "    \"name\" : \"Kate\",\n",
        "    \"gender\" : \"Female\",\n",
        "    \"joining date\" : \"2019\"\n",
        " },\n",
        "  \"employee3\" : {\n",
        "    \"name\" : \"Patrick\",\n",
        "    \"gender\" : \"Male\",\n",
        "    \"joining date\" : \"2021\"\n",
        " }\n",
        "}\n",
        "print(office)"
      ],
      "metadata": {
        "id": "2HmVASVtLtxY",
        "colab": {
          "base_uri": "https://localhost:8080/"
        },
        "outputId": "b039ea09-7a85-462d-bb65-01bc9dbec090"
      },
      "execution_count": null,
      "outputs": [
        {
          "output_type": "stream",
          "name": "stdout",
          "text": [
            "{'employee1': {'name': 'Jack', 'gender': 'Male', 'joining date': '2018'}, 'employee2': {'name': 'Kate', 'gender': 'Female', 'joining date': '2019'}, 'employee3': {'name': 'Patrick', 'gender': 'Male', 'joining date': '2021'}}\n"
          ]
        }
      ]
    },
    {
      "cell_type": "markdown",
      "source": [
        "####Access Items in Nested Dictionaries"
      ],
      "metadata": {
        "id": "FZVBywtCh5RJ"
      }
    },
    {
      "cell_type": "markdown",
      "source": [
        "To accessing items from a nested dictionary, use the name of the dictionaries, starting with the outer dictionary."
      ],
      "metadata": {
        "id": "Xx_zNsNwhwz_"
      }
    },
    {
      "cell_type": "code",
      "source": [
        "# Printing the \"gender\" of employee 1\n",
        "print(office[\"employee1\"][\"gender\"])"
      ],
      "metadata": {
        "colab": {
          "base_uri": "https://localhost:8080/"
        },
        "id": "fgrKKDeCi2-a",
        "outputId": "47dab0f7-7418-4eb1-e724-c2554b2e9321"
      },
      "execution_count": null,
      "outputs": [
        {
          "output_type": "stream",
          "name": "stdout",
          "text": [
            "Male\n"
          ]
        }
      ]
    },
    {
      "cell_type": "code",
      "source": [
        "# Printing the \"joing date\" of employee 2\n",
        "print(office[\"employee2\"][\"joining date\"])"
      ],
      "metadata": {
        "colab": {
          "base_uri": "https://localhost:8080/"
        },
        "outputId": "8dbd721c-c33c-4a52-8ce0-04c529d04137",
        "id": "LUJ9w4YHhw0H"
      },
      "execution_count": null,
      "outputs": [
        {
          "output_type": "stream",
          "name": "stdout",
          "text": [
            "2019\n"
          ]
        }
      ]
    },
    {
      "cell_type": "code",
      "source": [
        "# Printing the \"name\" of employee 3\n",
        "print(office[\"employee3\"][\"name\"])"
      ],
      "metadata": {
        "colab": {
          "base_uri": "https://localhost:8080/"
        },
        "outputId": "3c80ba4e-2a7f-4f98-a863-6c81277f763b",
        "id": "uyjVsyh1iqLZ"
      },
      "execution_count": null,
      "outputs": [
        {
          "output_type": "stream",
          "name": "stdout",
          "text": [
            "Patrick\n"
          ]
        }
      ]
    },
    {
      "cell_type": "markdown",
      "source": [
        "### **Python Dictionaries 🗄️ - Methods**"
      ],
      "metadata": {
        "id": "f4FZc7B0ERJ7"
      }
    },
    {
      "cell_type": "markdown",
      "source": [
        "Python has a set of built-in methods that can used on Dictionaries.\n",
        "\n",
        "\n",
        "\n",
        "\n",
        "\n",
        "\n"
      ],
      "metadata": {
        "id": "FXzE93QCLgo2"
      }
    },
    {
      "cell_type": "markdown",
      "source": [
        "| Method    | Description                                                |\n",
        "|-----------|------------------------------------------------------------|\n",
        "| clear()\t  | Removes all the elements from the dictionary               |\n",
        "| copy()\t  | Returns a copy of the dictionary                           |\n",
        "| fromkeys()| Returns a dictionary with the specified keys and value     |\n",
        "| get()\t    | Returns the value of the specified key                     |\n",
        "| items()\t  | Returns a list containing a tuple for each key value pair  |\n",
        "| keys()\t  | Returns a list containing the dictionary's keys            |\n",
        "| pop()\t    | Removes the element with the specified key                 |\n",
        "| popitem()\t| Removes the last inserted key-value pair                   |\n",
        "| update()\t| Updates the dictionary with the specified key-value pairs  |\n",
        "| values()\t| Returns a list of all the values in the dictionary         |"
      ],
      "metadata": {
        "id": "m3MX1xNOLgo2"
      }
    },
    {
      "cell_type": "markdown",
      "source": [
        "### **Python Dictionaries 🗄️ - Exercises**"
      ],
      "metadata": {
        "id": "Ebwn2F1NE2wa"
      }
    },
    {
      "cell_type": "markdown",
      "source": [
        "#### **Exercise 1**"
      ],
      "metadata": {
        "id": "weyr45sXODqi"
      }
    },
    {
      "cell_type": "code",
      "source": [
        "# Using get() method to print value of \"model\" key from the mobile dictionary\n",
        "mobile =\t{\n",
        "  \"brand\": \"Apple\",\n",
        "  \"model\": \"iPhone 14 Pro\",\n",
        "  \"year\": \"2020\"\n",
        "}\n",
        "print(mobile.get(\"model\"))"
      ],
      "metadata": {
        "colab": {
          "base_uri": "https://localhost:8080/"
        },
        "outputId": "a530b473-d207-4fd3-ab96-97c233fe425e",
        "id": "Zn6J7DPkODqq"
      },
      "execution_count": null,
      "outputs": [
        {
          "output_type": "stream",
          "name": "stdout",
          "text": [
            "iPhone 14 Pro\n"
          ]
        }
      ]
    },
    {
      "cell_type": "markdown",
      "source": [
        "#### **Exercise 2**"
      ],
      "metadata": {
        "id": "YsoRO9MZO-TO"
      }
    },
    {
      "cell_type": "code",
      "source": [
        "# Changing the \"year\" value from 2020 to 2023\n",
        "mobile =\t{\n",
        "  \"brand\": \"Apple\",\n",
        "  \"model\": \"iPhone 14 Pro\",\n",
        "  \"year\": \"2020\"\n",
        "}\n",
        "mobile[\"year\"] = \"2023\"\n",
        "print(mobile)"
      ],
      "metadata": {
        "colab": {
          "base_uri": "https://localhost:8080/"
        },
        "outputId": "32138f5c-2a56-4397-ac83-d9f02abbc495",
        "id": "IjgP-Ho6O-TW"
      },
      "execution_count": null,
      "outputs": [
        {
          "output_type": "stream",
          "name": "stdout",
          "text": [
            "{'brand': 'Apple', 'model': 'iPhone 14 Pro', 'year': '2023'}\n"
          ]
        }
      ]
    },
    {
      "cell_type": "markdown",
      "source": [
        "#### **Exercise 3**"
      ],
      "metadata": {
        "id": "c7xGEzQnO-rc"
      }
    },
    {
      "cell_type": "code",
      "source": [
        "# Adding the key/value pair \"color\" : \"Space Black\" in the mobile dictionary\n",
        "mobile =\t{\n",
        "  \"brand\": \"Apple\",\n",
        "  \"model\": \"iPhone 14 Pro\",\n",
        "  \"year\": \"2020\"\n",
        "}\n",
        "mobile[\"color\"] = \"Space Black\"\n",
        "print(mobile)"
      ],
      "metadata": {
        "colab": {
          "base_uri": "https://localhost:8080/"
        },
        "outputId": "ce62366f-6807-4a72-875e-f9383e44f173",
        "id": "dfFwvT83O-rd"
      },
      "execution_count": null,
      "outputs": [
        {
          "output_type": "stream",
          "name": "stdout",
          "text": [
            "{'brand': 'Apple', 'model': 'iPhone 14 Pro', 'year': '2020', 'color': 'Space Black'}\n"
          ]
        }
      ]
    },
    {
      "cell_type": "markdown",
      "source": [
        "#### **Exercise 4**"
      ],
      "metadata": {
        "id": "QssUf9w3O_Bk"
      }
    },
    {
      "cell_type": "code",
      "source": [
        "# Using pop() method to remove \"model\" from the mobile dictionary\n",
        "mobile =\t{\n",
        "  \"brand\": \"Apple\",\n",
        "  \"model\": \"iPhone 14 Pro\",\n",
        "  \"year\": \"2020\"\n",
        "}\n",
        "mobile.pop(\"model\")\n",
        "print(mobile)"
      ],
      "metadata": {
        "colab": {
          "base_uri": "https://localhost:8080/"
        },
        "outputId": "4584cf2d-d498-4cbe-eb0e-ada0b15b3489",
        "id": "dIHk4WeBO_Bk"
      },
      "execution_count": null,
      "outputs": [
        {
          "output_type": "stream",
          "name": "stdout",
          "text": [
            "{'brand': 'Apple', 'year': '2020'}\n"
          ]
        }
      ]
    },
    {
      "cell_type": "markdown",
      "source": [
        "#### **Exercise 5**"
      ],
      "metadata": {
        "id": "kXIo_3MvO_VT"
      }
    },
    {
      "cell_type": "code",
      "source": [
        "# Using clear() method to empty the mobile dictionary\n",
        "mobile =\t{\n",
        "  \"brand\": \"Apple\",\n",
        "  \"model\": \"iPhone 14 Pro\",\n",
        "  \"year\": \"2020\"\n",
        "}\n",
        "mobile.clear()\n",
        "print(mobile)"
      ],
      "metadata": {
        "colab": {
          "base_uri": "https://localhost:8080/"
        },
        "outputId": "1626aee6-18e9-4185-99ff-2c02646f2d0e",
        "id": "N2dNArC5O_VT"
      },
      "execution_count": null,
      "outputs": [
        {
          "output_type": "stream",
          "name": "stdout",
          "text": [
            "{}\n"
          ]
        }
      ]
    }
  ]
}