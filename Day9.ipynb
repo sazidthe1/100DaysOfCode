{
  "nbformat": 4,
  "nbformat_minor": 0,
  "metadata": {
    "colab": {
      "provenance": []
    },
    "kernelspec": {
      "name": "python3",
      "display_name": "Python 3"
    },
    "language_info": {
      "name": "python"
    }
  },
  "cells": [
    {
      "cell_type": "markdown",
      "source": [
        "## Day 9 of 100DaysOfCode 🐍\n",
        "### Python Functions 🎛️"
      ],
      "metadata": {
        "id": "dArul0zwXtHc"
      }
    },
    {
      "cell_type": "markdown",
      "source": [
        "### **Python Functions 🎛️**\n",
        "A **function** is a block of code which only runs when it is called.<br>\n",
        "Any data can pass into a function which is known as parameters. As a result, function can return that data."
      ],
      "metadata": {
        "id": "f6ZS_RIdZCPi"
      }
    },
    {
      "cell_type": "code",
      "execution_count": null,
      "metadata": {
        "colab": {
          "base_uri": "https://localhost:8080/"
        },
        "id": "JotFUutYXnt-",
        "outputId": "ac9b2ff3-0b56-4de4-927b-28cb9bdd8c78"
      },
      "outputs": [
        {
          "output_type": "stream",
          "name": "stdout",
          "text": [
            "This is a function!\n"
          ]
        }
      ],
      "source": [
        "# Creating a function\n",
        "def my_function():            # a function is defined using the \"def\" keyword\n",
        "  print(\"This is a function!\")\n",
        "\n",
        "# Calling a function\n",
        "my_function()"
      ]
    },
    {
      "cell_type": "markdown",
      "source": [
        "#### Arguments\n",
        "Information can be passed into functions as arguments.<br>Arguments are specified after the function name, inside the parentheses."
      ],
      "metadata": {
        "id": "bUZWhXQNcKkg"
      }
    },
    {
      "cell_type": "code",
      "source": [
        "# Creating a function and passing information using \"fname\" argument\n",
        "def my_function(fname):\n",
        "  print(fname + \" Ahmed\")\n",
        "\n",
        "my_function(\"Anabil\")\n",
        "my_function(\"Tomal\")\n",
        "my_function(\"Liton\")"
      ],
      "metadata": {
        "colab": {
          "base_uri": "https://localhost:8080/"
        },
        "id": "gMH7k0dKcdxz",
        "outputId": "93e13b48-2149-4071-a7e8-189792f841c3"
      },
      "execution_count": null,
      "outputs": [
        {
          "output_type": "stream",
          "name": "stdout",
          "text": [
            "Anabil Ahmed\n",
            "Tomal Ahmed\n",
            "Liton Ahmed\n"
          ]
        }
      ]
    },
    {
      "cell_type": "markdown",
      "source": [
        "#### Parameters or Arguments\n",
        "A parameter is the variable listed inside the parentheses in the function definition.<br>An argument is the value that is sent to the function when it is called."
      ],
      "metadata": {
        "id": "Kt9gLIRCrE7u"
      }
    },
    {
      "cell_type": "markdown",
      "source": [
        "#### Number of Arguments"
      ],
      "metadata": {
        "id": "1SG4blD0wv-S"
      }
    },
    {
      "cell_type": "code",
      "source": [
        "# This function expects 2 arguments, and gets 2 arguments\n",
        "def my_function(fname, lname):\n",
        "  print(fname + \" \" + lname)\n",
        "\n",
        "my_function(\"Farhan\", \"Islam\")"
      ],
      "metadata": {
        "colab": {
          "base_uri": "https://localhost:8080/"
        },
        "id": "W9T_8MLNcdkH",
        "outputId": "2bac3d54-9b68-410e-ef1c-6bcca32b1453"
      },
      "execution_count": null,
      "outputs": [
        {
          "output_type": "stream",
          "name": "stdout",
          "text": [
            "Farhan Islam\n"
          ]
        }
      ]
    },
    {
      "cell_type": "markdown",
      "source": [
        "#### Arbitrary Arguments, *args"
      ],
      "metadata": {
        "id": "Fmtw7Xcow8cN"
      }
    },
    {
      "cell_type": "code",
      "source": [
        "# If the number of arguments is unknown, add a * before the parameter name\n",
        "def my_function(*kids):\n",
        "  print(\"The youngest child is \" + kids[2])\n",
        "\n",
        "my_function(\"Roman\", \"Toma\", \"Tamim\")"
      ],
      "metadata": {
        "colab": {
          "base_uri": "https://localhost:8080/"
        },
        "id": "Cuyb7e29cdbS",
        "outputId": "e8cc75ef-03e8-4e9f-ce0e-89c5cd994cb7"
      },
      "execution_count": null,
      "outputs": [
        {
          "output_type": "stream",
          "name": "stdout",
          "text": [
            "The youngest child is Tamim\n"
          ]
        }
      ]
    },
    {
      "cell_type": "markdown",
      "source": [
        "#### Keyword Arguments\n",
        "We can also send arguments with the key = value syntax."
      ],
      "metadata": {
        "id": "dkqIwB8-xYUd"
      }
    },
    {
      "cell_type": "code",
      "source": [
        "# Sending arguments with the key = value syntax\n",
        "def my_function(child2, child3, child1):        # the order of the arguments does not matter\n",
        "  print(\"The youngest child is \" + child3)\n",
        "\n",
        "my_function(child1 = \"Roman\", child2 = \"Toma\", child3 = \"Tamim\")"
      ],
      "metadata": {
        "id": "gQYWM60tcciG"
      },
      "execution_count": null,
      "outputs": []
    },
    {
      "cell_type": "markdown",
      "source": [
        "#### Arbitrary Keyword Arguments, **kwargs"
      ],
      "metadata": {
        "id": "mELIFJuyyrRw"
      }
    },
    {
      "cell_type": "code",
      "source": [
        "# If the number of keyword arguments is unknown, add a double ** before the parameter name\n",
        "def my_function(**kid):\n",
        "  print(\"His last name is \" + kid[\"lname\"])\n",
        "\n",
        "my_function(fname = \"Farhan\", lname = \"Islam\")"
      ],
      "metadata": {
        "colab": {
          "base_uri": "https://localhost:8080/"
        },
        "id": "lhQb5KkPyZ1O",
        "outputId": "317f634e-aa9f-4774-c4b9-ac1545537d15"
      },
      "execution_count": null,
      "outputs": [
        {
          "output_type": "stream",
          "name": "stdout",
          "text": [
            "His last name is Islam\n"
          ]
        }
      ]
    },
    {
      "cell_type": "markdown",
      "source": [
        "#### Default Parameter Value\n",
        "The following e.g., is how to use a default parameter value.<br>If we call the function without argument, it uses the default value."
      ],
      "metadata": {
        "id": "_2-HPSqqCVy0"
      }
    },
    {
      "cell_type": "code",
      "source": [
        "# When there is nothing to pass, a parameter can pass a default value\n",
        "def my_function(country = \"Norway\"):\n",
        "  print(\"I am from \" + country)\n",
        "\n",
        "my_function(\"Bangladesh\")\n",
        "my_function(\"India\")\n",
        "my_function(\"Pakistan\")\n",
        "my_function()"
      ],
      "metadata": {
        "colab": {
          "base_uri": "https://localhost:8080/"
        },
        "id": "jq9m5mEbCb5r",
        "outputId": "3c41325a-db73-4f5c-eeef-2ed0320a59d2"
      },
      "execution_count": 1,
      "outputs": [
        {
          "output_type": "stream",
          "name": "stdout",
          "text": [
            "I am from Bangladesh\n",
            "I am from India\n",
            "I am from Pakistan\n",
            "I am from Norway\n"
          ]
        }
      ]
    },
    {
      "cell_type": "markdown",
      "source": [
        "#### Passing a List as an Argument\n",
        "Any data types of argument can pass to a function (string, number, list, dictionary, etc.).<br>Still it will be treated as the same data type inside the function."
      ],
      "metadata": {
        "id": "ogY7L5A7DzuM"
      }
    },
    {
      "cell_type": "code",
      "source": [
        "# Passing fruits list as argument in the function\n",
        "def my_function(food):\n",
        "  for fruit in food:\n",
        "    print(fruit)\n",
        "\n",
        "fruits = [\"Banana\", \"Mango\", \"Orange\"]\n",
        "\n",
        "my_function(fruits)"
      ],
      "metadata": {
        "colab": {
          "base_uri": "https://localhost:8080/"
        },
        "id": "FkkW2ydaD49O",
        "outputId": "40f5fa94-19e1-4e89-dff6-da20dc89c6b9"
      },
      "execution_count": 2,
      "outputs": [
        {
          "output_type": "stream",
          "name": "stdout",
          "text": [
            "Banana\n",
            "Mango\n",
            "Orange\n"
          ]
        }
      ]
    },
    {
      "cell_type": "markdown",
      "source": [
        "#### Return Values\n",
        "To let a function return a value, use the **return** statement."
      ],
      "metadata": {
        "id": "G2b8ajCfGzdl"
      }
    },
    {
      "cell_type": "code",
      "source": [
        "# Returning\n",
        "def my_function(x):\n",
        "  return 5 * x\n",
        "\n",
        "print(my_function(3))\n",
        "print(my_function(6))\n",
        "print(my_function(9))"
      ],
      "metadata": {
        "colab": {
          "base_uri": "https://localhost:8080/"
        },
        "id": "veG2ngc6G-Jx",
        "outputId": "b8a693bd-75e3-4b2f-9702-9c18f39391a6"
      },
      "execution_count": 4,
      "outputs": [
        {
          "output_type": "stream",
          "name": "stdout",
          "text": [
            "15\n",
            "30\n",
            "45\n"
          ]
        }
      ]
    },
    {
      "cell_type": "markdown",
      "source": [
        "#### **Python Functions  🎛️- Exercises**"
      ],
      "metadata": {
        "id": "eTia9AfH-m8s"
      }
    },
    {
      "cell_type": "markdown",
      "source": [
        "**Exercise 1**"
      ],
      "metadata": {
        "id": "BNvmhl9oH4Kk"
      }
    },
    {
      "cell_type": "code",
      "source": [
        "# Creating a function named my_function\n",
        "\n",
        "def my_function():\n",
        "  print(\"Hello from a Function!\")"
      ],
      "metadata": {
        "id": "b3lU-m6rIIdJ"
      },
      "execution_count": 9,
      "outputs": []
    },
    {
      "cell_type": "markdown",
      "source": [
        "**Exercise 2**"
      ],
      "metadata": {
        "id": "DHKqmzg7JG_-"
      }
    },
    {
      "cell_type": "code",
      "source": [
        "# Executing a function named my_function\n",
        "\n",
        "def my_function():\n",
        "  print(\"Hello from a function\")\n",
        "\n",
        "my_function()"
      ],
      "metadata": {
        "colab": {
          "base_uri": "https://localhost:8080/"
        },
        "outputId": "4b4af784-8f4d-454b-de3b-db0827e46373",
        "id": "JprpD0HIJHAG"
      },
      "execution_count": null,
      "outputs": [
        {
          "output_type": "stream",
          "name": "stdout",
          "text": [
            "Hello from a Function!\n"
          ]
        }
      ]
    },
    {
      "cell_type": "markdown",
      "source": [
        "**Exercise 3**"
      ],
      "metadata": {
        "id": "-zwVVUGWJHO4"
      }
    },
    {
      "cell_type": "code",
      "source": [
        "# Inside a function with two parameters, printing the first parameter\n",
        "\n",
        "def my_function(fname, lname):\n",
        "  print(fname)"
      ],
      "metadata": {
        "id": "RWGFpVtWJHO5"
      },
      "execution_count": 10,
      "outputs": []
    },
    {
      "cell_type": "markdown",
      "source": [
        "**Exercise 4**"
      ],
      "metadata": {
        "id": "eupE4szLJHev"
      }
    },
    {
      "cell_type": "code",
      "source": [
        "# Let the function return the x parameter + 5\n",
        "\n",
        "def my_function(x):\n",
        "  return x + 5"
      ],
      "metadata": {
        "id": "VffP_LCmJHew"
      },
      "execution_count": 12,
      "outputs": []
    },
    {
      "cell_type": "markdown",
      "source": [
        "**Exercise 5**"
      ],
      "metadata": {
        "id": "kM6Onm11JOiz"
      }
    },
    {
      "cell_type": "code",
      "source": [
        "# If the number of arguments that will be passed into the function, there is a prefix to add in the function definition\n",
        "\n",
        "def my_function(*kids):\n",
        "  print(\"The youngest child is \" + kids[2])"
      ],
      "metadata": {
        "id": "tZAQlLHpJOi0"
      },
      "execution_count": 13,
      "outputs": []
    },
    {
      "cell_type": "markdown",
      "source": [
        "**Exercise 6**"
      ],
      "metadata": {
        "id": "DLO3JOYYJOy1"
      }
    },
    {
      "cell_type": "code",
      "source": [
        "# If the number of keyword arguments that will be passed into the function, there is a prefix can add in the function definition\n",
        "\n",
        "def my_function(**kid):\n",
        "  print(\"His last name is \" + kid)"
      ],
      "metadata": {
        "id": "B3hAa69YJOy2"
      },
      "execution_count": 14,
      "outputs": []
    }
  ]
}