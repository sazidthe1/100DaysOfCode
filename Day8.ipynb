{
  "nbformat": 4,
  "nbformat_minor": 0,
  "metadata": {
    "colab": {
      "provenance": [],
      "collapsed_sections": [
        "ydJVZNNtOxv3",
        "YfLIg1k76dle"
      ]
    },
    "kernelspec": {
      "name": "python3",
      "display_name": "Python 3"
    },
    "language_info": {
      "name": "python"
    }
  },
  "cells": [
    {
      "cell_type": "markdown",
      "source": [
        "## Day 8 of 100DaysOfCode 🐍\n",
        "### Python Loops - For, While 🔄 🔁🕒"
      ],
      "metadata": {
        "id": "4O1_-XQVNxkw"
      }
    },
    {
      "cell_type": "markdown",
      "source": [
        "### **Python For Loops 🔄**\n",
        "A **for loop** is used for iterating over a sequence (that is either a list, a tuple, a dictionary, a set, or a string)."
      ],
      "metadata": {
        "id": "ydJVZNNtOxv3"
      }
    },
    {
      "cell_type": "code",
      "execution_count": null,
      "metadata": {
        "colab": {
          "base_uri": "https://localhost:8080/"
        },
        "id": "xnbEIpmuLeFD",
        "outputId": "bd5fbf70-65d2-4497-886c-1be7a8ac77d8"
      },
      "outputs": [
        {
          "output_type": "stream",
          "name": "stdout",
          "text": [
            "Banana\n",
            "Mango\n",
            "Orange\n"
          ]
        }
      ],
      "source": [
        "# Printing each fruit in a fruit list\n",
        "fruits = [\"Banana\", \"Mango\", \"Orange\"]\n",
        "for fruit in fruits:      # Here fruit is the iterator in this loop\n",
        "  print(fruit)"
      ]
    },
    {
      "cell_type": "markdown",
      "source": [
        "#### Looping Through a String\n",
        "Even strings are iterable objects, it contain a sequence of characters."
      ],
      "metadata": {
        "id": "RiBIMxDKQVBY"
      }
    },
    {
      "cell_type": "code",
      "source": [
        "#  Looping through the letters in the word \"Bangladesh\"\n",
        "for letter in \"Bangladesh\":\n",
        "  print(letter)"
      ],
      "metadata": {
        "colab": {
          "base_uri": "https://localhost:8080/"
        },
        "id": "eMx3FrqyQQjQ",
        "outputId": "289a7dd7-d08b-4eb7-ff8d-c7e4a1835d41"
      },
      "execution_count": null,
      "outputs": [
        {
          "output_type": "stream",
          "name": "stdout",
          "text": [
            "B\n",
            "a\n",
            "n\n",
            "g\n",
            "l\n",
            "a\n",
            "d\n",
            "e\n",
            "s\n",
            "h\n"
          ]
        }
      ]
    },
    {
      "cell_type": "markdown",
      "source": [
        "#### The break Statement\n",
        "With the **break statement**, we can stop the loop before it has looped through all the items."
      ],
      "metadata": {
        "id": "p1cMXphcQsZb"
      }
    },
    {
      "cell_type": "code",
      "source": [
        "# Loop will break/exit the code when fruit is \"Mango\"\n",
        "fruits = [\"Apple\", \"Banana\", \"Cherry\", \"Mango\", \"Orange\"]\n",
        "for fruit in fruits:\n",
        "  print(fruit)\n",
        "  if fruit == \"Mango\":\n",
        "    break"
      ],
      "metadata": {
        "colab": {
          "base_uri": "https://localhost:8080/"
        },
        "id": "Sdp3cQgyQQgO",
        "outputId": "fc864954-89a1-455b-d0f6-d53a9a4142c2"
      },
      "execution_count": null,
      "outputs": [
        {
          "output_type": "stream",
          "name": "stdout",
          "text": [
            "Apple\n",
            "Banana\n",
            "Cherry\n",
            "Mango\n"
          ]
        }
      ]
    },
    {
      "cell_type": "markdown",
      "source": [
        "Exit the loop when fruit is \"Mango\", but this time the break comes before the print."
      ],
      "metadata": {
        "id": "CFwxWvQeUB_p"
      }
    },
    {
      "cell_type": "code",
      "source": [
        "# Loop will break/exit the code when fruit is \"Mango\"\n",
        "fruits = [\"Apple\", \"Banana\", \"Cherry\", \"Mango\", \"Orange\"]\n",
        "for fruit in fruits:\n",
        "  if fruit == \"Mango\":\n",
        "    break\n",
        "  print(fruit)"
      ],
      "metadata": {
        "colab": {
          "base_uri": "https://localhost:8080/"
        },
        "id": "DwtCUlatQQTz",
        "outputId": "56abecc2-24f9-4f24-bc0f-1596eadee166"
      },
      "execution_count": null,
      "outputs": [
        {
          "output_type": "stream",
          "name": "stdout",
          "text": [
            "Apple\n",
            "Banana\n",
            "Cherry\n"
          ]
        }
      ]
    },
    {
      "cell_type": "markdown",
      "source": [
        "#### The continue Statement\n",
        "With the **continue statement**, we can stop the current iteration of the loop, and continue with the next."
      ],
      "metadata": {
        "id": "EnSz8I2tUenH"
      }
    },
    {
      "cell_type": "code",
      "source": [
        "# Using continue will iterate each fruit except \"Mango\"\n",
        "fruits = [\"Apple\", \"Banana\", \"Cherry\", \"Mango\", \"Orange\"]\n",
        "for fruit in fruits:\n",
        "  if fruit == \"Mango\":\n",
        "    continue\n",
        "  print(fruit)"
      ],
      "metadata": {
        "colab": {
          "base_uri": "https://localhost:8080/"
        },
        "id": "AF_gQJmzUR_V",
        "outputId": "cdf42125-3076-4657-cad8-941ede352737"
      },
      "execution_count": null,
      "outputs": [
        {
          "output_type": "stream",
          "name": "stdout",
          "text": [
            "Apple\n",
            "Banana\n",
            "Cherry\n",
            "Orange\n"
          ]
        }
      ]
    },
    {
      "cell_type": "markdown",
      "source": [
        "#### The range() Function\n",
        "A **range() function** is used to loop through a set of code a specified number of times.<br>This function returns a sequence of numbers, starting from 0 by default, and increments by 1 (by default), and ends at a specified number."
      ],
      "metadata": {
        "id": "J4KsFsfCVMYG"
      }
    },
    {
      "cell_type": "code",
      "source": [
        "# Using the range() function\n",
        "for x in range(6):\n",
        "  print(x)"
      ],
      "metadata": {
        "colab": {
          "base_uri": "https://localhost:8080/"
        },
        "id": "vpXODpf3UR8s",
        "outputId": "d75c493b-1ae9-457a-871d-043236ba8c6c"
      },
      "execution_count": null,
      "outputs": [
        {
          "output_type": "stream",
          "name": "stdout",
          "text": [
            "0\n",
            "1\n",
            "2\n",
            "3\n",
            "4\n",
            "5\n"
          ]
        }
      ]
    },
    {
      "cell_type": "code",
      "source": [
        "# Using the start parameter\n",
        "for x in range(2, 6):\n",
        "  print(x)"
      ],
      "metadata": {
        "colab": {
          "base_uri": "https://localhost:8080/"
        },
        "id": "AZj5gFcTUR5s",
        "outputId": "75a53fb5-b2d7-4bef-f71a-a2b9772c4714"
      },
      "execution_count": null,
      "outputs": [
        {
          "output_type": "stream",
          "name": "stdout",
          "text": [
            "2\n",
            "3\n",
            "4\n",
            "5\n"
          ]
        }
      ]
    },
    {
      "cell_type": "code",
      "source": [
        "# Increment the sequence with 2 (default is 1)\n",
        "for x in range(2, 11, 2):\n",
        "  print(x)"
      ],
      "metadata": {
        "colab": {
          "base_uri": "https://localhost:8080/"
        },
        "id": "K4TBN1OYW4i6",
        "outputId": "b3b1fee5-e07a-4846-c945-da1980d08b96"
      },
      "execution_count": null,
      "outputs": [
        {
          "output_type": "stream",
          "name": "stdout",
          "text": [
            "2\n",
            "4\n",
            "6\n",
            "8\n",
            "10\n"
          ]
        }
      ]
    },
    {
      "cell_type": "markdown",
      "source": [
        "#### Else in For Loop\n",
        "The **else** keyword in a for loop specifies a block of code to be executed when the loop is finished.\n",
        "\n"
      ],
      "metadata": {
        "id": "3t5rQtonXXVV"
      }
    },
    {
      "cell_type": "code",
      "source": [
        "# Printing all numbers from 0 to 5, and with a message when the loop has ended\n",
        "for x in range(1, 6):\n",
        "  print(x)\n",
        "else:\n",
        "  print(\"Finally finished!\")"
      ],
      "metadata": {
        "colab": {
          "base_uri": "https://localhost:8080/"
        },
        "id": "QDYglUoLW4gc",
        "outputId": "e85f1f99-374d-4765-b092-b6ef2a91d696"
      },
      "execution_count": null,
      "outputs": [
        {
          "output_type": "stream",
          "name": "stdout",
          "text": [
            "1\n",
            "2\n",
            "3\n",
            "4\n",
            "5\n",
            "Finally finished!\n"
          ]
        }
      ]
    },
    {
      "cell_type": "markdown",
      "source": [
        "#### Nested Loops\n",
        "A **nested loop** is a loop inside a loop. The \"inner loop\" will be executed one time for each iteration of the \"outer loop\"."
      ],
      "metadata": {
        "id": "K_y_LWVYcYwz"
      }
    },
    {
      "cell_type": "code",
      "source": [
        "# Printing each adjective for every fruit\n",
        "adjectives = [\"Red\", \"Big\", \"Tasty\"]\n",
        "fruits = [\"Banana\", \"Mango\", \"Orange\"]\n",
        "\n",
        "for adjective in adjectives:\n",
        "  for fruit in fruits:\n",
        "    print(adjective, fruit)"
      ],
      "metadata": {
        "colab": {
          "base_uri": "https://localhost:8080/"
        },
        "id": "qm1wtrQdcoVu",
        "outputId": "782fcf2b-a21c-48f2-ec0d-a48121da0ae1"
      },
      "execution_count": null,
      "outputs": [
        {
          "output_type": "stream",
          "name": "stdout",
          "text": [
            "Red Banana\n",
            "Red Mango\n",
            "Red Orange\n",
            "Big Banana\n",
            "Big Mango\n",
            "Big Orange\n",
            "Tasty Banana\n",
            "Tasty Mango\n",
            "Tasty Orange\n"
          ]
        }
      ]
    },
    {
      "cell_type": "markdown",
      "source": [
        "#### The pass Statement\n",
        "A for loop cannot be empty, but for some reason having a for loop with no content, put in the **pass statement** to avoid getting an error."
      ],
      "metadata": {
        "id": "a0V1zqbodSwt"
      }
    },
    {
      "cell_type": "code",
      "source": [
        "for x in [0, 1, 2]:\n",
        "  pass"
      ],
      "metadata": {
        "id": "ioUGYlx3coMX"
      },
      "execution_count": null,
      "outputs": []
    },
    {
      "cell_type": "markdown",
      "source": [
        "#### **Python For Loops 🔄- Exercises**"
      ],
      "metadata": {
        "id": "cdLZmo35B90R"
      }
    },
    {
      "cell_type": "markdown",
      "source": [
        "**Exercise 1**"
      ],
      "metadata": {
        "id": "h0sg80CnB90n"
      }
    },
    {
      "cell_type": "code",
      "source": [
        "# Loop through the items in the fruits list\n",
        "fruits = [\"Apple\", \"Banana\", \"Cherry\"]\n",
        "for fruit in fruits:\n",
        "  print(fruit)"
      ],
      "metadata": {
        "colab": {
          "base_uri": "https://localhost:8080/"
        },
        "outputId": "18ea13a6-e1f7-4b1b-be6a-4afb2a0eeba1",
        "id": "1rQNbyMeB90o"
      },
      "execution_count": null,
      "outputs": [
        {
          "output_type": "stream",
          "name": "stdout",
          "text": [
            "Apple\n",
            "Banana\n",
            "Cherry\n"
          ]
        }
      ]
    },
    {
      "cell_type": "markdown",
      "source": [
        "**Exercise 2**"
      ],
      "metadata": {
        "id": "n9PNPxzJCnIm"
      }
    },
    {
      "cell_type": "code",
      "source": [
        "# In the loop, when the item value is \"banana\", jump directly to the next item\n",
        "fruits = [\"Apple\", \"Banana\", \"Cherry\"]\n",
        "for fruit in fruits:\n",
        "  if fruit == \"Banana\":\n",
        "    continue\n",
        "  print(fruit)"
      ],
      "metadata": {
        "colab": {
          "base_uri": "https://localhost:8080/"
        },
        "outputId": "4f3b0a0a-f40a-408f-dfc3-db7ed3ac1e8c",
        "id": "zRvQ6Ih5CnI0"
      },
      "execution_count": null,
      "outputs": [
        {
          "output_type": "stream",
          "name": "stdout",
          "text": [
            "Apple\n",
            "Cherry\n"
          ]
        }
      ]
    },
    {
      "cell_type": "markdown",
      "source": [
        "**Exercise 3**"
      ],
      "metadata": {
        "id": "1Gi8W12LCoFm"
      }
    },
    {
      "cell_type": "code",
      "source": [
        "# Use the range function to loop through a code set 6 times\n",
        "for x in range(6):\n",
        "  print(x)"
      ],
      "metadata": {
        "colab": {
          "base_uri": "https://localhost:8080/"
        },
        "outputId": "945963d6-0d6a-41ea-b98f-4ac127084376",
        "id": "mF_E2da7CoFn"
      },
      "execution_count": null,
      "outputs": [
        {
          "output_type": "stream",
          "name": "stdout",
          "text": [
            "0\n",
            "1\n",
            "2\n",
            "3\n",
            "4\n",
            "5\n"
          ]
        }
      ]
    },
    {
      "cell_type": "markdown",
      "source": [
        "**Exercise 4**"
      ],
      "metadata": {
        "id": "9_VUmc3fCojD"
      }
    },
    {
      "cell_type": "code",
      "source": [
        "# Exit the loop when fruit is \"Banana\"\n",
        "fruits = [\"Apple\", \"Banana\", \"Cherry\"]\n",
        "for fruit in fruits:\n",
        "  if fruit == \"Banana\":\n",
        "    break\n",
        "  print(fruit)"
      ],
      "metadata": {
        "colab": {
          "base_uri": "https://localhost:8080/"
        },
        "outputId": "72f6948e-d15a-4516-db83-f5cdd351731a",
        "id": "9S919Fv2CojE"
      },
      "execution_count": null,
      "outputs": [
        {
          "output_type": "stream",
          "name": "stdout",
          "text": [
            "Apple\n"
          ]
        }
      ]
    },
    {
      "cell_type": "markdown",
      "source": [
        "### **Python While Loops 🔁🕒**\n",
        "A **while loop** is used for executing a set of statements as long as the condition is true."
      ],
      "metadata": {
        "id": "YfLIg1k76dle"
      }
    },
    {
      "cell_type": "code",
      "source": [
        "# Printing i as long as i is less than 6\n",
        "i = 1\n",
        "while i < 6:\n",
        "  print(i)\n",
        "  i += 1        # Note: Remember to increment i, or else the loop will continue forever."
      ],
      "metadata": {
        "colab": {
          "base_uri": "https://localhost:8080/"
        },
        "id": "uitTX7Qf61lt",
        "outputId": "db50543f-ec86-4040-c978-a5d3a549ee76"
      },
      "execution_count": null,
      "outputs": [
        {
          "output_type": "stream",
          "name": "stdout",
          "text": [
            "1\n",
            "2\n",
            "3\n",
            "4\n",
            "5\n"
          ]
        }
      ]
    },
    {
      "cell_type": "markdown",
      "source": [
        "#### The break Statement\n",
        "With the **break statement**, we can stop the loop even if the while condition is true."
      ],
      "metadata": {
        "id": "X4Sng5lc7lJ4"
      }
    },
    {
      "cell_type": "code",
      "source": [
        "# Printing i as long as i is the break is equal to 4\n",
        "i = 1\n",
        "while i < 6:\n",
        "  if i == 4:\n",
        "    break\n",
        "  print(i)\n",
        "  i += 1"
      ],
      "metadata": {
        "colab": {
          "base_uri": "https://localhost:8080/"
        },
        "id": "I1dA9IzH7s4x",
        "outputId": "4d8bed6a-1170-4b18-92c0-f703cb0bc703"
      },
      "execution_count": null,
      "outputs": [
        {
          "output_type": "stream",
          "name": "stdout",
          "text": [
            "1\n",
            "2\n",
            "3\n"
          ]
        }
      ]
    },
    {
      "cell_type": "markdown",
      "source": [
        "#### The continue Statement\n",
        "With the **continue statement**, we can stop the current iteration, and continue with the next."
      ],
      "metadata": {
        "id": "O9iagMM78xtI"
      }
    },
    {
      "cell_type": "code",
      "source": [
        "# Printing all numbers till 6, except 4\n",
        "i = 0\n",
        "while i < 6:\n",
        "  i += 1\n",
        "  if i == 4:\n",
        "    continue\n",
        "  print(i)"
      ],
      "metadata": {
        "colab": {
          "base_uri": "https://localhost:8080/"
        },
        "id": "jl8ZAb-i86YH",
        "outputId": "835cf777-8b17-4359-e822-77d33e85ef5e"
      },
      "execution_count": null,
      "outputs": [
        {
          "output_type": "stream",
          "name": "stdout",
          "text": [
            "1\n",
            "2\n",
            "3\n",
            "5\n",
            "6\n"
          ]
        }
      ]
    },
    {
      "cell_type": "markdown",
      "source": [
        "#### The else Statement\n",
        "With the **else statement** we can run a block of code once when the condition no longer is true."
      ],
      "metadata": {
        "id": "bzJK1r6g-IwI"
      }
    },
    {
      "cell_type": "code",
      "source": [
        "# Printing a message once the condition is false\n",
        "i = 1\n",
        "while i < 6:\n",
        "  print(i)\n",
        "  i += 1\n",
        "else:\n",
        "  print(\"i is no longer less than 6\")"
      ],
      "metadata": {
        "colab": {
          "base_uri": "https://localhost:8080/"
        },
        "id": "KCILBm7d-Rx1",
        "outputId": "0c587d50-9c5e-405a-ce1a-3ae06dc87559"
      },
      "execution_count": null,
      "outputs": [
        {
          "output_type": "stream",
          "name": "stdout",
          "text": [
            "1\n",
            "2\n",
            "3\n",
            "4\n",
            "5\n",
            "i is no longer less than 6\n"
          ]
        }
      ]
    },
    {
      "cell_type": "markdown",
      "source": [
        "#### **Python While Loops 🔁🕒- Exercises**"
      ],
      "metadata": {
        "id": "eTia9AfH-m8s"
      }
    },
    {
      "cell_type": "markdown",
      "source": [
        "**Exercise 1**"
      ],
      "metadata": {
        "id": "weyr45sXODqi"
      }
    },
    {
      "cell_type": "code",
      "source": [
        "# Printing i as long as i is less than 6\n",
        "i = 1\n",
        "while i < 6:\n",
        "  print(i)\n",
        "  i += 1"
      ],
      "metadata": {
        "colab": {
          "base_uri": "https://localhost:8080/"
        },
        "id": "FBWPatLKANBi",
        "outputId": "585a636c-9d23-4fc2-ebee-1a2eec05f506"
      },
      "execution_count": null,
      "outputs": [
        {
          "output_type": "stream",
          "name": "stdout",
          "text": [
            "1\n",
            "2\n",
            "3\n",
            "4\n",
            "5\n"
          ]
        }
      ]
    },
    {
      "cell_type": "markdown",
      "source": [
        "**Exercise 2**"
      ],
      "metadata": {
        "id": "1xlYaeY5AqDn"
      }
    },
    {
      "cell_type": "code",
      "source": [
        "# The loop will stop if i is 3\n",
        "i = 1\n",
        "while i < 6:\n",
        "  if i == 3:\n",
        "    break\n",
        "  i += 1"
      ],
      "metadata": {
        "id": "a1qPnZzkAqDo"
      },
      "execution_count": null,
      "outputs": []
    },
    {
      "cell_type": "markdown",
      "source": [
        "**Exercise 3**"
      ],
      "metadata": {
        "id": "p4sc8weGBFVa"
      }
    },
    {
      "cell_type": "code",
      "source": [
        "# In the loop, when i is 3, jump directly to the next iteration\n",
        "i = 0\n",
        "while i < 6:\n",
        "  i += 1\n",
        "  if i == 3:\n",
        "    continue\n",
        "  print(i)"
      ],
      "metadata": {
        "colab": {
          "base_uri": "https://localhost:8080/"
        },
        "id": "QCAVQxGFBFVb",
        "outputId": "1a381f54-7046-48c6-b846-3557350ad195"
      },
      "execution_count": null,
      "outputs": [
        {
          "output_type": "stream",
          "name": "stdout",
          "text": [
            "1\n",
            "2\n",
            "4\n",
            "5\n",
            "6\n"
          ]
        }
      ]
    },
    {
      "cell_type": "markdown",
      "source": [
        "**Exercise 4**"
      ],
      "metadata": {
        "id": "CrkaMgz-BFgz"
      }
    },
    {
      "cell_type": "code",
      "source": [
        "# Print a message once the condition is false\n",
        "i = 1\n",
        "while i < 6:\n",
        "  print(i)\n",
        "  i += 1\n",
        "else:\n",
        "  print(\"i is no longer less than 6\")"
      ],
      "metadata": {
        "colab": {
          "base_uri": "https://localhost:8080/"
        },
        "id": "Ojr3uSxyBFgz",
        "outputId": "5b50bc7e-49d5-4153-c8bb-876812cb4286"
      },
      "execution_count": null,
      "outputs": [
        {
          "output_type": "stream",
          "name": "stdout",
          "text": [
            "1\n",
            "2\n",
            "3\n",
            "4\n",
            "5\n",
            "i is no longer less than 6\n"
          ]
        }
      ]
    }
  ]
}