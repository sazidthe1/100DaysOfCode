{
  "nbformat": 4,
  "nbformat_minor": 0,
  "metadata": {
    "colab": {
      "provenance": []
    },
    "kernelspec": {
      "name": "python3",
      "display_name": "Python 3"
    },
    "language_info": {
      "name": "python"
    }
  },
  "cells": [
    {
      "cell_type": "markdown",
      "source": [
        "## Day 23 of 100DaysOfCode 🐍\n",
        "### Object-Oriented Programming (OOP) - Encapsulation"
      ],
      "metadata": {
        "id": "2Tu150GDft69"
      }
    },
    {
      "cell_type": "markdown",
      "source": [
        "### **OOP Encapsulation 📦🔒**\n",
        "\n",
        "**Encapsulation** is one of the fundamental principles of object-oriented programming (OOP) and is used to restrict access to the internal state and behavior of an object. In Python, encapsulation can be achieved through the use of access modifiers and property decorators. <br>This principle is used to hide the internal state of an object and protect it from unauthorized access."
      ],
      "metadata": {
        "id": "_swXF19AUVJ7"
      }
    },
    {
      "cell_type": "markdown",
      "source": [
        "#### **Defining a Class**\n",
        "Encapsulation in Python begins with the definition of a class. A class is a blueprint that encapsulates the data (attributes) and methods that operate on the data."
      ],
      "metadata": {
        "id": "1Q7rCHAhXodO"
      }
    },
    {
      "cell_type": "code",
      "source": [
        "# Creating a Employee class\n",
        "class Employee:\n",
        "    def __init__(self, name, age):\n",
        "        self.name = name\n",
        "        self.age = age\n",
        "\n",
        "    # Encapsulting the display menthod in the Employee class\n",
        "    def display(self):\n",
        "        print(f\"Employee Name: {self.name}, Age: {self.age}\")"
      ],
      "metadata": {
        "id": "MPsuIY7SGJmZ"
      },
      "execution_count": null,
      "outputs": []
    },
    {
      "cell_type": "markdown",
      "source": [
        "In the above example, name and age are attributes, and display is a method encapsulated within the Employee class."
      ],
      "metadata": {
        "id": "Rw1PL4_LCE1l"
      }
    },
    {
      "cell_type": "code",
      "source": [
        "# Using the display method to printing the employee1\n",
        "employee1 = Employee(\"Jaber Hossain\", 32)\n",
        "employee1.display()"
      ],
      "metadata": {
        "colab": {
          "base_uri": "https://localhost:8080/"
        },
        "id": "KDA_hBhsh458",
        "outputId": "a4e54e5d-92db-4d39-9d97-082cb102122d"
      },
      "execution_count": null,
      "outputs": [
        {
          "output_type": "stream",
          "name": "stdout",
          "text": [
            "Employee Name: Jaber Hossain, Age: 32\n"
          ]
        }
      ]
    },
    {
      "cell_type": "markdown",
      "source": [
        "#### **Private Members 🔒**\n",
        "In Python, there is no true sense of private members, but a convention is followed to treat a variable as private by prefixing it with an underscore `_`. If it is prefixed with double underscore `__`, Python uses name mangling to avoid its direct access.\n",
        "\n",
        "Here's how you can define private members."
      ],
      "metadata": {
        "id": "UZor_UhljIJm"
      }
    },
    {
      "cell_type": "code",
      "source": [
        "class Employee:\n",
        "    def __init__(self, name, age):\n",
        "        self.name = name\n",
        "        self.age = age\n",
        "\n",
        "    # Adding \"__\" before the attributes (self.name, self.age)\n",
        "    def display(self):\n",
        "        print(f'Employee Name: {self.__name}, Age: {self.__age}')"
      ],
      "metadata": {
        "id": "xpiwbfNCh5uC"
      },
      "execution_count": null,
      "outputs": []
    },
    {
      "cell_type": "markdown",
      "source": [
        "Now trying to access the private members."
      ],
      "metadata": {
        "id": "Y6mopASKFXvC"
      }
    },
    {
      "cell_type": "code",
      "source": [
        "# Using the display method to printing the employee1\n",
        "employee2 = Employee(\"Farhan Islam\", 30)\n",
        "employee2.display()"
      ],
      "metadata": {
        "id": "buwfKLojGFlt"
      },
      "execution_count": null,
      "outputs": []
    },
    {
      "cell_type": "markdown",
      "source": [
        "This will throw an `AttributeError: 'Employee' object has no attribute '_Employee__name'`"
      ],
      "metadata": {
        "id": "D9fi8a6MF2Ql"
      }
    },
    {
      "cell_type": "code",
      "source": [
        "# Creating the Employee class\n",
        "class Employee:\n",
        "    def __init__(self, name, age):\n",
        "        self.__name = name\n",
        "        self.__age = age\n",
        "\n",
        "    # Creating the getter for name\n",
        "    def get_name(self):\n",
        "        return self.__name\n",
        "\n",
        "    # Creating the setter for name\n",
        "    def set_name(self, name):\n",
        "        self.__name = name\n",
        "\n",
        "    # Creating the getter for age\n",
        "    def get_age(self):\n",
        "        return self.__age\n",
        "\n",
        "    # Creating the setter for age\n",
        "    def set_age(self, age):\n",
        "        if age > 0:\n",
        "            self.__age = age\n",
        "\n",
        "# Creating an object of the Employee class\n",
        "employee = Employee(\"Sazidul Islam\", 28)\n",
        "\n",
        "# Using getter method\n",
        "print(employee.get_name())  # Output: Sazidul Islam\n",
        "print(employee.get_age())   # Output: 28\n",
        "\n",
        "# Using setter method to change the name and age\n",
        "employee.set_name(\"Sazidul Islam\")\n",
        "employee.set_age(30)\n",
        "\n",
        "# Using getter method to see the changed values\n",
        "print(employee.get_name())  # Output: Sazidul Islam\n",
        "print(employee.get_age())   # Output: 30"
      ],
      "metadata": {
        "colab": {
          "base_uri": "https://localhost:8080/"
        },
        "id": "0pTwf27iIamh",
        "outputId": "2fe6aed9-ec03-4017-babc-3ed52a3912f9"
      },
      "execution_count": null,
      "outputs": [
        {
          "output_type": "stream",
          "name": "stdout",
          "text": [
            "Sazidul Islam\n",
            "28\n",
            "Sazidul Islam\n",
            "30\n"
          ]
        }
      ]
    }
  ]
}
