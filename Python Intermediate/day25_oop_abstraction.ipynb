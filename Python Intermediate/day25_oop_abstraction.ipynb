{
  "nbformat": 4,
  "nbformat_minor": 0,
  "metadata": {
    "colab": {
      "provenance": []
    },
    "kernelspec": {
      "name": "python3",
      "display_name": "Python 3"
    },
    "language_info": {
      "name": "python"
    }
  },
  "cells": [
    {
      "cell_type": "markdown",
      "source": [
        "## Day 25 of 100DaysOfCode 🐍\n",
        "### Object-Oriented Programming (OOP) - Abstraction"
      ],
      "metadata": {
        "id": "2Tu150GDft69"
      }
    },
    {
      "cell_type": "markdown",
      "source": [
        "### **OOP Abstraction 👻**\n",
        "\n",
        "**Abstraction** in OOP refers to the process of hiding the internal details and showcasing only the functionalities. It is another fundamental principles of OOP that makes the system more robust and easier to maintain."
      ],
      "metadata": {
        "id": "7z_4nBtEO5Wl"
      }
    },
    {
      "cell_type": "markdown",
      "source": [
        "#### **Understanding Abstraction** 🧩\n",
        "\n",
        "Abstraction allows us to focus on what an object does instead of how it does it. We hide the complex implementations and expose user-friendly interfaces to the users."
      ],
      "metadata": {
        "id": "X688iNMhPjgB"
      }
    },
    {
      "cell_type": "code",
      "source": [
        "class TVRemoteControl:\n",
        "    def __init__(self, tv):\n",
        "        self.tv = tv  # Store the TV object to be controlled\n",
        "\n",
        "    def power_on(self):\n",
        "        self.tv.power_on()  # Delegate the power on operation to the TV object\n",
        "\n",
        "    def power_off(self):\n",
        "        self.tv.power_off()  # Delegate the power off operation to the TV object\n",
        "\n",
        "    def change_channel(self, channel):\n",
        "        self.tv.change_channel(channel)  # Delegate the channel change operation to the TV object\n",
        "\n",
        "    def volume_up(self):\n",
        "        self.tv.volume_up()  # Delegate the volume increase operation to the TV object\n",
        "\n",
        "    def volume_down(self):\n",
        "        self.tv.volume_down()  # Delegate the volume decrease operation to the TV object\n",
        "\n",
        "class TV:\n",
        "    def power_on(self):\n",
        "        print(\"TV powered on\")\n",
        "\n",
        "    def power_off(self):\n",
        "        print(\"TV powered off\")\n",
        "\n",
        "    def change_channel(self, channel):\n",
        "        print(f\"Channel changed to {channel}\")\n",
        "\n",
        "    def volume_up(self):\n",
        "        print(\"Volume increased\")\n",
        "\n",
        "    def volume_down(self):\n",
        "        print(\"Volume decreased\")\n",
        "\n",
        "# Using the TVRemoteControl\n",
        "my_tv = TV()\n",
        "remote = TVRemoteControl(my_tv)\n",
        "\n",
        "remote.power_on()         # Output: TV powered on\n",
        "remote.change_channel(7)  # Output: Channel changed to 7\n",
        "remote.volume_up()        # Output: Volume increased\n",
        "remote.power_off()        # Output: TV powered off"
      ],
      "metadata": {
        "colab": {
          "base_uri": "https://localhost:8080/"
        },
        "id": "ppfG4IIfkBzN",
        "outputId": "2569a303-10ad-4d8c-a280-2d7ee164db19"
      },
      "execution_count": null,
      "outputs": [
        {
          "output_type": "stream",
          "name": "stdout",
          "text": [
            "TV powered on\n",
            "Channel changed to 7\n",
            "Volume increased\n",
            "TV powered off\n"
          ]
        }
      ]
    },
    {
      "cell_type": "markdown",
      "source": [
        "#### **Abstract Classes** 📚\n",
        "\n",
        "In Python, an abstract class is a class that contains one or more abstract methods. An abstract method is a method that declares what it can do, but it does not implement any functionality."
      ],
      "metadata": {
        "id": "36q0H9lpkCNp"
      }
    },
    {
      "cell_type": "code",
      "source": [
        "from abc import ABC, abstractmethod\n",
        "\n",
        "# Abstract class for MobilePhone\n",
        "class MobilePhone(ABC):\n",
        "    @abstractmethod\n",
        "    def call(self, number):\n",
        "        pass\n",
        "\n",
        "    @abstractmethod\n",
        "    def send_message(self, number, message):\n",
        "        pass\n",
        "\n",
        "# Concrete class for AndroidPhone\n",
        "class AndroidPhone(MobilePhone):\n",
        "    def call(self, number):\n",
        "        print(f\"Calling {number} using Android phone.\")\n",
        "\n",
        "    def send_message(self, number, message):\n",
        "        print(f\"Sending message to {number} using Android phone: {message}\")\n",
        "\n",
        "# Concrete class for iPhone\n",
        "class iPhone(MobilePhone):\n",
        "    def call(self, number):\n",
        "        print(f\"Calling {number} using iPhone.\")\n",
        "\n",
        "    def send_message(self, number, message):\n",
        "        print(f\"Sending message to {number} using iPhone: {message}\")\n",
        "\n",
        "# User interaction\n",
        "def mobile_phone_interaction(phone):\n",
        "    phone.call(\"1234567890\")\n",
        "    phone.send_message(\"1234567890\", \"Hello, how are you?\")\n",
        "\n",
        "# Usage\n",
        "android_phone = AndroidPhone()\n",
        "iphone = iPhone()\n",
        "\n",
        "mobile_phone_interaction(android_phone)  # Output: Calling 1234567890 using Android phone.\n",
        "                                         #         Sending message to 1234567890 using Android phone: Hello, how are you?\n",
        "\n",
        "mobile_phone_interaction(iphone)         # Output: Calling 1234567890 using iPhone.\n",
        "                                         #         Sending message to 1234567890 using iPhone: Hello, how are you?"
      ],
      "metadata": {
        "colab": {
          "base_uri": "https://localhost:8080/"
        },
        "id": "1NrXC_MqmCrJ",
        "outputId": "d207d436-7dc6-4266-9908-ba57338abcfb"
      },
      "execution_count": null,
      "outputs": [
        {
          "output_type": "stream",
          "name": "stdout",
          "text": [
            "Calling 1234567890 using Android phone.\n",
            "Sending message to 1234567890 using Android phone: Hello, how are you?\n",
            "Calling 1234567890 using iPhone.\n",
            "Sending message to 1234567890 using iPhone: Hello, how are you?\n"
          ]
        }
      ]
    },
    {
      "cell_type": "markdown",
      "source": [
        "|                  | Polymorphism 🎭                                                              | Abstraction   👻                                                                                 |\n",
        "|------------------|-----------------------------------------------------------------------------------------|---------------------------------------------------------------------------------------------------|\n",
        "| Basic Concept    | One interface, multiple implementations.                                                | Hiding internal details, and showing only the functionalities.                                   |\n",
        "| Purpose          | To allow the same interface to be used for a general class of actions.                  | To simplify complex systems by exposing only the required interface to the users.                 |\n",
        "| Key Benefit      | Allows for flexibility and loose coupling between classes.                              | Helps in reducing complexity and increases system efficiency by avoiding unnecessary details.     |\n",
        "| Example          | A parent class reference used to refer to a child class object.                         | User driving a car without knowing the internal workings of a car.                                |\n",
        "| Python Mechanism | Can be achieved by methods and operator overloading and duck typing in Python.          | Can be achieved using abstract classes and interfaces in Python.                                 |\n"
      ],
      "metadata": {
        "id": "cO7_vr1jmLte"
      }
    }
  ]
}