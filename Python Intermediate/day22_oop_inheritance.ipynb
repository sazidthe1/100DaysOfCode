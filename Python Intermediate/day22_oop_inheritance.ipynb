{
  "nbformat": 4,
  "nbformat_minor": 0,
  "metadata": {
    "colab": {
      "provenance": []
    },
    "kernelspec": {
      "name": "python3",
      "display_name": "Python 3"
    },
    "language_info": {
      "name": "python"
    }
  },
  "cells": [
    {
      "cell_type": "markdown",
      "source": [
        "## Day 22 of 100DaysOfCode 🐍\n",
        "### Object-Oriented Programming (OOP) - Python Inheritance"
      ],
      "metadata": {
        "id": "2Tu150GDft69"
      }
    },
    {
      "cell_type": "markdown",
      "source": [
        "#### **OOP Inheritance 🧬👨‍👧‍👦**\n",
        "**Inheritance** is one of the fundamental principles of Object-Oriented Programming (OOP). Perhaps, the most powerful feature of object-oriented programming.<br> It allows us to define a class that `inherits` all the methods and properties from another class."
      ],
      "metadata": {
        "id": "_swXF19AUVJ7"
      }
    },
    {
      "cell_type": "markdown",
      "source": [
        "**Parent class** is the class being inherited from, also known as base class.<br> **Child class** is the class that inherits from another class, also called derived class.\n"
      ],
      "metadata": {
        "id": "G82OwjXchAQp"
      }
    },
    {
      "cell_type": "markdown",
      "source": [
        "#### **Create a Parent Class 👪**\n",
        "Any class can be a **parent class**, and the syntax would be the same as creating any other class."
      ],
      "metadata": {
        "id": "1Q7rCHAhXodO"
      }
    },
    {
      "cell_type": "code",
      "execution_count": null,
      "metadata": {
        "colab": {
          "base_uri": "https://localhost:8080/"
        },
        "id": "Fj6uDEhxfsWj",
        "outputId": "1116b5ca-f975-42ef-f5b8-b4e4989de616"
      },
      "outputs": [
        {
          "output_type": "stream",
          "name": "stdout",
          "text": [
            "Farhan Islam\n"
          ]
        }
      ],
      "source": [
        "# Creating Person class, with firstname and lastname properties, and a printname method\n",
        "class Person:\n",
        "  def __init__(self, fname, lname):\n",
        "    self.firstname = fname\n",
        "    self.lastname = lname\n",
        "\n",
        "  def printname(self):\n",
        "    print(self.firstname, self.lastname)\n",
        "\n",
        "# Using the Person class to create an object, and then executing the printname method\n",
        "p1 = Person(\"Farhan\", \"Islam\")\n",
        "p1.printname()"
      ]
    },
    {
      "cell_type": "markdown",
      "source": [
        "#### **Create a Child Class 🧒**\n",
        "A **child class** that inherits the functionality from another class. It sends the parent class as a parameter when creating the child class."
      ],
      "metadata": {
        "id": "87_j_KgKhfpS"
      }
    },
    {
      "cell_type": "code",
      "source": [
        "# Creating Person class, with firstname and lastname properties, and a printname method\n",
        "class Person:\n",
        "  def __init__(self, fname, lname):\n",
        "    self.firstname = fname\n",
        "    self.lastname = lname\n",
        "\n",
        "  def printname(self):\n",
        "    print(self.firstname, self.lastname)\n",
        "\n",
        "# Creating Student class (child) which will inherit the properties, methods from the Person class\n",
        "class Student(Person):\n",
        "  pass\n",
        "\n",
        "# Using the Student class to create an object, and then executing the printname method\n",
        "p2 = Student(\"Jaber\", \"Hossain\")\n",
        "p2.printname()"
      ],
      "metadata": {
        "colab": {
          "base_uri": "https://localhost:8080/"
        },
        "id": "KDA_hBhsh458",
        "outputId": "e3aa5354-4d08-4b3d-cfa1-0f87f034e3f8"
      },
      "execution_count": null,
      "outputs": [
        {
          "output_type": "stream",
          "name": "stdout",
          "text": [
            "Jaber Hossain\n"
          ]
        }
      ]
    },
    {
      "cell_type": "markdown",
      "source": [
        "#### **Add the __init__() Function**\n",
        "The `__init__()` function is called automatically every time the class is being used to create a new object.<br>When we add the `__init__()` function, the child class will no longer inherit the parent, rather it overrides the inheritance of the parent's init() function."
      ],
      "metadata": {
        "id": "UZor_UhljIJm"
      }
    },
    {
      "cell_type": "code",
      "source": [
        "# Creating Person class, with firstname and lastname properties, and a printname method\n",
        "class Person:\n",
        "  def __init__(self, fname, lname):\n",
        "    self.firstname = fname\n",
        "    self.lastname = lname\n",
        "\n",
        "  def printname(self):\n",
        "    print(self.firstname, self.lastname)\n",
        "\n",
        "# Creating a class named Person, use the __init__() function to assign values for name and age\n",
        "class Student(Person):\n",
        "\n",
        "  # Adding the __init__() function to the Student class\n",
        "  def __init__(self, fname, lname):\n",
        "\n",
        "    # Adding a call to the parent's __init__() function\n",
        "    Person.__init__(self, fname, lname)\n",
        "\n",
        "p3 = Student(\"Ijaj\", \"Ahmed\")\n",
        "p3.printname()"
      ],
      "metadata": {
        "colab": {
          "base_uri": "https://localhost:8080/"
        },
        "id": "xpiwbfNCh5uC",
        "outputId": "abc57d6b-1057-4310-f93b-6c2536a6175c"
      },
      "execution_count": null,
      "outputs": [
        {
          "output_type": "stream",
          "name": "stdout",
          "text": [
            "Ijaj Ahmed\n"
          ]
        }
      ]
    },
    {
      "cell_type": "markdown",
      "source": [
        "#### **Use the super() Function**\n",
        "Python also has function, called `super()` function that will make the child class inherit all the methods and properties from its parent."
      ],
      "metadata": {
        "id": "jIkeZ1LMjwQo"
      }
    },
    {
      "cell_type": "code",
      "source": [
        "# Creating Person class, with firstname and lastname properties, and a printname method\n",
        "class Person:\n",
        "  def __init__(self, fname, lname):\n",
        "    self.firstname = fname\n",
        "    self.lastname = lname\n",
        "\n",
        "  def printname(self):\n",
        "    print(self.firstname, self.lastname)\n",
        "\n",
        "# Creating a class named Person, use the __init__() function to assign values for name and age\n",
        "class Student(Person):\n",
        "\n",
        "  # Adding the __init__() function to the Student class\n",
        "  def __init__(self, fname, lname):\n",
        "\n",
        "    # Using the super() function to inherit all the methods and properties from Person class\n",
        "    super().__init__(fname, lname)\n",
        "\n",
        "p4 = Student(\"Mehedy\", \"Hasan\")\n",
        "p4.printname()"
      ],
      "metadata": {
        "colab": {
          "base_uri": "https://localhost:8080/"
        },
        "id": "ijShkUZmh5mM",
        "outputId": "a536c866-04f6-40a0-a767-f1c6bd45449a"
      },
      "execution_count": null,
      "outputs": [
        {
          "output_type": "stream",
          "name": "stdout",
          "text": [
            "Mehedy Hasan\n"
          ]
        }
      ]
    },
    {
      "cell_type": "markdown",
      "source": [
        "#### **Add Properties**\n",
        "Adding a property called `graduation_year` to the **Student** class."
      ],
      "metadata": {
        "id": "GVvEa3_emfNX"
      }
    },
    {
      "cell_type": "code",
      "source": [
        "# Creating Person class, with firstname and lastname properties, and a printname method\n",
        "class Person:\n",
        "  def __init__(self, fname, lname):\n",
        "    self.firstname = fname\n",
        "    self.lastname = lname\n",
        "\n",
        "  def printname(self):\n",
        "    print(self.firstname, self.lastname)\n",
        "\n",
        "# Creating a class named Person, use the __init__() function to assign values for name and age\n",
        "class Student(Person):\n",
        "\n",
        "  # Adding the __init__() function to the Student class\n",
        "  def __init__(self, fname, lname):\n",
        "\n",
        "    # Using the super() function to inherit all the methods and properties from Person class\n",
        "    super().__init__(fname, lname)\n",
        "\n",
        "    # Adding a property called graduationyear to the Student class\n",
        "    self.graduation_year = 2023\n",
        "\n",
        "p5 = Student(\"S.M.\", \"Morshed\")\n",
        "print(p5.graduation_year)"
      ],
      "metadata": {
        "colab": {
          "base_uri": "https://localhost:8080/"
        },
        "id": "eVYTtW6zkQMn",
        "outputId": "b88d6391-66c6-4235-a45a-0fda18bda3c3"
      },
      "execution_count": null,
      "outputs": [
        {
          "output_type": "stream",
          "name": "stdout",
          "text": [
            "2023\n"
          ]
        }
      ]
    },
    {
      "cell_type": "markdown",
      "source": [
        "Adding another parameter `year` in the `__init__()` function."
      ],
      "metadata": {
        "id": "eebdlGyCoqNe"
      }
    },
    {
      "cell_type": "code",
      "source": [
        "# Creating Person class, with firstname and lastname properties, and a printname method\n",
        "class Person:\n",
        "  def __init__(self, fname, lname):\n",
        "    self.firstname = fname\n",
        "    self.lastname = lname\n",
        "\n",
        "  def printname(self):\n",
        "    print(self.firstname, self.lastname)\n",
        "\n",
        "# Creating a class named Person, use the __init__() function to assign values for name and age\n",
        "class Student(Person):\n",
        "\n",
        "  # Adding a year parameter, and pass the correct year when creating objects\n",
        "  def __init__(self, fname, lname, year):\n",
        "\n",
        "    # Using the super() function to inherit all the methods and properties from Person class\n",
        "    super().__init__(fname, lname)\n",
        "\n",
        "    # Adding a year parameter, and pass the correct year when creating objects\n",
        "    self.graduation_year = year\n",
        "\n",
        "p5 = Student(\"S.M.\", \"Morshed\", 2023)\n",
        "print(p5.graduation_year)"
      ],
      "metadata": {
        "colab": {
          "base_uri": "https://localhost:8080/"
        },
        "id": "wprIwQ2TohFa",
        "outputId": "2fe4cb9b-fbc9-484e-9620-a84f875d977d"
      },
      "execution_count": null,
      "outputs": [
        {
          "output_type": "stream",
          "name": "stdout",
          "text": [
            "2023\n"
          ]
        }
      ]
    },
    {
      "cell_type": "markdown",
      "source": [
        "#### **Add Methods**\n",
        "By adding a method in Child class same name as a function in the Parent class, the inheritance of the Parent method will be overridden."
      ],
      "metadata": {
        "id": "j2RT879hl4BI"
      }
    },
    {
      "cell_type": "code",
      "source": [
        "# Creating Person class, with firstname and lastname properties, and a printname method\n",
        "class Person:\n",
        "  def __init__(self, fname, lname):\n",
        "    self.firstname = fname\n",
        "    self.lastname = lname\n",
        "\n",
        "  def printname(self):\n",
        "    print(self.firstname, self.lastname)\n",
        "\n",
        "# Creating a class named Person, use the __init__() function to assign values for name and age\n",
        "class Student(Person):\n",
        "\n",
        "  # Adding a year parameter, and pass the correct year when creating objects\n",
        "  def __init__(self, fname, lname, year):\n",
        "\n",
        "    # Using the super() function to inherit all the methods and properties from Person class\n",
        "    super().__init__(fname, lname)\n",
        "\n",
        "    # Adding a year parameter, and pass the correct year when creating objects\n",
        "    self.graduation_year = year\n",
        "\n",
        "  # Adding a method called welcome to the Student class\n",
        "  def welcome(self):\n",
        "    print(f\"Welcome {self.firstname} {self.lastname} to the class of {self.graduation_year}!\")\n",
        "\n",
        "\n",
        "p6 = Student(\"Sazidul\", \"Islam\", 2023)\n",
        "p6.welcome()"
      ],
      "metadata": {
        "colab": {
          "base_uri": "https://localhost:8080/"
        },
        "id": "u6CBeAIhlwH9",
        "outputId": "31c57047-8e72-4914-c4a8-8065a4c19e7a"
      },
      "execution_count": null,
      "outputs": [
        {
          "output_type": "stream",
          "name": "stdout",
          "text": [
            "Welcome Sazidul Islam to the class of 2023!\n"
          ]
        }
      ]
    },
    {
      "cell_type": "markdown",
      "source": [
        "#### **Exercises - Python Inheritance**"
      ],
      "metadata": {
        "id": "cdB0TobSXOlI"
      }
    },
    {
      "cell_type": "markdown",
      "source": [
        "**Exercise 1**<br>\n",
        "What is the correct syntax to create a class named Student that will inherit properties and methods from a class named Person?"
      ],
      "metadata": {
        "id": "0CfKwHWCXZLS"
      }
    },
    {
      "cell_type": "code",
      "source": [
        "class Student(Person):\n",
        "  pass"
      ],
      "metadata": {
        "id": "SO2TfFzsnK6r"
      },
      "execution_count": null,
      "outputs": []
    },
    {
      "cell_type": "markdown",
      "source": [
        "**Exercise 2**<br>\n",
        "We have used the Student class to create an object named x.<br> What is the correct syntax to execute the printname method of the object x?"
      ],
      "metadata": {
        "id": "rNQStXYvXzzV"
      }
    },
    {
      "cell_type": "code",
      "source": [
        "class Person:\n",
        "  def __init__(self, fname):\n",
        "    self.firstname = fname\n",
        "\n",
        "  def printname(self):\n",
        "    print(self.firstname)\n",
        "\n",
        "class Student(Person):\n",
        "  pass\n",
        "x = Student(\"Mike\")\n",
        "x.printname()"
      ],
      "metadata": {
        "id": "w2qg-mqAnKwP",
        "colab": {
          "base_uri": "https://localhost:8080/"
        },
        "outputId": "eb3c2e04-fb35-476f-90cb-611b6180bb25"
      },
      "execution_count": null,
      "outputs": [
        {
          "output_type": "stream",
          "name": "stdout",
          "text": [
            "Mike\n"
          ]
        }
      ]
    }
  ]
}
