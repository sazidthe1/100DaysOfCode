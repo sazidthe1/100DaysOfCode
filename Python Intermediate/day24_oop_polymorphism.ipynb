{
  "nbformat": 4,
  "nbformat_minor": 0,
  "metadata": {
    "colab": {
      "provenance": [],
      "collapsed_sections": [
        "5JOq-aPyOLPt"
      ]
    },
    "kernelspec": {
      "name": "python3",
      "display_name": "Python 3"
    },
    "language_info": {
      "name": "python"
    }
  },
  "cells": [
    {
      "cell_type": "markdown",
      "source": [
        "## Day 24 of 100DaysOfCode 🐍\n",
        "### Object-Oriented Programming (OOP) - Polymorphism"
      ],
      "metadata": {
        "id": "2Tu150GDft69"
      }
    },
    {
      "cell_type": "markdown",
      "source": [
        "### **OOP Polymorphism 🦜🐦**\n",
        "\n",
        "**Polymorphism** is another fundamental principle in OOP that allows an object to take on many forms, enabling a single interface to represent different types of objects."
      ],
      "metadata": {
        "id": "5JOq-aPyOLPt"
      }
    },
    {
      "cell_type": "markdown",
      "source": [
        "#### **Polymorphic Functions/Methods**\n",
        "\n",
        "Polymorphism is pervasive in Python, and it's frequently used in built-in functions and methods. Here are a few examples:"
      ],
      "metadata": {
        "id": "8Pgm8E-ROiom"
      }
    },
    {
      "cell_type": "markdown",
      "source": [
        "**`len()` Function**\n",
        "\n",
        "The built-in `len()` function returns the number of items in an object. It works with several types of objects:"
      ],
      "metadata": {
        "id": "y_KYHLURXfha"
      }
    },
    {
      "cell_type": "code",
      "source": [
        "# Checking the length of each object\n",
        "print(len(\"Hi there!\"))  # Output: 5\n",
        "print(len([1, 2, 3, 4, 5]))  # Output: 5\n",
        "print(len({\"name\": \"Kabir\", \"age\": 25}))  # Output: 2"
      ],
      "metadata": {
        "colab": {
          "base_uri": "https://localhost:8080/"
        },
        "id": "TtDp7fOZYbMZ",
        "outputId": "fc783d79-0774-4131-bec8-96f3e788d867"
      },
      "execution_count": null,
      "outputs": [
        {
          "output_type": "stream",
          "name": "stdout",
          "text": [
            "9\n",
            "5\n",
            "2\n"
          ]
        }
      ]
    },
    {
      "cell_type": "markdown",
      "source": [
        "**`+` Operator**\n",
        "\n",
        "In Python, the `+` operator is polymorphic. It performs addition for numbers, concatenation for strings, and merge for lists."
      ],
      "metadata": {
        "id": "Gs0twg4JXpTM"
      }
    },
    {
      "cell_type": "code",
      "source": [
        "# Using + operator to adding numbers, concatenating strings , and merging lists\n",
        "print(1 + 2)  # Output: 3\n",
        "print(\"Hello \" + \"World!\")  # Output: \"Hello World!\"\n",
        "print([1, 2, 3] + [4, 5, 6])  # Output: [1, 2, 3, 4, 5, 6]"
      ],
      "metadata": {
        "colab": {
          "base_uri": "https://localhost:8080/"
        },
        "id": "m3RDgoLUOqqf",
        "outputId": "a73e410a-9057-43c3-874e-61525d08ee65"
      },
      "execution_count": null,
      "outputs": [
        {
          "output_type": "stream",
          "name": "stdout",
          "text": [
            "3\n",
            "Hello World!\n",
            "[1, 2, 3, 4, 5, 6]\n"
          ]
        }
      ]
    },
    {
      "cell_type": "markdown",
      "source": [
        "**`append()` Method for Lists**\n",
        "\n",
        "The `append()` method adds a single item to the end of the list. It can add any data type item to the list, making it polymorphic."
      ],
      "metadata": {
        "id": "9nj3K-mTYNl4"
      }
    },
    {
      "cell_type": "code",
      "source": [
        "# Using append method to adding new list with another\n",
        "my_list = [1, 2, 3]\n",
        "my_list.append(4)  # append integer\n",
        "my_list.append(\"Hello\")  # append string\n",
        "my_list.append([5, 6, 7])  # append list\n",
        "print(my_list)  # Output: [1, 2, 3, 4, 'Hello', [5, 6, 7]]"
      ],
      "metadata": {
        "colab": {
          "base_uri": "https://localhost:8080/"
        },
        "id": "vKU_Ubw5YdHx",
        "outputId": "b01fdac1-7f87-4e76-8f50-5d9ea01b267e"
      },
      "execution_count": null,
      "outputs": [
        {
          "output_type": "stream",
          "name": "stdout",
          "text": [
            "[1, 2, 3, 4, 'Hello', [5, 6, 7]]\n"
          ]
        }
      ]
    },
    {
      "cell_type": "markdown",
      "source": [
        "Here is a basic example of polymorphism in Python."
      ],
      "metadata": {
        "id": "Y7v9yFnOenVF"
      }
    },
    {
      "cell_type": "code",
      "source": [
        "# Creating an Animal class (parent)\n",
        "class Animal:\n",
        "    def speak(self):\n",
        "        pass\n",
        "\n",
        "# Creating a Dog class (child)\n",
        "class Dog(Animal):\n",
        "    def speak(self):\n",
        "        return \"Woof!\"\n",
        "\n",
        "# Creating a Cat class (child)\n",
        "class Cat(Animal):\n",
        "    def speak(self):\n",
        "        return \"Meow!\"\n",
        "\n",
        "# Creating a function (animal speech)\n",
        "def animal_speech(animal):\n",
        "    print(animal.speak())\n",
        "\n",
        "# Creating instances for Dog and Cat\n",
        "dog = Dog()\n",
        "cat = Cat()\n",
        "\n",
        "# Polymorphism in action\n",
        "animal_speech(dog)  # Output: Woof!\n",
        "animal_speech(cat)  # Output: Meow!"
      ],
      "metadata": {
        "colab": {
          "base_uri": "https://localhost:8080/"
        },
        "id": "8Vk_3nTnerCN",
        "outputId": "41fcb60b-2762-4d6b-8d72-00218c429cef"
      },
      "execution_count": null,
      "outputs": [
        {
          "output_type": "stream",
          "name": "stdout",
          "text": [
            "Woof!\n",
            "Meow!\n"
          ]
        }
      ]
    }
  ]
}