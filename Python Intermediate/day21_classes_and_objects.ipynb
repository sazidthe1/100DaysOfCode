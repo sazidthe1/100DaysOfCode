{
  "nbformat": 4,
  "nbformat_minor": 0,
  "metadata": {
    "colab": {
      "provenance": []
    },
    "kernelspec": {
      "name": "python3",
      "display_name": "Python 3"
    },
    "language_info": {
      "name": "python"
    }
  },
  "cells": [
    {
      "cell_type": "markdown",
      "source": [
        "## Day 21 of 100DaysOfCode 🐍\n",
        "### Object-Oriented Programming (OOP) Basics - Python Classes and Objects"
      ],
      "metadata": {
        "id": "2Tu150GDft69"
      }
    },
    {
      "cell_type": "markdown",
      "source": [
        "### **Object-Oriented Programming**\n",
        "Object-oriented programming (OOP) is a compelling solution to programming-related problems.<br>Python is an object oriented programming language. Almost everything in Python is an object, with its properties and methods."
      ],
      "metadata": {
        "id": "AA1pocttf9vh"
      }
    },
    {
      "cell_type": "markdown",
      "source": [
        "### **Python Classes and Objects**\n",
        "A **Class** is like an object constructor, or a \"blueprint\" for creating objects.<br>This is a way by which, in object-oriented programming, we can create our own type of data and give them names."
      ],
      "metadata": {
        "id": "_swXF19AUVJ7"
      }
    },
    {
      "cell_type": "markdown",
      "source": [
        "#### **Create a Class**\n",
        "A class is like a mold for a type of data – where we can invent our own data type and give them a name.<br>To create a class, use the keyword `class`.\n"
      ],
      "metadata": {
        "id": "G82OwjXchAQp"
      }
    },
    {
      "cell_type": "code",
      "execution_count": null,
      "metadata": {
        "colab": {
          "base_uri": "https://localhost:8080/"
        },
        "id": "Fj6uDEhxfsWj",
        "outputId": "377e73f9-5dcf-480c-aa86-a3670e394f4b"
      },
      "outputs": [
        {
          "output_type": "stream",
          "name": "stdout",
          "text": [
            "<class '__main__.MyClass'>\n"
          ]
        }
      ],
      "source": [
        "# Creating a class named MyClass, with a property named x\n",
        "class MyClass:\n",
        "  x = 5\n",
        "\n",
        "print(MyClass)"
      ]
    },
    {
      "cell_type": "markdown",
      "source": [
        "#### **Create Object**\n",
        "After defining the class, we can use the class named MyClass to create objects."
      ],
      "metadata": {
        "id": "87_j_KgKhfpS"
      }
    },
    {
      "cell_type": "code",
      "source": [
        "# Creating an object named p1, and print the value of x\n",
        "class MyClass:\n",
        "  x = 5\n",
        "\n",
        "p1 = MyClass()\n",
        "print(p1.x)"
      ],
      "metadata": {
        "colab": {
          "base_uri": "https://localhost:8080/"
        },
        "id": "KDA_hBhsh458",
        "outputId": "dc5170c0-2d08-40e9-f229-143d845f86f7"
      },
      "execution_count": null,
      "outputs": [
        {
          "output_type": "stream",
          "name": "stdout",
          "text": [
            "5\n"
          ]
        }
      ]
    },
    {
      "cell_type": "markdown",
      "source": [
        "#### **The __init__() Function**"
      ],
      "metadata": {
        "id": "UZor_UhljIJm"
      }
    },
    {
      "cell_type": "code",
      "source": [
        "# Creating a class named Person, use the __init__() function to assign values for name and age\n",
        "class Person:\n",
        "  def __init__(self, name, age):\n",
        "    self.name = name\n",
        "    self.age = age\n",
        "\n",
        "p1 = Person(\"Farhan\", 30)\n",
        "\n",
        "print(p1.name)\n",
        "print(p1.age)"
      ],
      "metadata": {
        "colab": {
          "base_uri": "https://localhost:8080/"
        },
        "id": "xpiwbfNCh5uC",
        "outputId": "e6f5b9b9-47eb-467b-caa6-d1c7f18ea47e"
      },
      "execution_count": null,
      "outputs": [
        {
          "output_type": "stream",
          "name": "stdout",
          "text": [
            "Farhan\n",
            "30\n"
          ]
        }
      ]
    },
    {
      "cell_type": "markdown",
      "source": [
        "#### **The __str__() Function**\n",
        "The __str__() function controls what should be returned when the class object is represented as a string."
      ],
      "metadata": {
        "id": "jIkeZ1LMjwQo"
      }
    },
    {
      "cell_type": "code",
      "source": [
        "# The string representation of an object WITHOUT the __str__() function\n",
        "class Person:\n",
        "  def __init__(self, name, age):\n",
        "    self.name = name\n",
        "    self.age = age\n",
        "\n",
        "p1 = Person(\"Farhan\", 30)\n",
        "\n",
        "print(p1)"
      ],
      "metadata": {
        "colab": {
          "base_uri": "https://localhost:8080/"
        },
        "id": "ijShkUZmh5mM",
        "outputId": "0f187269-208d-446e-a2fb-c195d994bb82"
      },
      "execution_count": null,
      "outputs": [
        {
          "output_type": "stream",
          "name": "stdout",
          "text": [
            "<__main__.Person object at 0x7f4bd8c61960>\n"
          ]
        }
      ]
    },
    {
      "cell_type": "code",
      "source": [
        "# The string representation of an object WITH the __str__() function\n",
        "class Person:\n",
        "  def __init__(self, name, age):\n",
        "    self.name = name\n",
        "    self.age = age\n",
        "\n",
        "  def __str__(self):\n",
        "    return f\"{self.name}, {self.age}\"\n",
        "\n",
        "p1 = Person(\"Farhan\", 30)\n",
        "\n",
        "print(p1)"
      ],
      "metadata": {
        "colab": {
          "base_uri": "https://localhost:8080/"
        },
        "id": "eVYTtW6zkQMn",
        "outputId": "8de6d7d6-f730-4f9d-ee17-ab06eafcae1e"
      },
      "execution_count": null,
      "outputs": [
        {
          "output_type": "stream",
          "name": "stdout",
          "text": [
            "Farhan, 30\n"
          ]
        }
      ]
    },
    {
      "cell_type": "markdown",
      "source": [
        "#### **Object Methods**\n",
        "Objects can also contain methods. Methods in objects are functions that belong to the object. Let's create a method in the `Person class`."
      ],
      "metadata": {
        "id": "j2RT879hl4BI"
      }
    },
    {
      "cell_type": "code",
      "source": [
        "# Inserting a function that prints a greeting, and execute it on the p1 object\n",
        "class Person:\n",
        "  def __init__(self, name, age):\n",
        "    self.name = name\n",
        "    self.age = age\n",
        "\n",
        "  def greetings(self):\n",
        "    print(\"Hello! My name is \" + self.name + \".\")\n",
        "\n",
        "p1 = Person(\"Farhan\", 30)\n",
        "\n",
        "p1.greetings()"
      ],
      "metadata": {
        "colab": {
          "base_uri": "https://localhost:8080/"
        },
        "id": "u6CBeAIhlwH9",
        "outputId": "ee598f5c-42b7-4a62-a0ef-1a30325b6e94"
      },
      "execution_count": null,
      "outputs": [
        {
          "output_type": "stream",
          "name": "stdout",
          "text": [
            "Hello! My name is Farhan.\n"
          ]
        }
      ]
    },
    {
      "cell_type": "markdown",
      "source": [
        "#### **The self Parameter**\n",
        "The `self` parameter is a reference to the current instance of the class, and is used to access variables that belongs to the class."
      ],
      "metadata": {
        "id": "U-qHiJ1jmxNB"
      }
    },
    {
      "cell_type": "code",
      "source": [
        "# Use the words mysillyobject and abc instead of self\n",
        "class Person:\n",
        "  def __init__(mysillyobject, name, age):\n",
        "    mysillyobject.name = name\n",
        "    mysillyobject.age = age\n",
        "\n",
        "  def myfunc(abc):\n",
        "    print(\"Hello! My name is \" + abc.name + \".\")\n",
        "\n",
        "p1 = Person(\"Farhan\", 30)\n",
        "p1.myfunc()"
      ],
      "metadata": {
        "colab": {
          "base_uri": "https://localhost:8080/"
        },
        "id": "dYybogpgm2vh",
        "outputId": "3aebd7fe-6efc-499f-9fa3-992e098c8baf"
      },
      "execution_count": null,
      "outputs": [
        {
          "output_type": "stream",
          "name": "stdout",
          "text": [
            "Hello! My name is Farhan.\n"
          ]
        }
      ]
    },
    {
      "cell_type": "markdown",
      "source": [
        "#### **Exercises** - Python Classes and Objects"
      ],
      "metadata": {
        "id": "cdB0TobSXOlI"
      }
    },
    {
      "cell_type": "markdown",
      "source": [
        "**Exercise 1**"
      ],
      "metadata": {
        "id": "0CfKwHWCXZLS"
      }
    },
    {
      "cell_type": "code",
      "source": [
        "# Creating a class named MyClass\n",
        "class MyClass:\n",
        "  x = 5"
      ],
      "metadata": {
        "id": "SO2TfFzsnK6r"
      },
      "execution_count": null,
      "outputs": []
    },
    {
      "cell_type": "markdown",
      "source": [
        "**Exercise 2**"
      ],
      "metadata": {
        "id": "rNQStXYvXzzV"
      }
    },
    {
      "cell_type": "code",
      "source": [
        "# Creating an object of MyClass called p1\n",
        "class MyClass:\n",
        "  x = 5\n",
        "\n",
        "p1 = MyClass()"
      ],
      "metadata": {
        "id": "w2qg-mqAnKwP"
      },
      "execution_count": null,
      "outputs": []
    },
    {
      "cell_type": "markdown",
      "source": [
        "**Exercise 3**"
      ],
      "metadata": {
        "id": "f57Ll8RGX0GS"
      }
    },
    {
      "cell_type": "code",
      "source": [
        "# Using the p1 object to print the value of x\n",
        "class MyClass:\n",
        "  x = 5\n",
        "\n",
        "p1 = MyClass()\n",
        "print(p1.x)"
      ],
      "metadata": {
        "id": "LJsmlj8nnKtj",
        "colab": {
          "base_uri": "https://localhost:8080/"
        },
        "outputId": "7c1a89e9-ce5f-4844-b37f-82cdfb58041f"
      },
      "execution_count": null,
      "outputs": [
        {
          "output_type": "stream",
          "name": "stdout",
          "text": [
            "5\n"
          ]
        }
      ]
    },
    {
      "cell_type": "markdown",
      "source": [
        "**Exercise 4**"
      ],
      "metadata": {
        "id": "dWm5Lr5CX0sW"
      }
    },
    {
      "cell_type": "code",
      "source": [
        "# What is the correct syntax to assign a \"init\" function to a class?\n",
        "class Person:\n",
        "  def __init__(self, name, age):\n",
        "    self.name = name\n",
        "    self.age = age"
      ],
      "metadata": {
        "id": "-vf8AENPnKVL"
      },
      "execution_count": null,
      "outputs": []
    }
  ]
}