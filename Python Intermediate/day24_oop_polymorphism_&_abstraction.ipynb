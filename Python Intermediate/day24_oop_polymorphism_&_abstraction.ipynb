{
  "nbformat": 4,
  "nbformat_minor": 0,
  "metadata": {
    "colab": {
      "provenance": [],
      "collapsed_sections": [
        "5JOq-aPyOLPt",
        "7z_4nBtEO5Wl"
      ]
    },
    "kernelspec": {
      "name": "python3",
      "display_name": "Python 3"
    },
    "language_info": {
      "name": "python"
    }
  },
  "cells": [
    {
      "cell_type": "markdown",
      "source": [
        "## Day 24 of 100DaysOfCode 🐍\n",
        "### Object-Oriented Programming (OOP) - Polymorphism, Abstraction"
      ],
      "metadata": {
        "id": "2Tu150GDft69"
      }
    },
    {
      "cell_type": "markdown",
      "source": [
        "### **OOP Polymorphism 🦜🐦**\n",
        "\n",
        "**Polymorphism** is another fundamental principle in OOP that allows an object to take on many forms, enabling a single interface to represent different types of objects."
      ],
      "metadata": {
        "id": "5JOq-aPyOLPt"
      }
    },
    {
      "cell_type": "markdown",
      "source": [
        "#### **Polymorphic Functions/Methods**\n",
        "\n",
        "Polymorphism is pervasive in Python, and it's frequently used in built-in functions and methods. Here are a few examples:"
      ],
      "metadata": {
        "id": "8Pgm8E-ROiom"
      }
    },
    {
      "cell_type": "markdown",
      "source": [
        "**`len()` Function**\n",
        "\n",
        "The built-in `len()` function returns the number of items in an object. It works with several types of objects:"
      ],
      "metadata": {
        "id": "y_KYHLURXfha"
      }
    },
    {
      "cell_type": "code",
      "source": [
        "# Checking the length of each object\n",
        "print(len(\"Hi there!\"))  # Output: 5\n",
        "print(len([1, 2, 3, 4, 5]))  # Output: 5\n",
        "print(len({\"name\": \"Kabir\", \"age\": 25}))  # Output: 2"
      ],
      "metadata": {
        "colab": {
          "base_uri": "https://localhost:8080/"
        },
        "id": "TtDp7fOZYbMZ",
        "outputId": "fc783d79-0774-4131-bec8-96f3e788d867"
      },
      "execution_count": null,
      "outputs": [
        {
          "output_type": "stream",
          "name": "stdout",
          "text": [
            "9\n",
            "5\n",
            "2\n"
          ]
        }
      ]
    },
    {
      "cell_type": "markdown",
      "source": [
        "**`+` Operator**\n",
        "\n",
        "In Python, the `+` operator is polymorphic. It performs addition for numbers, concatenation for strings, and merge for lists."
      ],
      "metadata": {
        "id": "Gs0twg4JXpTM"
      }
    },
    {
      "cell_type": "code",
      "source": [
        "# Using + operator to adding numbers, concatenating strings , and merging lists\n",
        "print(1 + 2)  # Output: 3\n",
        "print(\"Hello \" + \"World!\")  # Output: \"Hello World!\"\n",
        "print([1, 2, 3] + [4, 5, 6])  # Output: [1, 2, 3, 4, 5, 6]"
      ],
      "metadata": {
        "colab": {
          "base_uri": "https://localhost:8080/"
        },
        "id": "m3RDgoLUOqqf",
        "outputId": "a73e410a-9057-43c3-874e-61525d08ee65"
      },
      "execution_count": null,
      "outputs": [
        {
          "output_type": "stream",
          "name": "stdout",
          "text": [
            "3\n",
            "Hello World!\n",
            "[1, 2, 3, 4, 5, 6]\n"
          ]
        }
      ]
    },
    {
      "cell_type": "markdown",
      "source": [
        "**`append()` Method for Lists**\n",
        "\n",
        "The `append()` method adds a single item to the end of the list. It can add any data type item to the list, making it polymorphic."
      ],
      "metadata": {
        "id": "9nj3K-mTYNl4"
      }
    },
    {
      "cell_type": "code",
      "source": [
        "# Using append method to adding new list with another\n",
        "my_list = [1, 2, 3]\n",
        "my_list.append(4)  # append integer\n",
        "my_list.append(\"Hello\")  # append string\n",
        "my_list.append([5, 6, 7])  # append list\n",
        "print(my_list)  # Output: [1, 2, 3, 4, 'Hello', [5, 6, 7]]"
      ],
      "metadata": {
        "colab": {
          "base_uri": "https://localhost:8080/"
        },
        "id": "vKU_Ubw5YdHx",
        "outputId": "b01fdac1-7f87-4e76-8f50-5d9ea01b267e"
      },
      "execution_count": null,
      "outputs": [
        {
          "output_type": "stream",
          "name": "stdout",
          "text": [
            "[1, 2, 3, 4, 'Hello', [5, 6, 7]]\n"
          ]
        }
      ]
    },
    {
      "cell_type": "markdown",
      "source": [
        "Here is a basic example of polymorphism in Python."
      ],
      "metadata": {
        "id": "Y7v9yFnOenVF"
      }
    },
    {
      "cell_type": "code",
      "source": [
        "# Creating an Animal class (parent)\n",
        "class Animal:\n",
        "    def speak(self):\n",
        "        pass\n",
        "\n",
        "# Creating a Dog class (child)\n",
        "class Dog(Animal):\n",
        "    def speak(self):\n",
        "        return \"Woof!\"\n",
        "\n",
        "# Creating a Cat class (child)\n",
        "class Cat(Animal):\n",
        "    def speak(self):\n",
        "        return \"Meow!\"\n",
        "\n",
        "# Creating a function (animal speech)\n",
        "def animal_speech(animal):\n",
        "    print(animal.speak())\n",
        "\n",
        "# Creating instances for Dog and Cat\n",
        "dog = Dog()\n",
        "cat = Cat()\n",
        "\n",
        "# Polymorphism in action\n",
        "animal_speech(dog)  # Output: Woof!\n",
        "animal_speech(cat)  # Output: Meow!"
      ],
      "metadata": {
        "colab": {
          "base_uri": "https://localhost:8080/"
        },
        "id": "8Vk_3nTnerCN",
        "outputId": "41fcb60b-2762-4d6b-8d72-00218c429cef"
      },
      "execution_count": null,
      "outputs": [
        {
          "output_type": "stream",
          "name": "stdout",
          "text": [
            "Woof!\n",
            "Meow!\n"
          ]
        }
      ]
    },
    {
      "cell_type": "markdown",
      "source": [
        "### **OOP Abstraction 👻**\n",
        "\n",
        "**Abstraction** in OOP refers to the process of hiding the internal details and showcasing only the functionalities. It is another fundamental principles of OOP that makes the system more robust and easier to maintain."
      ],
      "metadata": {
        "id": "7z_4nBtEO5Wl"
      }
    },
    {
      "cell_type": "markdown",
      "source": [
        "#### **Understanding Abstraction** 🧩\n",
        "\n",
        "Abstraction allows us to focus on what an object does instead of how it does it. We hide the complex implementations and expose user-friendly interfaces to the users."
      ],
      "metadata": {
        "id": "X688iNMhPjgB"
      }
    },
    {
      "cell_type": "code",
      "source": [
        "class TVRemoteControl:\n",
        "    def __init__(self, tv):\n",
        "        self.tv = tv  # Store the TV object to be controlled\n",
        "\n",
        "    def power_on(self):\n",
        "        self.tv.power_on()  # Delegate the power on operation to the TV object\n",
        "\n",
        "    def power_off(self):\n",
        "        self.tv.power_off()  # Delegate the power off operation to the TV object\n",
        "\n",
        "    def change_channel(self, channel):\n",
        "        self.tv.change_channel(channel)  # Delegate the channel change operation to the TV object\n",
        "\n",
        "    def volume_up(self):\n",
        "        self.tv.volume_up()  # Delegate the volume increase operation to the TV object\n",
        "\n",
        "    def volume_down(self):\n",
        "        self.tv.volume_down()  # Delegate the volume decrease operation to the TV object\n",
        "\n",
        "class TV:\n",
        "    def power_on(self):\n",
        "        print(\"TV powered on\")\n",
        "\n",
        "    def power_off(self):\n",
        "        print(\"TV powered off\")\n",
        "\n",
        "    def change_channel(self, channel):\n",
        "        print(f\"Channel changed to {channel}\")\n",
        "\n",
        "    def volume_up(self):\n",
        "        print(\"Volume increased\")\n",
        "\n",
        "    def volume_down(self):\n",
        "        print(\"Volume decreased\")\n",
        "\n",
        "# Using the TVRemoteControl\n",
        "my_tv = TV()\n",
        "remote = TVRemoteControl(my_tv)\n",
        "\n",
        "remote.power_on()         # Output: TV powered on\n",
        "remote.change_channel(7)  # Output: Channel changed to 7\n",
        "remote.volume_up()        # Output: Volume increased\n",
        "remote.power_off()        # Output: TV powered off"
      ],
      "metadata": {
        "colab": {
          "base_uri": "https://localhost:8080/"
        },
        "id": "ppfG4IIfkBzN",
        "outputId": "2569a303-10ad-4d8c-a280-2d7ee164db19"
      },
      "execution_count": null,
      "outputs": [
        {
          "output_type": "stream",
          "name": "stdout",
          "text": [
            "TV powered on\n",
            "Channel changed to 7\n",
            "Volume increased\n",
            "TV powered off\n"
          ]
        }
      ]
    },
    {
      "cell_type": "markdown",
      "source": [
        "#### **Abstract Classes** 📚\n",
        "\n",
        "In Python, an abstract class is a class that contains one or more abstract methods. An abstract method is a method that declares what it can do, but it does not implement any functionality."
      ],
      "metadata": {
        "id": "36q0H9lpkCNp"
      }
    },
    {
      "cell_type": "code",
      "source": [
        "from abc import ABC, abstractmethod\n",
        "\n",
        "# Abstract class for MobilePhone\n",
        "class MobilePhone(ABC):\n",
        "    @abstractmethod\n",
        "    def call(self, number):\n",
        "        pass\n",
        "\n",
        "    @abstractmethod\n",
        "    def send_message(self, number, message):\n",
        "        pass\n",
        "\n",
        "# Concrete class for AndroidPhone\n",
        "class AndroidPhone(MobilePhone):\n",
        "    def call(self, number):\n",
        "        print(f\"Calling {number} using Android phone.\")\n",
        "\n",
        "    def send_message(self, number, message):\n",
        "        print(f\"Sending message to {number} using Android phone: {message}\")\n",
        "\n",
        "# Concrete class for iPhone\n",
        "class iPhone(MobilePhone):\n",
        "    def call(self, number):\n",
        "        print(f\"Calling {number} using iPhone.\")\n",
        "\n",
        "    def send_message(self, number, message):\n",
        "        print(f\"Sending message to {number} using iPhone: {message}\")\n",
        "\n",
        "# User interaction\n",
        "def mobile_phone_interaction(phone):\n",
        "    phone.call(\"1234567890\")\n",
        "    phone.send_message(\"1234567890\", \"Hello, how are you?\")\n",
        "\n",
        "# Usage\n",
        "android_phone = AndroidPhone()\n",
        "iphone = iPhone()\n",
        "\n",
        "mobile_phone_interaction(android_phone)  # Output: Calling 1234567890 using Android phone.\n",
        "                                         #         Sending message to 1234567890 using Android phone: Hello, how are you?\n",
        "\n",
        "mobile_phone_interaction(iphone)         # Output: Calling 1234567890 using iPhone.\n",
        "                                         #         Sending message to 1234567890 using iPhone: Hello, how are you?"
      ],
      "metadata": {
        "colab": {
          "base_uri": "https://localhost:8080/"
        },
        "id": "1NrXC_MqmCrJ",
        "outputId": "d207d436-7dc6-4266-9908-ba57338abcfb"
      },
      "execution_count": null,
      "outputs": [
        {
          "output_type": "stream",
          "name": "stdout",
          "text": [
            "Calling 1234567890 using Android phone.\n",
            "Sending message to 1234567890 using Android phone: Hello, how are you?\n",
            "Calling 1234567890 using iPhone.\n",
            "Sending message to 1234567890 using iPhone: Hello, how are you?\n"
          ]
        }
      ]
    },
    {
      "cell_type": "markdown",
      "source": [
        "|                  | Polymorphism 🦜🐦                                                              | Abstraction   👻                                                                                 |\n",
        "|------------------|-----------------------------------------------------------------------------------------|---------------------------------------------------------------------------------------------------|\n",
        "| Basic Concept    | One interface, multiple implementations.                                                | Hiding internal details, and showing only the functionalities.                                   |\n",
        "| Purpose          | To allow the same interface to be used for a general class of actions.                  | To simplify complex systems by exposing only the required interface to the users.                 |\n",
        "| Key Benefit      | Allows for flexibility and loose coupling between classes.                              | Helps in reducing complexity and increases system efficiency by avoiding unnecessary details.     |\n",
        "| Example          | A parent class reference used to refer to a child class object.                         | User driving a car without knowing the internal workings of a car.                                |\n",
        "| Python Mechanism | Can be achieved by methods and operator overloading and duck typing in Python.          | Can be achieved using abstract classes and interfaces in Python.                                 |\n"
      ],
      "metadata": {
        "id": "cO7_vr1jmLte"
      }
    }
  ]
}