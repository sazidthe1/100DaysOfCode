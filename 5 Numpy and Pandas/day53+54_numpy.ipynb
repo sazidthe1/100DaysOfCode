{
  "nbformat": 4,
  "nbformat_minor": 0,
  "metadata": {
    "colab": {
      "provenance": []
    },
    "kernelspec": {
      "name": "python3",
      "display_name": "Python 3"
    },
    "language_info": {
      "name": "python"
    }
  },
  "cells": [
    {
      "cell_type": "markdown",
      "source": [
        "## Day 53 & 54 of 100DaysOfCode 🐍\n",
        "### Python Library - NumPy Arrays (Joining, Splitting, Searching, Sorting, Filtering)\n"
      ],
      "metadata": {
        "id": "2Tu150GDft69"
      }
    },
    {
      "cell_type": "markdown",
      "source": [
        "#### **Joining NumPy Arrays**\n",
        "\n",
        "- Joining means putting contents of two or more arrays in a single array.\n",
        "\n",
        "- In SQL we join tables based on a key, whereas in NumPy we join arrays by axes.\n",
        "\n",
        "- To join to the `concatenate()` function, along with the axis. If axis is not explicitly passed, it is taken as 0.\n",
        "\n"
      ],
      "metadata": {
        "id": "dsj8DftFT4Nv"
      }
    },
    {
      "cell_type": "code",
      "source": [
        "# Joining two arrays\n",
        "\n",
        "import numpy as np\n",
        "\n",
        "arr1 = np.array([1, 2, 3])\n",
        "\n",
        "arr2 = np.array([4, 5, 6])\n",
        "\n",
        "arr = np.concatenate((arr1, arr2))\n",
        "\n",
        "print(arr)"
      ],
      "metadata": {
        "colab": {
          "base_uri": "https://localhost:8080/"
        },
        "id": "zWsIHZbAiYgC",
        "outputId": "1d92afcc-49c8-4a16-e803-69ec830ff3f9"
      },
      "execution_count": null,
      "outputs": [
        {
          "output_type": "stream",
          "name": "stdout",
          "text": [
            "[1 2 3 4 5 6]\n"
          ]
        }
      ]
    },
    {
      "cell_type": "code",
      "source": [
        "# Join two 2-D arrays along rows (axis=1)\n",
        "\n",
        "arr1 = np.array([[1, 2], [3, 4]])\n",
        "\n",
        "arr2 = np.array([[5, 6], [7, 8]])\n",
        "\n",
        "arr = np.concatenate((arr1, arr2), axis=1)\n",
        "\n",
        "print(arr)"
      ],
      "metadata": {
        "colab": {
          "base_uri": "https://localhost:8080/"
        },
        "id": "C950LBVUjJvP",
        "outputId": "04476092-a799-4ffe-b558-59e0103dfa59"
      },
      "execution_count": null,
      "outputs": [
        {
          "output_type": "stream",
          "name": "stdout",
          "text": [
            "[[1 2 5 6]\n",
            " [3 4 7 8]]\n"
          ]
        }
      ]
    },
    {
      "cell_type": "markdown",
      "source": [
        "##### Exercise"
      ],
      "metadata": {
        "id": "cB2p3zeij03w"
      }
    },
    {
      "cell_type": "code",
      "source": [
        "# Use a correct NumPy method to join two arrays into a single array.\n",
        "\n",
        "arr1 = np.array([1, 2, 3])\n",
        "\n",
        "arr2 = np.array([4, 5, 6])\n",
        "\n",
        "arr = np.concatenate((arr1, arr2))\n",
        "\n",
        "print(arr)"
      ],
      "metadata": {
        "colab": {
          "base_uri": "https://localhost:8080/"
        },
        "id": "jUh6aY_sj2nP",
        "outputId": "f92d83a8-f1fe-49b8-ad84-12bb1bbca51e"
      },
      "execution_count": null,
      "outputs": [
        {
          "output_type": "stream",
          "name": "stdout",
          "text": [
            "[1 2 3 4 5 6]\n"
          ]
        }
      ]
    },
    {
      "cell_type": "markdown",
      "source": [
        "#### **Splitting NumPy Arrays**\n",
        "\n",
        "- Splitting is reverse operation of Joining. Joining merges multiple arrays into one and Splitting breaks one array into multiple.\n",
        "- We use `array_split()` for splitting arrays, we pass it the array we want to split and the number of splits.\n"
      ],
      "metadata": {
        "id": "SjCuJlIDiXbU"
      }
    },
    {
      "cell_type": "code",
      "source": [
        "# Spliting the array in 3 parts\n",
        "\n",
        "arr = np.array([1, 2, 3, 4, 5, 6])\n",
        "\n",
        "newarr = np.array_split(arr, 3)\n",
        "\n",
        "print(newarr)"
      ],
      "metadata": {
        "colab": {
          "base_uri": "https://localhost:8080/"
        },
        "id": "GA0VoH22lEwn",
        "outputId": "148c28ec-76b4-4bdf-9689-cfc4f85355f9"
      },
      "execution_count": null,
      "outputs": [
        {
          "output_type": "stream",
          "name": "stdout",
          "text": [
            "[array([1, 2]), array([3, 4]), array([5, 6])]\n"
          ]
        }
      ]
    },
    {
      "cell_type": "code",
      "source": [
        "# Spliting the array in 4 parts\n",
        "\n",
        "arr = np.array([1, 2, 3, 4, 5, 6])\n",
        "\n",
        "newarr = np.array_split(arr, 4)\n",
        "\n",
        "print(newarr)"
      ],
      "metadata": {
        "colab": {
          "base_uri": "https://localhost:8080/"
        },
        "id": "AhvCgL2pmJtg",
        "outputId": "cc412ea6-888d-4816-8808-201935e5bdb1"
      },
      "execution_count": null,
      "outputs": [
        {
          "output_type": "stream",
          "name": "stdout",
          "text": [
            "[array([1, 2]), array([3, 4]), array([5]), array([6])]\n"
          ]
        }
      ]
    },
    {
      "cell_type": "markdown",
      "source": [
        "##### **Split Into Arrays**\n",
        "\n",
        "- The return value of the array_split() method is an array containing each of the split as an array.\n",
        "\n",
        "- Use the same syntax when splitting 2-D arrays.\n",
        "\n"
      ],
      "metadata": {
        "id": "goVDAO1DiXiO"
      }
    },
    {
      "cell_type": "code",
      "source": [
        "# Accessing the splitted arrays\n",
        "arr = np.array([1, 2, 3, 4, 5, 6])\n",
        "\n",
        "newarr = np.array_split(arr, 3)\n",
        "\n",
        "print(newarr[0])\n",
        "print(newarr[1])\n",
        "print(newarr[2])"
      ],
      "metadata": {
        "colab": {
          "base_uri": "https://localhost:8080/"
        },
        "id": "qQzG0Mf6nbiW",
        "outputId": "ebe0d93a-4617-419d-c348-030359ea9d2d"
      },
      "execution_count": null,
      "outputs": [
        {
          "output_type": "stream",
          "name": "stdout",
          "text": [
            "[1 2]\n",
            "[3 4]\n",
            "[5 6]\n"
          ]
        }
      ]
    },
    {
      "cell_type": "markdown",
      "source": [
        "##### Use the `hsplit()` method to split the 2-D array into three 2-D arrays along rows.\n",
        "\n",
        "> Similar alternates to `vstack()` and `dstack()` are available as `vsplit(`) and `dsplit()`."
      ],
      "metadata": {
        "id": "N3GnynuXHDTQ"
      }
    },
    {
      "cell_type": "code",
      "source": [
        "arr = np.array([[1, 2, 3], [4, 5, 6], [7, 8, 9], [10, 11, 12], [13, 14, 15], [16, 17, 18]])\n",
        "\n",
        "newarr = np.hsplit(arr, 3)\n",
        "\n",
        "print(newarr)"
      ],
      "metadata": {
        "colab": {
          "base_uri": "https://localhost:8080/"
        },
        "id": "TpphJPLfGijg",
        "outputId": "4fdcb723-bded-47c4-cb01-4b3a38a5d370"
      },
      "execution_count": null,
      "outputs": [
        {
          "output_type": "stream",
          "name": "stdout",
          "text": [
            "[array([[ 1],\n",
            "       [ 4],\n",
            "       [ 7],\n",
            "       [10],\n",
            "       [13],\n",
            "       [16]]), array([[ 2],\n",
            "       [ 5],\n",
            "       [ 8],\n",
            "       [11],\n",
            "       [14],\n",
            "       [17]]), array([[ 3],\n",
            "       [ 6],\n",
            "       [ 9],\n",
            "       [12],\n",
            "       [15],\n",
            "       [18]])]\n"
          ]
        }
      ]
    },
    {
      "cell_type": "markdown",
      "source": [
        "#### **Searching Arrays**\n",
        "- We can search an array for a certain value, and return the indexes that get a match. To search an array, use the `where()` method."
      ],
      "metadata": {
        "id": "SDUnEvM5iXnh"
      }
    },
    {
      "cell_type": "code",
      "source": [
        "# Finding the indexes where the value is 4\n",
        "\n",
        "arr = np.array([1, 2, 3, 4, 5, 4])\n",
        "\n",
        "x = np.where(arr == 4)\n",
        "\n",
        "print(x) # Meaning that the value 4 is present at index 3, and 5"
      ],
      "metadata": {
        "id": "sU4x2ofdT4Fm",
        "colab": {
          "base_uri": "https://localhost:8080/"
        },
        "outputId": "fbfadf28-fd6b-4dfe-d228-dbb5e2d88a44"
      },
      "execution_count": null,
      "outputs": [
        {
          "output_type": "stream",
          "name": "stdout",
          "text": [
            "(array([3, 5]),)\n"
          ]
        }
      ]
    },
    {
      "cell_type": "code",
      "source": [
        "# Finding the indexes where the values are even\n",
        "\n",
        "arr = np.array([1, 2, 3, 4, 5, 6, 7, 8])\n",
        "\n",
        "x = np.where(arr % 2 == 0)\n",
        "\n",
        "print(x)"
      ],
      "metadata": {
        "id": "ll36qQ3sT3yk",
        "colab": {
          "base_uri": "https://localhost:8080/"
        },
        "outputId": "57561a41-34d7-48fe-f48e-b3a79138bdb6"
      },
      "execution_count": null,
      "outputs": [
        {
          "output_type": "stream",
          "name": "stdout",
          "text": [
            "(array([1, 3, 5, 7]),)\n"
          ]
        }
      ]
    },
    {
      "cell_type": "code",
      "source": [
        "# Finding the indexes where the value 7 should be inserted\n",
        "\n",
        "arr = np.array([5, 6, 7, 8, 9])\n",
        "\n",
        "x = np.searchsorted(arr, 7)\n",
        "\n",
        "print(x)"
      ],
      "metadata": {
        "id": "CQFuhJwJT3eb",
        "colab": {
          "base_uri": "https://localhost:8080/"
        },
        "outputId": "ed172a8f-514f-4ad7-9989-66214621dcda"
      },
      "execution_count": null,
      "outputs": [
        {
          "output_type": "stream",
          "name": "stdout",
          "text": [
            "2\n"
          ]
        }
      ]
    },
    {
      "cell_type": "code",
      "source": [
        "# Finding the indexes where the values 2, 4, and 6 should be inserted\n",
        "\n",
        "arr = np.array([1, 3, 5, 7])\n",
        "\n",
        "x = np.searchsorted(arr, [2, 4, 6])\n",
        "\n",
        "print(x)"
      ],
      "metadata": {
        "id": "3_pFCfXpT3Ls",
        "colab": {
          "base_uri": "https://localhost:8080/"
        },
        "outputId": "8be5f8a9-7dfe-49e3-d9c2-5345ebbe1243"
      },
      "execution_count": null,
      "outputs": [
        {
          "output_type": "stream",
          "name": "stdout",
          "text": [
            "[1 2 3]\n"
          ]
        }
      ]
    },
    {
      "cell_type": "markdown",
      "source": [
        "##### Exercise"
      ],
      "metadata": {
        "id": "E_wGyTLTRFsp"
      }
    },
    {
      "cell_type": "code",
      "source": [
        "# Using the correct NumPy method to find all items with the value 4\n",
        "\n",
        "arr = np.array([1, 2, 3, 4, 5, 4, 4])\n",
        "\n",
        "x = np.where(arr == 4)\n",
        "\n",
        "print(x)"
      ],
      "metadata": {
        "id": "IfJVhP6rT247",
        "colab": {
          "base_uri": "https://localhost:8080/"
        },
        "outputId": "fa5de8b7-2e5d-4680-e79b-cc1b86d01e64"
      },
      "execution_count": null,
      "outputs": [
        {
          "output_type": "stream",
          "name": "stdout",
          "text": [
            "(array([3, 5, 6]),)\n"
          ]
        }
      ]
    },
    {
      "cell_type": "markdown",
      "source": [
        "#### **Sorting Arrays**\n",
        "\n",
        "- Sorting means putting elements in an ordered sequence. Ordered sequence is any sequence that has an order corresponding to elements, like numeric or alphabetical, ascending or descending.\n",
        "\n",
        "- The NumPy ndarray object has a function called `sort()`, that will sort a specified array."
      ],
      "metadata": {
        "id": "pA1xTocrT2eO"
      }
    },
    {
      "cell_type": "code",
      "source": [
        "# Sorting the array\n",
        "\n",
        "arr = np.array([4, 5, 3, 2, 0, 1])\n",
        "\n",
        "print(np.sort(arr))"
      ],
      "metadata": {
        "id": "T7URZWJgT1_G",
        "colab": {
          "base_uri": "https://localhost:8080/"
        },
        "outputId": "184218fa-32aa-4426-b016-d5fe0a688b81"
      },
      "execution_count": null,
      "outputs": [
        {
          "output_type": "stream",
          "name": "stdout",
          "text": [
            "[0 1 2 3 4 5]\n"
          ]
        }
      ]
    },
    {
      "cell_type": "code",
      "source": [
        "# Sort the array alphabetically\n",
        "\n",
        "arr = np.array(['banana', 'cherry', 'apple'])\n",
        "\n",
        "print(np.sort(arr))"
      ],
      "metadata": {
        "colab": {
          "base_uri": "https://localhost:8080/"
        },
        "id": "O1xOlpK9Se_g",
        "outputId": "d51cfd07-b5c2-4f31-ab7b-2357378f9eec"
      },
      "execution_count": null,
      "outputs": [
        {
          "output_type": "stream",
          "name": "stdout",
          "text": [
            "['apple' 'banana' 'cherry']\n"
          ]
        }
      ]
    },
    {
      "cell_type": "code",
      "source": [
        "# Sorting a boolean array\n",
        "\n",
        "arr = np.array([True, False, True, False])\n",
        "\n",
        "print(np.sort(arr))"
      ],
      "metadata": {
        "colab": {
          "base_uri": "https://localhost:8080/"
        },
        "id": "0TwuKQmbStTd",
        "outputId": "ae2f7927-a40a-4b4d-e149-12372e06cd88"
      },
      "execution_count": null,
      "outputs": [
        {
          "output_type": "stream",
          "name": "stdout",
          "text": [
            "[False False  True  True]\n"
          ]
        }
      ]
    },
    {
      "cell_type": "markdown",
      "source": [
        "Sorting a 2-D Array\n",
        "\n",
        "- Using the `sort()` method on a 2-D array, both arrays will be sorted:"
      ],
      "metadata": {
        "id": "S1EesrJDTGMm"
      }
    },
    {
      "cell_type": "code",
      "source": [
        "arr = np.array([[2, 0, 1], [4, 3, 5]])\n",
        "\n",
        "print(np.sort(arr))"
      ],
      "metadata": {
        "colab": {
          "base_uri": "https://localhost:8080/"
        },
        "id": "5-btfM-DkI8a",
        "outputId": "315ca4b9-e073-4abe-a8cc-230986421e49"
      },
      "execution_count": null,
      "outputs": [
        {
          "output_type": "stream",
          "name": "stdout",
          "text": [
            "[[0 1 2]\n",
            " [3 4 5]]\n"
          ]
        }
      ]
    },
    {
      "cell_type": "markdown",
      "source": [
        "##### Exercise"
      ],
      "metadata": {
        "id": "gHcLHOLpkrZE"
      }
    },
    {
      "cell_type": "code",
      "source": [
        "# Use the correct NumPy method to return a sorted array\n",
        "\n",
        "arr = np.array([3, 2, 0, 5, 1, 4])\n",
        "\n",
        "x = np.sort(arr)\n",
        "\n",
        "print(x)"
      ],
      "metadata": {
        "colab": {
          "base_uri": "https://localhost:8080/"
        },
        "id": "L3CvIxarkoiW",
        "outputId": "862fa6fa-496e-4e21-f060-364c2f3c8c04"
      },
      "execution_count": null,
      "outputs": [
        {
          "output_type": "stream",
          "name": "stdout",
          "text": [
            "[0 1 2 3 4 5]\n"
          ]
        }
      ]
    },
    {
      "cell_type": "markdown",
      "source": [
        "#### **Filtering Arrays**\n",
        "\n",
        "- In NumPy, we can filter an array using a boolean index list. A boolean index list is a list of booleans corresponding to indexes in the array."
      ],
      "metadata": {
        "id": "J6D0-qkXlyxV"
      }
    },
    {
      "cell_type": "code",
      "source": [
        "# Create an array from the elements on index 0 and 2\n",
        "\n",
        "arr = np.array([11, 12, 13, 14, 15])\n",
        "\n",
        "x = [True, False, True, False, True]\n",
        "\n",
        "newarr = arr[x]\n",
        "\n",
        "print(newarr)"
      ],
      "metadata": {
        "colab": {
          "base_uri": "https://localhost:8080/"
        },
        "id": "k0dTs2EUrSLi",
        "outputId": "8a048bb0-babf-49a4-b965-dca2f1b4e1b9"
      },
      "execution_count": null,
      "outputs": [
        {
          "output_type": "stream",
          "name": "stdout",
          "text": [
            "[11 13 15]\n"
          ]
        }
      ]
    },
    {
      "cell_type": "code",
      "source": [
        "# Creating a filter array that will return only values higher than 12\n",
        "\n",
        "arr = np.array([10, 11, 12, 13, 14, 15])\n",
        "\n",
        "filter_arr = arr > 12\n",
        "\n",
        "newarr = arr[filter_arr]\n",
        "\n",
        "print(newarr)"
      ],
      "metadata": {
        "colab": {
          "base_uri": "https://localhost:8080/"
        },
        "id": "bVsdGEqVroBw",
        "outputId": "e71dcf27-c0e5-4523-fa91-e0340f1cc24d"
      },
      "execution_count": null,
      "outputs": [
        {
          "output_type": "stream",
          "name": "stdout",
          "text": [
            "[13 14 15]\n"
          ]
        }
      ]
    }
  ]
}