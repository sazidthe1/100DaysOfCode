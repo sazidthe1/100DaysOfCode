{
  "nbformat": 4,
  "nbformat_minor": 0,
  "metadata": {
    "colab": {
      "provenance": [],
      "collapsed_sections": [
        "dsj8DftFT4Nv",
        "SjCuJlIDiXbU",
        "SDUnEvM5iXnh"
      ]
    },
    "kernelspec": {
      "name": "python3",
      "display_name": "Python 3"
    },
    "language_info": {
      "name": "python"
    }
  },
  "cells": [
    {
      "cell_type": "markdown",
      "source": [
        "## Day 53 of 100DaysOfCode 🐍\n",
        "### NumPy Arrays (Shaping, Reshaping, Iterating)"
      ],
      "metadata": {
        "id": "2Tu150GDft69"
      }
    },
    {
      "cell_type": "markdown",
      "source": [
        "#### **Shaping NumPy Arrays**\n",
        "\n",
        "- NumPy arrays have an attribute called `shape` that returns a tuple with each index having the number of corresponding elements."
      ],
      "metadata": {
        "id": "dsj8DftFT4Nv"
      }
    },
    {
      "cell_type": "code",
      "source": [
        "# Printing the shape of a 2-D array\n",
        "\n",
        "import numpy as np\n",
        "\n",
        "arr = np.array([[1, 2, 3, 4], [5, 6, 7, 8]])\n",
        "\n",
        "print(arr.shape)"
      ],
      "metadata": {
        "colab": {
          "base_uri": "https://localhost:8080/"
        },
        "id": "zWsIHZbAiYgC",
        "outputId": "4089c3bf-5369-4ac6-b7b1-c1613c39b2ce"
      },
      "execution_count": null,
      "outputs": [
        {
          "output_type": "stream",
          "name": "stdout",
          "text": [
            "(2, 4)\n"
          ]
        }
      ]
    },
    {
      "cell_type": "code",
      "source": [
        "# Creating an array with 5 dimensions using ndmin using a vector with values 1,2,3,4 and verify that last dimension has value 4\n",
        "\n",
        "arr = np.array([1, 2, 3, 4], ndmin=5)\n",
        "\n",
        "print(arr)\n",
        "print('shape of array :', arr.shape)"
      ],
      "metadata": {
        "colab": {
          "base_uri": "https://localhost:8080/"
        },
        "id": "C950LBVUjJvP",
        "outputId": "5f80fe01-9f71-4536-e569-e1e50895105e"
      },
      "execution_count": null,
      "outputs": [
        {
          "output_type": "stream",
          "name": "stdout",
          "text": [
            "[[[[[1 2 3 4]]]]]\n",
            "shape of array : (1, 1, 1, 1, 4)\n"
          ]
        }
      ]
    },
    {
      "cell_type": "markdown",
      "source": [
        "##### Exercise"
      ],
      "metadata": {
        "id": "cB2p3zeij03w"
      }
    },
    {
      "cell_type": "code",
      "source": [
        "# Using the correct NumPy syntax to check the shape of an array\n",
        "\n",
        "arr = np.array([1, 2, 3, 4, 5])\n",
        "\n",
        "print(arr.shape)"
      ],
      "metadata": {
        "colab": {
          "base_uri": "https://localhost:8080/"
        },
        "id": "jUh6aY_sj2nP",
        "outputId": "2f381299-b1e9-464f-952e-02b3c067a6fd"
      },
      "execution_count": null,
      "outputs": [
        {
          "output_type": "stream",
          "name": "stdout",
          "text": [
            "(5,)\n"
          ]
        }
      ]
    },
    {
      "cell_type": "markdown",
      "source": [
        "#### **Reshaping NumPy Arrays**\n",
        "\n",
        "- Reshaping means changing the shape of an array.\n",
        "\n",
        "- By reshaping we can add or remove dimensions or change number of elements in each dimension."
      ],
      "metadata": {
        "id": "SjCuJlIDiXbU"
      }
    },
    {
      "cell_type": "markdown",
      "source": [
        "##### Exercise"
      ],
      "metadata": {
        "id": "USpDoQRoV0Qp"
      }
    },
    {
      "cell_type": "code",
      "source": [
        "# Using the correct NumPy method to change the shape of an array from 1-D to 2-D\n",
        "\n",
        "arr = np.array([1, 2, 3, 4, 5, 6, 7, 8, 9, 10, 11, 12])\n",
        "\n",
        "newarr = arr.reshape(4,3)\n",
        "\n",
        "print(newarr)"
      ],
      "metadata": {
        "colab": {
          "base_uri": "https://localhost:8080/"
        },
        "id": "TySG_HdSWGAz",
        "outputId": "0b0d0319-0486-40e5-f616-a6312cbc7567"
      },
      "execution_count": null,
      "outputs": [
        {
          "output_type": "stream",
          "name": "stdout",
          "text": [
            "[[ 1  2  3]\n",
            " [ 4  5  6]\n",
            " [ 7  8  9]\n",
            " [10 11 12]]\n"
          ]
        }
      ]
    },
    {
      "cell_type": "code",
      "source": [
        "# Use a correct NumPy method to change the shape of an array from 2-D to 1-D\n",
        "\n",
        "arr = np.array([[1, 2, 3, 4, 5, 6], [7, 8, 9, 10, 11, 12]])\n",
        "\n",
        "newarr = arr.reshape(-1)\n",
        "\n",
        "print(newarr)"
      ],
      "metadata": {
        "colab": {
          "base_uri": "https://localhost:8080/"
        },
        "id": "kZrwztWnW6zQ",
        "outputId": "572401b0-4303-47ce-e662-120ee2c41182"
      },
      "execution_count": null,
      "outputs": [
        {
          "output_type": "stream",
          "name": "stdout",
          "text": [
            "[ 1  2  3  4  5  6  7  8  9 10 11 12]\n"
          ]
        }
      ]
    },
    {
      "cell_type": "markdown",
      "source": [
        "#### **Iterating NumPy Arrays**\n",
        "\n",
        "- Iterating means going through elements one by one.\n",
        "\n",
        "- As we deal with multi-dimensional arrays in numpy, we can do this using basic `for` loop of python."
      ],
      "metadata": {
        "id": "SDUnEvM5iXnh"
      }
    },
    {
      "cell_type": "code",
      "source": [
        "# Iterating on the elements of the following 1-D array\n",
        "\n",
        "arr = np.array([1, 2, 3])\n",
        "\n",
        "for x in arr:\n",
        "  print(x)"
      ],
      "metadata": {
        "id": "XCWSQmokYQkq",
        "colab": {
          "base_uri": "https://localhost:8080/"
        },
        "outputId": "6709b3e9-1d62-45d5-8da4-06368a320729"
      },
      "execution_count": null,
      "outputs": [
        {
          "output_type": "stream",
          "name": "stdout",
          "text": [
            "1\n",
            "2\n",
            "3\n"
          ]
        }
      ]
    },
    {
      "cell_type": "code",
      "source": [
        "# Iterating on the elements of the following 2-D array\n",
        "\n",
        "arr = np.array([[1, 2, 3], [4, 5, 6]])\n",
        "\n",
        "for x in arr:\n",
        "  print(x)"
      ],
      "metadata": {
        "colab": {
          "base_uri": "https://localhost:8080/"
        },
        "id": "XTM9caeirITI",
        "outputId": "ef594b86-3946-41f5-ab0b-a47e84f6f6a5"
      },
      "execution_count": null,
      "outputs": [
        {
          "output_type": "stream",
          "name": "stdout",
          "text": [
            "[1 2 3]\n",
            "[4 5 6]\n"
          ]
        }
      ]
    },
    {
      "cell_type": "code",
      "source": [
        "# Iterate on each scalar element of the 2-D array\n",
        "\n",
        "arr = np.array([[1, 2, 3], [4, 5, 6]])\n",
        "\n",
        "for x in arr:\n",
        "  for y in x:\n",
        "    print(y)"
      ],
      "metadata": {
        "colab": {
          "base_uri": "https://localhost:8080/"
        },
        "id": "nh_SpI_drqsu",
        "outputId": "7e9d8ce8-44bc-4555-e1d5-1107fb7dcb5a"
      },
      "execution_count": null,
      "outputs": [
        {
          "output_type": "stream",
          "name": "stdout",
          "text": [
            "1\n",
            "2\n",
            "3\n",
            "4\n",
            "5\n",
            "6\n"
          ]
        }
      ]
    },
    {
      "cell_type": "code",
      "source": [
        "# Iterating on the elements of the following 3-D array\n",
        "\n",
        "arr = np.array([[[1, 2, 3], [4, 5, 6]], [[7, 8, 9], [10, 11, 12]]])\n",
        "\n",
        "for x in arr:\n",
        "  print(\"x represents the 2-D array:\")\n",
        "  print(x)"
      ],
      "metadata": {
        "colab": {
          "base_uri": "https://localhost:8080/"
        },
        "id": "HONz0p19r-yI",
        "outputId": "5f7dfc30-ef6f-4dc6-b0fb-53297528f9b3"
      },
      "execution_count": null,
      "outputs": [
        {
          "output_type": "stream",
          "name": "stdout",
          "text": [
            "x represents the 2-D array:\n",
            "[[1 2 3]\n",
            " [4 5 6]]\n",
            "x represents the 2-D array:\n",
            "[[ 7  8  9]\n",
            " [10 11 12]]\n"
          ]
        }
      ]
    },
    {
      "cell_type": "markdown",
      "source": [
        "##### **Iterating Arrays Using nditer()**\n",
        "\n",
        "- The function `nditer()` is a helping function that can be used from very basic to very advanced iterations."
      ],
      "metadata": {
        "id": "E_wGyTLTRFsp"
      }
    },
    {
      "cell_type": "code",
      "source": [
        "# Iterate through the following 3-D array using nditer() function\n",
        "\n",
        "arr = np.array([[[1, 2], [3, 4]], [[5, 6], [7, 8]]])\n",
        "\n",
        "for x in np.nditer(arr):\n",
        "  print(x)"
      ],
      "metadata": {
        "colab": {
          "base_uri": "https://localhost:8080/"
        },
        "id": "WPv5wjHwsVjY",
        "outputId": "0fe6e3db-c457-4337-e1be-a839b3d20f68"
      },
      "execution_count": null,
      "outputs": [
        {
          "output_type": "stream",
          "name": "stdout",
          "text": [
            "1\n",
            "2\n",
            "3\n",
            "4\n",
            "5\n",
            "6\n",
            "7\n",
            "8\n"
          ]
        }
      ]
    }
  ]
}