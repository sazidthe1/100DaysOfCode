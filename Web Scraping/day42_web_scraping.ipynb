{
  "nbformat": 4,
  "nbformat_minor": 0,
  "metadata": {
    "colab": {
      "provenance": []
    },
    "kernelspec": {
      "name": "python3",
      "display_name": "Python 3"
    },
    "language_info": {
      "name": "python"
    }
  },
  "cells": [
    {
      "cell_type": "markdown",
      "source": [
        "## Day 42 of 100DaysOfCode 🐍\n",
        "### Web Scraping - HTTP, XPath notation, XPath syntax, and Selectors"
      ],
      "metadata": {
        "id": "2Tu150GDft69"
      }
    },
    {
      "cell_type": "markdown",
      "source": [
        "### **HTTP 🌐📨**\n",
        "\n",
        "HTTP stands for **Hypertext Transfer Protocol**.\n",
        "\n",
        "- It is the foundation of data communication on the internet, allowing web browsers to fetch and display web pages.\n",
        "- It works by transmitting requests from clients (like browsers) to servers and receiving responses back."
      ],
      "metadata": {
        "id": "1XMHr5Lcj0Xm"
      }
    },
    {
      "cell_type": "markdown",
      "source": [
        "### **XPath notation 🧭📝**\n",
        "\n",
        "XPath notation is a syntax for navigating and selecting elements in XML and HTML documents. It allows to locate specific nodes or elements based on it's relationships or attributes within the document structure."
      ],
      "metadata": {
        "id": "50sYMRAAkac2"
      }
    },
    {
      "cell_type": "markdown",
      "source": [
        "### **XPath syntax 🧭🧾**\n",
        "\n",
        "XPath syntax is a concise and powerful way to describe the path to specific elements in XML and HTML documents. It uses a combination of slashes, node names, and predicates to define the location of the desired elements within the document."
      ],
      "metadata": {
        "id": "XHiE_pQzlOrv"
      }
    },
    {
      "cell_type": "markdown",
      "source": [
        "### **Selectors 🎯📌**\n",
        "\n",
        "Selectors in web scraping are patterns or expressions used to identify and extract specific elements from a webpage's HTML or XML structure. It allows to target and retrieve desired data, such as text, images, or links, efficiently from web pages."
      ],
      "metadata": {
        "id": "rqiXnz1YpSuB"
      }
    },
    {
      "cell_type": "markdown",
      "source": [
        "#### **Exercise - Choose DataCamp!**"
      ],
      "metadata": {
        "id": "gruafVVWFWY7"
      }
    },
    {
      "cell_type": "code",
      "source": [
        "# Consider the following HTML\n",
        "<html>\n",
        "  <body>\n",
        "    <div>\n",
        "      <p>Hello World!</p>\n",
        "      <div>\n",
        "        <p>Choose DataCamp!</p>\n",
        "      </div>\n",
        "    </div>\n",
        "    <div>\n",
        "      <p>Thanks for Watching!</p>\n",
        "    </div>\n",
        "  </body>\n",
        "</html>\n",
        "\n",
        "# Create an XPath string to the desired paragraph element\n",
        "xpath = '/html/body/div/div/p'"
      ],
      "metadata": {
        "id": "GVULI5QJUt-U"
      },
      "execution_count": null,
      "outputs": []
    },
    {
      "cell_type": "markdown",
      "source": [
        "#### **Attribute**\n",
        "\n",
        "@ represents \"attribute\"\n",
        "- @class\n",
        "- @id\n",
        "- @href"
      ],
      "metadata": {
        "id": "CG4X5VDwWEld"
      }
    },
    {
      "cell_type": "markdown",
      "source": [
        "#### Brackets and Attributes\n",
        "xpath = '//p[@class=\"class-1\"]'"
      ],
      "metadata": {
        "id": "8GhM8pV3XQPc"
      }
    },
    {
      "cell_type": "markdown",
      "source": [
        "#### Contain with Contains\n",
        "Xpath Contain Notation: **contains(@attri-name, \"string-expre\")**"
      ],
      "metadata": {
        "id": "W79xXj7TXX5E"
      }
    },
    {
      "cell_type": "markdown",
      "source": [
        "#### **Exercise - Where it's @**"
      ],
      "metadata": {
        "id": "pNobhUHuYj8g"
      }
    },
    {
      "cell_type": "code",
      "source": [
        "# Consider the following HTML\n",
        "<html>\n",
        "  <body>\n",
        "    <div id=\"div1\" class=\"class-1\">\n",
        "      <p class=\"class-1 class-2\">Hello World!</p>\n",
        "      <div id=\"div2\">\n",
        "        <p id=\"p2\" class=\"class-2\">Choose DataCamp!</p>\n",
        "      </div>\n",
        "    </div>\n",
        "    <div id=\"div3\" class=\"class-2\">\n",
        "      <p class=\"class-2\">Thanks for Watching!</p>\n",
        "    </div>\n",
        "  </body>\n",
        "</html>\n",
        "\n",
        "# Create an XPath string to the desired paragraph element\n",
        "xpath = '//*[@id=\"div3\"]/p' or\n",
        "xpath = '//*[@class=\"class-2\"]/p'"
      ],
      "metadata": {
        "id": "FcgGrf17Yj8g"
      },
      "execution_count": null,
      "outputs": []
    },
    {
      "cell_type": "markdown",
      "source": [
        "#### **Exercise - Check your Class**"
      ],
      "metadata": {
        "id": "3ABleb3cesFx"
      }
    },
    {
      "cell_type": "code",
      "source": [
        "# Consider the following HTML\n",
        "<html>\n",
        "  <body>\n",
        "    <div id=\"div1\" class=\"class-1\">\n",
        "      <p class=\"class-1 class-2\">Hello World!</p>\n",
        "      <div id=\"div2\">\n",
        "        <p id=\"p2\" class=\"class-2\">Choose DataCamp!</p>\n",
        "      </div>\n",
        "    </div>\n",
        "    <div id=\"div3\" class=\"class-2\">\n",
        "      <p class=\"class-2\">Thanks for Watching!</p>\n",
        "    </div>\n",
        "  </body>\n",
        "</html>\n",
        "\n",
        "# Create an XPath string to the desired paragraph element\n",
        "xpath = '//p[@class=\"class-1 class-2\"]'\n",
        "xpath = '//*[@class=\"class-2\"]/p'"
      ],
      "metadata": {
        "id": "VbdmZr65esFx"
      },
      "execution_count": null,
      "outputs": []
    },
    {
      "cell_type": "markdown",
      "source": [
        "#### **Exercise - Hyper(link) Active**"
      ],
      "metadata": {
        "id": "YrCljyNehfua"
      }
    },
    {
      "cell_type": "code",
      "source": [
        "# Consider the following HTML\n",
        "<html>\n",
        "  <body>\n",
        "    <div id=\"div1\" class=\"class-1\">\n",
        "      <p class=\"class-1 class-2\">Hello World!</p>\n",
        "      <div id=\"div2\">\n",
        "        <p id=\"p2\" class=\"class-2\">Choose\n",
        "            <a href=\"http://datacamp.com\">DataCamp!</a>!\n",
        "        </p>\n",
        "      </div>\n",
        "    </div>\n",
        "    <div id=\"div3\" class=\"class-2\">\n",
        "      <p class=\"class-2\">Thanks for Watching!</p>\n",
        "    </div>\n",
        "  </body>\n",
        "</html>\n",
        "\n",
        "# Create an XPath string to the desired paragraph element\n",
        "xpath = '//a[contains(@class,\"package-snippet\")]/@href'"
      ],
      "metadata": {
        "id": "GHO73A8Dh1g9"
      },
      "execution_count": null,
      "outputs": []
    },
    {
      "cell_type": "markdown",
      "source": [
        "#### **XPath Chaining**"
      ],
      "metadata": {
        "id": "qgKr_FFFpHw_"
      }
    },
    {
      "cell_type": "code",
      "source": [
        "sel.xpath('//div/span/p[3]') Same as >> sel.xpath('//div').xpath('./span/p[3]')"
      ],
      "metadata": {
        "id": "fdIzd-N2pP5R"
      },
      "execution_count": null,
      "outputs": []
    },
    {
      "cell_type": "markdown",
      "source": [
        "#### **Exercise - Divvy Up This Exercise**"
      ],
      "metadata": {
        "id": "UIODD1FCqcQk"
      }
    },
    {
      "cell_type": "markdown",
      "source": [
        "We have pre-loaded an HTML into the string variable `html`. In this two part problem you will use this `html` variable as the HTML document to set up a `Selector` object with, and create a `SelectorList` which selects all `div` elements; then, you will check your understanding of what happens within the `SelectorList`.\n",
        "\n",
        "<br>\n",
        "\n",
        "> Instructions\n",
        "- Set up the Selector object sel with the html variable passed as the text argument.\n",
        "- Assign to the variable divs a SelectorList of all div elements within the HTML document."
      ],
      "metadata": {
        "id": "RMlrJpo7qhv0"
      }
    },
    {
      "cell_type": "code",
      "source": [
        "from scrapy import Selector\n",
        "\n",
        "# Create a Selector selecting html as the HTML document\n",
        "sel = Selector(text=html)\n",
        "\n",
        "# Create a SelectorList of all div elements in the HTML document\n",
        "divs = sel.xpath('//div')"
      ],
      "metadata": {
        "id": "siVwXiULq0oh"
      },
      "execution_count": null,
      "outputs": []
    },
    {
      "cell_type": "markdown",
      "source": [
        "#### **Practice - HTML text to Selector**"
      ],
      "metadata": {
        "id": "O_DOAQZnuXXa"
      }
    },
    {
      "cell_type": "code",
      "source": [
        "# Importing the Selector from Scrapy\n",
        "from scrapy import Selector"
      ],
      "metadata": {
        "id": "1k9MxDsKvfKF"
      },
      "execution_count": null,
      "outputs": []
    },
    {
      "cell_type": "code",
      "source": [
        "# Importing Requests and URL\n",
        "import requests\n",
        "url = 'https://en.wikipedia.org/wiki/Web_scraping'"
      ],
      "metadata": {
        "id": "RZhT9VWVum2I"
      },
      "execution_count": null,
      "outputs": []
    },
    {
      "cell_type": "code",
      "source": [
        "# Getting the contents using get() method\n",
        "html = requests.get(url).content"
      ],
      "metadata": {
        "id": "zxxN1_z9xX_9"
      },
      "execution_count": null,
      "outputs": []
    },
    {
      "cell_type": "code",
      "source": [
        "# Passing the content to the Selector\n",
        "sel = Selector(text=html)"
      ],
      "metadata": {
        "id": "NQXidt07u3k-"
      },
      "execution_count": null,
      "outputs": []
    },
    {
      "cell_type": "markdown",
      "source": [
        "#### **Requesting a Selector**\n",
        "\n",
        "We have pre-loaded the URL for a particular website in the string variable `url` and use the requests library to put the content from the website into the string variable `html`. Your task is to create a `Selector` object `sel` using the HTML source code stored in `html`.\n",
        "\n",
        "<br>\n",
        "\n",
        "> Instructions\n",
        "- Fill in the two blanks below to assign to create the Selector object sel which uses the string html as the text it inputs."
      ],
      "metadata": {
        "id": "tPi2QgYqwFZg"
      }
    },
    {
      "cell_type": "code",
      "source": [
        "# Importing a scrapy Selector\n",
        "from scrapy import Selector\n",
        "\n",
        "# Importing requests\n",
        "import requests\n",
        "\n",
        "# Creating the string html containing the HTML source\n",
        "html = requests.get(url).content\n",
        "\n",
        "# Creating the Selector object sel from html\n",
        "sel = Selector(text=html)\n",
        "\n",
        "# Print out the number of elements in the HTML document\n",
        "print(\"There are 1020 elements in the HTML document.\")\n",
        "print(\"You have found: \", len(sel.xpath('//*')))"
      ],
      "metadata": {
        "id": "J9SP4-zwwkh_"
      },
      "execution_count": null,
      "outputs": []
    }
  ]
}