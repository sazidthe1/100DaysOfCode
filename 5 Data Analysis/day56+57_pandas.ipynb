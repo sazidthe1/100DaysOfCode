{
  "nbformat": 4,
  "nbformat_minor": 0,
  "metadata": {
    "colab": {
      "provenance": []
    },
    "kernelspec": {
      "name": "python3",
      "display_name": "Python 3"
    },
    "language_info": {
      "name": "python"
    }
  },
  "cells": [
    {
      "cell_type": "markdown",
      "source": [
        "## Day 56 & 57 of 100DaysOfCode 🐍\n",
        "### Python Library - Pandas Basics, Series, Loading DataFrames (CSV, JSON), Analyzing DataFrames\n",
        "\n"
      ],
      "metadata": {
        "id": "2Tu150GDft69"
      }
    },
    {
      "cell_type": "markdown",
      "source": [
        "#### **Pandas 🐼📊**\n",
        "\n",
        "Pandas is a Python library used for working with data sets. It has the ability for analyzing, cleaning, exploring, and manipulating data."
      ],
      "metadata": {
        "id": "fCjG-M0rhAAH"
      }
    },
    {
      "cell_type": "markdown",
      "source": [
        "#### **Purpose of Pandas 🐼📊**\n",
        "\n",
        "- Pandas allows us to analyze big data and make conclusions based on statistical theories.\n",
        "\n",
        "- Pandas can clean messy data sets, and make them readable and relevant."
      ],
      "metadata": {
        "id": "rtEmcdv3hNE2"
      }
    },
    {
      "cell_type": "markdown",
      "source": [
        "#### **Installation of Pandas**"
      ],
      "metadata": {
        "id": "2CcqImQvinxa"
      }
    },
    {
      "cell_type": "code",
      "source": [
        "!pip install pandas"
      ],
      "metadata": {
        "id": "DLN_iG6vi1bS"
      },
      "execution_count": null,
      "outputs": []
    },
    {
      "cell_type": "markdown",
      "source": [
        "#### **Importing Pandas**"
      ],
      "metadata": {
        "id": "GU-rB13Wiuxj"
      }
    },
    {
      "cell_type": "code",
      "source": [
        "import pandas as pd"
      ],
      "metadata": {
        "id": "7ALq0OLTjC3a"
      },
      "execution_count": null,
      "outputs": []
    },
    {
      "cell_type": "markdown",
      "source": [
        "#### **Example**"
      ],
      "metadata": {
        "id": "epAAvoMRiu3H"
      }
    },
    {
      "cell_type": "code",
      "source": [
        "# Creating a dictionary dataset\n",
        "mydataset = {\n",
        "  'cars': [\"BMW\", \"Volvo\", \"Ford\"],\n",
        "  'passings': [3, 7, 2]\n",
        "}\n",
        "\n",
        "# Loading the dataset in Pandas\n",
        "myvar = pd.DataFrame(mydataset)\n",
        "\n",
        "print(myvar)"
      ],
      "metadata": {
        "colab": {
          "base_uri": "https://localhost:8080/"
        },
        "id": "JfpQWHQMjPcd",
        "outputId": "d031e4c8-efde-4de7-dbac-4c71b3bbfdcc"
      },
      "execution_count": null,
      "outputs": [
        {
          "output_type": "stream",
          "name": "stdout",
          "text": [
            "    cars  passings\n",
            "0    BMW         3\n",
            "1  Volvo         7\n",
            "2   Ford         2\n"
          ]
        }
      ]
    },
    {
      "cell_type": "markdown",
      "source": [
        "#### **Checking Pandas Version**"
      ],
      "metadata": {
        "id": "Hz7VacHRivHc"
      }
    },
    {
      "cell_type": "code",
      "source": [
        "import pandas as pd\n",
        "\n",
        "print(pd.__version__)"
      ],
      "metadata": {
        "colab": {
          "base_uri": "https://localhost:8080/"
        },
        "id": "n2B1goIwIucc",
        "outputId": "c97f6578-cd44-4607-d9f4-95e982723463"
      },
      "execution_count": null,
      "outputs": [
        {
          "output_type": "stream",
          "name": "stdout",
          "text": [
            "1.5.3\n"
          ]
        }
      ]
    },
    {
      "cell_type": "markdown",
      "source": [
        "#### **Pandas Series**\n",
        "\n",
        "- A Pandas Series is like a column in a table.\n",
        "\n",
        "- It is a one-dimensional array holding data of any type.\n",
        "\n"
      ],
      "metadata": {
        "id": "xA1n8nK-IqHY"
      }
    },
    {
      "cell_type": "code",
      "source": [
        "# Creating a simple Pandas Series from a list\n",
        "\n",
        "a = [1, 3, 5]\n",
        "\n",
        "myvar = pd.Series(a)\n",
        "\n",
        "print(myvar)"
      ],
      "metadata": {
        "colab": {
          "base_uri": "https://localhost:8080/"
        },
        "id": "r3XaRoa9I2P-",
        "outputId": "7bcc15e5-4e06-4053-8995-83aea074fbea"
      },
      "execution_count": null,
      "outputs": [
        {
          "output_type": "stream",
          "name": "stdout",
          "text": [
            "0    1\n",
            "1    3\n",
            "2    5\n",
            "dtype: int64\n"
          ]
        }
      ]
    },
    {
      "cell_type": "markdown",
      "source": [
        "##### **Labels**\n",
        "\n",
        "- If nothing else is specified, the values are labeled with their index number. First value has index 0, second value has index 1 etc."
      ],
      "metadata": {
        "id": "c5wmRujjIqKH"
      }
    },
    {
      "cell_type": "code",
      "source": [
        "# Returning the third value of the Series\n",
        "\n",
        "a = [11, 13, 15]\n",
        "\n",
        "myvar = pd.Series(a)\n",
        "\n",
        "print(myvar[2])"
      ],
      "metadata": {
        "colab": {
          "base_uri": "https://localhost:8080/"
        },
        "id": "wCehSoXLI2xZ",
        "outputId": "c151b15e-d944-4d73-af64-f712bafafb6e"
      },
      "execution_count": null,
      "outputs": [
        {
          "output_type": "stream",
          "name": "stdout",
          "text": [
            "15\n"
          ]
        }
      ]
    },
    {
      "cell_type": "markdown",
      "source": [
        "##### **Creating Labels**\n",
        "\n",
        "- We can name our own labels with the `index` argument.\n"
      ],
      "metadata": {
        "id": "rl19F_P7IqNS"
      }
    },
    {
      "cell_type": "code",
      "source": [
        "a = [1, 3, 5]\n",
        "\n",
        "myvar = pd.Series(a, index = [\"x\", \"y\", \"z\"])\n",
        "\n",
        "print(myvar)"
      ],
      "metadata": {
        "colab": {
          "base_uri": "https://localhost:8080/"
        },
        "id": "DFVVbRpEI3XW",
        "outputId": "134444ad-c6fb-499f-bd4d-6d8691d62c63"
      },
      "execution_count": null,
      "outputs": [
        {
          "output_type": "stream",
          "name": "stdout",
          "text": [
            "x    1\n",
            "y    3\n",
            "z    5\n",
            "dtype: int64\n"
          ]
        }
      ]
    },
    {
      "cell_type": "code",
      "source": [
        "# Returning the value of \"y\"\n",
        "\n",
        "a = [1, 3, 5]\n",
        "\n",
        "myvar = pd.Series(a, index = [\"x\", \"y\", \"z\"])\n",
        "\n",
        "print(myvar[\"y\"])"
      ],
      "metadata": {
        "colab": {
          "base_uri": "https://localhost:8080/"
        },
        "id": "QwgWl9toLKsc",
        "outputId": "0dc2377e-cf8c-4079-dd6a-a791b988f7d3"
      },
      "execution_count": null,
      "outputs": [
        {
          "output_type": "stream",
          "name": "stdout",
          "text": [
            "3\n"
          ]
        }
      ]
    },
    {
      "cell_type": "markdown",
      "source": [
        "##### **Key/Value Objects as Series**\n",
        "\n",
        "- We can also use a key/value object, like a dictionary, when creating a Series."
      ],
      "metadata": {
        "id": "JgJIMhxpIqQM"
      }
    },
    {
      "cell_type": "code",
      "source": [
        "# Creating a simple Pandas Series from a dictionary\n",
        "\n",
        "calories = {\"day1\": 420, \"day2\": 380, \"day3\": 390}\n",
        "\n",
        "myvar = pd.Series(calories)\n",
        "\n",
        "print(myvar)"
      ],
      "metadata": {
        "colab": {
          "base_uri": "https://localhost:8080/"
        },
        "id": "vgAXF8I2I4e4",
        "outputId": "6b1183f5-7847-4f98-b31a-c15d1644d4fd"
      },
      "execution_count": null,
      "outputs": [
        {
          "output_type": "stream",
          "name": "stdout",
          "text": [
            "day1    420\n",
            "day2    380\n",
            "day3    390\n",
            "dtype: int64\n"
          ]
        }
      ]
    },
    {
      "cell_type": "code",
      "source": [
        "# Creating a Series using only data from \"day1\" and \"day2\"\n",
        "\n",
        "calories = {\"day1\": 420, \"day2\": 380, \"day3\": 390}\n",
        "\n",
        "myvar = pd.Series(calories, index = [\"day1\", \"day2\"])\n",
        "\n",
        "print(myvar)"
      ],
      "metadata": {
        "colab": {
          "base_uri": "https://localhost:8080/"
        },
        "id": "S-AvHzyfMAxP",
        "outputId": "5655347f-4d60-49cc-a681-f017c6349e6a"
      },
      "execution_count": null,
      "outputs": [
        {
          "output_type": "stream",
          "name": "stdout",
          "text": [
            "day1    420\n",
            "day2    380\n",
            "dtype: int64\n"
          ]
        }
      ]
    },
    {
      "cell_type": "markdown",
      "source": [
        "##### **Exercise**"
      ],
      "metadata": {
        "id": "z4BJVYmINBG5"
      }
    },
    {
      "cell_type": "code",
      "source": [
        "# Inserting the correct Pandas method to create a Series\n",
        "\n",
        "pd.Series(mylist)"
      ],
      "metadata": {
        "id": "9JhQwLtaNDmh"
      },
      "execution_count": null,
      "outputs": []
    },
    {
      "cell_type": "markdown",
      "source": [
        "##### **Exercise**\n",
        "\n"
      ],
      "metadata": {
        "id": "MdXrJXJQNThJ"
      }
    },
    {
      "cell_type": "code",
      "source": [
        "# Inserting the correct syntax to return the first value of a Pandas Series called \"myseries\"\n",
        "\n",
        "myseries[0]"
      ],
      "metadata": {
        "id": "2qsAcDWPNYfk"
      },
      "execution_count": null,
      "outputs": []
    },
    {
      "cell_type": "markdown",
      "source": [
        "##### **Exercise**"
      ],
      "metadata": {
        "id": "rvL8gWrFNTpg"
      }
    },
    {
      "cell_type": "code",
      "source": [
        "# Inserting the correct syntax to add the labels \"x\", \"y\", and \"z\" to a Pandas Series\n",
        "\n",
        "pd.Series(mylist, index = [\"x\", \"y\", \"z\"])"
      ],
      "metadata": {
        "id": "gtcEyYhmNaYs"
      },
      "execution_count": null,
      "outputs": []
    },
    {
      "cell_type": "markdown",
      "source": [
        "#### **DataFrames**\n",
        "\n",
        "- Data sets in Pandas are usually multi-dimensional tables, called DataFrames.\n",
        "\n",
        "- A Pandas DataFrame is a 2 dimensional data structure, like a 2 dimensional array, or a table with rows and columns.\n",
        "\n",
        "- *Series* is like a *column*, a **DataFrame** is the **whole table**.\n",
        "\n"
      ],
      "metadata": {
        "id": "qRbMByT8IqTS"
      }
    },
    {
      "cell_type": "code",
      "source": [
        "# Creating a simple Pandas DataFrame\n",
        "\n",
        "data = {\n",
        "  \"calories\": [420, 380, 390],\n",
        "  \"duration\": [50, 40, 45]\n",
        "}\n",
        "\n",
        "# Loading data into a DataFrame object\n",
        "df = pd.DataFrame(data)\n",
        "\n",
        "print(df)"
      ],
      "metadata": {
        "colab": {
          "base_uri": "https://localhost:8080/"
        },
        "id": "6lKBJGkUI58Z",
        "outputId": "f24f6955-a87e-4f57-b5eb-056b18b1147b"
      },
      "execution_count": null,
      "outputs": [
        {
          "output_type": "stream",
          "name": "stdout",
          "text": [
            "   calories  duration\n",
            "0       420        50\n",
            "1       380        40\n",
            "2       390        45\n"
          ]
        }
      ]
    },
    {
      "cell_type": "markdown",
      "source": [
        "##### **Locating Row**\n",
        "\n",
        "- Pandas use the `loc` attribute to return one or more specified row(s)."
      ],
      "metadata": {
        "id": "d7zYsSecIqWP"
      }
    },
    {
      "cell_type": "code",
      "source": [
        "# Returning row 0\n",
        "\n",
        "print(df.loc[0])"
      ],
      "metadata": {
        "colab": {
          "base_uri": "https://localhost:8080/"
        },
        "id": "_6htv4coI60I",
        "outputId": "19fa4578-e66d-4cea-88ff-995da7f53ada"
      },
      "execution_count": null,
      "outputs": [
        {
          "output_type": "stream",
          "name": "stdout",
          "text": [
            "calories    420\n",
            "duration     50\n",
            "Name: 0, dtype: int64\n"
          ]
        }
      ]
    },
    {
      "cell_type": "markdown",
      "source": [
        "##### This example returns a Pandas Series."
      ],
      "metadata": {
        "id": "W1gnO-x1PzCl"
      }
    },
    {
      "cell_type": "code",
      "source": [
        "# Returning row 0 and 1 (using a list of indexes)\n",
        "\n",
        "print(df.loc[[1, 2]])"
      ],
      "metadata": {
        "colab": {
          "base_uri": "https://localhost:8080/"
        },
        "id": "dY80Uye4P2nF",
        "outputId": "50b99fa1-6031-43f4-c89c-29b671bc6c01"
      },
      "execution_count": null,
      "outputs": [
        {
          "output_type": "stream",
          "name": "stdout",
          "text": [
            "   calories  duration\n",
            "1       380        40\n",
            "2       390        45\n"
          ]
        }
      ]
    },
    {
      "cell_type": "markdown",
      "source": [
        "##### **Locating Named Indexes**\n",
        "\n",
        "- Use the named index in the `loc` attribute to return the specified row(s).\n",
        "\n"
      ],
      "metadata": {
        "id": "Aon2YSkBIqvJ"
      }
    },
    {
      "cell_type": "code",
      "source": [
        "# Adding a list of names to give each row a name\n",
        "\n",
        "data = {\n",
        "  \"calories\": [420, 380, 390],\n",
        "  \"duration\": [50, 40, 45]\n",
        "}\n",
        "\n",
        "df = pd.DataFrame(data, index = [\"day1\", \"day2\", \"day3\"])\n",
        "\n",
        "print(df)"
      ],
      "metadata": {
        "colab": {
          "base_uri": "https://localhost:8080/"
        },
        "id": "lDEULEKLI7mH",
        "outputId": "4599ab88-90dd-436c-c36a-16cf214100be"
      },
      "execution_count": null,
      "outputs": [
        {
          "output_type": "stream",
          "name": "stdout",
          "text": [
            "      calories  duration\n",
            "day1       420        50\n",
            "day2       380        40\n",
            "day3       390        45\n"
          ]
        }
      ]
    },
    {
      "cell_type": "code",
      "source": [
        "# Returning \"day2\"\n",
        "\n",
        "print(df.loc[\"day2\"])"
      ],
      "metadata": {
        "colab": {
          "base_uri": "https://localhost:8080/"
        },
        "id": "XMd2gkc2RHeg",
        "outputId": "7b448665-c114-4dfa-e2f2-72eb3cd6e266"
      },
      "execution_count": null,
      "outputs": [
        {
          "output_type": "stream",
          "name": "stdout",
          "text": [
            "calories    380\n",
            "duration     40\n",
            "Name: day2, dtype: int64\n"
          ]
        }
      ]
    },
    {
      "cell_type": "markdown",
      "source": [
        "#### **Loading Files Into a DataFrame**\n",
        "\n",
        "- Pandas can load them into a DataFrame, when data sets are stored in a file."
      ],
      "metadata": {
        "id": "4kEMQ1-uIqyX"
      }
    },
    {
      "cell_type": "code",
      "source": [
        "# Loading a comma separated file (CSV file) into a DataFrame\n",
        "\n",
        "import pandas as pd\n",
        "\n",
        "df = pd.read_csv('data.csv')\n",
        "\n",
        "print(df)\n",
        "\n",
        "# print(df.to_string()) - Returning the entire DataFrame"
      ],
      "metadata": {
        "id": "3Ec-b9U3I9PW"
      },
      "execution_count": null,
      "outputs": []
    },
    {
      "cell_type": "markdown",
      "source": [
        "##### **Exercise**"
      ],
      "metadata": {
        "id": "idXrV7zWIq1F"
      }
    },
    {
      "cell_type": "code",
      "source": [
        "# Inserting the correct Pandas method to create a DataFrame\n",
        "\n",
        "pd.DataFrame(data)"
      ],
      "metadata": {
        "id": "t8Ryt7P2SiLP"
      },
      "execution_count": null,
      "outputs": []
    },
    {
      "cell_type": "markdown",
      "source": [
        "##### **Exercise**"
      ],
      "metadata": {
        "id": "fM31LCcGSg6-"
      }
    },
    {
      "cell_type": "code",
      "source": [
        "# Inserting the correct syntax to return the first row of a DataFrame\n",
        "\n",
        "df.loc[0]"
      ],
      "metadata": {
        "id": "lgKsHQa8Tpm4"
      },
      "execution_count": null,
      "outputs": []
    },
    {
      "cell_type": "markdown",
      "source": [
        "#### **Pandas Read CSV**\n",
        "\n",
        "- A simple way to store big data sets is to use CSV files (comma separated files).\n",
        "\n",
        "> Tip: use `to_string()` to print the entire DataFrame."
      ],
      "metadata": {
        "id": "z2MfWXSmU7zG"
      }
    },
    {
      "cell_type": "code",
      "source": [
        "# Loading the CSV into a DataFrame\n",
        "\n",
        "import pandas as pd\n",
        "\n",
        "df = pd.read_csv('https://www.w3schools.com/python/pandas/data.csv.txt')\n",
        "\n",
        "print(df.to_string())"
      ],
      "metadata": {
        "colab": {
          "base_uri": "https://localhost:8080/"
        },
        "id": "UPdNTC7ELRy8",
        "outputId": "e653f7dd-2a60-404c-8869-f4b8f017e9f8"
      },
      "execution_count": null,
      "outputs": [
        {
          "output_type": "stream",
          "name": "stdout",
          "text": [
            "     Duration  Pulse  Maxpulse  Calories\n",
            "0          60    110       130     409.1\n",
            "1          60    117       145     479.0\n",
            "2          60    103       135     340.0\n",
            "3          45    109       175     282.4\n",
            "4          45    117       148     406.0\n",
            "5          60    102       127     300.0\n",
            "6          60    110       136     374.0\n",
            "7          45    104       134     253.3\n",
            "8          30    109       133     195.1\n",
            "9          60     98       124     269.0\n",
            "10         60    103       147     329.3\n",
            "11         60    100       120     250.7\n",
            "12         60    106       128     345.3\n",
            "13         60    104       132     379.3\n",
            "14         60     98       123     275.0\n",
            "15         60     98       120     215.2\n",
            "16         60    100       120     300.0\n",
            "17         45     90       112       NaN\n",
            "18         60    103       123     323.0\n",
            "19         45     97       125     243.0\n",
            "20         60    108       131     364.2\n",
            "21         45    100       119     282.0\n",
            "22         60    130       101     300.0\n",
            "23         45    105       132     246.0\n",
            "24         60    102       126     334.5\n",
            "25         60    100       120     250.0\n",
            "26         60     92       118     241.0\n",
            "27         60    103       132       NaN\n",
            "28         60    100       132     280.0\n",
            "29         60    102       129     380.3\n",
            "30         60     92       115     243.0\n",
            "31         45     90       112     180.1\n",
            "32         60    101       124     299.0\n",
            "33         60     93       113     223.0\n",
            "34         60    107       136     361.0\n",
            "35         60    114       140     415.0\n",
            "36         60    102       127     300.0\n",
            "37         60    100       120     300.0\n",
            "38         60    100       120     300.0\n",
            "39         45    104       129     266.0\n",
            "40         45     90       112     180.1\n",
            "41         60     98       126     286.0\n",
            "42         60    100       122     329.4\n",
            "43         60    111       138     400.0\n",
            "44         60    111       131     397.0\n",
            "45         60     99       119     273.0\n",
            "46         60    109       153     387.6\n",
            "47         45    111       136     300.0\n",
            "48         45    108       129     298.0\n",
            "49         60    111       139     397.6\n",
            "50         60    107       136     380.2\n",
            "51         80    123       146     643.1\n",
            "52         60    106       130     263.0\n",
            "53         60    118       151     486.0\n",
            "54         30    136       175     238.0\n",
            "55         60    121       146     450.7\n",
            "56         60    118       121     413.0\n",
            "57         45    115       144     305.0\n",
            "58         20    153       172     226.4\n",
            "59         45    123       152     321.0\n",
            "60        210    108       160    1376.0\n",
            "61        160    110       137    1034.4\n",
            "62        160    109       135     853.0\n",
            "63         45    118       141     341.0\n",
            "64         20    110       130     131.4\n",
            "65        180     90       130     800.4\n",
            "66        150    105       135     873.4\n",
            "67        150    107       130     816.0\n",
            "68         20    106       136     110.4\n",
            "69        300    108       143    1500.2\n",
            "70        150     97       129    1115.0\n",
            "71         60    109       153     387.6\n",
            "72         90    100       127     700.0\n",
            "73        150     97       127     953.2\n",
            "74         45    114       146     304.0\n",
            "75         90     98       125     563.2\n",
            "76         45    105       134     251.0\n",
            "77         45    110       141     300.0\n",
            "78        120    100       130     500.4\n",
            "79        270    100       131    1729.0\n",
            "80         30    159       182     319.2\n",
            "81         45    149       169     344.0\n",
            "82         30    103       139     151.1\n",
            "83        120    100       130     500.0\n",
            "84         45    100       120     225.3\n",
            "85         30    151       170     300.0\n",
            "86         45    102       136     234.0\n",
            "87        120    100       157    1000.1\n",
            "88         45    129       103     242.0\n",
            "89         20     83       107      50.3\n",
            "90        180    101       127     600.1\n",
            "91         45    107       137       NaN\n",
            "92         30     90       107     105.3\n",
            "93         15     80       100      50.5\n",
            "94         20    150       171     127.4\n",
            "95         20    151       168     229.4\n",
            "96         30     95       128     128.2\n",
            "97         25    152       168     244.2\n",
            "98         30    109       131     188.2\n",
            "99         90     93       124     604.1\n",
            "100        20     95       112      77.7\n",
            "101        90     90       110     500.0\n",
            "102        90     90       100     500.0\n",
            "103        90     90       100     500.4\n",
            "104        30     92       108      92.7\n",
            "105        30     93       128     124.0\n",
            "106       180     90       120     800.3\n",
            "107        30     90       120      86.2\n",
            "108        90     90       120     500.3\n",
            "109       210    137       184    1860.4\n",
            "110        60    102       124     325.2\n",
            "111        45    107       124     275.0\n",
            "112        15    124       139     124.2\n",
            "113        45    100       120     225.3\n",
            "114        60    108       131     367.6\n",
            "115        60    108       151     351.7\n",
            "116        60    116       141     443.0\n",
            "117        60     97       122     277.4\n",
            "118        60    105       125       NaN\n",
            "119        60    103       124     332.7\n",
            "120        30    112       137     193.9\n",
            "121        45    100       120     100.7\n",
            "122        60    119       169     336.7\n",
            "123        60    107       127     344.9\n",
            "124        60    111       151     368.5\n",
            "125        60     98       122     271.0\n",
            "126        60     97       124     275.3\n",
            "127        60    109       127     382.0\n",
            "128        90     99       125     466.4\n",
            "129        60    114       151     384.0\n",
            "130        60    104       134     342.5\n",
            "131        60    107       138     357.5\n",
            "132        60    103       133     335.0\n",
            "133        60    106       132     327.5\n",
            "134        60    103       136     339.0\n",
            "135        20    136       156     189.0\n",
            "136        45    117       143     317.7\n",
            "137        45    115       137     318.0\n",
            "138        45    113       138     308.0\n",
            "139        20    141       162     222.4\n",
            "140        60    108       135     390.0\n",
            "141        60     97       127       NaN\n",
            "142        45    100       120     250.4\n",
            "143        45    122       149     335.4\n",
            "144        60    136       170     470.2\n",
            "145        45    106       126     270.8\n",
            "146        60    107       136     400.0\n",
            "147        60    112       146     361.9\n",
            "148        30    103       127     185.0\n",
            "149        60    110       150     409.4\n",
            "150        60    106       134     343.0\n",
            "151        60    109       129     353.2\n",
            "152        60    109       138     374.0\n",
            "153        30    150       167     275.8\n",
            "154        60    105       128     328.0\n",
            "155        60    111       151     368.5\n",
            "156        60     97       131     270.4\n",
            "157        60    100       120     270.4\n",
            "158        60    114       150     382.8\n",
            "159        30     80       120     240.9\n",
            "160        30     85       120     250.4\n",
            "161        45     90       130     260.4\n",
            "162        45     95       130     270.0\n",
            "163        45    100       140     280.9\n",
            "164        60    105       140     290.8\n",
            "165        60    110       145     300.0\n",
            "166        60    115       145     310.2\n",
            "167        75    120       150     320.4\n",
            "168        75    125       150     330.4\n"
          ]
        }
      ]
    },
    {
      "cell_type": "markdown",
      "source": [
        "##### **Exercise**"
      ],
      "metadata": {
        "id": "dASm4hJkShFH"
      }
    },
    {
      "cell_type": "code",
      "source": [
        "# Inserting the correct syntax to return the entire DataFrame\n",
        "\n",
        "df.to_string()"
      ],
      "metadata": {
        "id": "826Ea65TS-rC"
      },
      "execution_count": null,
      "outputs": []
    },
    {
      "cell_type": "markdown",
      "source": [
        "##### **Exercise**"
      ],
      "metadata": {
        "id": "eVFxbrneS884"
      }
    },
    {
      "cell_type": "code",
      "source": [
        "# Inserting the correct syntax for loading CSV files into a DataFrame\n",
        "\n",
        "df.read_csv(data)"
      ],
      "metadata": {
        "id": "DCiz3G6ahqdg"
      },
      "execution_count": null,
      "outputs": []
    },
    {
      "cell_type": "markdown",
      "source": [
        "#### **Pandas Read JSON**\n",
        "\n",
        "- JSON is plain text, but has the format of an object, and is well known in the world of programming, including Pandas.\n",
        "\n",
        "- JSON objects have the same format as Python dictionaries (JSON = Python Dictionary)."
      ],
      "metadata": {
        "id": "3Y7zbOZAVRKL"
      }
    },
    {
      "cell_type": "code",
      "source": [
        "# Loading the JSON file into a DataFrame\n",
        "\n",
        "import pandas as pd\n",
        "\n",
        "df1 = pd.read_json('https://www.w3schools.com/python/pandas/data.js')\n",
        "\n",
        "print(df.to_string())"
      ],
      "metadata": {
        "colab": {
          "base_uri": "https://localhost:8080/"
        },
        "id": "yNF2at4uN1mX",
        "outputId": "5604a6bd-e3a1-45a8-d5a8-d520ab573c70"
      },
      "execution_count": null,
      "outputs": [
        {
          "output_type": "stream",
          "name": "stdout",
          "text": [
            "     Duration  Pulse  Maxpulse  Calories\n",
            "0          60    110       130     409.1\n",
            "1          60    117       145     479.0\n",
            "2          60    103       135     340.0\n",
            "3          45    109       175     282.4\n",
            "4          45    117       148     406.0\n",
            "5          60    102       127     300.5\n",
            "6          60    110       136     374.0\n",
            "7          45    104       134     253.3\n",
            "8          30    109       133     195.1\n",
            "9          60     98       124     269.0\n",
            "10         60    103       147     329.3\n",
            "11         60    100       120     250.7\n",
            "12         60    106       128     345.3\n",
            "13         60    104       132     379.3\n",
            "14         60     98       123     275.0\n",
            "15         60     98       120     215.2\n",
            "16         60    100       120     300.0\n",
            "17         45     90       112       NaN\n",
            "18         60    103       123     323.0\n",
            "19         45     97       125     243.0\n",
            "20         60    108       131     364.2\n",
            "21         45    100       119     282.0\n",
            "22         60    130       101     300.0\n",
            "23         45    105       132     246.0\n",
            "24         60    102       126     334.5\n",
            "25         60    100       120     250.0\n",
            "26         60     92       118     241.0\n",
            "27         60    103       132       NaN\n",
            "28         60    100       132     280.0\n",
            "29         60    102       129     380.3\n",
            "30         60     92       115     243.0\n",
            "31         45     90       112     180.1\n",
            "32         60    101       124     299.0\n",
            "33         60     93       113     223.0\n",
            "34         60    107       136     361.0\n",
            "35         60    114       140     415.0\n",
            "36         60    102       127     300.5\n",
            "37         60    100       120     300.1\n",
            "38         60    100       120     300.0\n",
            "39         45    104       129     266.0\n",
            "40         45     90       112     180.1\n",
            "41         60     98       126     286.0\n",
            "42         60    100       122     329.4\n",
            "43         60    111       138     400.0\n",
            "44         60    111       131     397.0\n",
            "45         60     99       119     273.0\n",
            "46         60    109       153     387.6\n",
            "47         45    111       136     300.0\n",
            "48         45    108       129     298.0\n",
            "49         60    111       139     397.6\n",
            "50         60    107       136     380.2\n",
            "51         80    123       146     643.1\n",
            "52         60    106       130     263.0\n",
            "53         60    118       151     486.0\n",
            "54         30    136       175     238.0\n",
            "55         60    121       146     450.7\n",
            "56         60    118       121     413.0\n",
            "57         45    115       144     305.0\n",
            "58         20    153       172     226.4\n",
            "59         45    123       152     321.0\n",
            "60        210    108       160    1376.0\n",
            "61        160    110       137    1034.4\n",
            "62        160    109       135     853.0\n",
            "63         45    118       141     341.0\n",
            "64         20    110       130     131.4\n",
            "65        180     90       130     800.4\n",
            "66        150    105       135     873.4\n",
            "67        150    107       130     816.0\n",
            "68         20    106       136     110.4\n",
            "69        300    108       143    1500.2\n",
            "70        150     97       129    1115.0\n",
            "71         60    109       153     387.6\n",
            "72         90    100       127     700.0\n",
            "73        150     97       127     953.2\n",
            "74         45    114       146     304.0\n",
            "75         90     98       125     563.2\n",
            "76         45    105       134     251.0\n",
            "77         45    110       141     300.0\n",
            "78        120    100       130     500.4\n",
            "79        270    100       131    1729.0\n",
            "80         30    159       182     319.2\n",
            "81         45    149       169     344.0\n",
            "82         30    103       139     151.1\n",
            "83        120    100       130     500.0\n",
            "84         45    100       120     225.3\n",
            "85         30    151       170     300.1\n",
            "86         45    102       136     234.0\n",
            "87        120    100       157    1000.1\n",
            "88         45    129       103     242.0\n",
            "89         20     83       107      50.3\n",
            "90        180    101       127     600.1\n",
            "91         45    107       137       NaN\n",
            "92         30     90       107     105.3\n",
            "93         15     80       100      50.5\n",
            "94         20    150       171     127.4\n",
            "95         20    151       168     229.4\n",
            "96         30     95       128     128.2\n",
            "97         25    152       168     244.2\n",
            "98         30    109       131     188.2\n",
            "99         90     93       124     604.1\n",
            "100        20     95       112      77.7\n",
            "101        90     90       110     500.0\n",
            "102        90     90       100     500.0\n",
            "103        90     90       100     500.4\n",
            "104        30     92       108      92.7\n",
            "105        30     93       128     124.0\n",
            "106       180     90       120     800.3\n",
            "107        30     90       120      86.2\n",
            "108        90     90       120     500.3\n",
            "109       210    137       184    1860.4\n",
            "110        60    102       124     325.2\n",
            "111        45    107       124     275.0\n",
            "112        15    124       139     124.2\n",
            "113        45    100       120     225.3\n",
            "114        60    108       131     367.6\n",
            "115        60    108       151     351.7\n",
            "116        60    116       141     443.0\n",
            "117        60     97       122     277.4\n",
            "118        60    105       125       NaN\n",
            "119        60    103       124     332.7\n",
            "120        30    112       137     193.9\n",
            "121        45    100       120     100.7\n",
            "122        60    119       169     336.7\n",
            "123        60    107       127     344.9\n",
            "124        60    111       151     368.5\n",
            "125        60     98       122     271.0\n",
            "126        60     97       124     275.3\n",
            "127        60    109       127     382.0\n",
            "128        90     99       125     466.4\n",
            "129        60    114       151     384.0\n",
            "130        60    104       134     342.5\n",
            "131        60    107       138     357.5\n",
            "132        60    103       133     335.0\n",
            "133        60    106       132     327.5\n",
            "134        60    103       136     339.0\n",
            "135        20    136       156     189.0\n",
            "136        45    117       143     317.7\n",
            "137        45    115       137     318.0\n",
            "138        45    113       138     308.0\n",
            "139        20    141       162     222.4\n",
            "140        60    108       135     390.0\n",
            "141        60     97       127       NaN\n",
            "142        45    100       120     250.4\n",
            "143        45    122       149     335.4\n",
            "144        60    136       170     470.2\n",
            "145        45    106       126     270.8\n",
            "146        60    107       136     400.0\n",
            "147        60    112       146     361.9\n",
            "148        30    103       127     185.0\n",
            "149        60    110       150     409.4\n",
            "150        60    106       134     343.0\n",
            "151        60    109       129     353.2\n",
            "152        60    109       138     374.0\n",
            "153        30    150       167     275.8\n",
            "154        60    105       128     328.0\n",
            "155        60    111       151     368.5\n",
            "156        60     97       131     270.4\n",
            "157        60    100       120     270.4\n",
            "158        60    114       150     382.8\n",
            "159        30     80       120     240.9\n",
            "160        30     85       120     250.4\n",
            "161        45     90       130     260.4\n",
            "162        45     95       130     270.0\n",
            "163        45    100       140     280.9\n",
            "164        60    105       140     290.8\n",
            "165        60    110       145     300.4\n",
            "166        60    115       145     310.2\n",
            "167        75    120       150     320.4\n",
            "168        75    125       150     330.4\n"
          ]
        }
      ]
    },
    {
      "cell_type": "markdown",
      "source": [
        "##### **Exercise**"
      ],
      "metadata": {
        "id": "GG4WZUBjTDab"
      }
    },
    {
      "cell_type": "code",
      "source": [
        "# Inserting the correct syntax for loading JSON files into a DataFrame\n",
        "\n",
        "df.read_json(data)"
      ],
      "metadata": {
        "id": "wT5clxbZTDas"
      },
      "execution_count": null,
      "outputs": []
    },
    {
      "cell_type": "markdown",
      "source": [
        "#### **Analyzing DataFrames**"
      ],
      "metadata": {
        "id": "3RN0mAI6RjX2"
      }
    },
    {
      "cell_type": "markdown",
      "source": [
        "##### Viewing the Data\n",
        "\n",
        "- One of the most used method for getting a quick overview of the DataFrame, is the `head()` method.\n",
        "\n",
        "- The `head()` method returns the headers and a specified number of rows, starting from the top."
      ],
      "metadata": {
        "id": "ErAJr4gxQJ4f"
      }
    },
    {
      "cell_type": "code",
      "source": [
        "# Getting a quick overview by printing the first 10 rows of the DataFrame\n",
        "\n",
        "import pandas as pd\n",
        "\n",
        "df = pd.read_csv('https://www.w3schools.com/python/pandas/data.csv.txt')\n",
        "\n",
        "print(df.head(10))"
      ],
      "metadata": {
        "id": "vsHc2QsbTDpF",
        "colab": {
          "base_uri": "https://localhost:8080/"
        },
        "outputId": "491cee87-0028-41f7-8ecf-ead8e83dabb2"
      },
      "execution_count": null,
      "outputs": [
        {
          "output_type": "stream",
          "name": "stdout",
          "text": [
            "   Duration  Pulse  Maxpulse  Calories\n",
            "0        60    110       130     409.1\n",
            "1        60    117       145     479.0\n",
            "2        60    103       135     340.0\n",
            "3        45    109       175     282.4\n",
            "4        45    117       148     406.0\n"
          ]
        }
      ]
    },
    {
      "cell_type": "markdown",
      "source": [
        "\n",
        "##### If the number of rows is not specified, the `head()` method will return the top 5 rows."
      ],
      "metadata": {
        "id": "ZHbqx_zMSWCV"
      }
    },
    {
      "cell_type": "code",
      "source": [
        "# Getting overview of the first 5 rows of the DataFrame\n",
        "\n",
        "import pandas as pd\n",
        "\n",
        "df = pd.read_csv('https://www.w3schools.com/python/pandas/data.csv.txt')\n",
        "\n",
        "print(df.head())"
      ],
      "metadata": {
        "colab": {
          "base_uri": "https://localhost:8080/"
        },
        "id": "7VgEz7u-SH3-",
        "outputId": "2911ee65-7a41-4361-f54b-1eafb07cbb75"
      },
      "execution_count": null,
      "outputs": [
        {
          "output_type": "stream",
          "name": "stdout",
          "text": [
            "   Duration  Pulse  Maxpulse  Calories\n",
            "0        60    110       130     409.1\n",
            "1        60    117       145     479.0\n",
            "2        60    103       135     340.0\n",
            "3        45    109       175     282.4\n",
            "4        45    117       148     406.0\n"
          ]
        }
      ]
    },
    {
      "cell_type": "markdown",
      "source": [
        "- There is also a `tail()` method for viewing the last rows of the DataFrame.\n",
        "\n",
        "- The `tail()` method returns the headers and a specified number of rows, starting from the bottom."
      ],
      "metadata": {
        "id": "F_337jKdQ-I_"
      }
    },
    {
      "cell_type": "code",
      "source": [
        "# Printing the last 5 rows of the DataFrame\n",
        "\n",
        "import pandas as pd\n",
        "\n",
        "df = pd.read_csv('https://www.w3schools.com/python/pandas/data.csv.txt')\n",
        "\n",
        "print(df.tail())"
      ],
      "metadata": {
        "colab": {
          "base_uri": "https://localhost:8080/"
        },
        "id": "Ng-8252fQ4uf",
        "outputId": "77f9cd9d-2dc1-48d7-93af-1b242cd4b91d"
      },
      "execution_count": null,
      "outputs": [
        {
          "output_type": "stream",
          "name": "stdout",
          "text": [
            "     Duration  Pulse  Maxpulse  Calories\n",
            "164        60    105       140     290.8\n",
            "165        60    110       145     300.0\n",
            "166        60    115       145     310.2\n",
            "167        75    120       150     320.4\n",
            "168        75    125       150     330.4\n"
          ]
        }
      ]
    },
    {
      "cell_type": "markdown",
      "source": [
        "##### **Info About the Data**\n",
        "\n",
        "- The DataFrames object has a method called `info()`, that gives you more information about the data set.\n"
      ],
      "metadata": {
        "id": "t8sjBRIeSv6L"
      }
    },
    {
      "cell_type": "code",
      "source": [
        "# Printing information about the data\n",
        "\n",
        "print(df.info())"
      ],
      "metadata": {
        "colab": {
          "base_uri": "https://localhost:8080/"
        },
        "id": "YFAFdcWbS86I",
        "outputId": "d3cb1849-1a61-42ee-b9ab-2854af7ad075"
      },
      "execution_count": null,
      "outputs": [
        {
          "output_type": "stream",
          "name": "stdout",
          "text": [
            "<class 'pandas.core.frame.DataFrame'>\n",
            "RangeIndex: 169 entries, 0 to 168\n",
            "Data columns (total 4 columns):\n",
            " #   Column    Non-Null Count  Dtype  \n",
            "---  ------    --------------  -----  \n",
            " 0   Duration  169 non-null    int64  \n",
            " 1   Pulse     169 non-null    int64  \n",
            " 2   Maxpulse  169 non-null    int64  \n",
            " 3   Calories  164 non-null    float64\n",
            "dtypes: float64(1), int64(3)\n",
            "memory usage: 5.4 KB\n",
            "None\n"
          ]
        }
      ]
    },
    {
      "cell_type": "markdown",
      "source": [
        "##### **Exercise**"
      ],
      "metadata": {
        "id": "4kiV0cH4TDzz"
      }
    },
    {
      "cell_type": "code",
      "source": [
        "# Inserting the correct syntax for returning the headers and the first 10 rows of a DataFrame\n",
        "\n",
        "df.head(10)"
      ],
      "metadata": {
        "id": "4t2-of2HTDzz"
      },
      "execution_count": null,
      "outputs": []
    },
    {
      "cell_type": "markdown",
      "source": [
        "##### **Exercise**"
      ],
      "metadata": {
        "id": "f7S38UVSTKW8"
      }
    },
    {
      "cell_type": "code",
      "source": [
        "# The head() method returns the first rows, what method returns the last rows?\n",
        "\n",
        "df.tail()"
      ],
      "metadata": {
        "id": "Wc_rzVD1TKW9"
      },
      "execution_count": null,
      "outputs": []
    }
  ]
}