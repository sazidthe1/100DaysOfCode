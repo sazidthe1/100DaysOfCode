{
  "nbformat": 4,
  "nbformat_minor": 0,
  "metadata": {
    "colab": {
      "provenance": []
    },
    "kernelspec": {
      "name": "python3",
      "display_name": "Python 3"
    },
    "language_info": {
      "name": "python"
    }
  },
  "cells": [
    {
      "cell_type": "markdown",
      "source": [
        "## Day 51 & 52 of 100DaysOfCode 🐍\n",
        "### Python Library - NumPy"
      ],
      "metadata": {
        "id": "2Tu150GDft69"
      }
    },
    {
      "cell_type": "markdown",
      "source": [
        "#### **NumPy 🔢 🧮**\n",
        "\n",
        "NumPy is a Python library, stands for **Numerical Python**, used for working with arrays."
      ],
      "metadata": {
        "id": "8aWxVKZM-Su6"
      }
    },
    {
      "cell_type": "markdown",
      "source": [
        "#### **Purpose of Numpy 🔢 🧮**\n",
        "\n",
        "- NumPy aims to provide an array object that is up to 50x faster than traditional Python lists.\n",
        "\n",
        "- In NumPy, the array object is called `ndarray` which provides a lot of supporting functions that make working with `ndarray` very easy.\n",
        "\n",
        "- Most importantly, NumPy is faster than Lists (In NumPy arrays are stored at one continuous place in memory unlike lists, so processes can access and manipulate them very efficiently)."
      ],
      "metadata": {
        "id": "-O2lcvPbUbFA"
      }
    },
    {
      "cell_type": "markdown",
      "source": [
        "#### **Installation of NumPy**\n",
        "\n"
      ],
      "metadata": {
        "id": "u6kAczAcV3Cf"
      }
    },
    {
      "cell_type": "code",
      "source": [
        "!pip install numpy"
      ],
      "metadata": {
        "id": "6j_8COAAV2IG"
      },
      "execution_count": null,
      "outputs": []
    },
    {
      "cell_type": "markdown",
      "source": [
        "#### **Importing NumPy**\n"
      ],
      "metadata": {
        "id": "jwmL7VBlV2zf"
      }
    },
    {
      "cell_type": "code",
      "source": [
        "import numpy as np"
      ],
      "metadata": {
        "id": "lGmLSU_rV1-D"
      },
      "execution_count": null,
      "outputs": []
    },
    {
      "cell_type": "markdown",
      "source": [
        "#### **Example**"
      ],
      "metadata": {
        "id": "T3r3HVUmV2xF"
      }
    },
    {
      "cell_type": "code",
      "source": [
        "arr = np.array([1, 2, 3, 4, 5])\n",
        "\n",
        "print(arr)"
      ],
      "metadata": {
        "colab": {
          "base_uri": "https://localhost:8080/"
        },
        "id": "96wPFsIJV17m",
        "outputId": "7e50dd6a-d355-42a5-dda6-c15807e14d3e"
      },
      "execution_count": null,
      "outputs": [
        {
          "output_type": "stream",
          "name": "stdout",
          "text": [
            "[1 2 3 4 5]\n"
          ]
        }
      ]
    },
    {
      "cell_type": "markdown",
      "source": [
        "#### **Checking the NumPy Version**"
      ],
      "metadata": {
        "id": "SzcSEq8AXY2k"
      }
    },
    {
      "cell_type": "code",
      "source": [
        "print(np.__version__)"
      ],
      "metadata": {
        "colab": {
          "base_uri": "https://localhost:8080/"
        },
        "id": "Ev9AMtY_V14b",
        "outputId": "29ce95ba-deb8-42bc-fed8-7ff4b0420b1c"
      },
      "execution_count": null,
      "outputs": [
        {
          "output_type": "stream",
          "name": "stdout",
          "text": [
            "1.23.5\n"
          ]
        }
      ]
    },
    {
      "cell_type": "markdown",
      "source": [
        "### **NumPy Creating Arrays**"
      ],
      "metadata": {
        "id": "3ETTWggjXrvl"
      }
    },
    {
      "cell_type": "markdown",
      "source": [
        "#### **Create a NumPy ndarray Object**\n",
        "\n",
        "- NumPy is used to work with arrays. The array object in NumPy is called **ndarray**. We can create a NumPy **ndarray** object by using the `array()` function.\n",
        "\n"
      ],
      "metadata": {
        "id": "JgmJAAiaX5pP"
      }
    },
    {
      "cell_type": "code",
      "source": [
        "arr = np.array([1, 2, 3, 4, 5])\n",
        "\n",
        "print(arr)\n",
        "\n",
        "print(type(arr))"
      ],
      "metadata": {
        "colab": {
          "base_uri": "https://localhost:8080/"
        },
        "id": "FG19CvHoV11o",
        "outputId": "87097202-c123-4e7a-a548-e479de592a2a"
      },
      "execution_count": null,
      "outputs": [
        {
          "output_type": "stream",
          "name": "stdout",
          "text": [
            "[1 2 3 4 5]\n",
            "<class 'numpy.ndarray'>\n"
          ]
        }
      ]
    },
    {
      "cell_type": "markdown",
      "source": [
        "#### **1-D Arrays**\n",
        "\n",
        "An array that has 0-D arrays as its elements is called uni-dimensional or 1-D array."
      ],
      "metadata": {
        "id": "eE_wbl0XYYB2"
      }
    },
    {
      "cell_type": "code",
      "source": [
        "# Create a 1-D array containing the values 1,2,3,4,5\n",
        "\n",
        "arr = np.array([1, 2, 3, 4, 5])\n",
        "print(arr)"
      ],
      "metadata": {
        "colab": {
          "base_uri": "https://localhost:8080/"
        },
        "id": "QPo502EzV1yi",
        "outputId": "eacdc086-c39e-4e11-8289-657568fbe788"
      },
      "execution_count": null,
      "outputs": [
        {
          "output_type": "stream",
          "name": "stdout",
          "text": [
            "[1 2 3 4 5]\n"
          ]
        }
      ]
    },
    {
      "cell_type": "markdown",
      "source": [
        "#### **2-D Arrays**\n",
        "\n",
        "An array that has 1-D arrays as its elements is called a 2-D array."
      ],
      "metadata": {
        "id": "N7tRkbw_Y3yB"
      }
    },
    {
      "cell_type": "code",
      "source": [
        "# Create a 2-D array containing two arrays with the values 1,2,3 and 4,5,6\n",
        "\n",
        "arr = np.array([[1, 2, 3], [4, 5, 6]])\n",
        "\n",
        "print(arr)"
      ],
      "metadata": {
        "colab": {
          "base_uri": "https://localhost:8080/"
        },
        "id": "9Mtcwu19ZA31",
        "outputId": "ed836cd1-82ac-47d9-8a94-e1b281278d37"
      },
      "execution_count": null,
      "outputs": [
        {
          "output_type": "stream",
          "name": "stdout",
          "text": [
            "[[1 2 3]\n",
            " [4 5 6]]\n"
          ]
        }
      ]
    },
    {
      "cell_type": "markdown",
      "source": [
        "#### **3-D Arrays**\n",
        "\n",
        "An array that has 2-D arrays (matrices) as its elements is called 3-D array."
      ],
      "metadata": {
        "id": "grMxuwMrY34A"
      }
    },
    {
      "cell_type": "code",
      "source": [
        "# Create a 3-D array with two 2-D arrays, both containing two arrays with the values 1,2,3 and 4,5,6\n",
        "\n",
        "arr = np.array([[[1, 2, 3], [4, 5, 6]], [[1, 2, 3], [4, 5, 6]]])\n",
        "\n",
        "print(arr)"
      ],
      "metadata": {
        "colab": {
          "base_uri": "https://localhost:8080/"
        },
        "id": "HorrfXWNYxfh",
        "outputId": "82cd346a-2cf8-44a6-8b38-cb459a076026"
      },
      "execution_count": null,
      "outputs": [
        {
          "output_type": "stream",
          "name": "stdout",
          "text": [
            "[[[1 2 3]\n",
            "  [4 5 6]]\n",
            "\n",
            " [[1 2 3]\n",
            "  [4 5 6]]]\n"
          ]
        }
      ]
    },
    {
      "cell_type": "markdown",
      "source": [
        "#### **Checking Number of Dimensions**\n",
        "\n",
        "NumPy Arrays provides the ndim attribute that returns an integer that tells us how many dimensions the array have."
      ],
      "metadata": {
        "id": "ZxoEzFCEai-K"
      }
    },
    {
      "cell_type": "code",
      "source": [
        "# Check how many dimensions the arrays have\n",
        "\n",
        "a = np.array(42)\n",
        "b = np.array([1, 2, 3, 4, 5])\n",
        "c = np.array([[1, 2, 3], [4, 5, 6]])\n",
        "d = np.array([[[1, 2, 3], [4, 5, 6]], [[1, 2, 3], [4, 5, 6]]])\n",
        "\n",
        "print(a.ndim)\n",
        "print(b.ndim)\n",
        "print(c.ndim)\n",
        "print(d.ndim)"
      ],
      "metadata": {
        "colab": {
          "base_uri": "https://localhost:8080/"
        },
        "id": "2M_HYUiFa1ZS",
        "outputId": "7b3aa26f-b09a-4f3a-bfa7-54210ca9c349"
      },
      "execution_count": null,
      "outputs": [
        {
          "output_type": "stream",
          "name": "stdout",
          "text": [
            "0\n",
            "1\n",
            "2\n",
            "3\n"
          ]
        }
      ]
    },
    {
      "cell_type": "markdown",
      "source": [
        "#### **Higher Dimensional Arrays**\n",
        "\n",
        "An array can have any number of dimensions.\n",
        "\n",
        "When the array is created, we can define the number of dimensions by using the `ndmin` argument."
      ],
      "metadata": {
        "id": "Q8nC-66tbcXt"
      }
    },
    {
      "cell_type": "code",
      "source": [
        "# Create an array with 5 dimensions and verify that it has 5 dimensions\n",
        "\n",
        "arr = np.array([1, 2, 3, 4], ndmin=5)\n",
        "\n",
        "print(arr)\n",
        "print('number of dimensions :', arr.ndim)"
      ],
      "metadata": {
        "colab": {
          "base_uri": "https://localhost:8080/"
        },
        "id": "fSANsM-6bPV8",
        "outputId": "3c2e18d8-4feb-495d-abe6-777b2b73732a"
      },
      "execution_count": null,
      "outputs": [
        {
          "output_type": "stream",
          "name": "stdout",
          "text": [
            "[[[[[1 2 3 4]]]]]\n",
            "number of dimensions : 5\n"
          ]
        }
      ]
    },
    {
      "cell_type": "markdown",
      "source": [
        "#### **Exercise - 1**"
      ],
      "metadata": {
        "id": "pNxTXRYfcUbv"
      }
    },
    {
      "cell_type": "code",
      "source": [
        "#Insert the correct method for creating a NumPy array\n",
        "\n",
        "arr = np.array([1, 2, 3, 4, 5])"
      ],
      "metadata": {
        "id": "LdNJuJ3Ocp0M"
      },
      "execution_count": null,
      "outputs": []
    },
    {
      "cell_type": "markdown",
      "source": [
        "#### **Exercise - 2**"
      ],
      "metadata": {
        "id": "XXPzJbyVcvcf"
      }
    },
    {
      "cell_type": "code",
      "source": [
        "#Insert the correct argument for creating a NumPy array with 2 dimensions\n",
        "\n",
        "arr = np.array([1, 2, 3, 4], ndmin=2)"
      ],
      "metadata": {
        "id": "p8A33llccvcf"
      },
      "execution_count": null,
      "outputs": []
    },
    {
      "cell_type": "markdown",
      "source": [
        "#### **Exercise - 3**"
      ],
      "metadata": {
        "id": "ekx-31wvcvri"
      }
    },
    {
      "cell_type": "code",
      "source": [
        "# Insert the correct syntax for checking the number of dimension of a NumPy array\n",
        "\n",
        "arr = np.array([1, 2, 3, 4])\n",
        "\n",
        "print(arr.ndim)"
      ],
      "metadata": {
        "colab": {
          "base_uri": "https://localhost:8080/"
        },
        "id": "-Rd9fME1cvri",
        "outputId": "3626f9d8-7aea-400c-fe14-7e39f99e1619"
      },
      "execution_count": null,
      "outputs": [
        {
          "output_type": "stream",
          "name": "stdout",
          "text": [
            "1\n"
          ]
        }
      ]
    }
  ]
}