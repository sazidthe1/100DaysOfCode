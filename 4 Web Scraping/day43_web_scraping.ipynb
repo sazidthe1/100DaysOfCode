{
  "nbformat": 4,
  "nbformat_minor": 0,
  "metadata": {
    "colab": {
      "provenance": []
    },
    "kernelspec": {
      "name": "python3",
      "display_name": "Python 3"
    },
    "language_info": {
      "name": "python"
    }
  },
  "cells": [
    {
      "cell_type": "markdown",
      "source": [
        "## Day 43 of 100DaysOfCode 🐍\n",
        "### Web Scraping - CSS Locators, Chaining, Responses, and Intro to Beautiful Soup"
      ],
      "metadata": {
        "id": "2Tu150GDft69"
      }
    },
    {
      "cell_type": "markdown",
      "source": [
        "#### **CSS Locators 🎯📏**\n",
        "\n",
        "CSS locators are patterns used in web development and web scraping to target and style specific HTML elements. It provides a simple and concise way to identify elements based on their attributes, classes, IDs, or relationships to other elements."
      ],
      "metadata": {
        "id": "oJNgnDJcfi7k"
      }
    },
    {
      "cell_type": "markdown",
      "source": [
        "#### **Exercise - The (X)Path to CSS Locators**"
      ],
      "metadata": {
        "id": "opp9CP3l7Jz4"
      }
    },
    {
      "cell_type": "markdown",
      "source": [
        "#### Instructions 1/2\n",
        "> Assign to the variable css_locator a CSS Locator string which is equivalent to the XPath string given."
      ],
      "metadata": {
        "id": "CJvtFpe88djL"
      }
    },
    {
      "cell_type": "code",
      "source": [
        "# Creating the XPath string equivalent to the CSS Locator\n",
        "xpath = '/html/body/span[1]//a'\n",
        "\n",
        "# Creating the CSS Locator string equivalent to the XPath\n",
        "css_locator = 'html > body > span:nth-of-type(1) a'"
      ],
      "metadata": {
        "id": "RGN8zaOXgBdD"
      },
      "execution_count": null,
      "outputs": []
    },
    {
      "cell_type": "markdown",
      "source": [
        "#### Instructions 2/2\n",
        "> Assign to the variable xpath a XPath string which is equivalent to the CSS Locator string given."
      ],
      "metadata": {
        "id": "mKQ7_hZC8oFI"
      }
    },
    {
      "cell_type": "code",
      "source": [
        "# Create the XPath string equivalent to the CSS Locator\n",
        "xpath = '//div[@id=\"uid\"]/span//h4'\n",
        "\n",
        "# Create the CSS Locator string equivalent to the XPath\n",
        "css_locator = 'div#uid > span h4'"
      ],
      "metadata": {
        "id": "tPdLcTgu8sY4"
      },
      "execution_count": null,
      "outputs": []
    },
    {
      "cell_type": "markdown",
      "source": [
        "#### **Exercise - Get an \"a\" in this Course**\\\n",
        "\n",
        "- Fill in the blank below to create the Selector object sel using the string html as the text input.\n",
        "\n",
        "- Assign the variable css_locator a CSS Locator string which directs to the hyperlink (a element) children of all div elements belonging to the class \"course-block\"."
      ],
      "metadata": {
        "id": "OmS0iVfj9Byy"
      }
    },
    {
      "cell_type": "code",
      "source": [
        "# Instructions 1/2\n",
        "from scrapy import Selector\n",
        "\n",
        "# Create a selector from the html (of a secret website)\n",
        "sel = Selector(text=html)\n",
        "\n",
        "# Instructions 2/2 # Fill in the blank\n",
        "css_locator = 'div.course-block > a'\n",
        "\n",
        "# Print the number of selected elements.\n",
        "how_many_elements( css_locator )\n"
      ],
      "metadata": {
        "id": "360_tSiH9H53"
      },
      "execution_count": null,
      "outputs": []
    },
    {
      "cell_type": "markdown",
      "source": [
        "#### **Exercise - The CSS Wildcard**\n",
        "\n",
        "- Assign to the variable css_locator a CSS Locator string which will select all children (regardless of tag-type) of the unique element in the HTML document that has its id attribute equal to uid."
      ],
      "metadata": {
        "id": "FWLC7Rhx_bHJ"
      }
    },
    {
      "cell_type": "code",
      "source": [
        "# Create the CSS Locator to all children of the element whose id is uid\n",
        "css_locator = '#uid > *'"
      ],
      "metadata": {
        "id": "4ZqbjoG1_fbU"
      },
      "execution_count": null,
      "outputs": []
    },
    {
      "cell_type": "markdown",
      "source": [
        "#### **Exercise - Top Level Text**\n",
        "\n",
        "- Assign to the variable xpath an XPath string directing to the text within the paragraph p element with id equal to p3, which does not include the text of future generations of this p element.\n",
        "\n",
        "- Assign to the variable css_locator a CSS Locator string directing to this same text."
      ],
      "metadata": {
        "id": "lzUAsMG6Eo6P"
      }
    },
    {
      "cell_type": "code",
      "source": [
        "# Create an XPath string to the desired text.\n",
        "xpath = '//p[@id=\"p3\"]/text()'\n",
        "\n",
        "# Create a CSS Locator string to the desired text.\n",
        "css_locator = 'p#p3::text'\n",
        "\n",
        "# Print the text from our selections\n",
        "print_results( xpath, css_locator )"
      ],
      "metadata": {
        "id": "9hHkt2p0E4qb"
      },
      "execution_count": null,
      "outputs": []
    },
    {
      "cell_type": "markdown",
      "source": [
        "#### **Exercise - All Level Text**\n",
        "\n",
        "- Assign to the variable xpath an XPath string directing to the text within the paragraph p element with id equal to p3, which includes the text of future generations of this p element.\n",
        "\n",
        "- Assign to the variable css_locator a CSS Locator string directing to this same text."
      ],
      "metadata": {
        "id": "hvo_XTm8FQ-X"
      }
    },
    {
      "cell_type": "code",
      "source": [
        "# Create an XPath string to the desired text.\n",
        "xpath = '//p[@id=\"p3\"]//text()'\n",
        "\n",
        "# Create a CSS Locator string to the desired text.\n",
        "css_locator = 'p#p3 ::text'\n",
        "\n",
        "# Print the text from our selections\n",
        "print_results( xpath, css_locator )"
      ],
      "metadata": {
        "id": "skDExb4cFifd"
      },
      "execution_count": null,
      "outputs": []
    },
    {
      "cell_type": "code",
      "source": [],
      "metadata": {
        "id": "a2QFxKMegCO8"
      },
      "execution_count": null,
      "outputs": []
    },
    {
      "cell_type": "markdown",
      "source": [
        "#### **Chaining 🔗🔗**\n",
        "\n",
        "Chaining refers to the practice of combining multiple actions or functions in a sequence, where the output of one action becomes the input for the next. It is commonly used to streamline code and improve readability in programming and data manipulation tasks."
      ],
      "metadata": {
        "id": "lYR-TeDXf3_-"
      }
    },
    {
      "cell_type": "markdown",
      "source": [
        "#### **Responses 📦📨**\n",
        "\n",
        "Responses are the output or answers given in response to specific inputs, questions, or stimuli. In various contexts, it can be in the form of replies, reactions, or actions taken as a result of a particular situation."
      ],
      "metadata": {
        "id": "dyWQ1s-Mf4HW"
      }
    },
    {
      "cell_type": "markdown",
      "source": [
        "#### **Exercise - Reveal By Response**\n",
        "\n",
        "- Assign to the variable this_url the URL used to load the response variable.\n",
        "- Assign to the variable this_title the title of the website used to load the response variable. Since we only want the text from the single element we will select, we use the extract_first() method to extract the text.\n",
        "\n",
        "- Regardless of whether you use xpath or css, make sure that you are selecting the text within the title element, and not just the title itself.\n",
        "\n"
      ],
      "metadata": {
        "id": "N-f34Se4H8D7"
      }
    },
    {
      "cell_type": "code",
      "source": [
        "# Get the URL to the website loaded in response\n",
        "this_url = response.url\n",
        "\n",
        "# Get the title of the website loaded in response using Xpath\n",
        "this_title = response.xpath('//title/text()').extract_first()\n",
        "\n",
        "# or\n",
        "\n",
        "# Get the title of the website loaded in response (using CSS)\n",
        "this_title = response.css(' title::text').extract_first()\n",
        "\n",
        "# Print out our findings\n",
        "print_url_title( this_url, this_title )"
      ],
      "metadata": {
        "id": "AjusBjk4gC7u"
      },
      "execution_count": null,
      "outputs": []
    },
    {
      "cell_type": "markdown",
      "source": [
        "#### **Exercise - Titular**\n",
        "\n",
        "> Similar to the work given in the previous lesson, we will have you use a pre-loaded Response object, named response to scrape the course titles from the (shortened version of the) DataCamp course directory https://www.datacamp.com/courses/all. To successfully do so, you only need to know the following.  The course titles are the text from all the h4 elements within the HTML document.\n",
        "\n",
        "\n",
        "\n",
        "- Using response, assign to the variable crs_title_els a SelectorList of the selected course titles.\n",
        "- Assign to the variable crs_titles a list created by extracting the course titles from crs_title_els\n"
      ],
      "metadata": {
        "id": "zIQ182FZO30j"
      }
    },
    {
      "cell_type": "code",
      "source": [
        "response = 'https://app.datacamp.com/learn/courses'\n",
        "\n",
        "# Create a SelectorList of the course titles using Xpath\n",
        "crs_title_els = response.xpath('//h4/text()')\n",
        "\n",
        "#or\n",
        "\n",
        "# Create a SelectorList of the course titles using CSS\n",
        "crs_title_els = response.css(' h4::text')\n",
        "\n",
        "# Extract the course titles\n",
        "crs_titles = crs_title_els.extract()\n",
        "\n",
        "\n",
        "# Print out the course titles\n",
        "for el in crs_titles:\n",
        "  print( \">>\", el )"
      ],
      "metadata": {
        "id": "i6rApsfjQZ4A"
      },
      "execution_count": null,
      "outputs": []
    },
    {
      "cell_type": "markdown",
      "source": [
        "#### **Intro to Beautiful Soup 🌟🍜**\n",
        "\n",
        "Beautiful Soup is a Python library used for web scraping and parsing HTML and XML documents. It simplifies the extraction of data from web pages by providing easy-to-use methods to navigate and manipulate the document's elements."
      ],
      "metadata": {
        "id": "8aWxVKZM-Su6"
      }
    },
    {
      "cell_type": "code",
      "source": [
        "# Installing the beautifulsoup4 library\n",
        "!pip install beautifulsoup4"
      ],
      "metadata": {
        "id": "G1vwhpXX-sIW"
      },
      "execution_count": null,
      "outputs": []
    },
    {
      "cell_type": "code",
      "source": [
        "# Import Beautiful Soup in the notebook\n",
        "from bs4 import BeautifulSoup"
      ],
      "metadata": {
        "id": "uWMocbc_Kbx1"
      },
      "execution_count": null,
      "outputs": []
    }
  ]
}