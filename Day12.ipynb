{
  "nbformat": 4,
  "nbformat_minor": 0,
  "metadata": {
    "colab": {
      "provenance": []
    },
    "kernelspec": {
      "name": "python3",
      "display_name": "Python 3"
    },
    "language_info": {
      "name": "python"
    }
  },
  "cells": [
    {
      "cell_type": "markdown",
      "source": [
        "## Day 12 of 100DaysOfCode 🐍\n",
        "### **Problem Set 2** ❗"
      ],
      "metadata": {
        "id": "dArul0zwXtHc"
      }
    },
    {
      "cell_type": "markdown",
      "source": [
        "#### camelCase"
      ],
      "metadata": {
        "id": "Gz8JWKiv44pk"
      }
    },
    {
      "cell_type": "code",
      "execution_count": null,
      "metadata": {
        "colab": {
          "base_uri": "https://localhost:8080/"
        },
        "id": "gR8batmr4hAK",
        "outputId": "068f098c-b359-48c0-d4f3-12ba12323ba3"
      },
      "outputs": [
        {
          "output_type": "stream",
          "name": "stdout",
          "text": [
            "camelCase: preferredFirstName\n",
            "snake_case: preferred_first_name\n"
          ]
        }
      ],
      "source": [
        "# Taking user's input\n",
        "def camel_to_snake(camel_case):\n",
        "    snake_case = \"\"\n",
        "    for char in camel_case:\n",
        "        if char.isupper():\n",
        "            snake_case += \"_\" + char.lower()\n",
        "        else:\n",
        "            snake_case += char\n",
        "    return snake_case\n",
        "\n",
        "camel_case_input = input(\"camelCase: \")\n",
        "snake_case_output = camel_to_snake(camel_case_input)\n",
        "print(\"snake_case:\", snake_case_output)"
      ]
    }
  ]
}